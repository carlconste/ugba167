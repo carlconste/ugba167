{
 "cells": [
  {
   "cell_type": "code",
   "execution_count": 1,
   "metadata": {
    "id": "z5qCFNCb9NYk"
   },
   "outputs": [],
   "source": [
    "import pandas\n",
    "import numpy\n",
    "import mba263\n",
    "import matplotlib.pyplot as plt"
   ]
  },
  {
   "cell_type": "code",
   "execution_count": 2,
   "metadata": {
    "colab": {
     "base_uri": "https://localhost:8080/",
     "height": 424
    },
    "executionInfo": {
     "elapsed": 645,
     "status": "ok",
     "timestamp": 1676932474486,
     "user": {
      "displayName": "Olivia Natan",
      "userId": "05221168611265745496"
     },
     "user_tz": 480
    },
    "id": "h9a3tycV9NYn",
    "outputId": "76876ff9-8672-4f69-94d0-1541443feb4d"
   },
   "outputs": [
    {
     "data": {
      "text/html": [
       "<div>\n",
       "<style scoped>\n",
       "    .dataframe tbody tr th:only-of-type {\n",
       "        vertical-align: middle;\n",
       "    }\n",
       "\n",
       "    .dataframe tbody tr th {\n",
       "        vertical-align: top;\n",
       "    }\n",
       "\n",
       "    .dataframe thead th {\n",
       "        text-align: right;\n",
       "    }\n",
       "</style>\n",
       "<table border=\"1\" class=\"dataframe\">\n",
       "  <thead>\n",
       "    <tr style=\"text-align: right;\">\n",
       "      <th></th>\n",
       "      <th>numpurch</th>\n",
       "      <th>age</th>\n",
       "      <th>totdol</th>\n",
       "      <th>female</th>\n",
       "      <th>adB</th>\n",
       "      <th>res</th>\n",
       "      <th>validation</th>\n",
       "    </tr>\n",
       "  </thead>\n",
       "  <tbody>\n",
       "    <tr>\n",
       "      <th>0</th>\n",
       "      <td>89.0</td>\n",
       "      <td>27</td>\n",
       "      <td>321.59</td>\n",
       "      <td>1</td>\n",
       "      <td>0</td>\n",
       "      <td>0</td>\n",
       "      <td>0</td>\n",
       "    </tr>\n",
       "    <tr>\n",
       "      <th>1</th>\n",
       "      <td>72.0</td>\n",
       "      <td>25</td>\n",
       "      <td>107.03</td>\n",
       "      <td>0</td>\n",
       "      <td>1</td>\n",
       "      <td>0</td>\n",
       "      <td>1</td>\n",
       "    </tr>\n",
       "    <tr>\n",
       "      <th>2</th>\n",
       "      <td>6.0</td>\n",
       "      <td>31</td>\n",
       "      <td>410.12</td>\n",
       "      <td>0</td>\n",
       "      <td>1</td>\n",
       "      <td>0</td>\n",
       "      <td>0</td>\n",
       "    </tr>\n",
       "    <tr>\n",
       "      <th>3</th>\n",
       "      <td>48.0</td>\n",
       "      <td>28</td>\n",
       "      <td>102.30</td>\n",
       "      <td>1</td>\n",
       "      <td>1</td>\n",
       "      <td>0</td>\n",
       "      <td>1</td>\n",
       "    </tr>\n",
       "    <tr>\n",
       "      <th>4</th>\n",
       "      <td>52.0</td>\n",
       "      <td>26</td>\n",
       "      <td>203.34</td>\n",
       "      <td>1</td>\n",
       "      <td>0</td>\n",
       "      <td>0</td>\n",
       "      <td>0</td>\n",
       "    </tr>\n",
       "    <tr>\n",
       "      <th>...</th>\n",
       "      <td>...</td>\n",
       "      <td>...</td>\n",
       "      <td>...</td>\n",
       "      <td>...</td>\n",
       "      <td>...</td>\n",
       "      <td>...</td>\n",
       "      <td>...</td>\n",
       "    </tr>\n",
       "    <tr>\n",
       "      <th>9995</th>\n",
       "      <td>51.0</td>\n",
       "      <td>26</td>\n",
       "      <td>284.06</td>\n",
       "      <td>0</td>\n",
       "      <td>0</td>\n",
       "      <td>0</td>\n",
       "      <td>1</td>\n",
       "    </tr>\n",
       "    <tr>\n",
       "      <th>9996</th>\n",
       "      <td>55.0</td>\n",
       "      <td>30</td>\n",
       "      <td>304.39</td>\n",
       "      <td>0</td>\n",
       "      <td>1</td>\n",
       "      <td>0</td>\n",
       "      <td>0</td>\n",
       "    </tr>\n",
       "    <tr>\n",
       "      <th>9997</th>\n",
       "      <td>50.0</td>\n",
       "      <td>30</td>\n",
       "      <td>168.35</td>\n",
       "      <td>0</td>\n",
       "      <td>0</td>\n",
       "      <td>0</td>\n",
       "      <td>1</td>\n",
       "    </tr>\n",
       "    <tr>\n",
       "      <th>9998</th>\n",
       "      <td>6.0</td>\n",
       "      <td>37</td>\n",
       "      <td>211.60</td>\n",
       "      <td>0</td>\n",
       "      <td>1</td>\n",
       "      <td>0</td>\n",
       "      <td>0</td>\n",
       "    </tr>\n",
       "    <tr>\n",
       "      <th>9999</th>\n",
       "      <td>13.0</td>\n",
       "      <td>31</td>\n",
       "      <td>276.23</td>\n",
       "      <td>1</td>\n",
       "      <td>1</td>\n",
       "      <td>0</td>\n",
       "      <td>1</td>\n",
       "    </tr>\n",
       "  </tbody>\n",
       "</table>\n",
       "<p>10000 rows × 7 columns</p>\n",
       "</div>"
      ],
      "text/plain": [
       "      numpurch  age  totdol  female  adB  res  validation\n",
       "0         89.0   27  321.59       1    0    0           0\n",
       "1         72.0   25  107.03       0    1    0           1\n",
       "2          6.0   31  410.12       0    1    0           0\n",
       "3         48.0   28  102.30       1    1    0           1\n",
       "4         52.0   26  203.34       1    0    0           0\n",
       "...        ...  ...     ...     ...  ...  ...         ...\n",
       "9995      51.0   26  284.06       0    0    0           1\n",
       "9996      55.0   30  304.39       0    1    0           0\n",
       "9997      50.0   30  168.35       0    0    0           1\n",
       "9998       6.0   37  211.60       0    1    0           0\n",
       "9999      13.0   31  276.23       1    1    0           1\n",
       "\n",
       "[10000 rows x 7 columns]"
      ]
     },
     "execution_count": 2,
     "metadata": {},
     "output_type": "execute_result"
    }
   ],
   "source": [
    "data=pandas.read_csv('data/neural_example.csv')\n",
    "data"
   ]
  },
  {
   "cell_type": "markdown",
   "metadata": {
    "id": "vZJdDgVf9NYo"
   },
   "source": [
    "First we run logistic regression of responding to an offer on all the variables, without interactions"
   ]
  },
  {
   "cell_type": "code",
   "execution_count": 6,
   "metadata": {
    "colab": {
     "base_uri": "https://localhost:8080/"
    },
    "executionInfo": {
     "elapsed": 731,
     "status": "ok",
     "timestamp": 1676932478614,
     "user": {
      "displayName": "Olivia Natan",
      "userId": "05221168611265745496"
     },
     "user_tz": 480
    },
    "id": "-6aJwMmu9NYp",
    "outputId": "b091d2fa-88e1-48f1-e447-8cfa9be7c5ba"
   },
   "outputs": [
    {
     "name": "stdout",
     "output_type": "stream",
     "text": [
      "Optimization terminated successfully.\n",
      "         Current function value: 0.161880\n",
      "         Iterations 9\n"
     ]
    }
   ],
   "source": [
    "result = mba263.logit(data['res'],data[ ['numpurch','age','totdol','female','adB'] ])"
   ]
  },
  {
   "cell_type": "code",
   "execution_count": 7,
   "metadata": {
    "colab": {
     "base_uri": "https://localhost:8080/",
     "height": 206
    },
    "executionInfo": {
     "elapsed": 7,
     "status": "ok",
     "timestamp": 1676932478615,
     "user": {
      "displayName": "Olivia Natan",
      "userId": "05221168611265745496"
     },
     "user_tz": 480
    },
    "id": "V9OkTAI69NYq",
    "outputId": "e74aeda2-19d2-40b8-d5c7-53f8aa2f51ec"
   },
   "outputs": [
    {
     "data": {
      "text/html": [
       "<div>\n",
       "<style scoped>\n",
       "    .dataframe tbody tr th:only-of-type {\n",
       "        vertical-align: middle;\n",
       "    }\n",
       "\n",
       "    .dataframe tbody tr th {\n",
       "        vertical-align: top;\n",
       "    }\n",
       "\n",
       "    .dataframe thead th {\n",
       "        text-align: right;\n",
       "    }\n",
       "</style>\n",
       "<table border=\"1\" class=\"dataframe\">\n",
       "  <thead>\n",
       "    <tr style=\"text-align: right;\">\n",
       "      <th></th>\n",
       "      <th>Odds ratios</th>\n",
       "      <th>std err</th>\n",
       "      <th>z</th>\n",
       "      <th>P&gt;|z|</th>\n",
       "      <th>[0.025</th>\n",
       "      <th>0.975]</th>\n",
       "    </tr>\n",
       "  </thead>\n",
       "  <tbody>\n",
       "    <tr>\n",
       "      <th>numpurch</th>\n",
       "      <td>1.074139</td>\n",
       "      <td>0.003315</td>\n",
       "      <td>22.362945</td>\n",
       "      <td>0.000</td>\n",
       "      <td>1.067707</td>\n",
       "      <td>1.080571</td>\n",
       "    </tr>\n",
       "    <tr>\n",
       "      <th>age</th>\n",
       "      <td>1.021100</td>\n",
       "      <td>0.010532</td>\n",
       "      <td>2.003470</td>\n",
       "      <td>0.045</td>\n",
       "      <td>1.000668</td>\n",
       "      <td>1.041532</td>\n",
       "    </tr>\n",
       "    <tr>\n",
       "      <th>totdol</th>\n",
       "      <td>1.000999</td>\n",
       "      <td>0.000381</td>\n",
       "      <td>2.621805</td>\n",
       "      <td>0.009</td>\n",
       "      <td>1.000260</td>\n",
       "      <td>1.001737</td>\n",
       "    </tr>\n",
       "    <tr>\n",
       "      <th>female</th>\n",
       "      <td>0.910223</td>\n",
       "      <td>0.084880</td>\n",
       "      <td>1.057693</td>\n",
       "      <td>0.290</td>\n",
       "      <td>0.745557</td>\n",
       "      <td>1.074890</td>\n",
       "    </tr>\n",
       "    <tr>\n",
       "      <th>adB</th>\n",
       "      <td>1.184760</td>\n",
       "      <td>0.109204</td>\n",
       "      <td>1.691878</td>\n",
       "      <td>0.091</td>\n",
       "      <td>0.972904</td>\n",
       "      <td>1.396616</td>\n",
       "    </tr>\n",
       "  </tbody>\n",
       "</table>\n",
       "</div>"
      ],
      "text/plain": [
       "          Odds ratios   std err          z  P>|z|    [0.025    0.975]\n",
       "numpurch     1.074139  0.003315  22.362945  0.000  1.067707  1.080571\n",
       "age          1.021100  0.010532   2.003470  0.045  1.000668  1.041532\n",
       "totdol       1.000999  0.000381   2.621805  0.009  1.000260  1.001737\n",
       "female       0.910223  0.084880   1.057693  0.290  0.745557  1.074890\n",
       "adB          1.184760  0.109204   1.691878  0.091  0.972904  1.396616"
      ]
     },
     "execution_count": 7,
     "metadata": {},
     "output_type": "execute_result"
    }
   ],
   "source": [
    "data['p1']=result.predict()\n",
    "mba263.odds_ratios(result)"
   ]
  },
  {
   "cell_type": "markdown",
   "metadata": {},
   "source": [
    "female = odds ratio less than 1, less likely to respond to these ads\n",
    "adB = > 1, people more likely to respond to banner ad"
   ]
  },
  {
   "cell_type": "markdown",
   "metadata": {
    "id": "YHeSlJ4Y9NYq"
   },
   "source": [
    "This function returns gain measure table with 'n' bins"
   ]
  },
  {
   "cell_type": "code",
   "execution_count": 8,
   "metadata": {
    "id": "tDeyGBSV9NYq"
   },
   "outputs": [],
   "source": [
    "gains1=mba263.gain(data['res'],data['p1'],bins=30)"
   ]
  },
  {
   "cell_type": "markdown",
   "metadata": {
    "id": "logPjQq69NYr"
   },
   "source": [
    "Let's plot it"
   ]
  },
  {
   "cell_type": "code",
   "execution_count": 9,
   "metadata": {
    "colab": {
     "base_uri": "https://localhost:8080/",
     "height": 282
    },
    "executionInfo": {
     "elapsed": 399,
     "status": "ok",
     "timestamp": 1676932485253,
     "user": {
      "displayName": "Olivia Natan",
      "userId": "05221168611265745496"
     },
     "user_tz": 480
    },
    "id": "ixlCSAc59NYr",
    "outputId": "19a7a8b2-8525-462e-c1af-3c149429c2d9"
   },
   "outputs": [
    {
     "data": {
      "text/plain": [
       "[<matplotlib.lines.Line2D at 0x7fb7558a8d00>]"
      ]
     },
     "execution_count": 9,
     "metadata": {},
     "output_type": "execute_result"
    },
    {
     "data": {
      "image/png": "[encoded data removed]",
      "text/plain": [
       "<Figure size 640x480 with 1 Axes>"
      ]
     },
     "metadata": {},
     "output_type": "display_data"
    }
   ],
   "source": [
    "plt.plot(gains1,'g')\n",
    "plt.plot([0,30],[0,1],'b')"
   ]
  },
  {
   "cell_type": "markdown",
   "metadata": {
    "id": "YkP_yB0C9NYr"
   },
   "source": [
    "Let's estimate a neural network. Syntax is a bit different - but still similar format to OLS and Logit<br><br>\n",
    "<code>mba263.neural_network(response,predictors)</code>"
   ]
  },
  {
   "cell_type": "code",
   "execution_count": 10,
   "metadata": {
    "id": "CDadSzn19NYs"
   },
   "outputs": [],
   "source": [
    "result_nn = mba263.neural_network(data['res'],data[ ['numpurch','age','totdol','female','adB'] ])"
   ]
  },
  {
   "cell_type": "code",
   "execution_count": 11,
   "metadata": {
    "id": "jOIHmdw69NYs"
   },
   "outputs": [],
   "source": [
    "data['p_nn'] = result_nn.predict(data[ ['numpurch','age','totdol','female','adB'] ])"
   ]
  },
  {
   "cell_type": "markdown",
   "metadata": {
    "id": "0O5LoeW19NYs"
   },
   "source": [
    "Compute gains measure for neural network and overlay on top of logit and baseline models"
   ]
  },
  {
   "cell_type": "code",
   "execution_count": 12,
   "metadata": {
    "colab": {
     "base_uri": "https://localhost:8080/",
     "height": 282
    },
    "executionInfo": {
     "elapsed": 461,
     "status": "ok",
     "timestamp": 1676932494830,
     "user": {
      "displayName": "Olivia Natan",
      "userId": "05221168611265745496"
     },
     "user_tz": 480
    },
    "id": "pEpPJwD-9NYs",
    "outputId": "5c47b8c5-d932-4465-93a4-55e85c4731e8"
   },
   "outputs": [
    {
     "data": {
      "text/plain": [
       "[<matplotlib.lines.Line2D at 0x7fb755dcc2e0>]"
      ]
     },
     "execution_count": 12,
     "metadata": {},
     "output_type": "execute_result"
    },
    {
     "data": {
      "image/png": "[encoded data removed]",
      "text/plain": [
       "<Figure size 640x480 with 1 Axes>"
      ]
     },
     "metadata": {},
     "output_type": "display_data"
    }
   ],
   "source": [
    "gains_nn=mba263.gain(data['res'],data['p_nn'],30)\n",
    "plt.plot(gains1,'g')\n",
    "plt.plot(gains_nn,'r')\n",
    "plt.plot([0,30],[0,1],'b')"
   ]
  },
  {
   "cell_type": "markdown",
   "metadata": {
    "id": "xii-in1r9NYt"
   },
   "source": [
    "Neural network performs better. We likely miss an interaction term. What interactions are possible?"
   ]
  },
  {
   "cell_type": "code",
   "execution_count": 13,
   "metadata": {
    "id": "mwtdNYFL9NYt"
   },
   "outputs": [],
   "source": [
    "result_nn_scaled2 = mba263.neural_network(data['res'],data[ ['numpurch','age','totdol','female','adB'] ])"
   ]
  },
  {
   "cell_type": "code",
   "execution_count": 14,
   "metadata": {
    "colab": {
     "base_uri": "https://localhost:8080/",
     "height": 363
    },
    "executionInfo": {
     "elapsed": 213,
     "status": "ok",
     "timestamp": 1676932498787,
     "user": {
      "displayName": "Olivia Natan",
      "userId": "05221168611265745496"
     },
     "user_tz": 480
    },
    "id": "H8EZv58m9NYt",
    "outputId": "7b4cdc84-28f5-44a9-debb-d81726ae3747"
   },
   "outputs": [
    {
     "data": {
      "text/html": [
       "<div>\n",
       "<style scoped>\n",
       "    .dataframe tbody tr th:only-of-type {\n",
       "        vertical-align: middle;\n",
       "    }\n",
       "\n",
       "    .dataframe tbody tr th {\n",
       "        vertical-align: top;\n",
       "    }\n",
       "\n",
       "    .dataframe thead th {\n",
       "        text-align: right;\n",
       "    }\n",
       "</style>\n",
       "<table border=\"1\" class=\"dataframe\">\n",
       "  <thead>\n",
       "    <tr style=\"text-align: right;\">\n",
       "      <th></th>\n",
       "      <th>numpurch</th>\n",
       "      <th>age</th>\n",
       "      <th>totdol</th>\n",
       "      <th>female</th>\n",
       "      <th>adB</th>\n",
       "      <th>res</th>\n",
       "      <th>validation</th>\n",
       "      <th>p1</th>\n",
       "      <th>p_nn</th>\n",
       "    </tr>\n",
       "  </thead>\n",
       "  <tbody>\n",
       "    <tr>\n",
       "      <th>0</th>\n",
       "      <td>89.0</td>\n",
       "      <td>27</td>\n",
       "      <td>321.59</td>\n",
       "      <td>1</td>\n",
       "      <td>0</td>\n",
       "      <td>0</td>\n",
       "      <td>0</td>\n",
       "      <td>0.123800</td>\n",
       "      <td>0.197138</td>\n",
       "    </tr>\n",
       "    <tr>\n",
       "      <th>1</th>\n",
       "      <td>72.0</td>\n",
       "      <td>25</td>\n",
       "      <td>107.03</td>\n",
       "      <td>0</td>\n",
       "      <td>1</td>\n",
       "      <td>0</td>\n",
       "      <td>1</td>\n",
       "      <td>0.040503</td>\n",
       "      <td>0.059404</td>\n",
       "    </tr>\n",
       "    <tr>\n",
       "      <th>2</th>\n",
       "      <td>6.0</td>\n",
       "      <td>31</td>\n",
       "      <td>410.12</td>\n",
       "      <td>0</td>\n",
       "      <td>1</td>\n",
       "      <td>0</td>\n",
       "      <td>0</td>\n",
       "      <td>0.000577</td>\n",
       "      <td>0.000310</td>\n",
       "    </tr>\n",
       "    <tr>\n",
       "      <th>3</th>\n",
       "      <td>48.0</td>\n",
       "      <td>28</td>\n",
       "      <td>102.30</td>\n",
       "      <td>1</td>\n",
       "      <td>1</td>\n",
       "      <td>0</td>\n",
       "      <td>1</td>\n",
       "      <td>0.007263</td>\n",
       "      <td>0.002065</td>\n",
       "    </tr>\n",
       "    <tr>\n",
       "      <th>4</th>\n",
       "      <td>52.0</td>\n",
       "      <td>26</td>\n",
       "      <td>203.34</td>\n",
       "      <td>1</td>\n",
       "      <td>0</td>\n",
       "      <td>0</td>\n",
       "      <td>0</td>\n",
       "      <td>0.008645</td>\n",
       "      <td>0.006042</td>\n",
       "    </tr>\n",
       "    <tr>\n",
       "      <th>5</th>\n",
       "      <td>16.0</td>\n",
       "      <td>32</td>\n",
       "      <td>378.38</td>\n",
       "      <td>0</td>\n",
       "      <td>1</td>\n",
       "      <td>0</td>\n",
       "      <td>1</td>\n",
       "      <td>0.001166</td>\n",
       "      <td>0.000785</td>\n",
       "    </tr>\n",
       "    <tr>\n",
       "      <th>6</th>\n",
       "      <td>43.0</td>\n",
       "      <td>41</td>\n",
       "      <td>213.00</td>\n",
       "      <td>1</td>\n",
       "      <td>1</td>\n",
       "      <td>0</td>\n",
       "      <td>0</td>\n",
       "      <td>0.007441</td>\n",
       "      <td>0.004181</td>\n",
       "    </tr>\n",
       "    <tr>\n",
       "      <th>7</th>\n",
       "      <td>15.0</td>\n",
       "      <td>26</td>\n",
       "      <td>390.16</td>\n",
       "      <td>1</td>\n",
       "      <td>1</td>\n",
       "      <td>0</td>\n",
       "      <td>1</td>\n",
       "      <td>0.000882</td>\n",
       "      <td>0.000136</td>\n",
       "    </tr>\n",
       "    <tr>\n",
       "      <th>8</th>\n",
       "      <td>55.0</td>\n",
       "      <td>27</td>\n",
       "      <td>367.41</td>\n",
       "      <td>0</td>\n",
       "      <td>0</td>\n",
       "      <td>0</td>\n",
       "      <td>0</td>\n",
       "      <td>0.014080</td>\n",
       "      <td>0.012486</td>\n",
       "    </tr>\n",
       "    <tr>\n",
       "      <th>9</th>\n",
       "      <td>15.0</td>\n",
       "      <td>30</td>\n",
       "      <td>384.77</td>\n",
       "      <td>0</td>\n",
       "      <td>0</td>\n",
       "      <td>0</td>\n",
       "      <td>1</td>\n",
       "      <td>0.000885</td>\n",
       "      <td>0.000743</td>\n",
       "    </tr>\n",
       "  </tbody>\n",
       "</table>\n",
       "</div>"
      ],
      "text/plain": [
       "   numpurch  age  totdol  female  adB  res  validation        p1      p_nn\n",
       "0      89.0   27  321.59       1    0    0           0  0.123800  0.197138\n",
       "1      72.0   25  107.03       0    1    0           1  0.040503  0.059404\n",
       "2       6.0   31  410.12       0    1    0           0  0.000577  0.000310\n",
       "3      48.0   28  102.30       1    1    0           1  0.007263  0.002065\n",
       "4      52.0   26  203.34       1    0    0           0  0.008645  0.006042\n",
       "5      16.0   32  378.38       0    1    0           1  0.001166  0.000785\n",
       "6      43.0   41  213.00       1    1    0           0  0.007441  0.004181\n",
       "7      15.0   26  390.16       1    1    0           1  0.000882  0.000136\n",
       "8      55.0   27  367.41       0    0    0           0  0.014080  0.012486\n",
       "9      15.0   30  384.77       0    0    0           1  0.000885  0.000743"
      ]
     },
     "execution_count": 14,
     "metadata": {},
     "output_type": "execute_result"
    }
   ],
   "source": [
    "data.head(10)"
   ]
  },
  {
   "cell_type": "code",
   "execution_count": 15,
   "metadata": {
    "id": "tSceUgGw9NYt"
   },
   "outputs": [],
   "source": [
    "data['female_adB']=data['female']*data['adB']"
   ]
  },
  {
   "cell_type": "code",
   "execution_count": 16,
   "metadata": {
    "colab": {
     "base_uri": "https://localhost:8080/"
    },
    "executionInfo": {
     "elapsed": 432,
     "status": "ok",
     "timestamp": 1676932500897,
     "user": {
      "displayName": "Olivia Natan",
      "userId": "05221168611265745496"
     },
     "user_tz": 480
    },
    "id": "NETblUNl9NYt",
    "outputId": "1771b35f-ef00-48d0-8b53-63703c9110cb"
   },
   "outputs": [
    {
     "name": "stdout",
     "output_type": "stream",
     "text": [
      "Optimization terminated successfully.\n",
      "         Current function value: 0.158615\n",
      "         Iterations 9\n"
     ]
    }
   ],
   "source": [
    "result2 = mba263.logit(data['res'],data[ ['numpurch','age','totdol','female','adB','female_adB']])\n",
    "data['p2'] = result2.predict()\n",
    "gains2=mba263.gain(data['res'],data['p2'],30)"
   ]
  },
  {
   "cell_type": "code",
   "execution_count": 17,
   "metadata": {
    "colab": {
     "base_uri": "https://localhost:8080/",
     "height": 206
    },
    "executionInfo": {
     "elapsed": 5,
     "status": "ok",
     "timestamp": 1676932500898,
     "user": {
      "displayName": "Olivia Natan",
      "userId": "05221168611265745496"
     },
     "user_tz": 480
    },
    "id": "29EJepci9NYu",
    "outputId": "e0aff893-2499-4158-d453-999b71db35cb"
   },
   "outputs": [
    {
     "data": {
      "text/html": [
       "<div>\n",
       "<style scoped>\n",
       "    .dataframe tbody tr th:only-of-type {\n",
       "        vertical-align: middle;\n",
       "    }\n",
       "\n",
       "    .dataframe tbody tr th {\n",
       "        vertical-align: top;\n",
       "    }\n",
       "\n",
       "    .dataframe thead th {\n",
       "        text-align: right;\n",
       "    }\n",
       "</style>\n",
       "<table border=\"1\" class=\"dataframe\">\n",
       "  <thead>\n",
       "    <tr style=\"text-align: right;\">\n",
       "      <th></th>\n",
       "      <th>Odds ratios</th>\n",
       "      <th>std err</th>\n",
       "      <th>z</th>\n",
       "      <th>P&gt;|z|</th>\n",
       "      <th>[0.025</th>\n",
       "      <th>0.975]</th>\n",
       "    </tr>\n",
       "  </thead>\n",
       "  <tbody>\n",
       "    <tr>\n",
       "      <th>numpurch</th>\n",
       "      <td>1.074139</td>\n",
       "      <td>0.003315</td>\n",
       "      <td>22.362945</td>\n",
       "      <td>0.000</td>\n",
       "      <td>1.067707</td>\n",
       "      <td>1.080571</td>\n",
       "    </tr>\n",
       "    <tr>\n",
       "      <th>age</th>\n",
       "      <td>1.021100</td>\n",
       "      <td>0.010532</td>\n",
       "      <td>2.003470</td>\n",
       "      <td>0.045</td>\n",
       "      <td>1.000668</td>\n",
       "      <td>1.041532</td>\n",
       "    </tr>\n",
       "    <tr>\n",
       "      <th>totdol</th>\n",
       "      <td>1.000999</td>\n",
       "      <td>0.000381</td>\n",
       "      <td>2.621805</td>\n",
       "      <td>0.009</td>\n",
       "      <td>1.000260</td>\n",
       "      <td>1.001737</td>\n",
       "    </tr>\n",
       "    <tr>\n",
       "      <th>female</th>\n",
       "      <td>0.910223</td>\n",
       "      <td>0.084880</td>\n",
       "      <td>1.057693</td>\n",
       "      <td>0.290</td>\n",
       "      <td>0.745557</td>\n",
       "      <td>1.074890</td>\n",
       "    </tr>\n",
       "    <tr>\n",
       "      <th>adB</th>\n",
       "      <td>1.184760</td>\n",
       "      <td>0.109204</td>\n",
       "      <td>1.691878</td>\n",
       "      <td>0.091</td>\n",
       "      <td>0.972904</td>\n",
       "      <td>1.396616</td>\n",
       "    </tr>\n",
       "  </tbody>\n",
       "</table>\n",
       "</div>"
      ],
      "text/plain": [
       "          Odds ratios   std err          z  P>|z|    [0.025    0.975]\n",
       "numpurch     1.074139  0.003315  22.362945  0.000  1.067707  1.080571\n",
       "age          1.021100  0.010532   2.003470  0.045  1.000668  1.041532\n",
       "totdol       1.000999  0.000381   2.621805  0.009  1.000260  1.001737\n",
       "female       0.910223  0.084880   1.057693  0.290  0.745557  1.074890\n",
       "adB          1.184760  0.109204   1.691878  0.091  0.972904  1.396616"
      ]
     },
     "execution_count": 17,
     "metadata": {},
     "output_type": "execute_result"
    }
   ],
   "source": [
    "mba263.odds_ratios(result)"
   ]
  },
  {
   "cell_type": "markdown",
   "metadata": {},
   "source": [
    "since female_adb very small, coeff very small"
   ]
  },
  {
   "cell_type": "code",
   "execution_count": 19,
   "metadata": {
    "colab": {
     "base_uri": "https://localhost:8080/",
     "height": 238
    },
    "executionInfo": {
     "elapsed": 4,
     "status": "ok",
     "timestamp": 1676932501250,
     "user": {
      "displayName": "Olivia Natan",
      "userId": "05221168611265745496"
     },
     "user_tz": 480
    },
    "id": "XCKVIhey9NYu",
    "outputId": "47f99bb0-2146-471c-d984-d7febfffa5d7"
   },
   "outputs": [
    {
     "data": {
      "text/html": [
       "<div>\n",
       "<style scoped>\n",
       "    .dataframe tbody tr th:only-of-type {\n",
       "        vertical-align: middle;\n",
       "    }\n",
       "\n",
       "    .dataframe tbody tr th {\n",
       "        vertical-align: top;\n",
       "    }\n",
       "\n",
       "    .dataframe thead th {\n",
       "        text-align: right;\n",
       "    }\n",
       "</style>\n",
       "<table border=\"1\" class=\"dataframe\">\n",
       "  <thead>\n",
       "    <tr style=\"text-align: right;\">\n",
       "      <th></th>\n",
       "      <th>Odds ratios</th>\n",
       "      <th>std err</th>\n",
       "      <th>z</th>\n",
       "      <th>P&gt;|z|</th>\n",
       "      <th>[0.025</th>\n",
       "      <th>0.975]</th>\n",
       "    </tr>\n",
       "  </thead>\n",
       "  <tbody>\n",
       "    <tr>\n",
       "      <th>numpurch</th>\n",
       "      <td>1.075149</td>\n",
       "      <td>0.003363</td>\n",
       "      <td>22.346121</td>\n",
       "      <td>0.000</td>\n",
       "      <td>1.068625</td>\n",
       "      <td>1.081673</td>\n",
       "    </tr>\n",
       "    <tr>\n",
       "      <th>age</th>\n",
       "      <td>1.023308</td>\n",
       "      <td>0.010654</td>\n",
       "      <td>2.187784</td>\n",
       "      <td>0.029</td>\n",
       "      <td>1.002640</td>\n",
       "      <td>1.043976</td>\n",
       "    </tr>\n",
       "    <tr>\n",
       "      <th>totdol</th>\n",
       "      <td>1.000955</td>\n",
       "      <td>0.000384</td>\n",
       "      <td>2.487152</td>\n",
       "      <td>0.013</td>\n",
       "      <td>1.000210</td>\n",
       "      <td>1.001700</td>\n",
       "    </tr>\n",
       "    <tr>\n",
       "      <th>female</th>\n",
       "      <td>1.991198</td>\n",
       "      <td>0.269586</td>\n",
       "      <td>3.676747</td>\n",
       "      <td>0.000</td>\n",
       "      <td>1.468202</td>\n",
       "      <td>2.514194</td>\n",
       "    </tr>\n",
       "    <tr>\n",
       "      <th>adB</th>\n",
       "      <td>2.275448</td>\n",
       "      <td>0.286844</td>\n",
       "      <td>4.446485</td>\n",
       "      <td>0.000</td>\n",
       "      <td>1.718970</td>\n",
       "      <td>2.831925</td>\n",
       "    </tr>\n",
       "    <tr>\n",
       "      <th>female_adB</th>\n",
       "      <td>0.216153</td>\n",
       "      <td>0.041729</td>\n",
       "      <td>18.784040</td>\n",
       "      <td>0.000</td>\n",
       "      <td>0.135198</td>\n",
       "      <td>0.297108</td>\n",
       "    </tr>\n",
       "  </tbody>\n",
       "</table>\n",
       "</div>"
      ],
      "text/plain": [
       "            Odds ratios   std err          z  P>|z|    [0.025    0.975]\n",
       "numpurch       1.075149  0.003363  22.346121  0.000  1.068625  1.081673\n",
       "age            1.023308  0.010654   2.187784  0.029  1.002640  1.043976\n",
       "totdol         1.000955  0.000384   2.487152  0.013  1.000210  1.001700\n",
       "female         1.991198  0.269586   3.676747  0.000  1.468202  2.514194\n",
       "adB            2.275448  0.286844   4.446485  0.000  1.718970  2.831925\n",
       "female_adB     0.216153  0.041729  18.784040  0.000  0.135198  0.297108"
      ]
     },
     "execution_count": 19,
     "metadata": {},
     "output_type": "execute_result"
    }
   ],
   "source": [
    "mba263.odds_ratios(result2)"
   ]
  },
  {
   "cell_type": "code",
   "execution_count": 21,
   "metadata": {
    "colab": {
     "base_uri": "https://localhost:8080/",
     "height": 282
    },
    "executionInfo": {
     "elapsed": 382,
     "status": "ok",
     "timestamp": 1676932502259,
     "user": {
      "displayName": "Olivia Natan",
      "userId": "05221168611265745496"
     },
     "user_tz": 480
    },
    "id": "Pwjofnct9NYu",
    "outputId": "71878533-25e8-4819-f1ce-4869dcf524e9"
   },
   "outputs": [
    {
     "data": {
      "text/plain": [
       "[<matplotlib.lines.Line2D at 0x7fb755cef460>]"
      ]
     },
     "execution_count": 21,
     "metadata": {},
     "output_type": "execute_result"
    },
    {
     "data": {
      "image/png": "[encoded data removed]",
      "text/plain": [
       "<Figure size 640x480 with 1 Axes>"
      ]
     },
     "metadata": {},
     "output_type": "display_data"
    }
   ],
   "source": [
    "gains_nn=mba263.gain(data['res'],data['p_nn'],30)\n",
    "plt.plot(gains_nn,'r')\n",
    "plt.plot(gains2,'g')\n",
    "plt.plot([0,30],[0,1],'b')"
   ]
  },
  {
   "cell_type": "markdown",
   "metadata": {
    "id": "zi4MC5-U9NYu"
   },
   "source": [
    "Let's compare against a random forest- this one has a few more arguments:<br>\n",
    "<code> mba263.random_forest(response, predictors, trees=NUMTREES,leaf_nodes=NUMNODES)</code> <br>\n",
    "Trees argument tells us how many times to bootstrap the model (more= less sensitive to outliers)<br>\n",
    "Leaf nodes argument tells us how detailed to make the trees (more = more overfitting)"
   ]
  },
  {
   "cell_type": "code",
   "execution_count": 22,
   "metadata": {
    "id": "--hs-EIN9NYu"
   },
   "outputs": [],
   "source": [
    "result_rf = mba263.random_forest(data['res'],data[ ['numpurch','age','totdol','female','adB'] ],trees=500,leaf_nodes=15)"
   ]
  },
  {
   "cell_type": "code",
   "execution_count": 24,
   "metadata": {
    "id": "BkhDu5t29NYu"
   },
   "outputs": [],
   "source": [
    "data['p_rf']=result_rf.predict(data[ ['numpurch','age','totdol','female','adB'] ])"
   ]
  },
  {
   "cell_type": "code",
   "execution_count": 25,
   "metadata": {
    "colab": {
     "base_uri": "https://localhost:8080/",
     "height": 282
    },
    "executionInfo": {
     "elapsed": 471,
     "status": "ok",
     "timestamp": 1676932510216,
     "user": {
      "displayName": "Olivia Natan",
      "userId": "05221168611265745496"
     },
     "user_tz": 480
    },
    "id": "ZNxkw9Om9NYv",
    "outputId": "5d5245ec-f122-46a1-b04f-e3654078dfef",
    "tags": []
   },
   "outputs": [
    {
     "data": {
      "text/plain": [
       "[<matplotlib.lines.Line2D at 0x7fb75611b460>]"
      ]
     },
     "execution_count": 25,
     "metadata": {},
     "output_type": "execute_result"
    },
    {
     "data": {
      "image/png": "[encoded data removed]",
      "text/plain": [
       "<Figure size 640x480 with 1 Axes>"
      ]
     },
     "metadata": {},
     "output_type": "display_data"
    }
   ],
   "source": [
    "gains_rf=mba263.gain(data['res'],data['p_rf'],30)\n",
    "plt.plot(gains_rf,'r')\n",
    "plt.plot(gains_nn,'g')\n",
    "plt.plot([0,30],[0,1],'b')"
   ]
  },
  {
   "cell_type": "markdown",
   "metadata": {
    "id": "do0ScFTM9NYv"
   },
   "source": [
    "What if we let the trees become more detailed?"
   ]
  },
  {
   "cell_type": "code",
   "execution_count": 26,
   "metadata": {
    "colab": {
     "base_uri": "https://localhost:8080/",
     "height": 282
    },
    "executionInfo": {
     "elapsed": 5531,
     "status": "ok",
     "timestamp": 1676932518150,
     "user": {
      "displayName": "Olivia Natan",
      "userId": "05221168611265745496"
     },
     "user_tz": 480
    },
    "id": "x6-hWq6m9NYv",
    "outputId": "023ab44f-bc95-4707-9ed4-b6c823a6218a"
   },
   "outputs": [
    {
     "data": {
      "text/plain": [
       "[<matplotlib.lines.Line2D at 0x7fb755e78700>]"
      ]
     },
     "execution_count": 26,
     "metadata": {},
     "output_type": "execute_result"
    },
    {
     "data": {
      "image/png": "[encoded data removed]",
      "text/plain": [
       "<Figure size 640x480 with 1 Axes>"
      ]
     },
     "metadata": {},
     "output_type": "display_data"
    }
   ],
   "source": [
    "result_rf = mba263.random_forest(data['res'],data[ ['numpurch','age','totdol','female','adB'] ],trees=500,leaf_nodes=200)\n",
    "data['p_rf']=result_rf.predict(data[ ['numpurch','age','totdol','female','adB'] ])\n",
    "gains_rf=mba263.gain(data['res'],data['p_rf'],30)\n",
    "plt.plot(gains_rf,'r')\n",
    "plt.plot(gains_nn,'g')\n",
    "plt.plot([0,30],[0,1],'b')"
   ]
  },
  {
   "cell_type": "markdown",
   "metadata": {
    "id": "NnrDZyAa9NYv"
   },
   "source": [
    "Looks pretty incredible, right? How can we make sure this isn't overfitting?\n",
    "\n",
    "\n",
    "We'll fit the model just on the calibration/train part of the data"
   ]
  },
  {
   "cell_type": "code",
   "execution_count": 27,
   "metadata": {
    "id": "g4kTCt919NYv"
   },
   "outputs": [],
   "source": [
    "data_calibration=data[data['validation']==0]\n",
    "data_validation=data[data['validation']==1]"
   ]
  },
  {
   "cell_type": "markdown",
   "metadata": {
    "id": "C3qE4ENx9NYv"
   },
   "source": [
    "We will test the model on the validation/test sample."
   ]
  },
  {
   "cell_type": "code",
   "execution_count": 28,
   "metadata": {
    "id": "Die8_Sd09NYv"
   },
   "outputs": [],
   "source": [
    "result_rf = mba263.random_forest(data_calibration['res'],\\\n",
    "                                 data_calibration[ ['numpurch','age','totdol','female','adB'] ],\\\n",
    "                                 trees=500,leaf_nodes=200)\n",
    "data_validation['p_rf']=result_rf.predict(data_validation[ ['numpurch','age','totdol','female','adB'] ])"
   ]
  },
  {
   "cell_type": "code",
   "execution_count": 29,
   "metadata": {
    "colab": {
     "base_uri": "https://localhost:8080/",
     "height": 282
    },
    "executionInfo": {
     "elapsed": 10,
     "status": "ok",
     "timestamp": 1676932525870,
     "user": {
      "displayName": "Olivia Natan",
      "userId": "05221168611265745496"
     },
     "user_tz": 480
    },
    "id": "XI5wRjGV9NYv",
    "outputId": "6bebc6c5-513d-46c6-a86d-cb1370af223b"
   },
   "outputs": [
    {
     "data": {
      "text/plain": [
       "[<matplotlib.lines.Line2D at 0x7fb756240820>]"
      ]
     },
     "execution_count": 29,
     "metadata": {},
     "output_type": "execute_result"
    },
    {
     "data": {
      "image/png": "[encoded data removed]",
      "text/plain": [
       "<Figure size 640x480 with 1 Axes>"
      ]
     },
     "metadata": {},
     "output_type": "display_data"
    }
   ],
   "source": [
    "gains_rf_cross=mba263.gain(data_validation['res'],data_validation['p_rf'],30)\n",
    "plt.plot(gains_rf_cross,'y')\n",
    "plt.plot(gains_rf,'r')\n",
    "plt.plot(gains_nn,'g')\n",
    "plt.plot([0,30],[0,1],'b')"
   ]
  },
  {
   "cell_type": "markdown",
   "metadata": {
    "id": "TTY0dyNK9NYw"
   },
   "source": [
    "We can do the same with NN:"
   ]
  },
  {
   "cell_type": "code",
   "execution_count": 30,
   "metadata": {
    "id": "IcHdbhbo9NYw"
   },
   "outputs": [],
   "source": [
    "result_nn_train=mba263.neural_network(data_calibration['res'],\\\n",
    "                                      data_calibration[ ['numpurch','age','totdol','female','adB'] ],hidden_layer_sizes=(5,5))\n",
    "data_calibration['p_nn']=result_nn_train.predict(data_calibration[['numpurch','age','totdol','female','adB']])\n",
    "data_validation['p_nn']=result_nn_train.predict(data_validation[['numpurch','age','totdol','female','adB']])"
   ]
  },
  {
   "cell_type": "code",
   "execution_count": 31,
   "metadata": {
    "colab": {
     "base_uri": "https://localhost:8080/",
     "height": 282
    },
    "executionInfo": {
     "elapsed": 681,
     "status": "ok",
     "timestamp": 1676932529181,
     "user": {
      "displayName": "Olivia Natan",
      "userId": "05221168611265745496"
     },
     "user_tz": 480
    },
    "id": "ygv3kbOU9NYw",
    "outputId": "a8a8bc52-da89-4b43-cd78-9ea3bdbe1a90"
   },
   "outputs": [
    {
     "data": {
      "text/plain": [
       "[<matplotlib.lines.Line2D at 0x7fb74f024af0>]"
      ]
     },
     "execution_count": 31,
     "metadata": {},
     "output_type": "execute_result"
    },
    {
     "data": {
      "image/png": "[encoded data removed]",
      "text/plain": [
       "<Figure size 640x480 with 1 Axes>"
      ]
     },
     "metadata": {},
     "output_type": "display_data"
    }
   ],
   "source": [
    "gains_nn_train=mba263.gain(data_calibration['res'],data_calibration['p_nn'],30)\n",
    "gains_nn_cross=mba263.gain(data_validation['res'],data_validation['p_nn'],30)\n",
    "plt.plot(gains_rf_cross,'y')\n",
    "plt.plot(gains_rf,'r')\n",
    "plt.plot(gains_nn_train,'g')\n",
    "plt.plot(gains_nn_cross,'m')\n",
    "plt.plot([0,30],[0,1],'b')"
   ]
  }
 ],
 "metadata": {
  "colab": {
   "authorship_tag": "ABX9TyNHj5D6qzhwp8JtzpRCT8jc",
   "provenance": []
  },
  "kernelspec": {
   "display_name": "Python 3 (ipykernel)",
   "language": "python",
   "name": "python3"
  },
  "language_info": {
   "codemirror_mode": {
    "name": "ipython",
    "version": 3
   },
   "file_extension": ".py",
   "mimetype": "text/x-python",
   "name": "python",
   "nbconvert_exporter": "python",
   "pygments_lexer": "ipython3",
   "version": "3.9.6"
  }
 },
 "nbformat": 4,
 "nbformat_minor": 4
}
