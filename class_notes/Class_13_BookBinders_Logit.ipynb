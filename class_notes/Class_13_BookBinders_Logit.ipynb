{
 "cells": [
  {
   "cell_type": "code",
   "execution_count": 3,
   "metadata": {
    "executionInfo": {
     "elapsed": 972,
     "status": "ok",
     "timestamp": 1677527636072,
     "user": {
      "displayName": "Olivia Natan",
      "userId": "05221168611265745496"
     },
     "user_tz": 480
    },
    "id": "e972szcUSKfZ"
   },
   "outputs": [],
   "source": [
    "import pandas\n",
    "import mba263\n",
    "import matplotlib.pyplot as plt"
   ]
  },
  {
   "cell_type": "code",
   "execution_count": 5,
   "metadata": {
    "executionInfo": {
     "elapsed": 14,
     "status": "ok",
     "timestamp": 1677527636073,
     "user": {
      "displayName": "Olivia Natan",
      "userId": "05221168611265745496"
     },
     "user_tz": 480
    },
    "id": "lFxHI2qySLWK"
   },
   "outputs": [],
   "source": [
    "data = pandas.read_csv('data/BBB.csv')"
   ]
  },
  {
   "cell_type": "markdown",
   "metadata": {
    "id": "6m2WlC8SSJRF"
   },
   "source": [
    "<ul>\n",
    "<li>Dave Lawton (marketing director) pulls a random sample of 50,000 customers from the BookBinders database</li>\n",
    "<li>Dave mails “The Art History of Florence” to the entire sample</li>\n",
    "<li>4522 customers buy the book</li>\n",
    "<li>Plans to use the model to determine which customer to target from the entire database (500,000 remaining customers, excluding test group)</li>\n",
    "    <li>Dave has information on:</li>\n",
    "<ul>\n",
    " "
   ]
  },
  {
   "cell_type": "code",
   "execution_count": 6,
   "metadata": {
    "colab": {
     "base_uri": "https://localhost:8080/",
     "height": 206
    },
    "executionInfo": {
     "elapsed": 13,
     "status": "ok",
     "timestamp": 1677527636073,
     "user": {
      "displayName": "Olivia Natan",
      "userId": "05221168611265745496"
     },
     "user_tz": 480
    },
    "id": "LW0PUNPVSJRG",
    "outputId": "0901de96-4e35-4195-e2a3-1186e3b20979"
   },
   "outputs": [
    {
     "data": {
      "text/html": [
       "<div>\n",
       "<style scoped>\n",
       "    .dataframe tbody tr th:only-of-type {\n",
       "        vertical-align: middle;\n",
       "    }\n",
       "\n",
       "    .dataframe tbody tr th {\n",
       "        vertical-align: top;\n",
       "    }\n",
       "\n",
       "    .dataframe thead th {\n",
       "        text-align: right;\n",
       "    }\n",
       "</style>\n",
       "<table border=\"1\" class=\"dataframe\">\n",
       "  <thead>\n",
       "    <tr style=\"text-align: right;\">\n",
       "      <th></th>\n",
       "      <th>acctnum</th>\n",
       "      <th>gender</th>\n",
       "      <th>state</th>\n",
       "      <th>zip</th>\n",
       "      <th>zip3</th>\n",
       "      <th>first</th>\n",
       "      <th>last</th>\n",
       "      <th>book_</th>\n",
       "      <th>nonbook_</th>\n",
       "      <th>total_</th>\n",
       "      <th>purch</th>\n",
       "      <th>child</th>\n",
       "      <th>youth</th>\n",
       "      <th>cook</th>\n",
       "      <th>do_it</th>\n",
       "      <th>refernce</th>\n",
       "      <th>art</th>\n",
       "      <th>geog</th>\n",
       "      <th>buyer</th>\n",
       "    </tr>\n",
       "  </thead>\n",
       "  <tbody>\n",
       "    <tr>\n",
       "      <th>0</th>\n",
       "      <td>10001</td>\n",
       "      <td>M</td>\n",
       "      <td>NY</td>\n",
       "      <td>10605</td>\n",
       "      <td>106</td>\n",
       "      <td>49</td>\n",
       "      <td>29</td>\n",
       "      <td>109</td>\n",
       "      <td>248</td>\n",
       "      <td>357</td>\n",
       "      <td>10</td>\n",
       "      <td>3</td>\n",
       "      <td>2</td>\n",
       "      <td>2</td>\n",
       "      <td>0</td>\n",
       "      <td>1</td>\n",
       "      <td>0</td>\n",
       "      <td>2</td>\n",
       "      <td>no</td>\n",
       "    </tr>\n",
       "    <tr>\n",
       "      <th>1</th>\n",
       "      <td>10002</td>\n",
       "      <td>M</td>\n",
       "      <td>NY</td>\n",
       "      <td>10960</td>\n",
       "      <td>109</td>\n",
       "      <td>39</td>\n",
       "      <td>27</td>\n",
       "      <td>35</td>\n",
       "      <td>103</td>\n",
       "      <td>138</td>\n",
       "      <td>3</td>\n",
       "      <td>0</td>\n",
       "      <td>1</td>\n",
       "      <td>0</td>\n",
       "      <td>1</td>\n",
       "      <td>0</td>\n",
       "      <td>0</td>\n",
       "      <td>1</td>\n",
       "      <td>no</td>\n",
       "    </tr>\n",
       "    <tr>\n",
       "      <th>2</th>\n",
       "      <td>10003</td>\n",
       "      <td>F</td>\n",
       "      <td>PA</td>\n",
       "      <td>19146</td>\n",
       "      <td>191</td>\n",
       "      <td>19</td>\n",
       "      <td>15</td>\n",
       "      <td>25</td>\n",
       "      <td>147</td>\n",
       "      <td>172</td>\n",
       "      <td>2</td>\n",
       "      <td>0</td>\n",
       "      <td>0</td>\n",
       "      <td>2</td>\n",
       "      <td>0</td>\n",
       "      <td>0</td>\n",
       "      <td>0</td>\n",
       "      <td>0</td>\n",
       "      <td>no</td>\n",
       "    </tr>\n",
       "    <tr>\n",
       "      <th>3</th>\n",
       "      <td>10004</td>\n",
       "      <td>F</td>\n",
       "      <td>NJ</td>\n",
       "      <td>7016</td>\n",
       "      <td>70</td>\n",
       "      <td>7</td>\n",
       "      <td>7</td>\n",
       "      <td>15</td>\n",
       "      <td>257</td>\n",
       "      <td>272</td>\n",
       "      <td>1</td>\n",
       "      <td>0</td>\n",
       "      <td>0</td>\n",
       "      <td>0</td>\n",
       "      <td>0</td>\n",
       "      <td>1</td>\n",
       "      <td>0</td>\n",
       "      <td>0</td>\n",
       "      <td>no</td>\n",
       "    </tr>\n",
       "    <tr>\n",
       "      <th>4</th>\n",
       "      <td>10005</td>\n",
       "      <td>F</td>\n",
       "      <td>NY</td>\n",
       "      <td>10804</td>\n",
       "      <td>108</td>\n",
       "      <td>15</td>\n",
       "      <td>15</td>\n",
       "      <td>15</td>\n",
       "      <td>134</td>\n",
       "      <td>149</td>\n",
       "      <td>1</td>\n",
       "      <td>0</td>\n",
       "      <td>0</td>\n",
       "      <td>1</td>\n",
       "      <td>0</td>\n",
       "      <td>0</td>\n",
       "      <td>0</td>\n",
       "      <td>0</td>\n",
       "      <td>no</td>\n",
       "    </tr>\n",
       "  </tbody>\n",
       "</table>\n",
       "</div>"
      ],
      "text/plain": [
       "   acctnum gender state    zip  zip3  first  last  book_  nonbook_  total_  \\\n",
       "0    10001      M    NY  10605   106     49    29    109       248     357   \n",
       "1    10002      M    NY  10960   109     39    27     35       103     138   \n",
       "2    10003      F    PA  19146   191     19    15     25       147     172   \n",
       "3    10004      F    NJ   7016    70      7     7     15       257     272   \n",
       "4    10005      F    NY  10804   108     15    15     15       134     149   \n",
       "\n",
       "   purch  child  youth  cook  do_it  refernce  art  geog buyer  \n",
       "0     10      3      2     2      0         1    0     2    no  \n",
       "1      3      0      1     0      1         0    0     1    no  \n",
       "2      2      0      0     2      0         0    0     0    no  \n",
       "3      1      0      0     0      0         1    0     0    no  \n",
       "4      1      0      0     1      0         0    0     0    no  "
      ]
     },
     "execution_count": 6,
     "metadata": {},
     "output_type": "execute_result"
    }
   ],
   "source": [
    "data.head()"
   ]
  },
  {
   "cell_type": "code",
   "execution_count": 7,
   "metadata": {
    "colab": {
     "base_uri": "https://localhost:8080/"
    },
    "executionInfo": {
     "elapsed": 11,
     "status": "ok",
     "timestamp": 1677527636073,
     "user": {
      "displayName": "Olivia Natan",
      "userId": "05221168611265745496"
     },
     "user_tz": 480
    },
    "id": "inUQHqWmSJRH",
    "outputId": "22506f69-3f27-4054-8a68-302c26d7cc62"
   },
   "outputs": [
    {
     "data": {
      "text/plain": [
       "50000"
      ]
     },
     "execution_count": 7,
     "metadata": {},
     "output_type": "execute_result"
    }
   ],
   "source": [
    "len(data)"
   ]
  },
  {
   "cell_type": "markdown",
   "metadata": {
    "id": "d63zwHW7SJRH"
   },
   "source": [
    "<ul>\n",
    "    <li><code>last</code> months since last purchase</li>\n",
    "    <li><code>total_</code> total $ spent</li>\n",
    "    <li><code>gender</code> gender</li>\n",
    "    <li><code>child</code> # purchases, children's books</li>\n",
    "    <li><code>youth</code> # purchases, youth books</li>\n",
    "    <li><code>cook</code> # purchases, cook books</li>\n",
    "    <li><code>do_it</code> # purchases, do-it-yourself books</li>\n",
    "    <li><code>refernce</code> # purchases, reference books</li>\n",
    "    <li><code>art</code> # purchases, art books</li>\n",
    "    <li><code>geog</code> # purchases, geography books</li>\n",
    "</ul>"
   ]
  },
  {
   "cell_type": "markdown",
   "metadata": {
    "id": "tgLMGekHSJRH"
   },
   "source": [
    "Create dummy variables for <code> data['gender']==F</code> and <code> data['buyer']=='yes' </code>"
   ]
  },
  {
   "cell_type": "code",
   "execution_count": 8,
   "metadata": {
    "executionInfo": {
     "elapsed": 8,
     "status": "ok",
     "timestamp": 1677527636074,
     "user": {
      "displayName": "Olivia Natan",
      "userId": "05221168611265745496"
     },
     "user_tz": 480
    },
    "id": "06F806cySJRH"
   },
   "outputs": [],
   "source": [
    "data['female']=1*(data['gender']=='F')\n",
    "data['buyer_dummy']=1*(data['buyer']=='yes')"
   ]
  },
  {
   "cell_type": "markdown",
   "metadata": {
    "id": "GevBKEduSJRI"
   },
   "source": [
    "Run the logistic regression with all these prediction variables:\n",
    "\n",
    "\n",
    "$$Pr(buy=yes)=\\frac{exp(\\beta_0 +\\beta_1\\text{last} + \\beta_2 \\text{total_} +\\beta_3\\text{female} + \\beta_4 \\text{child} + \\beta_5 \\text{youth} + \\beta_6 \\text{cook} + \\beta_7 \\text{do_it} + \\beta_8\\text{refrnce} + \\beta_9 \\text{art} + \\beta_{10}\\text{geog} )}{1+exp(\\beta_0 +\\beta_1\\text{last} + \\beta_2 \\text{total_} +\\beta_3\\text{female} + \\beta_4 \\text{child} + \\beta_5 \\text{youth} + \\beta_6 \\text{cook} + \\beta_7 \\text{do_it} + \\beta_8\\text{refrnce} + \\beta_9 \\text{art} + \\beta_{10}\\text{geog} )}$$"
   ]
  },
  {
   "cell_type": "code",
   "execution_count": 9,
   "metadata": {
    "colab": {
     "base_uri": "https://localhost:8080/"
    },
    "executionInfo": {
     "elapsed": 146,
     "status": "ok",
     "timestamp": 1677527636213,
     "user": {
      "displayName": "Olivia Natan",
      "userId": "05221168611265745496"
     },
     "user_tz": 480
    },
    "id": "3rfQE1RMSJRI",
    "outputId": "2dbb874f-c6d8-49cf-b353-eb505de29d7c"
   },
   "outputs": [
    {
     "name": "stdout",
     "output_type": "stream",
     "text": [
      "Optimization terminated successfully.\n",
      "         Current function value: 0.241222\n",
      "         Iterations 7\n"
     ]
    }
   ],
   "source": [
    "res = mba263.logit(data['buyer_dummy'],data[ ['last','total_','female','child','youth',\n",
    "                                       'cook','do_it','refernce','art','geog'] ])\n",
    "res_ols=mba263.regress(data['buyer_dummy'],data[ ['last','total_','female','child','youth',\n",
    "                                       'cook','do_it','refernce','art','geog'] ])"
   ]
  },
  {
   "cell_type": "markdown",
   "metadata": {
    "id": "v1K9gZygSJRI"
   },
   "source": [
    "Let's look at the results"
   ]
  },
  {
   "cell_type": "code",
   "execution_count": 10,
   "metadata": {
    "colab": {
     "base_uri": "https://localhost:8080/",
     "height": 444
    },
    "executionInfo": {
     "elapsed": 186,
     "status": "ok",
     "timestamp": 1677527636396,
     "user": {
      "displayName": "Olivia Natan",
      "userId": "05221168611265745496"
     },
     "user_tz": 480
    },
    "id": "FPiuNlKOSJRI",
    "outputId": "51dd631f-258a-4af5-b87b-460e2e4331a6"
   },
   "outputs": [
    {
     "data": {
      "text/html": [
       "<table class=\"simpletable\">\n",
       "<caption>Mba263Logit Regression Results</caption>\n",
       "<tr>\n",
       "  <th>Dep. Variable:</th>      <td>buyer_dummy</td>   <th>  No. Observations:  </th>  <td> 50000</td> \n",
       "</tr>\n",
       "<tr>\n",
       "  <th>Model:</th>              <td>Mba263Logit</td>   <th>  Df Residuals:      </th>  <td> 49989</td> \n",
       "</tr>\n",
       "<tr>\n",
       "  <th>Method:</th>                 <td>MLE</td>       <th>  Df Model:          </th>  <td>    10</td> \n",
       "</tr>\n",
       "<tr>\n",
       "  <th>Date:</th>            <td>Tue, 28 Feb 2023</td> <th>  Pseudo R-squ.:     </th>  <td>0.2053</td> \n",
       "</tr>\n",
       "<tr>\n",
       "  <th>Time:</th>                <td>14:54:44</td>     <th>  Log-Likelihood:    </th> <td> -12061.</td>\n",
       "</tr>\n",
       "<tr>\n",
       "  <th>converged:</th>             <td>True</td>       <th>  LL-Null:           </th> <td> -15178.</td>\n",
       "</tr>\n",
       "<tr>\n",
       "  <th>Covariance Type:</th>     <td>nonrobust</td>    <th>  LLR p-value:       </th>  <td> 0.000</td> \n",
       "</tr>\n",
       "</table>\n",
       "<table class=\"simpletable\">\n",
       "<tr>\n",
       "      <td></td>        <th>coef</th>     <th>std err</th>      <th>z</th>      <th>P>|z|</th>  <th>[0.025</th>    <th>0.975]</th>  \n",
       "</tr>\n",
       "<tr>\n",
       "  <th>const</th>    <td>   -1.6001</td> <td>    0.052</td> <td>  -30.713</td> <td> 0.000</td> <td>   -1.702</td> <td>   -1.498</td>\n",
       "</tr>\n",
       "<tr>\n",
       "  <th>last</th>     <td>   -0.0947</td> <td>    0.003</td> <td>  -33.918</td> <td> 0.000</td> <td>   -0.100</td> <td>   -0.089</td>\n",
       "</tr>\n",
       "<tr>\n",
       "  <th>total_</th>   <td>    0.0011</td> <td>    0.000</td> <td>    5.630</td> <td> 0.000</td> <td>    0.001</td> <td>    0.002</td>\n",
       "</tr>\n",
       "<tr>\n",
       "  <th>female</th>   <td>   -0.7607</td> <td>    0.036</td> <td>  -21.272</td> <td> 0.000</td> <td>   -0.831</td> <td>   -0.691</td>\n",
       "</tr>\n",
       "<tr>\n",
       "  <th>child</th>    <td>   -0.1862</td> <td>    0.017</td> <td>  -10.775</td> <td> 0.000</td> <td>   -0.220</td> <td>   -0.152</td>\n",
       "</tr>\n",
       "<tr>\n",
       "  <th>youth</th>    <td>   -0.1130</td> <td>    0.026</td> <td>   -4.327</td> <td> 0.000</td> <td>   -0.164</td> <td>   -0.062</td>\n",
       "</tr>\n",
       "<tr>\n",
       "  <th>cook</th>     <td>   -0.2703</td> <td>    0.017</td> <td>  -15.782</td> <td> 0.000</td> <td>   -0.304</td> <td>   -0.237</td>\n",
       "</tr>\n",
       "<tr>\n",
       "  <th>do_it</th>    <td>   -0.5392</td> <td>    0.027</td> <td>  -19.994</td> <td> 0.000</td> <td>   -0.592</td> <td>   -0.486</td>\n",
       "</tr>\n",
       "<tr>\n",
       "  <th>refernce</th> <td>    0.2347</td> <td>    0.027</td> <td>    8.837</td> <td> 0.000</td> <td>    0.183</td> <td>    0.287</td>\n",
       "</tr>\n",
       "<tr>\n",
       "  <th>art</th>      <td>    1.1556</td> <td>    0.022</td> <td>   52.185</td> <td> 0.000</td> <td>    1.112</td> <td>    1.199</td>\n",
       "</tr>\n",
       "<tr>\n",
       "  <th>geog</th>     <td>    0.5743</td> <td>    0.019</td> <td>   30.823</td> <td> 0.000</td> <td>    0.538</td> <td>    0.611</td>\n",
       "</tr>\n",
       "</table>"
      ],
      "text/plain": [
       "<class 'statsmodels.iolib.summary.Summary'>\n",
       "\"\"\"\n",
       "                        Mba263Logit Regression Results                        \n",
       "==============================================================================\n",
       "Dep. Variable:            buyer_dummy   No. Observations:                50000\n",
       "Model:                    Mba263Logit   Df Residuals:                    49989\n",
       "Method:                           MLE   Df Model:                           10\n",
       "Date:                Tue, 28 Feb 2023   Pseudo R-squ.:                  0.2053\n",
       "Time:                        14:54:44   Log-Likelihood:                -12061.\n",
       "converged:                       True   LL-Null:                       -15178.\n",
       "Covariance Type:            nonrobust   LLR p-value:                     0.000\n",
       "==============================================================================\n",
       "                 coef    std err          z      P>|z|      [0.025      0.975]\n",
       "------------------------------------------------------------------------------\n",
       "const         -1.6001      0.052    -30.713      0.000      -1.702      -1.498\n",
       "last          -0.0947      0.003    -33.918      0.000      -0.100      -0.089\n",
       "total_         0.0011      0.000      5.630      0.000       0.001       0.002\n",
       "female        -0.7607      0.036    -21.272      0.000      -0.831      -0.691\n",
       "child         -0.1862      0.017    -10.775      0.000      -0.220      -0.152\n",
       "youth         -0.1130      0.026     -4.327      0.000      -0.164      -0.062\n",
       "cook          -0.2703      0.017    -15.782      0.000      -0.304      -0.237\n",
       "do_it         -0.5392      0.027    -19.994      0.000      -0.592      -0.486\n",
       "refernce       0.2347      0.027      8.837      0.000       0.183       0.287\n",
       "art            1.1556      0.022     52.185      0.000       1.112       1.199\n",
       "geog           0.5743      0.019     30.823      0.000       0.538       0.611\n",
       "==============================================================================\n",
       "\"\"\""
      ]
     },
     "execution_count": 10,
     "metadata": {},
     "output_type": "execute_result"
    }
   ],
   "source": [
    "res.summary()"
   ]
  },
  {
   "cell_type": "markdown",
   "metadata": {
    "id": "zMu76xc4SJRJ"
   },
   "source": [
    "What is significant?\n",
    "\n",
    "Also, the odds ratios:"
   ]
  },
  {
   "cell_type": "code",
   "execution_count": 11,
   "metadata": {
    "colab": {
     "base_uri": "https://localhost:8080/",
     "height": 363
    },
    "executionInfo": {
     "elapsed": 4,
     "status": "ok",
     "timestamp": 1677527636397,
     "user": {
      "displayName": "Olivia Natan",
      "userId": "05221168611265745496"
     },
     "user_tz": 480
    },
    "id": "2dawb63xSJRJ",
    "outputId": "75fa7b4c-59e6-42cc-c0c3-5c6eca0e3460"
   },
   "outputs": [
    {
     "data": {
      "text/html": [
       "<div>\n",
       "<style scoped>\n",
       "    .dataframe tbody tr th:only-of-type {\n",
       "        vertical-align: middle;\n",
       "    }\n",
       "\n",
       "    .dataframe tbody tr th {\n",
       "        vertical-align: top;\n",
       "    }\n",
       "\n",
       "    .dataframe thead th {\n",
       "        text-align: right;\n",
       "    }\n",
       "</style>\n",
       "<table border=\"1\" class=\"dataframe\">\n",
       "  <thead>\n",
       "    <tr style=\"text-align: right;\">\n",
       "      <th></th>\n",
       "      <th>Odds ratios</th>\n",
       "      <th>std err</th>\n",
       "      <th>z</th>\n",
       "      <th>P&gt;|z|</th>\n",
       "      <th>[0.025</th>\n",
       "      <th>0.975]</th>\n",
       "    </tr>\n",
       "  </thead>\n",
       "  <tbody>\n",
       "    <tr>\n",
       "      <th>last</th>\n",
       "      <td>0.909634</td>\n",
       "      <td>0.002540</td>\n",
       "      <td>35.575710</td>\n",
       "      <td>0.0</td>\n",
       "      <td>0.904707</td>\n",
       "      <td>0.914562</td>\n",
       "    </tr>\n",
       "    <tr>\n",
       "      <th>total_</th>\n",
       "      <td>1.001117</td>\n",
       "      <td>0.000198</td>\n",
       "      <td>5.627190</td>\n",
       "      <td>0.0</td>\n",
       "      <td>1.000732</td>\n",
       "      <td>1.001502</td>\n",
       "    </tr>\n",
       "    <tr>\n",
       "      <th>female</th>\n",
       "      <td>0.467330</td>\n",
       "      <td>0.016712</td>\n",
       "      <td>31.873279</td>\n",
       "      <td>0.0</td>\n",
       "      <td>0.434908</td>\n",
       "      <td>0.499751</td>\n",
       "    </tr>\n",
       "    <tr>\n",
       "      <th>child</th>\n",
       "      <td>0.830094</td>\n",
       "      <td>0.014346</td>\n",
       "      <td>11.843363</td>\n",
       "      <td>0.0</td>\n",
       "      <td>0.802263</td>\n",
       "      <td>0.857926</td>\n",
       "    </tr>\n",
       "    <tr>\n",
       "      <th>youth</th>\n",
       "      <td>0.893173</td>\n",
       "      <td>0.023320</td>\n",
       "      <td>4.580965</td>\n",
       "      <td>0.0</td>\n",
       "      <td>0.847933</td>\n",
       "      <td>0.938414</td>\n",
       "    </tr>\n",
       "    <tr>\n",
       "      <th>cook</th>\n",
       "      <td>0.763134</td>\n",
       "      <td>0.013071</td>\n",
       "      <td>18.121158</td>\n",
       "      <td>0.0</td>\n",
       "      <td>0.737776</td>\n",
       "      <td>0.788493</td>\n",
       "    </tr>\n",
       "    <tr>\n",
       "      <th>do_it</th>\n",
       "      <td>0.583235</td>\n",
       "      <td>0.015727</td>\n",
       "      <td>26.499322</td>\n",
       "      <td>0.0</td>\n",
       "      <td>0.552724</td>\n",
       "      <td>0.613746</td>\n",
       "    </tr>\n",
       "    <tr>\n",
       "      <th>refernce</th>\n",
       "      <td>1.264514</td>\n",
       "      <td>0.033583</td>\n",
       "      <td>7.876323</td>\n",
       "      <td>0.0</td>\n",
       "      <td>1.199362</td>\n",
       "      <td>1.329665</td>\n",
       "    </tr>\n",
       "    <tr>\n",
       "      <th>art</th>\n",
       "      <td>3.175878</td>\n",
       "      <td>0.070327</td>\n",
       "      <td>30.939604</td>\n",
       "      <td>0.0</td>\n",
       "      <td>3.039444</td>\n",
       "      <td>3.312311</td>\n",
       "    </tr>\n",
       "    <tr>\n",
       "      <th>geog</th>\n",
       "      <td>1.775845</td>\n",
       "      <td>0.033086</td>\n",
       "      <td>23.449340</td>\n",
       "      <td>0.0</td>\n",
       "      <td>1.711658</td>\n",
       "      <td>1.840032</td>\n",
       "    </tr>\n",
       "  </tbody>\n",
       "</table>\n",
       "</div>"
      ],
      "text/plain": [
       "          Odds ratios   std err          z  P>|z|    [0.025    0.975]\n",
       "last         0.909634  0.002540  35.575710    0.0  0.904707  0.914562\n",
       "total_       1.001117  0.000198   5.627190    0.0  1.000732  1.001502\n",
       "female       0.467330  0.016712  31.873279    0.0  0.434908  0.499751\n",
       "child        0.830094  0.014346  11.843363    0.0  0.802263  0.857926\n",
       "youth        0.893173  0.023320   4.580965    0.0  0.847933  0.938414\n",
       "cook         0.763134  0.013071  18.121158    0.0  0.737776  0.788493\n",
       "do_it        0.583235  0.015727  26.499322    0.0  0.552724  0.613746\n",
       "refernce     1.264514  0.033583   7.876323    0.0  1.199362  1.329665\n",
       "art          3.175878  0.070327  30.939604    0.0  3.039444  3.312311\n",
       "geog         1.775845  0.033086  23.449340    0.0  1.711658  1.840032"
      ]
     },
     "execution_count": 11,
     "metadata": {},
     "output_type": "execute_result"
    }
   ],
   "source": [
    "mba263.odds_ratios(res)"
   ]
  },
  {
   "cell_type": "markdown",
   "metadata": {
    "id": "o4V7XmcDSJRJ"
   },
   "source": [
    "<br>\n",
    "<br>\n",
    "<br>\n",
    "<br>\n",
    "\n",
    "\n",
    "# How do we interpret these?\n",
    "<br>\n",
    "<br>\n",
    "<br>\n",
    "<br>\n",
    "<br>\n",
    "<br>\n",
    "<br>\n",
    "<br>\n",
    "<br>\n",
    "<br>\n",
    "<br>\n",
    "<br>"
   ]
  },
  {
   "cell_type": "markdown",
   "metadata": {
    "id": "Ex50fmUnSJRJ"
   },
   "source": [
    "<ul>\n",
    "    <li>DIY odds ratio:  <b>0.58</b></li>\n",
    "    <li>Geograph odds ratio:  <b>1.78</b></li>\n",
    "<li>\"For each additional purchased book in the DIY category, a customer's odds of purchasing TAHF decreases by <b>42%</b> (1-0.58)</li>\n",
    "<li>\"For each additional purchased book in the Geography category, a customer's odds of purchasing TAHF increases by <b>78%</b> (1.78-1)</li>\n",
    "<ul>"
   ]
  },
  {
   "cell_type": "markdown",
   "metadata": {
    "id": "JNvZyAQuSJRJ"
   },
   "source": [
    "Note - odds ratio tells us effect of a unit change:\n",
    "<ul>\n",
    "    <li>Total odds ratio:  <b>1.001</b></li>\n",
    "    <li> \"For each additional dollar spent in the past, a customer's odds of purchasing TAHF increases by 0.1 percent\" </li>\n",
    "<ul>"
   ]
  },
  {
   "cell_type": "markdown",
   "metadata": {
    "id": "UVZPpm8LSJRK"
   },
   "source": [
    "We can use the “predict” command to generate individual purchase probabilities and then view the response rates by decile of predicted purchase probabilities"
   ]
  },
  {
   "cell_type": "code",
   "execution_count": 12,
   "metadata": {
    "executionInfo": {
     "elapsed": 3,
     "status": "ok",
     "timestamp": 1677527636397,
     "user": {
      "displayName": "Olivia Natan",
      "userId": "05221168611265745496"
     },
     "user_tz": 480
    },
    "id": "BLNToOhdSJRK"
   },
   "outputs": [],
   "source": [
    "data['purchprob']=res.predict()\n",
    "data['purchprob_ols']=res_ols.predict()"
   ]
  },
  {
   "cell_type": "markdown",
   "metadata": {
    "id": "9VKFVq9BSJRK"
   },
   "source": [
    "Let's do decile analysis of predicted probabilities"
   ]
  },
  {
   "cell_type": "code",
   "execution_count": 13,
   "metadata": {
    "executionInfo": {
     "elapsed": 465,
     "status": "ok",
     "timestamp": 1677527636859,
     "user": {
      "displayName": "Olivia Natan",
      "userId": "05221168611265745496"
     },
     "user_tz": 480
    },
    "id": "DXKJ6lWTSJRK"
   },
   "outputs": [],
   "source": [
    "data['prob_dec']=mba263.ntile(data['purchprob'],10)"
   ]
  },
  {
   "cell_type": "markdown",
   "metadata": {
    "id": "I1N7kPJmSJRK"
   },
   "source": [
    "We'll reverse the deciles, so that 0 is highest probability of purchase"
   ]
  },
  {
   "cell_type": "code",
   "execution_count": 14,
   "metadata": {
    "executionInfo": {
     "elapsed": 4,
     "status": "ok",
     "timestamp": 1677527636859,
     "user": {
      "displayName": "Olivia Natan",
      "userId": "05221168611265745496"
     },
     "user_tz": 480
    },
    "id": "CvB_YNmySJRK"
   },
   "outputs": [],
   "source": [
    "data['prob_dec']=9-data['prob_dec']"
   ]
  },
  {
   "cell_type": "markdown",
   "metadata": {
    "id": "ANZWEdTXSJRK"
   },
   "source": [
    "We can then plot the probability of purchase by decile (predicted by our model)"
   ]
  },
  {
   "cell_type": "code",
   "execution_count": 15,
   "metadata": {
    "colab": {
     "base_uri": "https://localhost:8080/",
     "height": 276
    },
    "executionInfo": {
     "elapsed": 412,
     "status": "ok",
     "timestamp": 1677527637268,
     "user": {
      "displayName": "Olivia Natan",
      "userId": "05221168611265745496"
     },
     "user_tz": 480
    },
    "id": "63Tt73Z-SJRL",
    "outputId": "81b47897-221e-43ac-f399-0ed2e40f701e"
   },
   "outputs": [
    {
     "data": {
      "image/png": "[encoded data removed]",
      "text/plain": [
       "<Figure size 640x480 with 1 Axes>"
      ]
     },
     "metadata": {},
     "output_type": "display_data"
    }
   ],
   "source": [
    "data[ ['buyer_dummy','prob_dec'] ].groupby('prob_dec').mean().plot(kind='bar')\n",
    "plt.xlabel('Purchase Probability Decile')\n",
    "plt.ylabel('Predicted Probability of Purchase for Decile')\n",
    "plt.show()"
   ]
  },
  {
   "cell_type": "markdown",
   "metadata": {
    "id": "uavqsdQmSJRL"
   },
   "source": [
    "Note! not the same as if we put fitted probabilities:"
   ]
  },
  {
   "cell_type": "code",
   "execution_count": 16,
   "metadata": {
    "colab": {
     "base_uri": "https://localhost:8080/",
     "height": 292
    },
    "executionInfo": {
     "elapsed": 709,
     "status": "ok",
     "timestamp": 1677527637974,
     "user": {
      "displayName": "Olivia Natan",
      "userId": "05221168611265745496"
     },
     "user_tz": 480
    },
    "id": "gp95fBvySJRL",
    "outputId": "ab6575c2-b0e5-4101-da79-ea5d26b2e773"
   },
   "outputs": [
    {
     "data": {
      "image/png": "[encoded data removed]",
      "text/plain": [
       "<Figure size 640x480 with 1 Axes>"
      ]
     },
     "metadata": {},
     "output_type": "display_data"
    }
   ],
   "source": [
    "data[ ['buyer_dummy','purchprob','prob_dec'] ].groupby('prob_dec').mean().plot(kind='bar')\n",
    "plt.title('Comparing model prediction with data')\n",
    "plt.xlabel('Predicted purchase probability decile')\n",
    "plt.show()"
   ]
  },
  {
   "cell_type": "markdown",
   "metadata": {
    "id": "_d4KvT_wSJRL"
   },
   "source": [
    "Let's retain these averages in a new data frame:"
   ]
  },
  {
   "cell_type": "code",
   "execution_count": 17,
   "metadata": {
    "colab": {
     "base_uri": "https://localhost:8080/",
     "height": 394
    },
    "executionInfo": {
     "elapsed": 14,
     "status": "ok",
     "timestamp": 1677527638148,
     "user": {
      "displayName": "Olivia Natan",
      "userId": "05221168611265745496"
     },
     "user_tz": 480
    },
    "id": "RCWXRlhpSJRL",
    "outputId": "b417debf-cc3f-468a-e899-d07b4587b1d2"
   },
   "outputs": [
    {
     "data": {
      "text/html": [
       "<div>\n",
       "<style scoped>\n",
       "    .dataframe tbody tr th:only-of-type {\n",
       "        vertical-align: middle;\n",
       "    }\n",
       "\n",
       "    .dataframe tbody tr th {\n",
       "        vertical-align: top;\n",
       "    }\n",
       "\n",
       "    .dataframe thead th {\n",
       "        text-align: right;\n",
       "    }\n",
       "</style>\n",
       "<table border=\"1\" class=\"dataframe\">\n",
       "  <thead>\n",
       "    <tr style=\"text-align: right;\">\n",
       "      <th></th>\n",
       "      <th>buyer_dummy</th>\n",
       "    </tr>\n",
       "    <tr>\n",
       "      <th>prob_dec</th>\n",
       "      <th></th>\n",
       "    </tr>\n",
       "  </thead>\n",
       "  <tbody>\n",
       "    <tr>\n",
       "      <th>0</th>\n",
       "      <td>0.387000</td>\n",
       "    </tr>\n",
       "    <tr>\n",
       "      <th>1</th>\n",
       "      <td>0.167200</td>\n",
       "    </tr>\n",
       "    <tr>\n",
       "      <th>2</th>\n",
       "      <td>0.102200</td>\n",
       "    </tr>\n",
       "    <tr>\n",
       "      <th>3</th>\n",
       "      <td>0.073600</td>\n",
       "    </tr>\n",
       "    <tr>\n",
       "      <th>4</th>\n",
       "      <td>0.056800</td>\n",
       "    </tr>\n",
       "    <tr>\n",
       "      <th>5</th>\n",
       "      <td>0.039200</td>\n",
       "    </tr>\n",
       "    <tr>\n",
       "      <th>6</th>\n",
       "      <td>0.027811</td>\n",
       "    </tr>\n",
       "    <tr>\n",
       "      <th>7</th>\n",
       "      <td>0.024190</td>\n",
       "    </tr>\n",
       "    <tr>\n",
       "      <th>8</th>\n",
       "      <td>0.018000</td>\n",
       "    </tr>\n",
       "    <tr>\n",
       "      <th>9</th>\n",
       "      <td>0.008400</td>\n",
       "    </tr>\n",
       "  </tbody>\n",
       "</table>\n",
       "</div>"
      ],
      "text/plain": [
       "          buyer_dummy\n",
       "prob_dec             \n",
       "0            0.387000\n",
       "1            0.167200\n",
       "2            0.102200\n",
       "3            0.073600\n",
       "4            0.056800\n",
       "5            0.039200\n",
       "6            0.027811\n",
       "7            0.024190\n",
       "8            0.018000\n",
       "9            0.008400"
      ]
     },
     "execution_count": 17,
     "metadata": {},
     "output_type": "execute_result"
    }
   ],
   "source": [
    "report=data[ ['buyer_dummy','prob_dec'] ].groupby('prob_dec').mean()\n",
    "report"
   ]
  },
  {
   "cell_type": "markdown",
   "metadata": {
    "id": "XnJFSxTDQBfz"
   },
   "source": [
    "We can rename the column if we want..."
   ]
  },
  {
   "cell_type": "code",
   "execution_count": 18,
   "metadata": {
    "colab": {
     "base_uri": "https://localhost:8080/",
     "height": 394
    },
    "executionInfo": {
     "elapsed": 12,
     "status": "ok",
     "timestamp": 1677527638148,
     "user": {
      "displayName": "Olivia Natan",
      "userId": "05221168611265745496"
     },
     "user_tz": 480
    },
    "id": "kGl_9IV7QA38",
    "outputId": "5e7ca4e3-c360-4790-e736-3796ca8b221a"
   },
   "outputs": [
    {
     "data": {
      "text/html": [
       "<div>\n",
       "<style scoped>\n",
       "    .dataframe tbody tr th:only-of-type {\n",
       "        vertical-align: middle;\n",
       "    }\n",
       "\n",
       "    .dataframe tbody tr th {\n",
       "        vertical-align: top;\n",
       "    }\n",
       "\n",
       "    .dataframe thead th {\n",
       "        text-align: right;\n",
       "    }\n",
       "</style>\n",
       "<table border=\"1\" class=\"dataframe\">\n",
       "  <thead>\n",
       "    <tr style=\"text-align: right;\">\n",
       "      <th></th>\n",
       "      <th>response_rate</th>\n",
       "    </tr>\n",
       "    <tr>\n",
       "      <th>prob_dec</th>\n",
       "      <th></th>\n",
       "    </tr>\n",
       "  </thead>\n",
       "  <tbody>\n",
       "    <tr>\n",
       "      <th>0</th>\n",
       "      <td>0.387000</td>\n",
       "    </tr>\n",
       "    <tr>\n",
       "      <th>1</th>\n",
       "      <td>0.167200</td>\n",
       "    </tr>\n",
       "    <tr>\n",
       "      <th>2</th>\n",
       "      <td>0.102200</td>\n",
       "    </tr>\n",
       "    <tr>\n",
       "      <th>3</th>\n",
       "      <td>0.073600</td>\n",
       "    </tr>\n",
       "    <tr>\n",
       "      <th>4</th>\n",
       "      <td>0.056800</td>\n",
       "    </tr>\n",
       "    <tr>\n",
       "      <th>5</th>\n",
       "      <td>0.039200</td>\n",
       "    </tr>\n",
       "    <tr>\n",
       "      <th>6</th>\n",
       "      <td>0.027811</td>\n",
       "    </tr>\n",
       "    <tr>\n",
       "      <th>7</th>\n",
       "      <td>0.024190</td>\n",
       "    </tr>\n",
       "    <tr>\n",
       "      <th>8</th>\n",
       "      <td>0.018000</td>\n",
       "    </tr>\n",
       "    <tr>\n",
       "      <th>9</th>\n",
       "      <td>0.008400</td>\n",
       "    </tr>\n",
       "  </tbody>\n",
       "</table>\n",
       "</div>"
      ],
      "text/plain": [
       "          response_rate\n",
       "prob_dec               \n",
       "0              0.387000\n",
       "1              0.167200\n",
       "2              0.102200\n",
       "3              0.073600\n",
       "4              0.056800\n",
       "5              0.039200\n",
       "6              0.027811\n",
       "7              0.024190\n",
       "8              0.018000\n",
       "9              0.008400"
      ]
     },
     "execution_count": 18,
     "metadata": {},
     "output_type": "execute_result"
    }
   ],
   "source": [
    "report.rename(columns={'buyer_dummy':'response_rate'},inplace=True)\n",
    "report"
   ]
  },
  {
   "cell_type": "markdown",
   "metadata": {
    "id": "25sVP3eBSJRL"
   },
   "source": [
    "We can add in the number of customers in each group as a new column:"
   ]
  },
  {
   "cell_type": "code",
   "execution_count": 19,
   "metadata": {
    "colab": {
     "base_uri": "https://localhost:8080/",
     "height": 394
    },
    "executionInfo": {
     "elapsed": 11,
     "status": "ok",
     "timestamp": 1677527638148,
     "user": {
      "displayName": "Olivia Natan",
      "userId": "05221168611265745496"
     },
     "user_tz": 480
    },
    "id": "hNjiySvkSJRL",
    "outputId": "d4d1781d-e47a-40b1-acd1-d1cbd54994d5"
   },
   "outputs": [
    {
     "data": {
      "text/html": [
       "<div>\n",
       "<style scoped>\n",
       "    .dataframe tbody tr th:only-of-type {\n",
       "        vertical-align: middle;\n",
       "    }\n",
       "\n",
       "    .dataframe tbody tr th {\n",
       "        vertical-align: top;\n",
       "    }\n",
       "\n",
       "    .dataframe thead th {\n",
       "        text-align: right;\n",
       "    }\n",
       "</style>\n",
       "<table border=\"1\" class=\"dataframe\">\n",
       "  <thead>\n",
       "    <tr style=\"text-align: right;\">\n",
       "      <th></th>\n",
       "      <th>response_rate</th>\n",
       "      <th>number_of_buyers</th>\n",
       "      <th>number_of_customers</th>\n",
       "    </tr>\n",
       "    <tr>\n",
       "      <th>prob_dec</th>\n",
       "      <th></th>\n",
       "      <th></th>\n",
       "      <th></th>\n",
       "    </tr>\n",
       "  </thead>\n",
       "  <tbody>\n",
       "    <tr>\n",
       "      <th>0</th>\n",
       "      <td>0.387000</td>\n",
       "      <td>1935</td>\n",
       "      <td>5000</td>\n",
       "    </tr>\n",
       "    <tr>\n",
       "      <th>1</th>\n",
       "      <td>0.167200</td>\n",
       "      <td>836</td>\n",
       "      <td>5000</td>\n",
       "    </tr>\n",
       "    <tr>\n",
       "      <th>2</th>\n",
       "      <td>0.102200</td>\n",
       "      <td>511</td>\n",
       "      <td>5000</td>\n",
       "    </tr>\n",
       "    <tr>\n",
       "      <th>3</th>\n",
       "      <td>0.073600</td>\n",
       "      <td>368</td>\n",
       "      <td>5000</td>\n",
       "    </tr>\n",
       "    <tr>\n",
       "      <th>4</th>\n",
       "      <td>0.056800</td>\n",
       "      <td>284</td>\n",
       "      <td>5000</td>\n",
       "    </tr>\n",
       "    <tr>\n",
       "      <th>5</th>\n",
       "      <td>0.039200</td>\n",
       "      <td>196</td>\n",
       "      <td>5000</td>\n",
       "    </tr>\n",
       "    <tr>\n",
       "      <th>6</th>\n",
       "      <td>0.027811</td>\n",
       "      <td>139</td>\n",
       "      <td>4998</td>\n",
       "    </tr>\n",
       "    <tr>\n",
       "      <th>7</th>\n",
       "      <td>0.024190</td>\n",
       "      <td>121</td>\n",
       "      <td>5002</td>\n",
       "    </tr>\n",
       "    <tr>\n",
       "      <th>8</th>\n",
       "      <td>0.018000</td>\n",
       "      <td>90</td>\n",
       "      <td>5000</td>\n",
       "    </tr>\n",
       "    <tr>\n",
       "      <th>9</th>\n",
       "      <td>0.008400</td>\n",
       "      <td>42</td>\n",
       "      <td>5000</td>\n",
       "    </tr>\n",
       "  </tbody>\n",
       "</table>\n",
       "</div>"
      ],
      "text/plain": [
       "          response_rate  number_of_buyers  number_of_customers\n",
       "prob_dec                                                      \n",
       "0              0.387000              1935                 5000\n",
       "1              0.167200               836                 5000\n",
       "2              0.102200               511                 5000\n",
       "3              0.073600               368                 5000\n",
       "4              0.056800               284                 5000\n",
       "5              0.039200               196                 5000\n",
       "6              0.027811               139                 4998\n",
       "7              0.024190               121                 5002\n",
       "8              0.018000                90                 5000\n",
       "9              0.008400                42                 5000"
      ]
     },
     "execution_count": 19,
     "metadata": {},
     "output_type": "execute_result"
    }
   ],
   "source": [
    "report['number_of_buyers']=\\\n",
    "data[ ['buyer_dummy','prob_dec'] ].groupby('prob_dec').sum().sort_values('prob_dec')\n",
    "report['number_of_customers']=data.groupby('prob_dec')['prob_dec'].count()\n",
    "report"
   ]
  },
  {
   "cell_type": "markdown",
   "metadata": {
    "id": "yfth8o_oSJRM"
   },
   "source": [
    "Equivalent way to do this: summarize buyer_dummy in each group by two methods:"
   ]
  },
  {
   "cell_type": "code",
   "execution_count": 20,
   "metadata": {
    "colab": {
     "base_uri": "https://localhost:8080/",
     "height": 394
    },
    "executionInfo": {
     "elapsed": 11,
     "status": "ok",
     "timestamp": 1677527638148,
     "user": {
      "displayName": "Olivia Natan",
      "userId": "05221168611265745496"
     },
     "user_tz": 480
    },
    "id": "iN9Kj_ztSJRM",
    "outputId": "403207a3-eedb-4199-9fce-4403d004b628"
   },
   "outputs": [
    {
     "data": {
      "text/html": [
       "<div>\n",
       "<style scoped>\n",
       "    .dataframe tbody tr th:only-of-type {\n",
       "        vertical-align: middle;\n",
       "    }\n",
       "\n",
       "    .dataframe tbody tr th {\n",
       "        vertical-align: top;\n",
       "    }\n",
       "\n",
       "    .dataframe thead th {\n",
       "        text-align: right;\n",
       "    }\n",
       "</style>\n",
       "<table border=\"1\" class=\"dataframe\">\n",
       "  <thead>\n",
       "    <tr style=\"text-align: right;\">\n",
       "      <th></th>\n",
       "      <th>mean</th>\n",
       "      <th>sum</th>\n",
       "      <th>count</th>\n",
       "    </tr>\n",
       "    <tr>\n",
       "      <th>prob_dec</th>\n",
       "      <th></th>\n",
       "      <th></th>\n",
       "      <th></th>\n",
       "    </tr>\n",
       "  </thead>\n",
       "  <tbody>\n",
       "    <tr>\n",
       "      <th>0</th>\n",
       "      <td>0.387000</td>\n",
       "      <td>1935</td>\n",
       "      <td>5000</td>\n",
       "    </tr>\n",
       "    <tr>\n",
       "      <th>1</th>\n",
       "      <td>0.167200</td>\n",
       "      <td>836</td>\n",
       "      <td>5000</td>\n",
       "    </tr>\n",
       "    <tr>\n",
       "      <th>2</th>\n",
       "      <td>0.102200</td>\n",
       "      <td>511</td>\n",
       "      <td>5000</td>\n",
       "    </tr>\n",
       "    <tr>\n",
       "      <th>3</th>\n",
       "      <td>0.073600</td>\n",
       "      <td>368</td>\n",
       "      <td>5000</td>\n",
       "    </tr>\n",
       "    <tr>\n",
       "      <th>4</th>\n",
       "      <td>0.056800</td>\n",
       "      <td>284</td>\n",
       "      <td>5000</td>\n",
       "    </tr>\n",
       "    <tr>\n",
       "      <th>5</th>\n",
       "      <td>0.039200</td>\n",
       "      <td>196</td>\n",
       "      <td>5000</td>\n",
       "    </tr>\n",
       "    <tr>\n",
       "      <th>6</th>\n",
       "      <td>0.027811</td>\n",
       "      <td>139</td>\n",
       "      <td>4998</td>\n",
       "    </tr>\n",
       "    <tr>\n",
       "      <th>7</th>\n",
       "      <td>0.024190</td>\n",
       "      <td>121</td>\n",
       "      <td>5002</td>\n",
       "    </tr>\n",
       "    <tr>\n",
       "      <th>8</th>\n",
       "      <td>0.018000</td>\n",
       "      <td>90</td>\n",
       "      <td>5000</td>\n",
       "    </tr>\n",
       "    <tr>\n",
       "      <th>9</th>\n",
       "      <td>0.008400</td>\n",
       "      <td>42</td>\n",
       "      <td>5000</td>\n",
       "    </tr>\n",
       "  </tbody>\n",
       "</table>\n",
       "</div>"
      ],
      "text/plain": [
       "              mean   sum  count\n",
       "prob_dec                       \n",
       "0         0.387000  1935   5000\n",
       "1         0.167200   836   5000\n",
       "2         0.102200   511   5000\n",
       "3         0.073600   368   5000\n",
       "4         0.056800   284   5000\n",
       "5         0.039200   196   5000\n",
       "6         0.027811   139   4998\n",
       "7         0.024190   121   5002\n",
       "8         0.018000    90   5000\n",
       "9         0.008400    42   5000"
      ]
     },
     "execution_count": 20,
     "metadata": {},
     "output_type": "execute_result"
    }
   ],
   "source": [
    "data.groupby('prob_dec')['buyer_dummy'].agg(['mean','sum','count'])"
   ]
  },
  {
   "cell_type": "markdown",
   "metadata": {
    "id": "iOSC9H1PSJRM"
   },
   "source": [
    "Let's do decile analysis of independent variables by predicted propensity - how much do they differ?\n",
    "\n",
    "First: total spending"
   ]
  },
  {
   "cell_type": "code",
   "execution_count": 21,
   "metadata": {
    "colab": {
     "base_uri": "https://localhost:8080/",
     "height": 277
    },
    "executionInfo": {
     "elapsed": 11,
     "status": "ok",
     "timestamp": 1677527638149,
     "user": {
      "displayName": "Olivia Natan",
      "userId": "05221168611265745496"
     },
     "user_tz": 480
    },
    "id": "nxIR8vxvSJRM",
    "outputId": "beeb2435-cd4e-4b5e-e57b-1028d45a1578"
   },
   "outputs": [
    {
     "data": {
      "image/png": "[encoded data removed]",
      "text/plain": [
       "<Figure size 640x480 with 1 Axes>"
      ]
     },
     "metadata": {},
     "output_type": "display_data"
    }
   ],
   "source": [
    "data[ ['total_','prob_dec'] ].groupby('prob_dec').mean().plot(kind='bar')\n",
    "plt.ylabel('Average Spending')\n",
    "plt.show()"
   ]
  },
  {
   "cell_type": "markdown",
   "metadata": {
    "id": "FS84_Z1OSJRM"
   },
   "source": [
    "Next: Recency"
   ]
  },
  {
   "cell_type": "code",
   "execution_count": 22,
   "metadata": {
    "colab": {
     "base_uri": "https://localhost:8080/",
     "height": 277
    },
    "executionInfo": {
     "elapsed": 710,
     "status": "ok",
     "timestamp": 1677527638849,
     "user": {
      "displayName": "Olivia Natan",
      "userId": "05221168611265745496"
     },
     "user_tz": 480
    },
    "id": "1aZ5VzklSJRM",
    "outputId": "8a357a3a-d6ce-4fc3-ba4a-4c943e2a14eb"
   },
   "outputs": [
    {
     "data": {
      "image/png": "[encoded data removed]",
      "text/plain": [
       "<Figure size 640x480 with 1 Axes>"
      ]
     },
     "metadata": {},
     "output_type": "display_data"
    }
   ],
   "source": [
    "data[ ['last','prob_dec'] ].groupby('prob_dec').mean().plot(kind='bar')\n",
    "plt.ylabel('Recency')\n",
    "plt.show()"
   ]
  },
  {
   "cell_type": "markdown",
   "metadata": {
    "id": "ung4b5l9SJRM"
   },
   "source": [
    "Maybe we can do this all at once..."
   ]
  },
  {
   "cell_type": "code",
   "execution_count": 23,
   "metadata": {
    "colab": {
     "base_uri": "https://localhost:8080/",
     "height": 394
    },
    "executionInfo": {
     "elapsed": 6,
     "status": "ok",
     "timestamp": 1677527638849,
     "user": {
      "displayName": "Olivia Natan",
      "userId": "05221168611265745496"
     },
     "user_tz": 480
    },
    "id": "zInz4MIcSJRM",
    "outputId": "56fc6182-5039-4aff-9bd0-4bdcdee176f3"
   },
   "outputs": [
    {
     "data": {
      "text/html": [
       "<div>\n",
       "<style scoped>\n",
       "    .dataframe tbody tr th:only-of-type {\n",
       "        vertical-align: middle;\n",
       "    }\n",
       "\n",
       "    .dataframe tbody tr th {\n",
       "        vertical-align: top;\n",
       "    }\n",
       "\n",
       "    .dataframe thead th {\n",
       "        text-align: right;\n",
       "    }\n",
       "</style>\n",
       "<table border=\"1\" class=\"dataframe\">\n",
       "  <thead>\n",
       "    <tr style=\"text-align: right;\">\n",
       "      <th></th>\n",
       "      <th>total_</th>\n",
       "      <th>last</th>\n",
       "      <th>child</th>\n",
       "      <th>youth</th>\n",
       "      <th>cook</th>\n",
       "      <th>do_it</th>\n",
       "      <th>refernce</th>\n",
       "      <th>art</th>\n",
       "      <th>geog</th>\n",
       "    </tr>\n",
       "    <tr>\n",
       "      <th>prob_dec</th>\n",
       "      <th></th>\n",
       "      <th></th>\n",
       "      <th></th>\n",
       "      <th></th>\n",
       "      <th></th>\n",
       "      <th></th>\n",
       "      <th></th>\n",
       "      <th></th>\n",
       "      <th></th>\n",
       "    </tr>\n",
       "  </thead>\n",
       "  <tbody>\n",
       "    <tr>\n",
       "      <th>0</th>\n",
       "      <td>257.352600</td>\n",
       "      <td>7.194400</td>\n",
       "      <td>1.064800</td>\n",
       "      <td>0.513800</td>\n",
       "      <td>1.066800</td>\n",
       "      <td>0.471400</td>\n",
       "      <td>0.562800</td>\n",
       "      <td>1.500600</td>\n",
       "      <td>1.330800</td>\n",
       "    </tr>\n",
       "    <tr>\n",
       "      <th>1</th>\n",
       "      <td>224.869200</td>\n",
       "      <td>7.958000</td>\n",
       "      <td>0.836400</td>\n",
       "      <td>0.392800</td>\n",
       "      <td>0.848200</td>\n",
       "      <td>0.393400</td>\n",
       "      <td>0.404600</td>\n",
       "      <td>0.753000</td>\n",
       "      <td>0.890800</td>\n",
       "    </tr>\n",
       "    <tr>\n",
       "      <th>2</th>\n",
       "      <td>214.228400</td>\n",
       "      <td>8.618800</td>\n",
       "      <td>0.791000</td>\n",
       "      <td>0.365400</td>\n",
       "      <td>0.796000</td>\n",
       "      <td>0.369800</td>\n",
       "      <td>0.383200</td>\n",
       "      <td>0.480200</td>\n",
       "      <td>0.701000</td>\n",
       "    </tr>\n",
       "    <tr>\n",
       "      <th>3</th>\n",
       "      <td>207.643000</td>\n",
       "      <td>8.782800</td>\n",
       "      <td>0.752600</td>\n",
       "      <td>0.362600</td>\n",
       "      <td>0.796600</td>\n",
       "      <td>0.340400</td>\n",
       "      <td>0.308200</td>\n",
       "      <td>0.302400</td>\n",
       "      <td>0.540400</td>\n",
       "    </tr>\n",
       "    <tr>\n",
       "      <th>4</th>\n",
       "      <td>199.111800</td>\n",
       "      <td>9.573200</td>\n",
       "      <td>0.758000</td>\n",
       "      <td>0.333800</td>\n",
       "      <td>0.820800</td>\n",
       "      <td>0.369800</td>\n",
       "      <td>0.272400</td>\n",
       "      <td>0.216800</td>\n",
       "      <td>0.463800</td>\n",
       "    </tr>\n",
       "    <tr>\n",
       "      <th>5</th>\n",
       "      <td>199.130200</td>\n",
       "      <td>10.937600</td>\n",
       "      <td>0.748000</td>\n",
       "      <td>0.364800</td>\n",
       "      <td>0.864800</td>\n",
       "      <td>0.394200</td>\n",
       "      <td>0.258800</td>\n",
       "      <td>0.163400</td>\n",
       "      <td>0.386200</td>\n",
       "    </tr>\n",
       "    <tr>\n",
       "      <th>6</th>\n",
       "      <td>191.297319</td>\n",
       "      <td>12.372149</td>\n",
       "      <td>0.761104</td>\n",
       "      <td>0.348139</td>\n",
       "      <td>0.836134</td>\n",
       "      <td>0.420968</td>\n",
       "      <td>0.227491</td>\n",
       "      <td>0.132053</td>\n",
       "      <td>0.294718</td>\n",
       "    </tr>\n",
       "    <tr>\n",
       "      <th>7</th>\n",
       "      <td>191.598161</td>\n",
       "      <td>14.417833</td>\n",
       "      <td>0.804678</td>\n",
       "      <td>0.360256</td>\n",
       "      <td>0.909036</td>\n",
       "      <td>0.447821</td>\n",
       "      <td>0.204918</td>\n",
       "      <td>0.113954</td>\n",
       "      <td>0.254298</td>\n",
       "    </tr>\n",
       "    <tr>\n",
       "      <th>8</th>\n",
       "      <td>193.610800</td>\n",
       "      <td>17.857600</td>\n",
       "      <td>0.960600</td>\n",
       "      <td>0.405200</td>\n",
       "      <td>1.118200</td>\n",
       "      <td>0.650600</td>\n",
       "      <td>0.252400</td>\n",
       "      <td>0.127600</td>\n",
       "      <td>0.316000</td>\n",
       "    </tr>\n",
       "    <tr>\n",
       "      <th>9</th>\n",
       "      <td>204.341600</td>\n",
       "      <td>25.868400</td>\n",
       "      <td>1.067400</td>\n",
       "      <td>0.463000</td>\n",
       "      <td>1.309400</td>\n",
       "      <td>0.772200</td>\n",
       "      <td>0.247600</td>\n",
       "      <td>0.069200</td>\n",
       "      <td>0.291600</td>\n",
       "    </tr>\n",
       "  </tbody>\n",
       "</table>\n",
       "</div>"
      ],
      "text/plain": [
       "              total_       last     child     youth      cook     do_it  \\\n",
       "prob_dec                                                                  \n",
       "0         257.352600   7.194400  1.064800  0.513800  1.066800  0.471400   \n",
       "1         224.869200   7.958000  0.836400  0.392800  0.848200  0.393400   \n",
       "2         214.228400   8.618800  0.791000  0.365400  0.796000  0.369800   \n",
       "3         207.643000   8.782800  0.752600  0.362600  0.796600  0.340400   \n",
       "4         199.111800   9.573200  0.758000  0.333800  0.820800  0.369800   \n",
       "5         199.130200  10.937600  0.748000  0.364800  0.864800  0.394200   \n",
       "6         191.297319  12.372149  0.761104  0.348139  0.836134  0.420968   \n",
       "7         191.598161  14.417833  0.804678  0.360256  0.909036  0.447821   \n",
       "8         193.610800  17.857600  0.960600  0.405200  1.118200  0.650600   \n",
       "9         204.341600  25.868400  1.067400  0.463000  1.309400  0.772200   \n",
       "\n",
       "          refernce       art      geog  \n",
       "prob_dec                                \n",
       "0         0.562800  1.500600  1.330800  \n",
       "1         0.404600  0.753000  0.890800  \n",
       "2         0.383200  0.480200  0.701000  \n",
       "3         0.308200  0.302400  0.540400  \n",
       "4         0.272400  0.216800  0.463800  \n",
       "5         0.258800  0.163400  0.386200  \n",
       "6         0.227491  0.132053  0.294718  \n",
       "7         0.204918  0.113954  0.254298  \n",
       "8         0.252400  0.127600  0.316000  \n",
       "9         0.247600  0.069200  0.291600  "
      ]
     },
     "execution_count": 23,
     "metadata": {},
     "output_type": "execute_result"
    }
   ],
   "source": [
    "all_summary=data.groupby('prob_dec')[['total_','last','child','youth','cook','do_it','refernce','art','geog']].mean()\n",
    "all_summary"
   ]
  },
  {
   "cell_type": "markdown",
   "metadata": {
    "id": "EEkJlWlRQn8c"
   },
   "source": [
    "We can view this more easily by plotting.\n",
    "\n",
    "This approach uses some additional options for <code>.plot()</code>\n",
    "\n",
    "```\n",
    ".plot(kind='bar',subplots=True, layout=(4,4), figsize=(12, 10), sharex=False, sharey=False, legend=False)\n",
    "```\n",
    "\n",
    "\n",
    "*   <code>kind='bar'</code> makes this a bar plot\n",
    "*   <code>subplots=True</code> plots each column of the data frame as a separate plot\n",
    "*   <code>layout=(4,4)</code> makes this have 4 columns and up to 4 rows\n",
    "* <code>sharex=False</code> and <code> sharey=False</code> make each graph have its own x and y axis\n",
    "* <code> legend=False</code> removes the legend.\n",
    "\n",
    "<br>\n",
    "Finally, I will add a matplotlib.pyplot option of <code> .tight_layout() </code> so that this graph is compact."
   ]
  },
  {
   "cell_type": "code",
   "execution_count": 53,
   "metadata": {
    "colab": {
     "base_uri": "https://localhost:8080/",
     "height": 573
    },
    "executionInfo": {
     "elapsed": 4445,
     "status": "ok",
     "timestamp": 1677527643290,
     "user": {
      "displayName": "Olivia Natan",
      "userId": "05221168611265745496"
     },
     "user_tz": 480
    },
    "id": "BsaFqq5wSJRM",
    "outputId": "6d78b8b8-c6fd-4a00-c927-8469c8c8006a"
   },
   "outputs": [
    {
     "data": {
      "image/png": "[encoded data removed]",
      "text/plain": [
       "<Figure size 1200x1000 with 16 Axes>"
      ]
     },
     "metadata": {},
     "output_type": "display_data"
    }
   ],
   "source": [
    "all_summary.plot(kind='bar',subplots=True, layout=(4,4), figsize=(12, 10),\n",
    "              sharex=False, sharey=False, legend=False)\n",
    "plt.tight_layout()"
   ]
  },
  {
   "cell_type": "markdown",
   "metadata": {
    "id": "erFHFLihSJRM"
   },
   "source": [
    "What do we notice? \n",
    "\n",
    "\n",
    "Where does this differ from our logistic regression?\n",
    "\n",
    "\n"
   ]
  },
  {
   "cell_type": "markdown",
   "metadata": {
    "id": "8wSuOiEOSJRN"
   },
   "source": [
    "Now we want to show lift and cumulative lift for each decile"
   ]
  },
  {
   "cell_type": "code",
   "execution_count": 26,
   "metadata": {
    "executionInfo": {
     "elapsed": 2167,
     "status": "ok",
     "timestamp": 1677527645454,
     "user": {
      "displayName": "Olivia Natan",
      "userId": "05221168611265745496"
     },
     "user_tz": 480
    },
    "id": "5zsIiYBkSJRN"
   },
   "outputs": [],
   "source": [
    "data['decile_response']=mba263.get_means(data['buyer_dummy'],data['prob_dec'])"
   ]
  },
  {
   "cell_type": "markdown",
   "metadata": {
    "id": "seIN1QDbSJRN"
   },
   "source": [
    "Baseline lift: going to be the bottom decile response rate from our report"
   ]
  },
  {
   "cell_type": "code",
   "execution_count": 27,
   "metadata": {
    "colab": {
     "base_uri": "https://localhost:8080/",
     "height": 394
    },
    "executionInfo": {
     "elapsed": 8,
     "status": "ok",
     "timestamp": 1677527645454,
     "user": {
      "displayName": "Olivia Natan",
      "userId": "05221168611265745496"
     },
     "user_tz": 480
    },
    "id": "j-0X9QzISJRN",
    "outputId": "f935d843-863b-4bc8-e423-6d6621a7303d"
   },
   "outputs": [
    {
     "data": {
      "text/html": [
       "<div>\n",
       "<style scoped>\n",
       "    .dataframe tbody tr th:only-of-type {\n",
       "        vertical-align: middle;\n",
       "    }\n",
       "\n",
       "    .dataframe tbody tr th {\n",
       "        vertical-align: top;\n",
       "    }\n",
       "\n",
       "    .dataframe thead th {\n",
       "        text-align: right;\n",
       "    }\n",
       "</style>\n",
       "<table border=\"1\" class=\"dataframe\">\n",
       "  <thead>\n",
       "    <tr style=\"text-align: right;\">\n",
       "      <th></th>\n",
       "      <th>response_rate</th>\n",
       "      <th>number_of_buyers</th>\n",
       "      <th>number_of_customers</th>\n",
       "      <th>base_lift</th>\n",
       "    </tr>\n",
       "    <tr>\n",
       "      <th>prob_dec</th>\n",
       "      <th></th>\n",
       "      <th></th>\n",
       "      <th></th>\n",
       "      <th></th>\n",
       "    </tr>\n",
       "  </thead>\n",
       "  <tbody>\n",
       "    <tr>\n",
       "      <th>0</th>\n",
       "      <td>0.387000</td>\n",
       "      <td>1935</td>\n",
       "      <td>5000</td>\n",
       "      <td>0.09044</td>\n",
       "    </tr>\n",
       "    <tr>\n",
       "      <th>1</th>\n",
       "      <td>0.167200</td>\n",
       "      <td>836</td>\n",
       "      <td>5000</td>\n",
       "      <td>0.09044</td>\n",
       "    </tr>\n",
       "    <tr>\n",
       "      <th>2</th>\n",
       "      <td>0.102200</td>\n",
       "      <td>511</td>\n",
       "      <td>5000</td>\n",
       "      <td>0.09044</td>\n",
       "    </tr>\n",
       "    <tr>\n",
       "      <th>3</th>\n",
       "      <td>0.073600</td>\n",
       "      <td>368</td>\n",
       "      <td>5000</td>\n",
       "      <td>0.09044</td>\n",
       "    </tr>\n",
       "    <tr>\n",
       "      <th>4</th>\n",
       "      <td>0.056800</td>\n",
       "      <td>284</td>\n",
       "      <td>5000</td>\n",
       "      <td>0.09044</td>\n",
       "    </tr>\n",
       "    <tr>\n",
       "      <th>5</th>\n",
       "      <td>0.039200</td>\n",
       "      <td>196</td>\n",
       "      <td>5000</td>\n",
       "      <td>0.09044</td>\n",
       "    </tr>\n",
       "    <tr>\n",
       "      <th>6</th>\n",
       "      <td>0.027811</td>\n",
       "      <td>139</td>\n",
       "      <td>4998</td>\n",
       "      <td>0.09044</td>\n",
       "    </tr>\n",
       "    <tr>\n",
       "      <th>7</th>\n",
       "      <td>0.024190</td>\n",
       "      <td>121</td>\n",
       "      <td>5002</td>\n",
       "      <td>0.09044</td>\n",
       "    </tr>\n",
       "    <tr>\n",
       "      <th>8</th>\n",
       "      <td>0.018000</td>\n",
       "      <td>90</td>\n",
       "      <td>5000</td>\n",
       "      <td>0.09044</td>\n",
       "    </tr>\n",
       "    <tr>\n",
       "      <th>9</th>\n",
       "      <td>0.008400</td>\n",
       "      <td>42</td>\n",
       "      <td>5000</td>\n",
       "      <td>0.09044</td>\n",
       "    </tr>\n",
       "  </tbody>\n",
       "</table>\n",
       "</div>"
      ],
      "text/plain": [
       "          response_rate  number_of_buyers  number_of_customers  base_lift\n",
       "prob_dec                                                                 \n",
       "0              0.387000              1935                 5000    0.09044\n",
       "1              0.167200               836                 5000    0.09044\n",
       "2              0.102200               511                 5000    0.09044\n",
       "3              0.073600               368                 5000    0.09044\n",
       "4              0.056800               284                 5000    0.09044\n",
       "5              0.039200               196                 5000    0.09044\n",
       "6              0.027811               139                 4998    0.09044\n",
       "7              0.024190               121                 5002    0.09044\n",
       "8              0.018000                90                 5000    0.09044\n",
       "9              0.008400                42                 5000    0.09044"
      ]
     },
     "execution_count": 27,
     "metadata": {},
     "output_type": "execute_result"
    }
   ],
   "source": [
    "report['base_lift']=data['buyer_dummy'].mean()\n",
    "report"
   ]
  },
  {
   "cell_type": "markdown",
   "metadata": {
    "id": "gNq-xRUkSJRN"
   },
   "source": [
    "Now we'll add cumulative buyers in each group, total customers, and cumulative customers:"
   ]
  },
  {
   "cell_type": "code",
   "execution_count": 28,
   "metadata": {
    "colab": {
     "base_uri": "https://localhost:8080/",
     "height": 394
    },
    "executionInfo": {
     "elapsed": 500,
     "status": "ok",
     "timestamp": 1677527645949,
     "user": {
      "displayName": "Olivia Natan",
      "userId": "05221168611265745496"
     },
     "user_tz": 480
    },
    "id": "88JKcVIsSJRN",
    "outputId": "9f7e4c1c-4b40-446e-b359-33e11d8cb3f1"
   },
   "outputs": [
    {
     "data": {
      "text/html": [
       "<div>\n",
       "<style scoped>\n",
       "    .dataframe tbody tr th:only-of-type {\n",
       "        vertical-align: middle;\n",
       "    }\n",
       "\n",
       "    .dataframe tbody tr th {\n",
       "        vertical-align: top;\n",
       "    }\n",
       "\n",
       "    .dataframe thead th {\n",
       "        text-align: right;\n",
       "    }\n",
       "</style>\n",
       "<table border=\"1\" class=\"dataframe\">\n",
       "  <thead>\n",
       "    <tr style=\"text-align: right;\">\n",
       "      <th></th>\n",
       "      <th>response_rate</th>\n",
       "      <th>number_of_buyers</th>\n",
       "      <th>number_of_customers</th>\n",
       "      <th>base_lift</th>\n",
       "      <th>buyers_cumulative</th>\n",
       "      <th>total_customers</th>\n",
       "      <th>customers_cumulative</th>\n",
       "    </tr>\n",
       "    <tr>\n",
       "      <th>prob_dec</th>\n",
       "      <th></th>\n",
       "      <th></th>\n",
       "      <th></th>\n",
       "      <th></th>\n",
       "      <th></th>\n",
       "      <th></th>\n",
       "      <th></th>\n",
       "    </tr>\n",
       "  </thead>\n",
       "  <tbody>\n",
       "    <tr>\n",
       "      <th>0</th>\n",
       "      <td>0.387000</td>\n",
       "      <td>1935</td>\n",
       "      <td>5000</td>\n",
       "      <td>0.09044</td>\n",
       "      <td>1935</td>\n",
       "      <td>5000</td>\n",
       "      <td>5000</td>\n",
       "    </tr>\n",
       "    <tr>\n",
       "      <th>1</th>\n",
       "      <td>0.167200</td>\n",
       "      <td>836</td>\n",
       "      <td>5000</td>\n",
       "      <td>0.09044</td>\n",
       "      <td>2771</td>\n",
       "      <td>5000</td>\n",
       "      <td>10000</td>\n",
       "    </tr>\n",
       "    <tr>\n",
       "      <th>2</th>\n",
       "      <td>0.102200</td>\n",
       "      <td>511</td>\n",
       "      <td>5000</td>\n",
       "      <td>0.09044</td>\n",
       "      <td>3282</td>\n",
       "      <td>5000</td>\n",
       "      <td>15000</td>\n",
       "    </tr>\n",
       "    <tr>\n",
       "      <th>3</th>\n",
       "      <td>0.073600</td>\n",
       "      <td>368</td>\n",
       "      <td>5000</td>\n",
       "      <td>0.09044</td>\n",
       "      <td>3650</td>\n",
       "      <td>5000</td>\n",
       "      <td>20000</td>\n",
       "    </tr>\n",
       "    <tr>\n",
       "      <th>4</th>\n",
       "      <td>0.056800</td>\n",
       "      <td>284</td>\n",
       "      <td>5000</td>\n",
       "      <td>0.09044</td>\n",
       "      <td>3934</td>\n",
       "      <td>5000</td>\n",
       "      <td>25000</td>\n",
       "    </tr>\n",
       "    <tr>\n",
       "      <th>5</th>\n",
       "      <td>0.039200</td>\n",
       "      <td>196</td>\n",
       "      <td>5000</td>\n",
       "      <td>0.09044</td>\n",
       "      <td>4130</td>\n",
       "      <td>5000</td>\n",
       "      <td>30000</td>\n",
       "    </tr>\n",
       "    <tr>\n",
       "      <th>6</th>\n",
       "      <td>0.027811</td>\n",
       "      <td>139</td>\n",
       "      <td>4998</td>\n",
       "      <td>0.09044</td>\n",
       "      <td>4269</td>\n",
       "      <td>4998</td>\n",
       "      <td>34998</td>\n",
       "    </tr>\n",
       "    <tr>\n",
       "      <th>7</th>\n",
       "      <td>0.024190</td>\n",
       "      <td>121</td>\n",
       "      <td>5002</td>\n",
       "      <td>0.09044</td>\n",
       "      <td>4390</td>\n",
       "      <td>5002</td>\n",
       "      <td>40000</td>\n",
       "    </tr>\n",
       "    <tr>\n",
       "      <th>8</th>\n",
       "      <td>0.018000</td>\n",
       "      <td>90</td>\n",
       "      <td>5000</td>\n",
       "      <td>0.09044</td>\n",
       "      <td>4480</td>\n",
       "      <td>5000</td>\n",
       "      <td>45000</td>\n",
       "    </tr>\n",
       "    <tr>\n",
       "      <th>9</th>\n",
       "      <td>0.008400</td>\n",
       "      <td>42</td>\n",
       "      <td>5000</td>\n",
       "      <td>0.09044</td>\n",
       "      <td>4522</td>\n",
       "      <td>5000</td>\n",
       "      <td>50000</td>\n",
       "    </tr>\n",
       "  </tbody>\n",
       "</table>\n",
       "</div>"
      ],
      "text/plain": [
       "          response_rate  number_of_buyers  number_of_customers  base_lift  \\\n",
       "prob_dec                                                                    \n",
       "0              0.387000              1935                 5000    0.09044   \n",
       "1              0.167200               836                 5000    0.09044   \n",
       "2              0.102200               511                 5000    0.09044   \n",
       "3              0.073600               368                 5000    0.09044   \n",
       "4              0.056800               284                 5000    0.09044   \n",
       "5              0.039200               196                 5000    0.09044   \n",
       "6              0.027811               139                 4998    0.09044   \n",
       "7              0.024190               121                 5002    0.09044   \n",
       "8              0.018000                90                 5000    0.09044   \n",
       "9              0.008400                42                 5000    0.09044   \n",
       "\n",
       "          buyers_cumulative  total_customers  customers_cumulative  \n",
       "prob_dec                                                            \n",
       "0                      1935             5000                  5000  \n",
       "1                      2771             5000                 10000  \n",
       "2                      3282             5000                 15000  \n",
       "3                      3650             5000                 20000  \n",
       "4                      3934             5000                 25000  \n",
       "5                      4130             5000                 30000  \n",
       "6                      4269             4998                 34998  \n",
       "7                      4390             5002                 40000  \n",
       "8                      4480             5000                 45000  \n",
       "9                      4522             5000                 50000  "
      ]
     },
     "execution_count": 28,
     "metadata": {},
     "output_type": "execute_result"
    }
   ],
   "source": [
    "report['buyers_cumulative']=report['number_of_buyers'].cumsum()\n",
    "report['total_customers']=data.groupby(['prob_dec'])['buyer_dummy'].count()\n",
    "report['customers_cumulative']=report['total_customers'].cumsum()\n",
    "report"
   ]
  },
  {
   "cell_type": "markdown",
   "metadata": {
    "id": "o0TWuywYSJRN"
   },
   "source": [
    "Let's now calculate the cumulative response rate:"
   ]
  },
  {
   "cell_type": "code",
   "execution_count": 30,
   "metadata": {
    "colab": {
     "base_uri": "https://localhost:8080/",
     "height": 394
    },
    "executionInfo": {
     "elapsed": 6,
     "status": "ok",
     "timestamp": 1677527645950,
     "user": {
      "displayName": "Olivia Natan",
      "userId": "05221168611265745496"
     },
     "user_tz": 480
    },
    "id": "viClidyqSJRN",
    "outputId": "5c544457-7efa-475d-a2b2-c85e6d00ed01"
   },
   "outputs": [
    {
     "data": {
      "text/html": [
       "<div>\n",
       "<style scoped>\n",
       "    .dataframe tbody tr th:only-of-type {\n",
       "        vertical-align: middle;\n",
       "    }\n",
       "\n",
       "    .dataframe tbody tr th {\n",
       "        vertical-align: top;\n",
       "    }\n",
       "\n",
       "    .dataframe thead th {\n",
       "        text-align: right;\n",
       "    }\n",
       "</style>\n",
       "<table border=\"1\" class=\"dataframe\">\n",
       "  <thead>\n",
       "    <tr style=\"text-align: right;\">\n",
       "      <th></th>\n",
       "      <th>response_rate</th>\n",
       "      <th>number_of_buyers</th>\n",
       "      <th>number_of_customers</th>\n",
       "      <th>base_lift</th>\n",
       "      <th>buyers_cumulative</th>\n",
       "      <th>total_customers</th>\n",
       "      <th>customers_cumulative</th>\n",
       "      <th>response_cumulative</th>\n",
       "    </tr>\n",
       "    <tr>\n",
       "      <th>prob_dec</th>\n",
       "      <th></th>\n",
       "      <th></th>\n",
       "      <th></th>\n",
       "      <th></th>\n",
       "      <th></th>\n",
       "      <th></th>\n",
       "      <th></th>\n",
       "      <th></th>\n",
       "    </tr>\n",
       "  </thead>\n",
       "  <tbody>\n",
       "    <tr>\n",
       "      <th>0</th>\n",
       "      <td>0.387000</td>\n",
       "      <td>1935</td>\n",
       "      <td>5000</td>\n",
       "      <td>0.09044</td>\n",
       "      <td>1935</td>\n",
       "      <td>5000</td>\n",
       "      <td>5000</td>\n",
       "      <td>0.387000</td>\n",
       "    </tr>\n",
       "    <tr>\n",
       "      <th>1</th>\n",
       "      <td>0.167200</td>\n",
       "      <td>836</td>\n",
       "      <td>5000</td>\n",
       "      <td>0.09044</td>\n",
       "      <td>2771</td>\n",
       "      <td>5000</td>\n",
       "      <td>10000</td>\n",
       "      <td>0.277100</td>\n",
       "    </tr>\n",
       "    <tr>\n",
       "      <th>2</th>\n",
       "      <td>0.102200</td>\n",
       "      <td>511</td>\n",
       "      <td>5000</td>\n",
       "      <td>0.09044</td>\n",
       "      <td>3282</td>\n",
       "      <td>5000</td>\n",
       "      <td>15000</td>\n",
       "      <td>0.218800</td>\n",
       "    </tr>\n",
       "    <tr>\n",
       "      <th>3</th>\n",
       "      <td>0.073600</td>\n",
       "      <td>368</td>\n",
       "      <td>5000</td>\n",
       "      <td>0.09044</td>\n",
       "      <td>3650</td>\n",
       "      <td>5000</td>\n",
       "      <td>20000</td>\n",
       "      <td>0.182500</td>\n",
       "    </tr>\n",
       "    <tr>\n",
       "      <th>4</th>\n",
       "      <td>0.056800</td>\n",
       "      <td>284</td>\n",
       "      <td>5000</td>\n",
       "      <td>0.09044</td>\n",
       "      <td>3934</td>\n",
       "      <td>5000</td>\n",
       "      <td>25000</td>\n",
       "      <td>0.157360</td>\n",
       "    </tr>\n",
       "    <tr>\n",
       "      <th>5</th>\n",
       "      <td>0.039200</td>\n",
       "      <td>196</td>\n",
       "      <td>5000</td>\n",
       "      <td>0.09044</td>\n",
       "      <td>4130</td>\n",
       "      <td>5000</td>\n",
       "      <td>30000</td>\n",
       "      <td>0.137667</td>\n",
       "    </tr>\n",
       "    <tr>\n",
       "      <th>6</th>\n",
       "      <td>0.027811</td>\n",
       "      <td>139</td>\n",
       "      <td>4998</td>\n",
       "      <td>0.09044</td>\n",
       "      <td>4269</td>\n",
       "      <td>4998</td>\n",
       "      <td>34998</td>\n",
       "      <td>0.121978</td>\n",
       "    </tr>\n",
       "    <tr>\n",
       "      <th>7</th>\n",
       "      <td>0.024190</td>\n",
       "      <td>121</td>\n",
       "      <td>5002</td>\n",
       "      <td>0.09044</td>\n",
       "      <td>4390</td>\n",
       "      <td>5002</td>\n",
       "      <td>40000</td>\n",
       "      <td>0.109750</td>\n",
       "    </tr>\n",
       "    <tr>\n",
       "      <th>8</th>\n",
       "      <td>0.018000</td>\n",
       "      <td>90</td>\n",
       "      <td>5000</td>\n",
       "      <td>0.09044</td>\n",
       "      <td>4480</td>\n",
       "      <td>5000</td>\n",
       "      <td>45000</td>\n",
       "      <td>0.099556</td>\n",
       "    </tr>\n",
       "    <tr>\n",
       "      <th>9</th>\n",
       "      <td>0.008400</td>\n",
       "      <td>42</td>\n",
       "      <td>5000</td>\n",
       "      <td>0.09044</td>\n",
       "      <td>4522</td>\n",
       "      <td>5000</td>\n",
       "      <td>50000</td>\n",
       "      <td>0.090440</td>\n",
       "    </tr>\n",
       "  </tbody>\n",
       "</table>\n",
       "</div>"
      ],
      "text/plain": [
       "          response_rate  number_of_buyers  number_of_customers  base_lift  \\\n",
       "prob_dec                                                                    \n",
       "0              0.387000              1935                 5000    0.09044   \n",
       "1              0.167200               836                 5000    0.09044   \n",
       "2              0.102200               511                 5000    0.09044   \n",
       "3              0.073600               368                 5000    0.09044   \n",
       "4              0.056800               284                 5000    0.09044   \n",
       "5              0.039200               196                 5000    0.09044   \n",
       "6              0.027811               139                 4998    0.09044   \n",
       "7              0.024190               121                 5002    0.09044   \n",
       "8              0.018000                90                 5000    0.09044   \n",
       "9              0.008400                42                 5000    0.09044   \n",
       "\n",
       "          buyers_cumulative  total_customers  customers_cumulative  \\\n",
       "prob_dec                                                             \n",
       "0                      1935             5000                  5000   \n",
       "1                      2771             5000                 10000   \n",
       "2                      3282             5000                 15000   \n",
       "3                      3650             5000                 20000   \n",
       "4                      3934             5000                 25000   \n",
       "5                      4130             5000                 30000   \n",
       "6                      4269             4998                 34998   \n",
       "7                      4390             5002                 40000   \n",
       "8                      4480             5000                 45000   \n",
       "9                      4522             5000                 50000   \n",
       "\n",
       "          response_cumulative  \n",
       "prob_dec                       \n",
       "0                    0.387000  \n",
       "1                    0.277100  \n",
       "2                    0.218800  \n",
       "3                    0.182500  \n",
       "4                    0.157360  \n",
       "5                    0.137667  \n",
       "6                    0.121978  \n",
       "7                    0.109750  \n",
       "8                    0.099556  \n",
       "9                    0.090440  "
      ]
     },
     "execution_count": 30,
     "metadata": {},
     "output_type": "execute_result"
    }
   ],
   "source": [
    "report['response_cumulative']=report['buyers_cumulative']/report['customers_cumulative']\n",
    "report"
   ]
  },
  {
   "cell_type": "markdown",
   "metadata": {
    "id": "I028gQViSJRN"
   },
   "source": [
    "Let's use the lift function to calculate cumulative "
   ]
  },
  {
   "cell_type": "code",
   "execution_count": 31,
   "metadata": {
    "colab": {
     "base_uri": "https://localhost:8080/"
    },
    "executionInfo": {
     "elapsed": 1756,
     "status": "ok",
     "timestamp": 1677527647702,
     "user": {
      "displayName": "Olivia Natan",
      "userId": "05221168611265745496"
     },
     "user_tz": 480
    },
    "id": "mdNSCqbCSJRN",
    "outputId": "21e1c738-7fbc-4cc3-f7fd-e2cb4dd0b97c"
   },
   "outputs": [
    {
     "data": {
      "text/plain": [
       "array([427.90800531, 306.39097744, 241.92835029, 201.79124281,\n",
       "       173.99380805, 152.21878225, 134.87217909, 121.35117205,\n",
       "       110.07911937, 100.        ])"
      ]
     },
     "execution_count": 31,
     "metadata": {},
     "output_type": "execute_result"
    }
   ],
   "source": [
    "mba263.lift(data['buyer_dummy'],data['decile_response'])"
   ]
  },
  {
   "cell_type": "code",
   "execution_count": 32,
   "metadata": {
    "colab": {
     "base_uri": "https://localhost:8080/",
     "height": 394
    },
    "executionInfo": {
     "elapsed": 8,
     "status": "ok",
     "timestamp": 1677527647703,
     "user": {
      "displayName": "Olivia Natan",
      "userId": "05221168611265745496"
     },
     "user_tz": 480
    },
    "id": "cI1ukON3SJRN",
    "outputId": "4d3e151a-bc01-4c2a-83ee-ee16ac7a1671"
   },
   "outputs": [
    {
     "data": {
      "text/html": [
       "<div>\n",
       "<style scoped>\n",
       "    .dataframe tbody tr th:only-of-type {\n",
       "        vertical-align: middle;\n",
       "    }\n",
       "\n",
       "    .dataframe tbody tr th {\n",
       "        vertical-align: top;\n",
       "    }\n",
       "\n",
       "    .dataframe thead th {\n",
       "        text-align: right;\n",
       "    }\n",
       "</style>\n",
       "<table border=\"1\" class=\"dataframe\">\n",
       "  <thead>\n",
       "    <tr style=\"text-align: right;\">\n",
       "      <th></th>\n",
       "      <th>response_rate</th>\n",
       "      <th>number_of_buyers</th>\n",
       "      <th>number_of_customers</th>\n",
       "      <th>base_lift</th>\n",
       "      <th>buyers_cumulative</th>\n",
       "      <th>total_customers</th>\n",
       "      <th>customers_cumulative</th>\n",
       "      <th>response_cumulative</th>\n",
       "      <th>lift</th>\n",
       "      <th>lift_cumulative</th>\n",
       "    </tr>\n",
       "    <tr>\n",
       "      <th>prob_dec</th>\n",
       "      <th></th>\n",
       "      <th></th>\n",
       "      <th></th>\n",
       "      <th></th>\n",
       "      <th></th>\n",
       "      <th></th>\n",
       "      <th></th>\n",
       "      <th></th>\n",
       "      <th></th>\n",
       "      <th></th>\n",
       "    </tr>\n",
       "  </thead>\n",
       "  <tbody>\n",
       "    <tr>\n",
       "      <th>0</th>\n",
       "      <td>0.387000</td>\n",
       "      <td>1935</td>\n",
       "      <td>5000</td>\n",
       "      <td>0.09044</td>\n",
       "      <td>1935</td>\n",
       "      <td>5000</td>\n",
       "      <td>5000</td>\n",
       "      <td>0.387000</td>\n",
       "      <td>427.908005</td>\n",
       "      <td>427.908005</td>\n",
       "    </tr>\n",
       "    <tr>\n",
       "      <th>1</th>\n",
       "      <td>0.167200</td>\n",
       "      <td>836</td>\n",
       "      <td>5000</td>\n",
       "      <td>0.09044</td>\n",
       "      <td>2771</td>\n",
       "      <td>5000</td>\n",
       "      <td>10000</td>\n",
       "      <td>0.277100</td>\n",
       "      <td>184.873950</td>\n",
       "      <td>306.390977</td>\n",
       "    </tr>\n",
       "    <tr>\n",
       "      <th>2</th>\n",
       "      <td>0.102200</td>\n",
       "      <td>511</td>\n",
       "      <td>5000</td>\n",
       "      <td>0.09044</td>\n",
       "      <td>3282</td>\n",
       "      <td>5000</td>\n",
       "      <td>15000</td>\n",
       "      <td>0.218800</td>\n",
       "      <td>113.003096</td>\n",
       "      <td>241.928350</td>\n",
       "    </tr>\n",
       "    <tr>\n",
       "      <th>3</th>\n",
       "      <td>0.073600</td>\n",
       "      <td>368</td>\n",
       "      <td>5000</td>\n",
       "      <td>0.09044</td>\n",
       "      <td>3650</td>\n",
       "      <td>5000</td>\n",
       "      <td>20000</td>\n",
       "      <td>0.182500</td>\n",
       "      <td>81.379920</td>\n",
       "      <td>201.791243</td>\n",
       "    </tr>\n",
       "    <tr>\n",
       "      <th>4</th>\n",
       "      <td>0.056800</td>\n",
       "      <td>284</td>\n",
       "      <td>5000</td>\n",
       "      <td>0.09044</td>\n",
       "      <td>3934</td>\n",
       "      <td>5000</td>\n",
       "      <td>25000</td>\n",
       "      <td>0.157360</td>\n",
       "      <td>62.804069</td>\n",
       "      <td>173.993808</td>\n",
       "    </tr>\n",
       "    <tr>\n",
       "      <th>5</th>\n",
       "      <td>0.039200</td>\n",
       "      <td>196</td>\n",
       "      <td>5000</td>\n",
       "      <td>0.09044</td>\n",
       "      <td>4130</td>\n",
       "      <td>5000</td>\n",
       "      <td>30000</td>\n",
       "      <td>0.137667</td>\n",
       "      <td>43.343653</td>\n",
       "      <td>152.218782</td>\n",
       "    </tr>\n",
       "    <tr>\n",
       "      <th>6</th>\n",
       "      <td>0.027811</td>\n",
       "      <td>139</td>\n",
       "      <td>4998</td>\n",
       "      <td>0.09044</td>\n",
       "      <td>4269</td>\n",
       "      <td>4998</td>\n",
       "      <td>34998</td>\n",
       "      <td>0.121978</td>\n",
       "      <td>30.750912</td>\n",
       "      <td>134.872179</td>\n",
       "    </tr>\n",
       "    <tr>\n",
       "      <th>7</th>\n",
       "      <td>0.024190</td>\n",
       "      <td>121</td>\n",
       "      <td>5002</td>\n",
       "      <td>0.09044</td>\n",
       "      <td>4390</td>\n",
       "      <td>5002</td>\n",
       "      <td>40000</td>\n",
       "      <td>0.109750</td>\n",
       "      <td>26.747373</td>\n",
       "      <td>121.351172</td>\n",
       "    </tr>\n",
       "    <tr>\n",
       "      <th>8</th>\n",
       "      <td>0.018000</td>\n",
       "      <td>90</td>\n",
       "      <td>5000</td>\n",
       "      <td>0.09044</td>\n",
       "      <td>4480</td>\n",
       "      <td>5000</td>\n",
       "      <td>45000</td>\n",
       "      <td>0.099556</td>\n",
       "      <td>19.902698</td>\n",
       "      <td>110.079119</td>\n",
       "    </tr>\n",
       "    <tr>\n",
       "      <th>9</th>\n",
       "      <td>0.008400</td>\n",
       "      <td>42</td>\n",
       "      <td>5000</td>\n",
       "      <td>0.09044</td>\n",
       "      <td>4522</td>\n",
       "      <td>5000</td>\n",
       "      <td>50000</td>\n",
       "      <td>0.090440</td>\n",
       "      <td>9.287926</td>\n",
       "      <td>100.000000</td>\n",
       "    </tr>\n",
       "  </tbody>\n",
       "</table>\n",
       "</div>"
      ],
      "text/plain": [
       "          response_rate  number_of_buyers  number_of_customers  base_lift  \\\n",
       "prob_dec                                                                    \n",
       "0              0.387000              1935                 5000    0.09044   \n",
       "1              0.167200               836                 5000    0.09044   \n",
       "2              0.102200               511                 5000    0.09044   \n",
       "3              0.073600               368                 5000    0.09044   \n",
       "4              0.056800               284                 5000    0.09044   \n",
       "5              0.039200               196                 5000    0.09044   \n",
       "6              0.027811               139                 4998    0.09044   \n",
       "7              0.024190               121                 5002    0.09044   \n",
       "8              0.018000                90                 5000    0.09044   \n",
       "9              0.008400                42                 5000    0.09044   \n",
       "\n",
       "          buyers_cumulative  total_customers  customers_cumulative  \\\n",
       "prob_dec                                                             \n",
       "0                      1935             5000                  5000   \n",
       "1                      2771             5000                 10000   \n",
       "2                      3282             5000                 15000   \n",
       "3                      3650             5000                 20000   \n",
       "4                      3934             5000                 25000   \n",
       "5                      4130             5000                 30000   \n",
       "6                      4269             4998                 34998   \n",
       "7                      4390             5002                 40000   \n",
       "8                      4480             5000                 45000   \n",
       "9                      4522             5000                 50000   \n",
       "\n",
       "          response_cumulative        lift  lift_cumulative  \n",
       "prob_dec                                                    \n",
       "0                    0.387000  427.908005       427.908005  \n",
       "1                    0.277100  184.873950       306.390977  \n",
       "2                    0.218800  113.003096       241.928350  \n",
       "3                    0.182500   81.379920       201.791243  \n",
       "4                    0.157360   62.804069       173.993808  \n",
       "5                    0.137667   43.343653       152.218782  \n",
       "6                    0.121978   30.750912       134.872179  \n",
       "7                    0.109750   26.747373       121.351172  \n",
       "8                    0.099556   19.902698       110.079119  \n",
       "9                    0.090440    9.287926       100.000000  "
      ]
     },
     "execution_count": 32,
     "metadata": {},
     "output_type": "execute_result"
    }
   ],
   "source": [
    "report['lift']=100*report['response_rate']/report['base_lift']\n",
    "report['lift_cumulative']=100*report['response_cumulative']/report['base_lift']\n",
    "report"
   ]
  },
  {
   "cell_type": "code",
   "execution_count": 33,
   "metadata": {
    "colab": {
     "base_uri": "https://localhost:8080/",
     "height": 276
    },
    "executionInfo": {
     "elapsed": 522,
     "status": "ok",
     "timestamp": 1677527648220,
     "user": {
      "displayName": "Olivia Natan",
      "userId": "05221168611265745496"
     },
     "user_tz": 480
    },
    "id": "IQ4tkP0VSJRO",
    "outputId": "2e499e81-7cee-4a58-b483-6ca71fdef1ea"
   },
   "outputs": [
    {
     "data": {
      "image/png": "[encoded data removed]",
      "text/plain": [
       "<Figure size 640x480 with 1 Axes>"
      ]
     },
     "metadata": {},
     "output_type": "display_data"
    }
   ],
   "source": [
    "report['lift_cumulative'].plot(kind='bar')\n",
    "plt.ylabel('Cumulative Lift')\n",
    "plt.xlabel('Predicted Response Probability Decile')\n",
    "plt.show()"
   ]
  },
  {
   "cell_type": "markdown",
   "metadata": {
    "id": "KcDH6bYDSJRO"
   },
   "source": [
    "We have many of the ingredients we need to get gains: decile and cumulative responses - now we just need to divide by total responses"
   ]
  },
  {
   "cell_type": "code",
   "execution_count": 34,
   "metadata": {
    "colab": {
     "base_uri": "https://localhost:8080/",
     "height": 458
    },
    "executionInfo": {
     "elapsed": 7,
     "status": "ok",
     "timestamp": 1677527648221,
     "user": {
      "displayName": "Olivia Natan",
      "userId": "05221168611265745496"
     },
     "user_tz": 480
    },
    "id": "rHyRzs-bSJRO",
    "outputId": "104b9eb6-b5d8-4ba3-b180-3d8a1c309432"
   },
   "outputs": [
    {
     "data": {
      "text/html": [
       "<div>\n",
       "<style scoped>\n",
       "    .dataframe tbody tr th:only-of-type {\n",
       "        vertical-align: middle;\n",
       "    }\n",
       "\n",
       "    .dataframe tbody tr th {\n",
       "        vertical-align: top;\n",
       "    }\n",
       "\n",
       "    .dataframe thead th {\n",
       "        text-align: right;\n",
       "    }\n",
       "</style>\n",
       "<table border=\"1\" class=\"dataframe\">\n",
       "  <thead>\n",
       "    <tr style=\"text-align: right;\">\n",
       "      <th></th>\n",
       "      <th>response_rate</th>\n",
       "      <th>number_of_buyers</th>\n",
       "      <th>number_of_customers</th>\n",
       "      <th>base_lift</th>\n",
       "      <th>buyers_cumulative</th>\n",
       "      <th>total_customers</th>\n",
       "      <th>customers_cumulative</th>\n",
       "      <th>response_cumulative</th>\n",
       "      <th>lift</th>\n",
       "      <th>lift_cumulative</th>\n",
       "      <th>gain</th>\n",
       "      <th>gain_cumulative</th>\n",
       "    </tr>\n",
       "    <tr>\n",
       "      <th>prob_dec</th>\n",
       "      <th></th>\n",
       "      <th></th>\n",
       "      <th></th>\n",
       "      <th></th>\n",
       "      <th></th>\n",
       "      <th></th>\n",
       "      <th></th>\n",
       "      <th></th>\n",
       "      <th></th>\n",
       "      <th></th>\n",
       "      <th></th>\n",
       "      <th></th>\n",
       "    </tr>\n",
       "  </thead>\n",
       "  <tbody>\n",
       "    <tr>\n",
       "      <th>0</th>\n",
       "      <td>0.387000</td>\n",
       "      <td>1935</td>\n",
       "      <td>5000</td>\n",
       "      <td>0.09044</td>\n",
       "      <td>1935</td>\n",
       "      <td>5000</td>\n",
       "      <td>5000</td>\n",
       "      <td>0.387000</td>\n",
       "      <td>427.908005</td>\n",
       "      <td>427.908005</td>\n",
       "      <td>0.427908</td>\n",
       "      <td>0.427908</td>\n",
       "    </tr>\n",
       "    <tr>\n",
       "      <th>1</th>\n",
       "      <td>0.167200</td>\n",
       "      <td>836</td>\n",
       "      <td>5000</td>\n",
       "      <td>0.09044</td>\n",
       "      <td>2771</td>\n",
       "      <td>5000</td>\n",
       "      <td>10000</td>\n",
       "      <td>0.277100</td>\n",
       "      <td>184.873950</td>\n",
       "      <td>306.390977</td>\n",
       "      <td>0.184874</td>\n",
       "      <td>0.612782</td>\n",
       "    </tr>\n",
       "    <tr>\n",
       "      <th>2</th>\n",
       "      <td>0.102200</td>\n",
       "      <td>511</td>\n",
       "      <td>5000</td>\n",
       "      <td>0.09044</td>\n",
       "      <td>3282</td>\n",
       "      <td>5000</td>\n",
       "      <td>15000</td>\n",
       "      <td>0.218800</td>\n",
       "      <td>113.003096</td>\n",
       "      <td>241.928350</td>\n",
       "      <td>0.113003</td>\n",
       "      <td>0.725785</td>\n",
       "    </tr>\n",
       "    <tr>\n",
       "      <th>3</th>\n",
       "      <td>0.073600</td>\n",
       "      <td>368</td>\n",
       "      <td>5000</td>\n",
       "      <td>0.09044</td>\n",
       "      <td>3650</td>\n",
       "      <td>5000</td>\n",
       "      <td>20000</td>\n",
       "      <td>0.182500</td>\n",
       "      <td>81.379920</td>\n",
       "      <td>201.791243</td>\n",
       "      <td>0.081380</td>\n",
       "      <td>0.807165</td>\n",
       "    </tr>\n",
       "    <tr>\n",
       "      <th>4</th>\n",
       "      <td>0.056800</td>\n",
       "      <td>284</td>\n",
       "      <td>5000</td>\n",
       "      <td>0.09044</td>\n",
       "      <td>3934</td>\n",
       "      <td>5000</td>\n",
       "      <td>25000</td>\n",
       "      <td>0.157360</td>\n",
       "      <td>62.804069</td>\n",
       "      <td>173.993808</td>\n",
       "      <td>0.062804</td>\n",
       "      <td>0.869969</td>\n",
       "    </tr>\n",
       "    <tr>\n",
       "      <th>5</th>\n",
       "      <td>0.039200</td>\n",
       "      <td>196</td>\n",
       "      <td>5000</td>\n",
       "      <td>0.09044</td>\n",
       "      <td>4130</td>\n",
       "      <td>5000</td>\n",
       "      <td>30000</td>\n",
       "      <td>0.137667</td>\n",
       "      <td>43.343653</td>\n",
       "      <td>152.218782</td>\n",
       "      <td>0.043344</td>\n",
       "      <td>0.913313</td>\n",
       "    </tr>\n",
       "    <tr>\n",
       "      <th>6</th>\n",
       "      <td>0.027811</td>\n",
       "      <td>139</td>\n",
       "      <td>4998</td>\n",
       "      <td>0.09044</td>\n",
       "      <td>4269</td>\n",
       "      <td>4998</td>\n",
       "      <td>34998</td>\n",
       "      <td>0.121978</td>\n",
       "      <td>30.750912</td>\n",
       "      <td>134.872179</td>\n",
       "      <td>0.030739</td>\n",
       "      <td>0.944051</td>\n",
       "    </tr>\n",
       "    <tr>\n",
       "      <th>7</th>\n",
       "      <td>0.024190</td>\n",
       "      <td>121</td>\n",
       "      <td>5002</td>\n",
       "      <td>0.09044</td>\n",
       "      <td>4390</td>\n",
       "      <td>5002</td>\n",
       "      <td>40000</td>\n",
       "      <td>0.109750</td>\n",
       "      <td>26.747373</td>\n",
       "      <td>121.351172</td>\n",
       "      <td>0.026758</td>\n",
       "      <td>0.970809</td>\n",
       "    </tr>\n",
       "    <tr>\n",
       "      <th>8</th>\n",
       "      <td>0.018000</td>\n",
       "      <td>90</td>\n",
       "      <td>5000</td>\n",
       "      <td>0.09044</td>\n",
       "      <td>4480</td>\n",
       "      <td>5000</td>\n",
       "      <td>45000</td>\n",
       "      <td>0.099556</td>\n",
       "      <td>19.902698</td>\n",
       "      <td>110.079119</td>\n",
       "      <td>0.019903</td>\n",
       "      <td>0.990712</td>\n",
       "    </tr>\n",
       "    <tr>\n",
       "      <th>9</th>\n",
       "      <td>0.008400</td>\n",
       "      <td>42</td>\n",
       "      <td>5000</td>\n",
       "      <td>0.09044</td>\n",
       "      <td>4522</td>\n",
       "      <td>5000</td>\n",
       "      <td>50000</td>\n",
       "      <td>0.090440</td>\n",
       "      <td>9.287926</td>\n",
       "      <td>100.000000</td>\n",
       "      <td>0.009288</td>\n",
       "      <td>1.000000</td>\n",
       "    </tr>\n",
       "  </tbody>\n",
       "</table>\n",
       "</div>"
      ],
      "text/plain": [
       "          response_rate  number_of_buyers  number_of_customers  base_lift  \\\n",
       "prob_dec                                                                    \n",
       "0              0.387000              1935                 5000    0.09044   \n",
       "1              0.167200               836                 5000    0.09044   \n",
       "2              0.102200               511                 5000    0.09044   \n",
       "3              0.073600               368                 5000    0.09044   \n",
       "4              0.056800               284                 5000    0.09044   \n",
       "5              0.039200               196                 5000    0.09044   \n",
       "6              0.027811               139                 4998    0.09044   \n",
       "7              0.024190               121                 5002    0.09044   \n",
       "8              0.018000                90                 5000    0.09044   \n",
       "9              0.008400                42                 5000    0.09044   \n",
       "\n",
       "          buyers_cumulative  total_customers  customers_cumulative  \\\n",
       "prob_dec                                                             \n",
       "0                      1935             5000                  5000   \n",
       "1                      2771             5000                 10000   \n",
       "2                      3282             5000                 15000   \n",
       "3                      3650             5000                 20000   \n",
       "4                      3934             5000                 25000   \n",
       "5                      4130             5000                 30000   \n",
       "6                      4269             4998                 34998   \n",
       "7                      4390             5002                 40000   \n",
       "8                      4480             5000                 45000   \n",
       "9                      4522             5000                 50000   \n",
       "\n",
       "          response_cumulative        lift  lift_cumulative      gain  \\\n",
       "prob_dec                                                               \n",
       "0                    0.387000  427.908005       427.908005  0.427908   \n",
       "1                    0.277100  184.873950       306.390977  0.184874   \n",
       "2                    0.218800  113.003096       241.928350  0.113003   \n",
       "3                    0.182500   81.379920       201.791243  0.081380   \n",
       "4                    0.157360   62.804069       173.993808  0.062804   \n",
       "5                    0.137667   43.343653       152.218782  0.043344   \n",
       "6                    0.121978   30.750912       134.872179  0.030739   \n",
       "7                    0.109750   26.747373       121.351172  0.026758   \n",
       "8                    0.099556   19.902698       110.079119  0.019903   \n",
       "9                    0.090440    9.287926       100.000000  0.009288   \n",
       "\n",
       "          gain_cumulative  \n",
       "prob_dec                   \n",
       "0                0.427908  \n",
       "1                0.612782  \n",
       "2                0.725785  \n",
       "3                0.807165  \n",
       "4                0.869969  \n",
       "5                0.913313  \n",
       "6                0.944051  \n",
       "7                0.970809  \n",
       "8                0.990712  \n",
       "9                1.000000  "
      ]
     },
     "execution_count": 34,
     "metadata": {},
     "output_type": "execute_result"
    }
   ],
   "source": [
    "report['gain']=report['number_of_buyers']/data['buyer_dummy'].sum()\n",
    "report['gain_cumulative']=report['buyers_cumulative']/data['buyer_dummy'].sum()\n",
    "report"
   ]
  },
  {
   "cell_type": "markdown",
   "metadata": {
    "id": "ydYlpcGKU5Em"
   },
   "source": [
    "\n",
    "We can plot gains by decile...\n"
   ]
  },
  {
   "cell_type": "code",
   "execution_count": 35,
   "metadata": {
    "colab": {
     "base_uri": "https://localhost:8080/",
     "height": 281
    },
    "executionInfo": {
     "elapsed": 1992,
     "status": "ok",
     "timestamp": 1677527650208,
     "user": {
      "displayName": "Olivia Natan",
      "userId": "05221168611265745496"
     },
     "user_tz": 480
    },
    "id": "UoLDqL_LSJRO",
    "outputId": "c0791f56-3a67-40ba-efd5-fe9c09c472de"
   },
   "outputs": [
    {
     "data": {
      "image/png": "[encoded data removed]",
      "text/plain": [
       "<Figure size 640x480 with 1 Axes>"
      ]
     },
     "metadata": {},
     "output_type": "display_data"
    }
   ],
   "source": [
    "n_groups=10\n",
    "plt.plot(mba263.gain(data['buyer_dummy'],data['decile_response'],n_groups),color='r')\n",
    "plt.plot([0,n_groups],[0,1])\n",
    "plt.ylabel('Cumulative Gains')\n",
    "plt.title('Logit Gains by Response Decile')\n",
    "plt.show()"
   ]
  },
  {
   "cell_type": "markdown",
   "metadata": {
    "id": "MYR2oxUbT9-7"
   },
   "source": [
    "This was gains *by response decile*\n",
    "\n",
    "We could also consider response by smaller bins."
   ]
  },
  {
   "cell_type": "code",
   "execution_count": 36,
   "metadata": {
    "colab": {
     "base_uri": "https://localhost:8080/",
     "height": 281
    },
    "executionInfo": {
     "elapsed": 2145,
     "status": "ok",
     "timestamp": 1677527652351,
     "user": {
      "displayName": "Olivia Natan",
      "userId": "05221168611265745496"
     },
     "user_tz": 480
    },
    "id": "9Eoc7x17T_5q",
    "outputId": "91ffd64d-9ed0-4a6f-a06c-97c480b38c31"
   },
   "outputs": [
    {
     "data": {
      "image/png": "[encoded data removed]",
      "text/plain": [
       "<Figure size 640x480 with 1 Axes>"
      ]
     },
     "metadata": {},
     "output_type": "display_data"
    }
   ],
   "source": [
    "n_groups=30\n",
    "plt.plot(mba263.gain(data['buyer_dummy'],data['purchprob'],n_groups),color='r')\n",
    "plt.plot([0,n_groups],[0,1])\n",
    "plt.ylabel('Cumulative Gains')\n",
    "plt.title('Logit Gains by Response Probability, Groups='+str(n_groups))\n",
    "plt.show()"
   ]
  },
  {
   "cell_type": "markdown",
   "metadata": {
    "id": "95iRIIFNSJRO"
   },
   "source": [
    "\n",
    "Profitability: recall our breakeven response rate is 0.083\n",
    "\n",
    "How did we get there? $$\\frac{\\text{cost per contact}}{\\text{profit per sale}} = 0.5/6 =0.83$$"
   ]
  },
  {
   "cell_type": "code",
   "execution_count": 37,
   "metadata": {
    "executionInfo": {
     "elapsed": 7,
     "status": "ok",
     "timestamp": 1677527652351,
     "user": {
      "displayName": "Olivia Natan",
      "userId": "05221168611265745496"
     },
     "user_tz": 480
    },
    "id": "OjS2Pa0eSJRO"
   },
   "outputs": [],
   "source": [
    "data_mailto=data[data['purchprob']>0.083]"
   ]
  },
  {
   "cell_type": "code",
   "execution_count": 38,
   "metadata": {
    "colab": {
     "base_uri": "https://localhost:8080/",
     "height": 112
    },
    "executionInfo": {
     "elapsed": 7,
     "status": "ok",
     "timestamp": 1677527652351,
     "user": {
      "displayName": "Olivia Natan",
      "userId": "05221168611265745496"
     },
     "user_tz": 480
    },
    "id": "r04tH9OKSJRO",
    "outputId": "b4a0b634-1cd4-4c6e-ef38-cf76be69ad19"
   },
   "outputs": [
    {
     "data": {
      "text/html": [
       "<div>\n",
       "<style scoped>\n",
       "    .dataframe tbody tr th:only-of-type {\n",
       "        vertical-align: middle;\n",
       "    }\n",
       "\n",
       "    .dataframe tbody tr th {\n",
       "        vertical-align: top;\n",
       "    }\n",
       "\n",
       "    .dataframe thead th {\n",
       "        text-align: right;\n",
       "    }\n",
       "</style>\n",
       "<table border=\"1\" class=\"dataframe\">\n",
       "  <thead>\n",
       "    <tr style=\"text-align: right;\">\n",
       "      <th></th>\n",
       "      <th>Name</th>\n",
       "      <th>Count</th>\n",
       "      <th>Frequency</th>\n",
       "    </tr>\n",
       "  </thead>\n",
       "  <tbody>\n",
       "    <tr>\n",
       "      <th>0</th>\n",
       "      <td>no</td>\n",
       "      <td>12283</td>\n",
       "      <td>0.786867</td>\n",
       "    </tr>\n",
       "    <tr>\n",
       "      <th>1</th>\n",
       "      <td>yes</td>\n",
       "      <td>3327</td>\n",
       "      <td>0.213133</td>\n",
       "    </tr>\n",
       "  </tbody>\n",
       "</table>\n",
       "</div>"
      ],
      "text/plain": [
       "  Name  Count  Frequency\n",
       "0   no  12283   0.786867\n",
       "1  yes   3327   0.213133"
      ]
     },
     "execution_count": 38,
     "metadata": {},
     "output_type": "execute_result"
    }
   ],
   "source": [
    "mba263.tabulate(data_mailto['buyer'])"
   ]
  },
  {
   "cell_type": "markdown",
   "metadata": {
    "id": "z7nKC4ZaSJRO"
   },
   "source": [
    "How many people would we mail to in residual 500k customers?\n"
   ]
  },
  {
   "cell_type": "code",
   "execution_count": 39,
   "metadata": {
    "colab": {
     "base_uri": "https://localhost:8080/"
    },
    "executionInfo": {
     "elapsed": 6,
     "status": "ok",
     "timestamp": 1677527652351,
     "user": {
      "displayName": "Olivia Natan",
      "userId": "05221168611265745496"
     },
     "user_tz": 480
    },
    "id": "cwjw9FPbSJRO",
    "outputId": "3910bf08-727f-4cd2-9300-ef82c91dff54"
   },
   "outputs": [
    {
     "data": {
      "text/plain": [
       "156100.0"
      ]
     },
     "execution_count": 39,
     "metadata": {},
     "output_type": "execute_result"
    }
   ],
   "source": [
    "(data['purchprob']>0.083).mean()*500000"
   ]
  },
  {
   "cell_type": "markdown",
   "metadata": {
    "id": "9u14TNapSJRO"
   },
   "source": [
    "How many responses do we expect?"
   ]
  },
  {
   "cell_type": "code",
   "execution_count": 40,
   "metadata": {
    "colab": {
     "base_uri": "https://localhost:8080/"
    },
    "executionInfo": {
     "elapsed": 285,
     "status": "ok",
     "timestamp": 1677527652632,
     "user": {
      "displayName": "Olivia Natan",
      "userId": "05221168611265745496"
     },
     "user_tz": 480
    },
    "id": "sighrAZ8SJRO",
    "outputId": "2194385b-05ab-42d1-bcea-61c2f7edadbe"
   },
   "outputs": [
    {
     "data": {
      "text/plain": [
       "33270.0"
      ]
     },
     "execution_count": 40,
     "metadata": {},
     "output_type": "execute_result"
    }
   ],
   "source": [
    "data_mailto['buyer_dummy'].mean()*156100"
   ]
  },
  {
   "cell_type": "markdown",
   "metadata": {
    "id": "-Eq41Ub8SJRP"
   },
   "source": [
    "<ul>\n",
    "<li>Gross profit = ($18 -9 -3)*33,270– 0.5*156,100= $ 121,570</li>\n",
    "<li>Gross sales = $18*33,270= $ 598,860</li>\n",
    "<li>Gross profit/sales = 20.3%</li>\n",
    "    <li>Cost of marketing=156,100*0.5=78,050</li>\n",
    "<li>Return on marketing expenditure = $121,570/ $78,050= 155.8%</li>\n",
    "</ul>"
   ]
  },
  {
   "cell_type": "markdown",
   "metadata": {
    "id": "foRAayEySJRP"
   },
   "source": [
    "## Extension: comparison to (1) RFM (2) just using RFM variables in Logit\n",
    "\n",
    "This is a version where we will do sequential RFM... \n",
    "\n",
    "...and we can then try to estimate $$Pr(buy=yes)=\\frac{exp(R*\\beta_1 + F *\\beta_2 + M*\\beta_3)}{1+exp(R*\\beta_1 + F *\\beta_2 + M*\\beta_3)}$$"
   ]
  },
  {
   "cell_type": "code",
   "execution_count": 41,
   "metadata": {
    "executionInfo": {
     "elapsed": 1260,
     "status": "ok",
     "timestamp": 1677527653890,
     "user": {
      "displayName": "Olivia Natan",
      "userId": "05221168611265745496"
     },
     "user_tz": 480
    },
    "id": "uPw1E8i-SJRP"
   },
   "outputs": [],
   "source": [
    "data['freq']=data['child']+data['youth']+data['cook']+data['do_it']+data['refernce']+data['art']+data['geog']\n",
    "data['rfm']=mba263.rfm_sq(data[ ['last','freq','total_'] ],5)"
   ]
  },
  {
   "cell_type": "code",
   "execution_count": 42,
   "metadata": {
    "executionInfo": {
     "elapsed": 660,
     "status": "ok",
     "timestamp": 1677527654546,
     "user": {
      "displayName": "Olivia Natan",
      "userId": "05221168611265745496"
     },
     "user_tz": 480
    },
    "id": "UjlpNmywSJRP"
   },
   "outputs": [],
   "source": [
    "data['p_rfm']=mba263.get_means(data['buyer_dummy'],data['rfm'])"
   ]
  },
  {
   "cell_type": "code",
   "execution_count": 43,
   "metadata": {
    "executionInfo": {
     "elapsed": 3051,
     "status": "ok",
     "timestamp": 1677527657593,
     "user": {
      "displayName": "Olivia Natan",
      "userId": "05221168611265745496"
     },
     "user_tz": 480
    },
    "id": "lK_w5J8BSJRP"
   },
   "outputs": [],
   "source": [
    "gain_rfm=mba263.gain(data['buyer_dummy'],data['p_rfm'],10)\n",
    "gain_logit=mba263.gain(data['buyer_dummy'],data['purchprob'],10)"
   ]
  },
  {
   "cell_type": "code",
   "execution_count": 44,
   "metadata": {
    "colab": {
     "base_uri": "https://localhost:8080/",
     "height": 265
    },
    "executionInfo": {
     "elapsed": 8,
     "status": "ok",
     "timestamp": 1677527657593,
     "user": {
      "displayName": "Olivia Natan",
      "userId": "05221168611265745496"
     },
     "user_tz": 480
    },
    "id": "XKxYBCcLSJRP",
    "outputId": "716c24c4-5a72-409b-eb39-877ab77596dc"
   },
   "outputs": [
    {
     "data": {
      "image/png": "[encoded data removed]",
      "text/plain": [
       "<Figure size 640x480 with 1 Axes>"
      ]
     },
     "metadata": {},
     "output_type": "display_data"
    }
   ],
   "source": [
    "plt.plot(gain_rfm,'r')\n",
    "plt.plot(gain_logit,'b')\n",
    "plt.show()"
   ]
  },
  {
   "cell_type": "markdown",
   "metadata": {
    "id": "AGfNusSwZVfe"
   },
   "source": [
    "We estimate $$Pr(buy=yes)=\\frac{exp(R*\\beta_1 + F *\\beta_2 + M*\\beta_3)}{1+exp(R*\\beta_1 + F *\\beta_2 + M*\\beta_3)}$$"
   ]
  },
  {
   "cell_type": "code",
   "execution_count": 45,
   "metadata": {
    "colab": {
     "base_uri": "https://localhost:8080/"
    },
    "executionInfo": {
     "elapsed": 219,
     "status": "ok",
     "timestamp": 1677527657807,
     "user": {
      "displayName": "Olivia Natan",
      "userId": "05221168611265745496"
     },
     "user_tz": 480
    },
    "id": "b_a82Ch3SJRP",
    "outputId": "0ee9c5dc-9b46-4c18-a6fa-37437b5cb0c5"
   },
   "outputs": [
    {
     "name": "stdout",
     "output_type": "stream",
     "text": [
      "Optimization terminated successfully.\n",
      "         Current function value: 0.284097\n",
      "         Iterations 7\n"
     ]
    }
   ],
   "source": [
    "res = mba263.logit(data['buyer_dummy'],data[ ['last','total_','freq'] ])"
   ]
  },
  {
   "cell_type": "code",
   "execution_count": 46,
   "metadata": {
    "executionInfo": {
     "elapsed": 3,
     "status": "ok",
     "timestamp": 1677527657808,
     "user": {
      "displayName": "Olivia Natan",
      "userId": "05221168611265745496"
     },
     "user_tz": 480
    },
    "id": "Qn4SjUCPSJRP"
   },
   "outputs": [],
   "source": [
    "data['p_logit2']=res.predict()"
   ]
  },
  {
   "cell_type": "code",
   "execution_count": 47,
   "metadata": {
    "executionInfo": {
     "elapsed": 2030,
     "status": "ok",
     "timestamp": 1677527659836,
     "user": {
      "displayName": "Olivia Natan",
      "userId": "05221168611265745496"
     },
     "user_tz": 480
    },
    "id": "l0cqyAniSJRP"
   },
   "outputs": [],
   "source": [
    "gain_ols=mba263.gain((data['buyer']=='yes')*1,data['purchprob_ols'],10)\n",
    "gain_logit_rfm=mba263.gain(data['buyer_dummy'],data['p_logit2'],10)"
   ]
  },
  {
   "cell_type": "code",
   "execution_count": 48,
   "metadata": {
    "colab": {
     "base_uri": "https://localhost:8080/",
     "height": 265
    },
    "executionInfo": {
     "elapsed": 16,
     "status": "ok",
     "timestamp": 1677527659837,
     "user": {
      "displayName": "Olivia Natan",
      "userId": "05221168611265745496"
     },
     "user_tz": 480
    },
    "id": "8jHuK5LcSJRQ",
    "outputId": "91012448-96b5-458c-8873-a6c5ab418a84"
   },
   "outputs": [
    {
     "data": {
      "image/png": "[encoded data removed]",
      "text/plain": [
       "<Figure size 640x480 with 1 Axes>"
      ]
     },
     "metadata": {},
     "output_type": "display_data"
    }
   ],
   "source": [
    "plt.plot(gain_rfm,'r')\n",
    "plt.plot(gain_logit,'b')\n",
    "plt.plot(gain_logit_rfm,'g')\n",
    "plt.plot(gain_ols,'m')\n",
    "plt.show()"
   ]
  },
  {
   "cell_type": "markdown",
   "metadata": {
    "id": "BxwjLmHWZjfe"
   },
   "source": [
    "Linear regression looks very similar... did it make reasonable predictions?"
   ]
  },
  {
   "cell_type": "code",
   "execution_count": 49,
   "metadata": {
    "colab": {
     "base_uri": "https://localhost:8080/"
    },
    "executionInfo": {
     "elapsed": 13,
     "status": "ok",
     "timestamp": 1677527659837,
     "user": {
      "displayName": "Olivia Natan",
      "userId": "05221168611265745496"
     },
     "user_tz": 480
    },
    "id": "pWk_ouadSJRQ",
    "outputId": "cb5f37d9-28c7-4aab-ffa9-0f079b387ceb"
   },
   "outputs": [
    {
     "data": {
      "text/plain": [
       "0.1636"
      ]
     },
     "execution_count": 49,
     "metadata": {},
     "output_type": "execute_result"
    }
   ],
   "source": [
    "(res_ols.predict()<0).mean()"
   ]
  },
  {
   "cell_type": "code",
   "execution_count": 50,
   "metadata": {
    "colab": {
     "base_uri": "https://localhost:8080/"
    },
    "executionInfo": {
     "elapsed": 9,
     "status": "ok",
     "timestamp": 1677527659837,
     "user": {
      "displayName": "Olivia Natan",
      "userId": "05221168611265745496"
     },
     "user_tz": 480
    },
    "id": "5o1QoZz1SJRQ",
    "outputId": "5cf9accf-42f6-4e82-df52-7a5b0e7f884f"
   },
   "outputs": [
    {
     "data": {
      "text/plain": [
       "0.0"
      ]
     },
     "execution_count": 50,
     "metadata": {},
     "output_type": "execute_result"
    }
   ],
   "source": [
    "(res_ols.predict()>1).mean()"
   ]
  },
  {
   "cell_type": "markdown",
   "metadata": {
    "id": "gcUizgghcULn"
   },
   "source": [
    "How much did the predictions differ?"
   ]
  },
  {
   "cell_type": "code",
   "execution_count": 51,
   "metadata": {
    "colab": {
     "base_uri": "https://localhost:8080/"
    },
    "executionInfo": {
     "elapsed": 233,
     "status": "ok",
     "timestamp": 1677527791069,
     "user": {
      "displayName": "Olivia Natan",
      "userId": "05221168611265745496"
     },
     "user_tz": 480
    },
    "id": "pvM7ImZXcTnN",
    "outputId": "dbbf4a78-db23-4af5-e617-5de70b065c9c"
   },
   "outputs": [
    {
     "data": {
      "text/plain": [
       "count    5.000000e+04\n",
       "mean    -8.073675e-16\n",
       "std      5.632100e-02\n",
       "min     -3.847116e-01\n",
       "25%     -1.646185e-02\n",
       "50%      5.824536e-03\n",
       "75%      2.902843e-02\n",
       "max      2.075933e-01\n",
       "dtype: float64"
      ]
     },
     "execution_count": 51,
     "metadata": {},
     "output_type": "execute_result"
    }
   ],
   "source": [
    "((data['purchprob_ols']-data['purchprob'])).describe()"
   ]
  },
  {
   "cell_type": "code",
   "execution_count": null,
   "metadata": {
    "id": "lbw2z8_Ucavl"
   },
   "outputs": [],
   "source": []
  }
 ],
 "metadata": {
  "colab": {
   "authorship_tag": "ABX9TyOw7nSM68qqOU3HOcFYdxBF",
   "provenance": []
  },
  "kernelspec": {
   "display_name": "Python 3 (ipykernel)",
   "language": "python",
   "name": "python3"
  },
  "language_info": {
   "codemirror_mode": {
    "name": "ipython",
    "version": 3
   },
   "file_extension": ".py",
   "mimetype": "text/x-python",
   "name": "python",
   "nbconvert_exporter": "python",
   "pygments_lexer": "ipython3",
   "version": "3.9.6"
  }
 },
 "nbformat": 4,
 "nbformat_minor": 4
}
