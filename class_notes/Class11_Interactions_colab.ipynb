{
 "cells": [
  {
   "cell_type": "markdown",
   "metadata": {
    "id": "MEx7JTeWwQ_s"
   },
   "source": [
    "A typical model is described by the following equation\n",
    "$$\\text{outcome}_t=A+B\\times\\text{Predictor}_t+C\\times\\text{Controls}_t$$\n",
    "<br>\n",
    "Examples:\n",
    "<ul>\n",
    "<li>Predicting revenue by customer with on-line presence, controls are age and income.\n",
    "<li>Predicting the response to the car offer, controls are demographics\n",
    "</ul>\n",
    "<br>\n",
    "<b>Assumption: The impact of the predicting variable does not depend on the control variables. Is it reasonable?</b>\n",
    "<br><br>\n",
    "We will learn how to relax this assumption.\n"
   ]
  },
  {
   "cell_type": "markdown",
   "metadata": {
    "id": "6TUogYZQwQ_v"
   },
   "source": [
    "<b>Let’s consider the determinants of executive pay as an example for interpreting interaction effects</b>"
   ]
  },
  {
   "cell_type": "markdown",
   "metadata": {
    "id": "DcjW_CxrwQ_v"
   },
   "source": [
    "Questions:<br>\n",
    "<ol>\n",
    "<li>What is the relationship between years of work experience and executive pay?</li>\n",
    "<li>Does the executive pay for MBAs and non-MBAs differ?</li>\n",
    "<li>Is the relationship between experience and executive pay different for MBAs and non-MBAs?\n",
    "    <ul><li>is there an interaction between experience and having an MBA?</li></ul>\n",
    "</li>\n",
    "</ol>\n",
    "To Answer:\n",
    "<ul>\n",
    "    <li>Sample of 1000 executives</li>\n",
    "<li>salary:                 Salary of executive</li>\n",
    "<li>experience:         Years of work experience</li>\n",
    "<li>MBA:                   MBA degree of executive (0 if no MBA, 1 if MBA)</li>\n",
    "</ul>\n"
   ]
  },
  {
   "cell_type": "code",
   "execution_count": 1,
   "metadata": {
    "colab": {
     "base_uri": "https://localhost:8080/"
    },
    "executionInfo": {
     "elapsed": 1362,
     "status": "ok",
     "timestamp": 1676930712300,
     "user": {
      "displayName": "Olivia Natan",
      "userId": "05221168611265745496"
     },
     "user_tz": 480
    },
    "id": "_JEINDq6wZWs",
    "outputId": "b3ff100a-f685-43ae-cf7f-d3c5d9c818b7"
   },
   "outputs": [
    {
     "ename": "ModuleNotFoundError",
     "evalue": "No module named 'google.colab'",
     "output_type": "error",
     "traceback": [
      "\u001b[0;31m---------------------------------------------------------------------------\u001b[0m",
      "\u001b[0;31mModuleNotFoundError\u001b[0m                       Traceback (most recent call last)",
      "Cell \u001b[0;32mIn [1], line 1\u001b[0m\n\u001b[0;32m----> 1\u001b[0m \u001b[38;5;28;01mfrom\u001b[39;00m \u001b[38;5;21;01mgoogle\u001b[39;00m\u001b[38;5;21;01m.\u001b[39;00m\u001b[38;5;21;01mcolab\u001b[39;00m \u001b[38;5;28;01mimport\u001b[39;00m drive\n\u001b[1;32m      2\u001b[0m drive\u001b[38;5;241m.\u001b[39mmount(\u001b[38;5;124m'\u001b[39m\u001b[38;5;124m/content/drive\u001b[39m\u001b[38;5;124m'\u001b[39m,force_remount\u001b[38;5;241m=\u001b[39m\u001b[38;5;28;01mFalse\u001b[39;00m)\n\u001b[1;32m      3\u001b[0m \u001b[38;5;28;01mimport\u001b[39;00m \u001b[38;5;21;01mos\u001b[39;00m\n",
      "\u001b[0;31mModuleNotFoundError\u001b[0m: No module named 'google.colab'"
     ]
    }
   ],
   "source": [
    "from google.colab import drive\n",
    "drive.mount('/content/drive',force_remount=False)\n",
    "import os\n",
    "os.chdir(\"/content/drive/MyDrive/Teaching/2022-2023/Python/shared\")"
   ]
  },
  {
   "cell_type": "code",
   "execution_count": null,
   "metadata": {
    "executionInfo": {
     "elapsed": 2585,
     "status": "ok",
     "timestamp": 1676930716863,
     "user": {
      "displayName": "Olivia Natan",
      "userId": "05221168611265745496"
     },
     "user_tz": 480
    },
    "id": "ChrFpa7XwQ_v"
   },
   "outputs": [],
   "source": [
    "import pandas\n",
    "import mba263\n",
    "import matplotlib.pyplot as plt"
   ]
  },
  {
   "cell_type": "code",
   "execution_count": null,
   "metadata": {
    "executionInfo": {
     "elapsed": 6,
     "status": "ok",
     "timestamp": 1676930716863,
     "user": {
      "displayName": "Olivia Natan",
      "userId": "05221168611265745496"
     },
     "user_tz": 480
    },
    "id": "FrD10FSrwQ_w"
   },
   "outputs": [],
   "source": [
    "data = pandas.read_csv('data/salary.csv')"
   ]
  },
  {
   "cell_type": "code",
   "execution_count": null,
   "metadata": {
    "colab": {
     "base_uri": "https://localhost:8080/",
     "height": 363
    },
    "executionInfo": {
     "elapsed": 5,
     "status": "ok",
     "timestamp": 1676930716863,
     "user": {
      "displayName": "Olivia Natan",
      "userId": "05221168611265745496"
     },
     "user_tz": 480
    },
    "id": "j0oOM1sXwQ_w",
    "outputId": "8d0dd164-06fb-40f1-c07a-dc6a769bc4cf"
   },
   "outputs": [],
   "source": [
    "data.head(10)"
   ]
  },
  {
   "cell_type": "markdown",
   "metadata": {
    "id": "2Nl2bOcIwQ_x"
   },
   "source": [
    "<b>What is the relationship between years of work experience and executive pay?</b>\n",
    "<br><br>\n",
    "$$\\text{salary}_t=A+B\\times\\text{experience}_t$$\n",
    "<br>"
   ]
  },
  {
   "cell_type": "code",
   "execution_count": null,
   "metadata": {
    "colab": {
     "base_uri": "https://localhost:8080/",
     "height": 452
    },
    "executionInfo": {
     "elapsed": 4,
     "status": "ok",
     "timestamp": 1676930716863,
     "user": {
      "displayName": "Olivia Natan",
      "userId": "05221168611265745496"
     },
     "user_tz": 480
    },
    "id": "Fl3csvPBwQ_x",
    "outputId": "2d299248-78d6-4899-d90e-ca2bcf87f7ea"
   },
   "outputs": [],
   "source": [
    "mba263.regress(data['salary'],data['experience']).summary()"
   ]
  },
  {
   "cell_type": "code",
   "execution_count": null,
   "metadata": {
    "colab": {
     "base_uri": "https://localhost:8080/",
     "height": 296
    },
    "executionInfo": {
     "elapsed": 865,
     "status": "ok",
     "timestamp": 1676930717724,
     "user": {
      "displayName": "Olivia Natan",
      "userId": "05221168611265745496"
     },
     "user_tz": 480
    },
    "id": "CNEc_NxswQ_x",
    "outputId": "42d26260-33e1-4268-c8de-0b4e61d494e2"
   },
   "outputs": [],
   "source": [
    "result1=mba263.regress(data['salary'],data['experience'])\n",
    "data['prediction1']=result1.predict()\n",
    "data.plot.scatter(x='experience',y='salary')\n",
    "datasorted=data.sort_values('experience')\n",
    "plt.plot(datasorted['experience'],datasorted['prediction1'],'r')"
   ]
  },
  {
   "cell_type": "markdown",
   "metadata": {
    "id": "K4EKpcXhwQ_x"
   },
   "source": [
    "<b>Experience is related to education. More experienced people have more education, so let's try\n",
    "to keep education fixed.</b>\n",
    "<br><br>\n",
    "$$\\text{salary}_t=A+B\\times\\text{experience}_t+C\\times\\text{MBA}_t$$\n",
    "<br>"
   ]
  },
  {
   "cell_type": "code",
   "execution_count": null,
   "metadata": {
    "colab": {
     "base_uri": "https://localhost:8080/",
     "height": 473
    },
    "executionInfo": {
     "elapsed": 3,
     "status": "ok",
     "timestamp": 1676930717724,
     "user": {
      "displayName": "Olivia Natan",
      "userId": "05221168611265745496"
     },
     "user_tz": 480
    },
    "id": "WUZBsgfmwQ_y",
    "outputId": "8e625748-2f19-4ca2-a96f-a25eafa7fc3f"
   },
   "outputs": [],
   "source": [
    "mba263.regress(data['salary'],data[ ['experience','mba'] ]).summary()"
   ]
  },
  {
   "cell_type": "markdown",
   "metadata": {
    "id": "AweIhlH8wQ_y"
   },
   "source": [
    "Now we can plot this model.\n",
    "\n",
    "First we will save the output in <code> result2</code>, and store the fitted/predicted values in the original data frame.\n",
    "\n",
    "To visualize this, first we plot the raw data: x axis is experience, y axis is salary.\n",
    "\n",
    "Next we create 3 new data frames: one that sorts on experience, then two that have MBA or no MBA.\n",
    "\n",
    "These new data frames allow us to plot the average prediction by exprience for MBA and no MBA groups as two separate lines.\n",
    "\n",
    "Why do we sort the data? Python draws a line through all the points in order - if we don't plot them in order, it won't show us a nice fitted line."
   ]
  },
  {
   "cell_type": "code",
   "execution_count": null,
   "metadata": {
    "colab": {
     "base_uri": "https://localhost:8080/",
     "height": 296
    },
    "executionInfo": {
     "elapsed": 958,
     "status": "ok",
     "timestamp": 1676930718680,
     "user": {
      "displayName": "Olivia Natan",
      "userId": "05221168611265745496"
     },
     "user_tz": 480
    },
    "id": "OQ_fVHHAwQ_y",
    "outputId": "04f87296-7abb-4242-9955-d2d33a7bc018"
   },
   "outputs": [],
   "source": [
    "result2=mba263.regress(data['salary'],data[ ['experience','mba'] ])\n",
    "data['prediction2']=result2.predict()\n",
    "data.plot.scatter(x='experience',y='salary')\n",
    "datasorted=data.sort_values('experience')\n",
    "datasorted_mba=datasorted[datasorted['mba']==1]\n",
    "datasorted_nonmba=datasorted[datasorted['mba']==0]\n",
    "plt.plot(datasorted_mba['experience'],datasorted_mba['prediction2'],'r')\n",
    "plt.plot(datasorted_nonmba['experience'],datasorted_nonmba['prediction2'],'g')"
   ]
  },
  {
   "cell_type": "code",
   "execution_count": null,
   "metadata": {
    "executionInfo": {
     "elapsed": 5,
     "status": "ok",
     "timestamp": 1676930718941,
     "user": {
      "displayName": "Olivia Natan",
      "userId": "05221168611265745496"
     },
     "user_tz": 480
    },
    "id": "yZSeVIBtwQ_y"
   },
   "outputs": [],
   "source": [
    "data['mba_experience']=data['mba']*data['experience']"
   ]
  },
  {
   "cell_type": "markdown",
   "metadata": {
    "id": "e2RAFpNvwQ_y"
   },
   "source": [
    "<b>Let's allow each year of experience have different effect on salary for MBAs and non-MBAs.</b>\n",
    "<br><br>\n",
    "$$\\text{salary}_t=A+B\\times\\text{experience}_t+C\\times\\text{MBA}_t+D\\times\\text{MBA}_t\\times\\text{experience}_t$$\n",
    "<br>\n",
    "\n",
    "Above, we manually create this <i> interaction variable </i> by taking the product of <code> data['mba'] </code> and <code> data['experience'] </code>\n",
    "\n",
    "Then we can look at the regression result:"
   ]
  },
  {
   "cell_type": "code",
   "execution_count": null,
   "metadata": {
    "colab": {
     "base_uri": "https://localhost:8080/",
     "height": 494
    },
    "executionInfo": {
     "elapsed": 4,
     "status": "ok",
     "timestamp": 1676930718941,
     "user": {
      "displayName": "Olivia Natan",
      "userId": "05221168611265745496"
     },
     "user_tz": 480
    },
    "id": "fzCSQc_BwQ_z",
    "outputId": "94f3361e-b450-49e4-af65-93a002386e0e"
   },
   "outputs": [],
   "source": [
    "mba263.regress(data['salary'],data[ ['experience','mba','mba_experience'] ]).summary()"
   ]
  },
  {
   "cell_type": "markdown",
   "metadata": {
    "id": "cYDOg-RSwQ_z"
   },
   "source": [
    "We'll repeat the plotting approach from above - this time noe that our predictions have different slopes."
   ]
  },
  {
   "cell_type": "code",
   "execution_count": null,
   "metadata": {
    "colab": {
     "base_uri": "https://localhost:8080/",
     "height": 296
    },
    "executionInfo": {
     "elapsed": 260,
     "status": "ok",
     "timestamp": 1676930719555,
     "user": {
      "displayName": "Olivia Natan",
      "userId": "05221168611265745496"
     },
     "user_tz": 480
    },
    "id": "wQHhKa41wQ_z",
    "outputId": "3982475c-095f-4d61-eda5-216697faff3f"
   },
   "outputs": [],
   "source": [
    "result3=mba263.regress(data['salary'],data[ ['experience','mba','mba_experience'] ])\n",
    "data['prediction3']=result3.predict()\n",
    "data.plot.scatter(x='experience',y='salary')\n",
    "datasorted=data.sort_values('experience')\n",
    "datasorted_mba=datasorted[datasorted['mba']==1]\n",
    "datasorted_nonmba=datasorted[datasorted['mba']==0]\n",
    "plt.plot(datasorted_mba['experience'],datasorted_mba['prediction3'],'r')\n",
    "plt.plot(datasorted_nonmba['experience'],datasorted_nonmba['prediction3'],'g')"
   ]
  },
  {
   "cell_type": "code",
   "execution_count": null,
   "metadata": {
    "colab": {
     "base_uri": "https://localhost:8080/",
     "height": 494
    },
    "executionInfo": {
     "elapsed": 4,
     "status": "ok",
     "timestamp": 1676930719828,
     "user": {
      "displayName": "Olivia Natan",
      "userId": "05221168611265745496"
     },
     "user_tz": 480
    },
    "id": "p6GaHY1NwQ_z",
    "outputId": "d2a90db5-8c5e-4011-b7a3-31dae260fd5c"
   },
   "outputs": [],
   "source": [
    "result3.summary()"
   ]
  },
  {
   "cell_type": "markdown",
   "metadata": {
    "id": "2oHB_bMIwQ_z"
   },
   "source": [
    "What values do interacted terms actually take?"
   ]
  },
  {
   "cell_type": "code",
   "execution_count": null,
   "metadata": {
    "colab": {
     "base_uri": "https://localhost:8080/",
     "height": 300
    },
    "executionInfo": {
     "elapsed": 256,
     "status": "ok",
     "timestamp": 1676930721472,
     "user": {
      "displayName": "Olivia Natan",
      "userId": "05221168611265745496"
     },
     "user_tz": 480
    },
    "id": "Sd2GdzDuwQ_z",
    "outputId": "7180a33d-1c1c-4fcf-b859-f1accba08f83"
   },
   "outputs": [],
   "source": [
    "data[['experience']].describe()"
   ]
  },
  {
   "cell_type": "code",
   "execution_count": null,
   "metadata": {
    "colab": {
     "base_uri": "https://localhost:8080/",
     "height": 143
    },
    "executionInfo": {
     "elapsed": 6,
     "status": "ok",
     "timestamp": 1676930721836,
     "user": {
      "displayName": "Olivia Natan",
      "userId": "05221168611265745496"
     },
     "user_tz": 480
    },
    "id": "foGeJvg3wQ_z",
    "outputId": "4bc6678a-a0b2-4e4a-fdcd-7ac8de42dcf9"
   },
   "outputs": [],
   "source": [
    "data.groupby('mba')['mba_experience'].describe()"
   ]
  },
  {
   "cell_type": "markdown",
   "metadata": {
    "id": "7V6SV98swQ_z"
   },
   "source": [
    "$$\\text{salary}_t=A+B\\times\\text{experience}_t+C\\times\\text{MBA}_t+D\\times\\text{MBA}_t\\times\\text{experience}_t$$\n",
    "<br><br>\n",
    "\n",
    "How do we get fitted values?\n",
    "\n",
    "non-MBA -> Salary = A + C * 0+ B * Experience + D * 0 = A + B * Experience<br>\n",
    "MBA -> Salary = A + C * 1+ B * Experience+ D * 1 * Experience = (A+C) + (B + D) * Experience<br>\n"
   ]
  },
  {
   "cell_type": "markdown",
   "metadata": {
    "id": "WXohztslwQ_0"
   },
   "source": [
    "We might also consider interactions with gender - average salary might be lower for women, conditional on experience."
   ]
  },
  {
   "cell_type": "code",
   "execution_count": null,
   "metadata": {
    "colab": {
     "base_uri": "https://localhost:8080/",
     "height": 452
    },
    "executionInfo": {
     "elapsed": 226,
     "status": "ok",
     "timestamp": 1676930723646,
     "user": {
      "displayName": "Olivia Natan",
      "userId": "05221168611265745496"
     },
     "user_tz": 480
    },
    "id": "ZrIJ5bXGwQ_0",
    "outputId": "be639427-76b7-4999-9c0d-2fcec85f2d60"
   },
   "outputs": [],
   "source": [
    "mba263.regress(data['salary'],data['female']).summary()"
   ]
  },
  {
   "cell_type": "code",
   "execution_count": null,
   "metadata": {
    "executionInfo": {
     "elapsed": 5,
     "status": "ok",
     "timestamp": 1676930725216,
     "user": {
      "displayName": "Olivia Natan",
      "userId": "05221168611265745496"
     },
     "user_tz": 480
    },
    "id": "muuk2BTpwQ_0"
   },
   "outputs": [],
   "source": [
    "data['mba_female']=data['female']*data['mba']"
   ]
  },
  {
   "cell_type": "code",
   "execution_count": null,
   "metadata": {
    "colab": {
     "base_uri": "https://localhost:8080/",
     "height": 494
    },
    "executionInfo": {
     "elapsed": 308,
     "status": "ok",
     "timestamp": 1676930725831,
     "user": {
      "displayName": "Olivia Natan",
      "userId": "05221168611265745496"
     },
     "user_tz": 480
    },
    "id": "uDQZPgUwwQ_0",
    "outputId": "824d4710-daef-40a2-c2f5-707113681700"
   },
   "outputs": [],
   "source": [
    "mba263.regress(data['salary'],data[ ['female','mba','mba_female'] ]).summary()"
   ]
  },
  {
   "cell_type": "markdown",
   "metadata": {
    "id": "8CVfFHMNwQ_0"
   },
   "source": [
    "male, non-MBA -> Salary = a + f * 0 + mba * 0 + mba_female * 0 = a <br>\n",
    "male, MBA -> Salary = a + f * 0 + mba * 1 + mba_female * 0 = a + mba <br>\n",
    "female, non-MBA -> Salary = a + f * 1 + mba * 0 + mba_female * 0 = a + f <br>\n",
    "female, MBA -> Salary = a + f * 1 + mba * 1 + mba_female * 1 = a + f + mba + mba_female <br>\n"
   ]
  },
  {
   "cell_type": "markdown",
   "metadata": {
    "id": "5znJJ8elwQ_0"
   },
   "source": [
    "<ol>\n",
    "    <li>Interaction between a continuous variable and a dummy:</li>\n",
    "<ul>\n",
    "    <li>Is experience associated with the salaries for MBAs and non-MBAs</li>\n",
    "differently? Is there an interaction between experience (a\n",
    "continuous variable) and having an MBA (a dummy variable)?\n",
    "</li></ul>\n",
    "<li>\n",
    "    Interaction between two dummies:\n",
    "</li>\n",
    "<ul><li>Is the association between having an MBA and the salaries for men and women different? Is\n",
    "there an interaction between having an MBA (a dummy variable) and\n",
    "gender (a dummy variable)?\n",
    "</li></ul>\n",
    "<li>    \n",
    "Interaction between two continuous variables:\n",
    "</li>\n",
    "<ul><li>Do wealthy people respond the same way to price changes? Is there\n",
    "an interaction between price (continuous variable) and wealth\n",
    "(continuous variable)?\n",
    "</li></ul>\n",
    "</ol>\n",
    "\n"
   ]
  },
  {
   "cell_type": "markdown",
   "metadata": {
    "id": "Q_h821Kw1Xzx"
   },
   "source": [
    "### Example: House price prediction\n",
    "\n",
    "We'll start with running the regression:\n",
    "\n",
    "$$\\text{price}_i=A+B\\times\\text{rooms}_i+C\\times\\text{crime}_i+D\\times\\text{stratio}_i$$\n",
    "<br><br>\n",
    "\n",
    "Housing prices depend on the number of rooms in the house, the local crime rate, and the student-teacher ratio (quality of schools)."
   ]
  },
  {
   "cell_type": "code",
   "execution_count": null,
   "metadata": {
    "colab": {
     "base_uri": "https://localhost:8080/",
     "height": 300
    },
    "executionInfo": {
     "elapsed": 480,
     "status": "ok",
     "timestamp": 1676930730449,
     "user": {
      "displayName": "Olivia Natan",
      "userId": "05221168611265745496"
     },
     "user_tz": 480
    },
    "id": "M4DPpz2I1XJI",
    "outputId": "3f68fda8-8b95-41e4-e52b-0e131288883e"
   },
   "outputs": [],
   "source": [
    "prices=pandas.read_csv('data/house_prices.csv')\n",
    "prices.describe()"
   ]
  },
  {
   "cell_type": "code",
   "execution_count": null,
   "metadata": {
    "colab": {
     "base_uri": "https://localhost:8080/",
     "height": 494
    },
    "executionInfo": {
     "elapsed": 5,
     "status": "ok",
     "timestamp": 1676930759965,
     "user": {
      "displayName": "Olivia Natan",
      "userId": "05221168611265745496"
     },
     "user_tz": 480
    },
    "id": "lN0X68T03FX6",
    "outputId": "01012fa9-7474-472a-b00f-daf29bf268df"
   },
   "outputs": [],
   "source": [
    "mba263.regress(prices['price'],prices[['rooms','crime','stratio']]).summary()"
   ]
  },
  {
   "cell_type": "markdown",
   "metadata": {
    "id": "lg2l9zv83Nsc"
   },
   "source": [
    "What do we see from these results? House prices are higher when the house is larger, and lower when crime is higher or class sizes are larger in local schools.\n",
    "\n",
    "We might think that the quality of schools affects the premium of a larger house. For example, larger families may place extra value on good schools.\n",
    "\n",
    "\n",
    "In such a case, we'd run a regression like\n",
    "\n",
    "$$\\text{price}_i=A+B\\times\\text{rooms}_i+C\\times\\text{crime}_i+D\\times\\text{stratio}_i + E\\times \\text{rooms}_i \\times \\text{stratio}_i$$\n",
    "\n",
    "Then, we can think of the effect of an additional on prices as\n",
    "\n",
    "$$\\frac{\\Delta \\text{price}}{\\Delta \\text{rooms}} = B + E\\times \\text{stratio}_i $$"
   ]
  },
  {
   "cell_type": "code",
   "execution_count": null,
   "metadata": {
    "executionInfo": {
     "elapsed": 446,
     "status": "ok",
     "timestamp": 1676931012586,
     "user": {
      "displayName": "Olivia Natan",
      "userId": "05221168611265745496"
     },
     "user_tz": 480
    },
    "id": "RkJdd_1s4CwL"
   },
   "outputs": [],
   "source": [
    "prices['rooms_ratio']=prices['rooms']*prices['stratio']"
   ]
  },
  {
   "cell_type": "code",
   "execution_count": null,
   "metadata": {
    "colab": {
     "base_uri": "https://localhost:8080/",
     "height": 550
    },
    "executionInfo": {
     "elapsed": 215,
     "status": "ok",
     "timestamp": 1676931527917,
     "user": {
      "displayName": "Olivia Natan",
      "userId": "05221168611265745496"
     },
     "user_tz": 480
    },
    "id": "ECRitPhz4EOh",
    "outputId": "6cca23e2-eed6-40e5-c65c-c82b444f3adf"
   },
   "outputs": [],
   "source": [
    "price_res=mba263.regress(prices['price'],prices[['rooms','crime','stratio','rooms_ratio']])\n",
    "price_res.summary()"
   ]
  },
  {
   "cell_type": "markdown",
   "metadata": {
    "id": "x_b3oLqS4PKe"
   },
   "source": [
    "# We need to be careful interpreting the coefficients on rooms, stratio, and their interaction!\n",
    "\n",
    "Now, the baseline stratio coefficient is interpreted only as the effect of stratio when rooms=0.... does this occur in data?"
   ]
  },
  {
   "cell_type": "code",
   "execution_count": null,
   "metadata": {
    "colab": {
     "base_uri": "https://localhost:8080/",
     "height": 296
    },
    "executionInfo": {
     "elapsed": 1146,
     "status": "ok",
     "timestamp": 1676931353174,
     "user": {
      "displayName": "Olivia Natan",
      "userId": "05221168611265745496"
     },
     "user_tz": 480
    },
    "id": "WGIcXY6N4OFA",
    "outputId": "38115a9e-a775-42cc-dab1-88c7514748d2"
   },
   "outputs": [],
   "source": [
    "plt.hist(prices['rooms'],bins=10)\n",
    "plt.xlabel('Number of Rooms in House')\n",
    "plt.ylabel('Number of Observations')\n",
    "plt.plot()"
   ]
  },
  {
   "cell_type": "markdown",
   "metadata": {
    "id": "tmoZlg975fDR"
   },
   "source": [
    "If we want to know the average effect of an additional student per class, we can say:\n",
    "\n",
    "$$\\text{Avg}(\\frac{\\Delta \\text{price}}{\\Delta \\text{stratio}}) = D + E\\times \\text{Avg(rooms)} $$\n"
   ]
  },
  {
   "cell_type": "code",
   "execution_count": null,
   "metadata": {
    "colab": {
     "base_uri": "https://localhost:8080/"
    },
    "executionInfo": {
     "elapsed": 7,
     "status": "ok",
     "timestamp": 1676931545727,
     "user": {
      "displayName": "Olivia Natan",
      "userId": "05221168611265745496"
     },
     "user_tz": 480
    },
    "id": "ku-EoA7p55Hs",
    "outputId": "715448f8-aced-480e-8e00-0db833371c1f"
   },
   "outputs": [],
   "source": [
    "price_res.params[3] + price_res.params[4]*prices['rooms'].mean()"
   ]
  },
  {
   "cell_type": "markdown",
   "metadata": {
    "id": "iP5GdkiX55Og"
   },
   "source": [
    "Similarly, the average effect of number of rooms on prices is not measured just with B, but also with the effect of average class size.\n",
    "\n",
    "$$\\text{Avg}(\\frac{\\Delta \\text{price}}{\\Delta \\text{rooms}}) = D + E\\times \\text{Avg(stratio)} $$\n"
   ]
  },
  {
   "cell_type": "code",
   "execution_count": null,
   "metadata": {
    "colab": {
     "base_uri": "https://localhost:8080/"
    },
    "executionInfo": {
     "elapsed": 213,
     "status": "ok",
     "timestamp": 1676931593120,
     "user": {
      "displayName": "Olivia Natan",
      "userId": "05221168611265745496"
     },
     "user_tz": 480
    },
    "id": "dhxTLCHh6DMz",
    "outputId": "d183c411-4d07-4ad9-e248-f0f1e150a3c7"
   },
   "outputs": [],
   "source": [
    "price_res.params[1] + price_res.params[4]*prices['stratio'].mean()"
   ]
  },
  {
   "cell_type": "markdown",
   "metadata": {
    "id": "KSqKOICT678v"
   },
   "source": [
    "We might also compute these marginal effects of one variable at a particular level of the interacted variable (rather than at the mean)."
   ]
  },
  {
   "cell_type": "markdown",
   "metadata": {
    "id": "LYKfz8CL1UwJ"
   },
   "source": [
    "### Let's try this with purchase data!"
   ]
  },
  {
   "cell_type": "code",
   "execution_count": null,
   "metadata": {
    "colab": {
     "base_uri": "https://localhost:8080/",
     "height": 300
    },
    "executionInfo": {
     "elapsed": 901,
     "status": "ok",
     "timestamp": 1676931814580,
     "user": {
      "displayName": "Olivia Natan",
      "userId": "05221168611265745496"
     },
     "user_tz": 480
    },
    "id": "SJ1cq1WgwQ_0",
    "outputId": "1e51b988-acfd-40dd-a5c2-97eabb21efed"
   },
   "outputs": [],
   "source": [
    "df=pandas.read_csv('data/logit_interactions.csv')\n",
    "df.describe()"
   ]
  },
  {
   "cell_type": "markdown",
   "metadata": {
    "id": "rbJg-aeAwQ_0"
   },
   "source": [
    "We have 3 dependent variables: Price (randomly assigned in this example), Snow (whether customer lives somewhere with snowy winters), and Ad (whether customer saw an ad). We have a binary/dummy variable for purchase. This is a product targeted for drivers in snowy winter.\n"
   ]
  },
  {
   "cell_type": "code",
   "execution_count": null,
   "metadata": {
    "colab": {
     "base_uri": "https://localhost:8080/",
     "height": 304
    },
    "executionInfo": {
     "elapsed": 480,
     "status": "ok",
     "timestamp": 1676931826016,
     "user": {
      "displayName": "Olivia Natan",
      "userId": "05221168611265745496"
     },
     "user_tz": 480
    },
    "id": "DUq_0laOwQ_0",
    "outputId": "7733bcf8-8ed2-4de0-bb65-f76c32e0f6de"
   },
   "outputs": [],
   "source": [
    "res_logit=mba263.logit(df['purch'],df['price'])\n",
    "df['predicted']=res_logit.predict()\n",
    "res_logit.summary()"
   ]
  },
  {
   "cell_type": "markdown",
   "metadata": {
    "id": "qy2k9CmfwQ_0"
   },
   "source": [
    "Let's see if the purchase frequency is the same in different winter environments and between ad and no-ad customers"
   ]
  },
  {
   "cell_type": "code",
   "execution_count": null,
   "metadata": {
    "colab": {
     "base_uri": "https://localhost:8080/"
    },
    "executionInfo": {
     "elapsed": 206,
     "status": "ok",
     "timestamp": 1676931832716,
     "user": {
      "displayName": "Olivia Natan",
      "userId": "05221168611265745496"
     },
     "user_tz": 480
    },
    "id": "AQjjkOrTwQ_1",
    "outputId": "42a6f108-2bf0-4287-ebe3-b36127d3da12"
   },
   "outputs": [],
   "source": [
    "df.groupby(['snow'])['purch'].mean()"
   ]
  },
  {
   "cell_type": "code",
   "execution_count": null,
   "metadata": {
    "colab": {
     "base_uri": "https://localhost:8080/"
    },
    "executionInfo": {
     "elapsed": 209,
     "status": "ok",
     "timestamp": 1676931837216,
     "user": {
      "displayName": "Olivia Natan",
      "userId": "05221168611265745496"
     },
     "user_tz": 480
    },
    "id": "hYGen57gwQ_1",
    "outputId": "688f84f4-a314-44e4-9330-23c4108106e4"
   },
   "outputs": [],
   "source": [
    "df.groupby(['ad'])['purch'].mean()"
   ]
  },
  {
   "cell_type": "markdown",
   "metadata": {
    "id": "MCN13xOnwQ_1"
   },
   "source": [
    "Maybe we should control for whether the customer lives somewhere snowy and whether they saw advertising..."
   ]
  },
  {
   "cell_type": "code",
   "execution_count": null,
   "metadata": {
    "colab": {
     "base_uri": "https://localhost:8080/",
     "height": 347
    },
    "executionInfo": {
     "elapsed": 231,
     "status": "ok",
     "timestamp": 1676931840431,
     "user": {
      "displayName": "Olivia Natan",
      "userId": "05221168611265745496"
     },
     "user_tz": 480
    },
    "id": "4oztRBW0wQ_1",
    "outputId": "04352948-b877-4e88-d84f-d01ba5acafa7"
   },
   "outputs": [],
   "source": [
    "res_logit2=mba263.logit(df['purch'],df[['price','snow','ad']])\n",
    "res_logit2.summary()"
   ]
  },
  {
   "cell_type": "code",
   "execution_count": null,
   "metadata": {
    "colab": {
     "base_uri": "https://localhost:8080/",
     "height": 143
    },
    "executionInfo": {
     "elapsed": 213,
     "status": "ok",
     "timestamp": 1676931843670,
     "user": {
      "displayName": "Olivia Natan",
      "userId": "05221168611265745496"
     },
     "user_tz": 480
    },
    "id": "eF5sxVlNwQ_1",
    "outputId": "68b353cb-4673-4506-b6c1-315f93e57e40"
   },
   "outputs": [],
   "source": [
    "mba263.odds_ratios(res_logit2)"
   ]
  },
  {
   "cell_type": "markdown",
   "metadata": {
    "id": "UplRCUekwQ_1"
   },
   "source": [
    "We might also think that price sensitivity is differing in snowy areas and/or if customers are advertised to:\n",
    "we need to construct these interactions..."
   ]
  },
  {
   "cell_type": "code",
   "execution_count": null,
   "metadata": {
    "colab": {
     "base_uri": "https://localhost:8080/"
    },
    "executionInfo": {
     "elapsed": 226,
     "status": "ok",
     "timestamp": 1676931853213,
     "user": {
      "displayName": "Olivia Natan",
      "userId": "05221168611265745496"
     },
     "user_tz": 480
    },
    "id": "yt2k4Dc-wQ_1",
    "outputId": "d7179e2c-6e32-4d9f-8300-fed6058f5204"
   },
   "outputs": [],
   "source": [
    "df.groupby(['snow'])['ad'].value_counts()"
   ]
  },
  {
   "cell_type": "markdown",
   "metadata": {
    "id": "b-e6nJi3wQ_1"
   },
   "source": [
    "The firm only runs ads in snowy areas: so the ad effect is the interaction effect already!"
   ]
  },
  {
   "cell_type": "code",
   "execution_count": null,
   "metadata": {
    "executionInfo": {
     "elapsed": 221,
     "status": "ok",
     "timestamp": 1676931855188,
     "user": {
      "displayName": "Olivia Natan",
      "userId": "05221168611265745496"
     },
     "user_tz": 480
    },
    "id": "eI0iZnU6wQ_1"
   },
   "outputs": [],
   "source": [
    "df['snow_price']=df['price']*df['snow']\n",
    "df['ad_price']=df['price']*df['ad']\n"
   ]
  },
  {
   "cell_type": "code",
   "execution_count": null,
   "metadata": {
    "colab": {
     "base_uri": "https://localhost:8080/",
     "height": 389
    },
    "executionInfo": {
     "elapsed": 447,
     "status": "ok",
     "timestamp": 1676931857150,
     "user": {
      "displayName": "Olivia Natan",
      "userId": "05221168611265745496"
     },
     "user_tz": 480
    },
    "id": "GbqOMjUzwQ_1",
    "outputId": "00e34c8a-28ba-413f-be07-2ed0f0e09158"
   },
   "outputs": [],
   "source": [
    "res_logit3=mba263.logit(df['purch'],df[['price','snow_price','ad_price','snow','ad']])\n",
    "res_logit3.summary()"
   ]
  },
  {
   "cell_type": "markdown",
   "metadata": {
    "id": "aCzswakdwQ_1"
   },
   "source": [
    "### Let's return to our donation example from class 8:\n",
    "\n",
    "Now, we have experimental treatments. Households were approached for donation with three types of offers:\n",
    "\n",
    "- Voluntary contribution\n",
    "\n",
    "- Small Gift\n",
    "\n",
    "- Large Gift\n",
    "\n",
    "First, let's run the simple regression of treatment types on donation amount"
   ]
  },
  {
   "cell_type": "code",
   "execution_count": null,
   "metadata": {
    "colab": {
     "base_uri": "https://localhost:8080/",
     "height": 236
    },
    "executionInfo": {
     "elapsed": 991,
     "status": "ok",
     "timestamp": 1676931873492,
     "user": {
      "displayName": "Olivia Natan",
      "userId": "05221168611265745496"
     },
     "user_tz": 480
    },
    "id": "5ICja0vdwQ_1",
    "outputId": "4b32622e-5e07-4bf3-dd01-05ef924cc6cc"
   },
   "outputs": [],
   "source": [
    "df=pandas.read_csv('data/donor.csv')\n",
    "df.head()"
   ]
  },
  {
   "cell_type": "code",
   "execution_count": null,
   "metadata": {
    "colab": {
     "base_uri": "https://localhost:8080/",
     "height": 473
    },
    "executionInfo": {
     "elapsed": 7,
     "status": "ok",
     "timestamp": 1676931874544,
     "user": {
      "displayName": "Olivia Natan",
      "userId": "05221168611265745496"
     },
     "user_tz": 480
    },
    "id": "6xXPUzvOwQ_1",
    "outputId": "200452d0-a595-4309-b4e7-665ee0ad7194"
   },
   "outputs": [],
   "source": [
    "result_0=mba263.regress(df['Donation'],df[['Small_gift','Large_gift']])\n",
    "result_0.summary()"
   ]
  },
  {
   "cell_type": "markdown",
   "metadata": {
    "id": "PyUknpLbwQ_1"
   },
   "source": [
    "How to interpret?\n",
    "\n",
    "Offering a small gift does not enhance donation volume, but offering a large gift does"
   ]
  },
  {
   "cell_type": "markdown",
   "metadata": {
    "id": "7Ary4o9HwQ_2"
   },
   "source": [
    "#### Interaction with being an existing customer\n",
    "\n",
    "We saw before that households who had been approached before and donated - the \"Warm List\" of existing customers - donated at higher rates. Let's try understanding the interaction between prior donation status and the effect of different soliciation mechanisms\n",
    "\n",
    "First we'll need to create these interaction terms:"
   ]
  },
  {
   "cell_type": "code",
   "execution_count": null,
   "metadata": {
    "executionInfo": {
     "elapsed": 223,
     "status": "ok",
     "timestamp": 1676931879008,
     "user": {
      "displayName": "Olivia Natan",
      "userId": "05221168611265745496"
     },
     "user_tz": 480
    },
    "id": "5-xvbwg0wQ_2"
   },
   "outputs": [],
   "source": [
    "df['Warm_VCM']=df['Warm_List']*df['VCM']\n",
    "df['Warm_small']=df['Warm_List']*df['Small_gift']\n",
    "df['Warm_large']=df['Warm_List']*df['Large_gift']"
   ]
  },
  {
   "cell_type": "markdown",
   "metadata": {
    "id": "ZpGlVBLowQ_2"
   },
   "source": [
    "We created a third interaction term - `Warm_VCM` which is the interaction between the voluntary contribution mechanism (no gift) and having donated in the past."
   ]
  },
  {
   "cell_type": "code",
   "execution_count": null,
   "metadata": {
    "colab": {
     "base_uri": "https://localhost:8080/",
     "height": 537
    },
    "executionInfo": {
     "elapsed": 265,
     "status": "ok",
     "timestamp": 1676931880927,
     "user": {
      "displayName": "Olivia Natan",
      "userId": "05221168611265745496"
     },
     "user_tz": 480
    },
    "id": "cLzh3E7uwQ_2",
    "outputId": "1fa61222-494c-4195-d631-feeb84f9174e"
   },
   "outputs": [],
   "source": [
    "result_1=mba263.regress(df['Donation'],df[['Small_gift','Large_gift','Warm_VCM','Warm_small','Warm_large']])\n",
    "result_1.summary()"
   ]
  },
  {
   "cell_type": "markdown",
   "metadata": {
    "id": "teH0K1y7wQ_2"
   },
   "source": [
    "The constant term is the cold-list voluntary contribtuion mechanism mean. We could see this without a regression:"
   ]
  },
  {
   "cell_type": "code",
   "execution_count": null,
   "metadata": {
    "colab": {
     "base_uri": "https://localhost:8080/"
    },
    "executionInfo": {
     "elapsed": 215,
     "status": "ok",
     "timestamp": 1676931882808,
     "user": {
      "displayName": "Olivia Natan",
      "userId": "05221168611265745496"
     },
     "user_tz": 480
    },
    "id": "SpkwsNv4wQ_2",
    "outputId": "00858635-fe26-4f56-9f07-8e20f671073d"
   },
   "outputs": [],
   "source": [
    "df.loc[(df['Warm_List']==0)&(df['Small_gift']==0)&(df['Large_gift']==0)]['Donation'].mean()"
   ]
  },
  {
   "cell_type": "markdown",
   "metadata": {
    "id": "FhY2JBmGwQ_2"
   },
   "source": [
    "How can we interpret the rest of the coefficients?"
   ]
  },
  {
   "cell_type": "markdown",
   "metadata": {
    "id": "pJzfyhEFwQ_2"
   },
   "source": [
    "$$\\text{donation}_i=A+B\\times\\text{Small Gift}_i+C\\times\\text{Large Gift}_i+\n",
    "D\\times\\text{Warm List}_i \\times \\text{VCM}_i + \\\\ E\\times\\text{Warm List}_i \\times \\text{Small Gift}_i +\n",
    "F\\times\\text{Warm List}_i \\times \\text{Large Gift}_i$$\n",
    "\n",
    "<br><br>\n",
    "\n",
    "How do we get fitted values?\n",
    "\n",
    "Cold List -> Donation = A + B * Small Gift + C * Large Gift + D * 0  + E * 0 + F * 0 = A + B * Small Gift + C* Large Gift<br>\n",
    "Warm List -> Donation = A + B * Small Gift + C * Large Gift + D * VCM  + E * Small Gift + F * Large Gift  = A + (B+E) * Small Gift + (C+F)* Large Gift + D * VCM<br>\n",
    "\n",
    "\n",
    "<br>\n",
    "Or, for example,\n",
    "\n",
    "Cold List, Small Gift -> Donation = A + B <br>\n",
    "Warm List, Small Gift -> A + B +E"
   ]
  },
  {
   "cell_type": "markdown",
   "metadata": {
    "id": "LJ71zrVFwQ_2"
   },
   "source": [
    "Next: <b> Does Solicitor Characteristics Matter? </b>"
   ]
  },
  {
   "cell_type": "code",
   "execution_count": null,
   "metadata": {
    "colab": {
     "base_uri": "https://localhost:8080/",
     "height": 644
    },
    "executionInfo": {
     "elapsed": 414,
     "status": "ok",
     "timestamp": 1676931889029,
     "user": {
      "displayName": "Olivia Natan",
      "userId": "05221168611265745496"
     },
     "user_tz": 480
    },
    "id": "7VQGHwHmwQ_2",
    "outputId": "cd0e47ff-bdc9-41e2-f245-840e62e8cdb4"
   },
   "outputs": [],
   "source": [
    "result_2=mba263.regress(df['Donation'],df[['Small_gift','Large_gift','Warm_VCM','Warm_small','Warm_large', \n",
    "                                           'Assertive','Social','Efficacy','Performance','Confidence']])\n",
    "result_2.summary()"
   ]
  },
  {
   "cell_type": "code",
   "execution_count": null,
   "metadata": {
    "id": "5suLQNLJ7fJR"
   },
   "outputs": [],
   "source": []
  }
 ],
 "metadata": {
  "colab": {
   "authorship_tag": "ABX9TyOBOKAJ8AxjBPIj2nHY1soK",
   "provenance": []
  },
  "kernelspec": {
   "display_name": "Python 3 (ipykernel)",
   "language": "python",
   "name": "python3"
  },
  "language_info": {
   "codemirror_mode": {
    "name": "ipython",
    "version": 3
   },
   "file_extension": ".py",
   "mimetype": "text/x-python",
   "name": "python",
   "nbconvert_exporter": "python",
   "pygments_lexer": "ipython3",
   "version": "3.9.6"
  }
 },
 "nbformat": 4,
 "nbformat_minor": 4
}
