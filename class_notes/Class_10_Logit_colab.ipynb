{
 "cells": [
  {
   "cell_type": "code",
   "execution_count": 1,
   "metadata": {
    "executionInfo": {
     "elapsed": 6505,
     "status": "ok",
     "timestamp": 1676401577738,
     "user": {
      "displayName": "Olivia Natan",
      "userId": "05221168611265745496"
     },
     "user_tz": 480
    },
    "id": "YGp9q_BaWwfn"
   },
   "outputs": [],
   "source": [
    "import pandas\n",
    "import mba263\n",
    "import matplotlib.pyplot as plt"
   ]
  },
  {
   "cell_type": "markdown",
   "metadata": {
    "id": "dIBvFfubWwfr"
   },
   "source": [
    "Bring in data on Clinton impeachment votes"
   ]
  },
  {
   "cell_type": "code",
   "execution_count": 2,
   "metadata": {
    "executionInfo": {
     "elapsed": 716,
     "status": "ok",
     "timestamp": 1676401578451,
     "user": {
      "displayName": "Olivia Natan",
      "userId": "05221168611265745496"
     },
     "user_tz": 480
    },
    "id": "mJviCQHuWwfs"
   },
   "outputs": [],
   "source": [
    "data = pandas.read_csv('data/impeach.csv')"
   ]
  },
  {
   "cell_type": "code",
   "execution_count": 3,
   "metadata": {
    "colab": {
     "base_uri": "https://localhost:8080/",
     "height": 0
    },
    "executionInfo": {
     "elapsed": 12,
     "status": "ok",
     "timestamp": 1676401578451,
     "user": {
      "displayName": "Olivia Natan",
      "userId": "05221168611265745496"
     },
     "user_tz": 480
    },
    "id": "zxhvULJxWwft",
    "outputId": "3c09d922-3658-445b-923c-48ac662280b8"
   },
   "outputs": [
    {
     "data": {
      "text/html": [
       "<div>\n",
       "<style scoped>\n",
       "    .dataframe tbody tr th:only-of-type {\n",
       "        vertical-align: middle;\n",
       "    }\n",
       "\n",
       "    .dataframe tbody tr th {\n",
       "        vertical-align: top;\n",
       "    }\n",
       "\n",
       "    .dataframe thead th {\n",
       "        text-align: right;\n",
       "    }\n",
       "</style>\n",
       "<table border=\"1\" class=\"dataframe\">\n",
       "  <thead>\n",
       "    <tr style=\"text-align: right;\">\n",
       "      <th></th>\n",
       "      <th>senator</th>\n",
       "      <th>state</th>\n",
       "      <th>vote1</th>\n",
       "      <th>conserv</th>\n",
       "    </tr>\n",
       "  </thead>\n",
       "  <tbody>\n",
       "    <tr>\n",
       "      <th>0</th>\n",
       "      <td>shelby</td>\n",
       "      <td>AL</td>\n",
       "      <td>not guilty</td>\n",
       "      <td>92</td>\n",
       "    </tr>\n",
       "    <tr>\n",
       "      <th>1</th>\n",
       "      <td>sessions</td>\n",
       "      <td>AL</td>\n",
       "      <td>guilty</td>\n",
       "      <td>100</td>\n",
       "    </tr>\n",
       "    <tr>\n",
       "      <th>2</th>\n",
       "      <td>murkowsk</td>\n",
       "      <td>AK</td>\n",
       "      <td>guilty</td>\n",
       "      <td>68</td>\n",
       "    </tr>\n",
       "    <tr>\n",
       "      <th>3</th>\n",
       "      <td>stevens</td>\n",
       "      <td>AK</td>\n",
       "      <td>not guilty</td>\n",
       "      <td>58</td>\n",
       "    </tr>\n",
       "    <tr>\n",
       "      <th>4</th>\n",
       "      <td>kyl</td>\n",
       "      <td>AZ</td>\n",
       "      <td>guilty</td>\n",
       "      <td>96</td>\n",
       "    </tr>\n",
       "    <tr>\n",
       "      <th>...</th>\n",
       "      <td>...</td>\n",
       "      <td>...</td>\n",
       "      <td>...</td>\n",
       "      <td>...</td>\n",
       "    </tr>\n",
       "    <tr>\n",
       "      <th>95</th>\n",
       "      <td>rockefel</td>\n",
       "      <td>WV</td>\n",
       "      <td>not guilty</td>\n",
       "      <td>8</td>\n",
       "    </tr>\n",
       "    <tr>\n",
       "      <th>96</th>\n",
       "      <td>feingold</td>\n",
       "      <td>WI</td>\n",
       "      <td>not guilty</td>\n",
       "      <td>8</td>\n",
       "    </tr>\n",
       "    <tr>\n",
       "      <th>97</th>\n",
       "      <td>kohl</td>\n",
       "      <td>WI</td>\n",
       "      <td>not guilty</td>\n",
       "      <td>20</td>\n",
       "    </tr>\n",
       "    <tr>\n",
       "      <th>98</th>\n",
       "      <td>enzi</td>\n",
       "      <td>WY</td>\n",
       "      <td>guilty</td>\n",
       "      <td>88</td>\n",
       "    </tr>\n",
       "    <tr>\n",
       "      <th>99</th>\n",
       "      <td>thomas</td>\n",
       "      <td>WY</td>\n",
       "      <td>guilty</td>\n",
       "      <td>84</td>\n",
       "    </tr>\n",
       "  </tbody>\n",
       "</table>\n",
       "<p>100 rows × 4 columns</p>\n",
       "</div>"
      ],
      "text/plain": [
       "     senator state       vote1  conserv\n",
       "0     shelby    AL  not guilty       92\n",
       "1   sessions    AL      guilty      100\n",
       "2   murkowsk    AK      guilty       68\n",
       "3    stevens    AK  not guilty       58\n",
       "4        kyl    AZ      guilty       96\n",
       "..       ...   ...         ...      ...\n",
       "95  rockefel    WV  not guilty        8\n",
       "96  feingold    WI  not guilty        8\n",
       "97      kohl    WI  not guilty       20\n",
       "98      enzi    WY      guilty       88\n",
       "99    thomas    WY      guilty       84\n",
       "\n",
       "[100 rows x 4 columns]"
      ]
     },
     "execution_count": 3,
     "metadata": {},
     "output_type": "execute_result"
    }
   ],
   "source": [
    "data"
   ]
  },
  {
   "cell_type": "markdown",
   "metadata": {
    "id": "unfto3ipWwft"
   },
   "source": [
    "How many people voted guilty?"
   ]
  },
  {
   "cell_type": "code",
   "execution_count": 4,
   "metadata": {
    "colab": {
     "base_uri": "https://localhost:8080/",
     "height": 0
    },
    "executionInfo": {
     "elapsed": 8,
     "status": "ok",
     "timestamp": 1676401578452,
     "user": {
      "displayName": "Olivia Natan",
      "userId": "05221168611265745496"
     },
     "user_tz": 480
    },
    "id": "HTiXI8xTWwfu",
    "outputId": "67ae746f-e4ca-418b-feec-23332244c9fd"
   },
   "outputs": [
    {
     "data": {
      "text/html": [
       "<div>\n",
       "<style scoped>\n",
       "    .dataframe tbody tr th:only-of-type {\n",
       "        vertical-align: middle;\n",
       "    }\n",
       "\n",
       "    .dataframe tbody tr th {\n",
       "        vertical-align: top;\n",
       "    }\n",
       "\n",
       "    .dataframe thead th {\n",
       "        text-align: right;\n",
       "    }\n",
       "</style>\n",
       "<table border=\"1\" class=\"dataframe\">\n",
       "  <thead>\n",
       "    <tr style=\"text-align: right;\">\n",
       "      <th></th>\n",
       "      <th>Name</th>\n",
       "      <th>Count</th>\n",
       "      <th>Frequency</th>\n",
       "    </tr>\n",
       "  </thead>\n",
       "  <tbody>\n",
       "    <tr>\n",
       "      <th>1</th>\n",
       "      <td>guilty</td>\n",
       "      <td>45</td>\n",
       "      <td>0.45</td>\n",
       "    </tr>\n",
       "    <tr>\n",
       "      <th>0</th>\n",
       "      <td>not guilty</td>\n",
       "      <td>55</td>\n",
       "      <td>0.55</td>\n",
       "    </tr>\n",
       "  </tbody>\n",
       "</table>\n",
       "</div>"
      ],
      "text/plain": [
       "         Name  Count  Frequency\n",
       "1      guilty     45       0.45\n",
       "0  not guilty     55       0.55"
      ]
     },
     "execution_count": 4,
     "metadata": {},
     "output_type": "execute_result"
    }
   ],
   "source": [
    "mba263.tabulate(data['vote1'])"
   ]
  },
  {
   "cell_type": "markdown",
   "metadata": {
    "id": "4VEKp4shWwfu"
   },
   "source": [
    "What was the average conservatism rating by vote?"
   ]
  },
  {
   "cell_type": "code",
   "execution_count": 5,
   "metadata": {
    "colab": {
     "base_uri": "https://localhost:8080/",
     "height": 0
    },
    "executionInfo": {
     "elapsed": 164,
     "status": "ok",
     "timestamp": 1676401578609,
     "user": {
      "displayName": "Olivia Natan",
      "userId": "05221168611265745496"
     },
     "user_tz": 480
    },
    "id": "kWG0JEltWwfu",
    "outputId": "38e8a9f5-a2e8-4355-ad12-6bcb80d4c6c4"
   },
   "outputs": [
    {
     "data": {
      "text/html": [
       "<div>\n",
       "<style scoped>\n",
       "    .dataframe tbody tr th:only-of-type {\n",
       "        vertical-align: middle;\n",
       "    }\n",
       "\n",
       "    .dataframe tbody tr th {\n",
       "        vertical-align: top;\n",
       "    }\n",
       "\n",
       "    .dataframe thead th {\n",
       "        text-align: right;\n",
       "    }\n",
       "</style>\n",
       "<table border=\"1\" class=\"dataframe\">\n",
       "  <thead>\n",
       "    <tr style=\"text-align: right;\">\n",
       "      <th></th>\n",
       "      <th>conserv</th>\n",
       "    </tr>\n",
       "    <tr>\n",
       "      <th>vote1</th>\n",
       "      <th></th>\n",
       "    </tr>\n",
       "  </thead>\n",
       "  <tbody>\n",
       "    <tr>\n",
       "      <th>guilty</th>\n",
       "      <td>83.022222</td>\n",
       "    </tr>\n",
       "    <tr>\n",
       "      <th>not guilty</th>\n",
       "      <td>18.090909</td>\n",
       "    </tr>\n",
       "  </tbody>\n",
       "</table>\n",
       "</div>"
      ],
      "text/plain": [
       "              conserv\n",
       "vote1                \n",
       "guilty      83.022222\n",
       "not guilty  18.090909"
      ]
     },
     "execution_count": 5,
     "metadata": {},
     "output_type": "execute_result"
    }
   ],
   "source": [
    "data[ ['vote1','conserv'] ].groupby('vote1').mean()"
   ]
  },
  {
   "cell_type": "markdown",
   "metadata": {
    "id": "PdRRyPMSWwfv"
   },
   "source": [
    "We'll make a dummy variable for guilty vote (1=guilty, 0= not guilty)\n",
    "\n",
    "Then we can plot conservative score against vote"
   ]
  },
  {
   "cell_type": "code",
   "execution_count": 6,
   "metadata": {
    "colab": {
     "base_uri": "https://localhost:8080/",
     "height": 0
    },
    "executionInfo": {
     "elapsed": 323,
     "status": "ok",
     "timestamp": 1676401578927,
     "user": {
      "displayName": "Olivia Natan",
      "userId": "05221168611265745496"
     },
     "user_tz": 480
    },
    "id": "D0QG9IavWwfv",
    "outputId": "63f5a4fc-1e51-45c9-e1a2-7d7549b30ed7"
   },
   "outputs": [
    {
     "data": {
      "text/plain": [
       "<AxesSubplot:xlabel='conserv', ylabel='vote'>"
      ]
     },
     "execution_count": 6,
     "metadata": {},
     "output_type": "execute_result"
    },
    {
     "data": {
      "image/png": "[encoded data removed]",
      "text/plain": [
       "<Figure size 640x480 with 1 Axes>"
      ]
     },
     "metadata": {},
     "output_type": "display_data"
    }
   ],
   "source": [
    "data['vote']=(data['vote1']=='guilty')*1\n",
    "data[ ['vote','conserv'] ].plot.scatter(y='vote',x='conserv')"
   ]
  },
  {
   "cell_type": "markdown",
   "metadata": {
    "id": "nBGA2i3-Wwfw"
   },
   "source": [
    "Let's run a regression to predict this:\n",
    "\n",
    "$ vote = \\alpha + \\beta*conserv $\n",
    "\n"
   ]
  },
  {
   "cell_type": "code",
   "execution_count": 7,
   "metadata": {
    "executionInfo": {
     "elapsed": 6,
     "status": "ok",
     "timestamp": 1676401578928,
     "user": {
      "displayName": "Olivia Natan",
      "userId": "05221168611265745496"
     },
     "user_tz": 480
    },
    "id": "xF-J3PGMWwfw"
   },
   "outputs": [],
   "source": [
    "result=mba263.regress(data['vote'],data['conserv'])"
   ]
  },
  {
   "cell_type": "code",
   "execution_count": 8,
   "metadata": {
    "colab": {
     "base_uri": "https://localhost:8080/"
    },
    "executionInfo": {
     "elapsed": 7,
     "status": "ok",
     "timestamp": 1676401579203,
     "user": {
      "displayName": "Olivia Natan",
      "userId": "05221168611265745496"
     },
     "user_tz": 480
    },
    "id": "sd0iwotDWwfw",
    "outputId": "826ae7a7-a099-4dfb-d76e-4a2dcc8cfb27"
   },
   "outputs": [
    {
     "data": {
      "text/plain": [
       "const     -0.096757\n",
       "conserv    0.011557\n",
       "dtype: float64"
      ]
     },
     "execution_count": 8,
     "metadata": {},
     "output_type": "execute_result"
    }
   ],
   "source": [
    "result.params"
   ]
  },
  {
   "cell_type": "markdown",
   "metadata": {
    "id": "VHhgpX1UWwfw"
   },
   "source": [
    "Then we can plot the results: we will be plotting the model line of fit that uses $\\hat{\\alpha}+ \\hat{\\beta}*conserv$, where $\\hat{}$ denotes a fitted value\n",
    "\n",
    "The first line of code plots our data points again. The second line below plots a line. We use <code>plt.plot([x1,x2],[y1,y2])</code> to plot a line of our own definition. Here, we plot the end points at 0 and 100 on x axis, and fit those values into our model by calling <code>MODELOBJECT.params</code> : $\\hat{\\alpha}+ \\hat{\\beta}*0$ and $\\hat{\\alpha}+ \\hat{\\beta}*100$"
   ]
  },
  {
   "cell_type": "code",
   "execution_count": 9,
   "metadata": {},
   "outputs": [
    {
     "data": {
      "text/plain": [
       "[-0.09675719869614552, 1.0589333502282796]"
      ]
     },
     "execution_count": 9,
     "metadata": {},
     "output_type": "execute_result"
    }
   ],
   "source": [
    "[result.params[0]+result.params[1]*0,result.params[0]+result.params[1]*100]"
   ]
  },
  {
   "cell_type": "code",
   "execution_count": 10,
   "metadata": {
    "colab": {
     "base_uri": "https://localhost:8080/"
    },
    "id": "SPEzNhJaWwfx",
    "outputId": "28981123-6997-4c1b-9671-fa3ba04952b9"
   },
   "outputs": [
    {
     "data": {
      "text/plain": [
       "[<matplotlib.lines.Line2D at 0x7faa243d81c0>]"
      ]
     },
     "execution_count": 10,
     "metadata": {},
     "output_type": "execute_result"
    },
    {
     "data": {
      "image/png": "[encoded data removed]",
      "text/plain": [
       "<Figure size 640x480 with 1 Axes>"
      ]
     },
     "metadata": {},
     "output_type": "display_data"
    }
   ],
   "source": [
    "data[ ['vote','conserv'] ].plot.scatter(y='vote',x='conserv')\n",
    "plt.plot([0,100],[result.params[0]+result.params[1]*0,result.params[0]+result.params[1]*100])"
   ]
  },
  {
   "cell_type": "markdown",
   "metadata": {
    "id": "dEQ3je2mWwfx"
   },
   "source": [
    "Look at the endpoints of this line - they are outside the interval [0,1]. Vote can only take on values of 0 or 1, and our model is trying to fit $Pr(vote=1)$, which should only be in [0,1]. What can we do?\n",
    "\n",
    "We can manually truncate the model- if it predicts >1, assign to 1, if it predicts<0 , assign to 0"
   ]
  },
  {
   "cell_type": "code",
   "execution_count": 11,
   "metadata": {
    "id": "iXTu4vdDWwfx"
   },
   "outputs": [
    {
     "data": {
      "text/plain": [
       "[<matplotlib.lines.Line2D at 0x7faa245d02b0>]"
      ]
     },
     "execution_count": 11,
     "metadata": {},
     "output_type": "execute_result"
    },
    {
     "data": {
      "image/png": "[encoded data removed]",
      "text/plain": [
       "<Figure size 640x480 with 1 Axes>"
      ]
     },
     "metadata": {},
     "output_type": "display_data"
    }
   ],
   "source": [
    "data[ ['vote','conserv'] ].plot.scatter(y='vote',x='conserv')\n",
    "plt.plot([-result.params[0]/result.params[1],(1-result.params[0])/result.params[1]],[0,1])\n",
    "plt.plot([0,-result.params[0]/result.params[1]],[0,0],'r')\n",
    "plt.plot([(1-result.params[0])/result.params[1],100],[1,1],'r')"
   ]
  },
  {
   "cell_type": "markdown",
   "metadata": {
    "id": "5PHJVGR_Wwfx"
   },
   "source": [
    "Here's where we can use logit model! We have a handy function <code>mba263.logit(Y,X)</code> where Y is a vector (single column) dependent variable, and X is one or more explanatory variables."
   ]
  },
  {
   "cell_type": "code",
   "execution_count": 12,
   "metadata": {
    "id": "X3RuXHEyWwfy"
   },
   "outputs": [
    {
     "name": "stdout",
     "output_type": "stream",
     "text": [
      "Optimization terminated successfully.\n",
      "         Current function value: 0.185537\n",
      "         Iterations 8\n"
     ]
    }
   ],
   "source": [
    "result_logit = mba263.logit(data['vote'],data['conserv'])"
   ]
  },
  {
   "cell_type": "markdown",
   "metadata": {
    "id": "b3GS820wWwfz"
   },
   "source": [
    "We will get a <code>.summary()</code> just like with OLS/regression results:"
   ]
  },
  {
   "cell_type": "code",
   "execution_count": 13,
   "metadata": {
    "id": "baR0DB2WWwfz"
   },
   "outputs": [
    {
     "data": {
      "text/html": [
       "<table class=\"simpletable\">\n",
       "<caption>Mba263Logit Regression Results</caption>\n",
       "<tr>\n",
       "  <th>Dep. Variable:</th>         <td>vote</td>       <th>  No. Observations:  </th>  <td>   100</td>  \n",
       "</tr>\n",
       "<tr>\n",
       "  <th>Model:</th>              <td>Mba263Logit</td>   <th>  Df Residuals:      </th>  <td>    98</td>  \n",
       "</tr>\n",
       "<tr>\n",
       "  <th>Method:</th>                 <td>MLE</td>       <th>  Df Model:          </th>  <td>     1</td>  \n",
       "</tr>\n",
       "<tr>\n",
       "  <th>Date:</th>            <td>Fri, 24 Feb 2023</td> <th>  Pseudo R-squ.:     </th>  <td>0.7304</td>  \n",
       "</tr>\n",
       "<tr>\n",
       "  <th>Time:</th>                <td>02:10:59</td>     <th>  Log-Likelihood:    </th> <td> -18.554</td> \n",
       "</tr>\n",
       "<tr>\n",
       "  <th>converged:</th>             <td>True</td>       <th>  LL-Null:           </th> <td> -68.814</td> \n",
       "</tr>\n",
       "<tr>\n",
       "  <th>Covariance Type:</th>     <td>nonrobust</td>    <th>  LLR p-value:       </th> <td>1.172e-23</td>\n",
       "</tr>\n",
       "</table>\n",
       "<table class=\"simpletable\">\n",
       "<tr>\n",
       "     <td></td>        <th>coef</th>     <th>std err</th>      <th>z</th>      <th>P>|z|</th>  <th>[0.025</th>    <th>0.975]</th>  \n",
       "</tr>\n",
       "<tr>\n",
       "  <th>const</th>   <td>   -6.2067</td> <td>    1.567</td> <td>   -3.962</td> <td> 0.000</td> <td>   -9.277</td> <td>   -3.136</td>\n",
       "</tr>\n",
       "<tr>\n",
       "  <th>conserv</th> <td>    0.1083</td> <td>    0.024</td> <td>    4.543</td> <td> 0.000</td> <td>    0.062</td> <td>    0.155</td>\n",
       "</tr>\n",
       "</table>"
      ],
      "text/plain": [
       "<class 'statsmodels.iolib.summary.Summary'>\n",
       "\"\"\"\n",
       "                        Mba263Logit Regression Results                        \n",
       "==============================================================================\n",
       "Dep. Variable:                   vote   No. Observations:                  100\n",
       "Model:                    Mba263Logit   Df Residuals:                       98\n",
       "Method:                           MLE   Df Model:                            1\n",
       "Date:                Fri, 24 Feb 2023   Pseudo R-squ.:                  0.7304\n",
       "Time:                        02:10:59   Log-Likelihood:                -18.554\n",
       "converged:                       True   LL-Null:                       -68.814\n",
       "Covariance Type:            nonrobust   LLR p-value:                 1.172e-23\n",
       "==============================================================================\n",
       "                 coef    std err          z      P>|z|      [0.025      0.975]\n",
       "------------------------------------------------------------------------------\n",
       "const         -6.2067      1.567     -3.962      0.000      -9.277      -3.136\n",
       "conserv        0.1083      0.024      4.543      0.000       0.062       0.155\n",
       "==============================================================================\n",
       "\"\"\""
      ]
     },
     "execution_count": 13,
     "metadata": {},
     "output_type": "execute_result"
    }
   ],
   "source": [
    "result_logit.summary()"
   ]
  },
  {
   "cell_type": "markdown",
   "metadata": {
    "id": "Q8mkF5LtWwf0"
   },
   "source": [
    "We can also get the odds ratios for our non-constant coefficients by using <code>mba263.odds_ratios(MODELOBJECT)</code>"
   ]
  },
  {
   "cell_type": "code",
   "execution_count": 14,
   "metadata": {
    "id": "80JTAbxbWwf0"
   },
   "outputs": [
    {
     "data": {
      "text/html": [
       "<div>\n",
       "<style scoped>\n",
       "    .dataframe tbody tr th:only-of-type {\n",
       "        vertical-align: middle;\n",
       "    }\n",
       "\n",
       "    .dataframe tbody tr th {\n",
       "        vertical-align: top;\n",
       "    }\n",
       "\n",
       "    .dataframe thead th {\n",
       "        text-align: right;\n",
       "    }\n",
       "</style>\n",
       "<table border=\"1\" class=\"dataframe\">\n",
       "  <thead>\n",
       "    <tr style=\"text-align: right;\">\n",
       "      <th></th>\n",
       "      <th>Odds ratios</th>\n",
       "      <th>std err</th>\n",
       "      <th>z</th>\n",
       "      <th>P&gt;|z|</th>\n",
       "      <th>[0.025</th>\n",
       "      <th>0.975]</th>\n",
       "    </tr>\n",
       "  </thead>\n",
       "  <tbody>\n",
       "    <tr>\n",
       "      <th>conserv</th>\n",
       "      <td>1.114338</td>\n",
       "      <td>0.026553</td>\n",
       "      <td>4.30601</td>\n",
       "      <td>0.0</td>\n",
       "      <td>1.062825</td>\n",
       "      <td>1.165852</td>\n",
       "    </tr>\n",
       "  </tbody>\n",
       "</table>\n",
       "</div>"
      ],
      "text/plain": [
       "         Odds ratios   std err        z  P>|z|    [0.025    0.975]\n",
       "conserv     1.114338  0.026553  4.30601    0.0  1.062825  1.165852"
      ]
     },
     "execution_count": 14,
     "metadata": {},
     "output_type": "execute_result"
    }
   ],
   "source": [
    "mba263.odds_ratios(result_logit)"
   ]
  },
  {
   "cell_type": "markdown",
   "metadata": {
    "id": "Teu9D0aeWwf1"
   },
   "source": [
    "We will store the predicted values of the model using <code>MODELOBJECT.predict()</code>, which tells us the <i> fitted values</i> by default - what the model predicts for the data we actually gave it. \n",
    "\n",
    "(note - we can also use this \"out of sample\" on new data - will do this later to predict)"
   ]
  },
  {
   "cell_type": "code",
   "execution_count": 15,
   "metadata": {
    "id": "QpeCGjVXWwf1"
   },
   "outputs": [],
   "source": [
    "data['predicted']=result_logit.predict()"
   ]
  },
  {
   "cell_type": "code",
   "execution_count": 16,
   "metadata": {
    "id": "iS2HpM51Wwf2"
   },
   "outputs": [
    {
     "data": {
      "text/plain": [
       "0     0.977096\n",
       "1     0.990237\n",
       "2     0.760423\n",
       "3     0.518090\n",
       "4     0.985025\n",
       "        ...   \n",
       "95    0.004770\n",
       "96    0.004770\n",
       "97    0.017267\n",
       "98    0.965116\n",
       "99    0.947209\n",
       "Name: predicted, Length: 100, dtype: float64"
      ]
     },
     "execution_count": 16,
     "metadata": {},
     "output_type": "execute_result"
    }
   ],
   "source": [
    "data['predicted']"
   ]
  },
  {
   "cell_type": "markdown",
   "metadata": {
    "id": "nYzXvNTzWwf3"
   },
   "source": [
    "We can plot the predicted values:"
   ]
  },
  {
   "cell_type": "code",
   "execution_count": 17,
   "metadata": {
    "id": "IM7sLUMLWwf3"
   },
   "outputs": [
    {
     "data": {
      "text/plain": [
       "<AxesSubplot:xlabel='conserv', ylabel='predicted'>"
      ]
     },
     "execution_count": 17,
     "metadata": {},
     "output_type": "execute_result"
    },
    {
     "data": {
      "image/png": "[encoded data removed]",
      "text/plain": [
       "<Figure size 640x480 with 1 Axes>"
      ]
     },
     "metadata": {},
     "output_type": "display_data"
    }
   ],
   "source": [
    "data[ ['conserv','predicted'] ].plot(kind='scatter',x='conserv',y='predicted')"
   ]
  },
  {
   "cell_type": "code",
   "execution_count": 18,
   "metadata": {
    "id": "HTFfhzlcWwf3",
    "scrolled": true
   },
   "outputs": [
    {
     "data": {
      "text/html": [
       "<table class=\"simpletable\">\n",
       "<caption>Mba263Logit Regression Results</caption>\n",
       "<tr>\n",
       "  <th>Dep. Variable:</th>         <td>vote</td>       <th>  No. Observations:  </th>  <td>   100</td>  \n",
       "</tr>\n",
       "<tr>\n",
       "  <th>Model:</th>              <td>Mba263Logit</td>   <th>  Df Residuals:      </th>  <td>    98</td>  \n",
       "</tr>\n",
       "<tr>\n",
       "  <th>Method:</th>                 <td>MLE</td>       <th>  Df Model:          </th>  <td>     1</td>  \n",
       "</tr>\n",
       "<tr>\n",
       "  <th>Date:</th>            <td>Fri, 24 Feb 2023</td> <th>  Pseudo R-squ.:     </th>  <td>0.7304</td>  \n",
       "</tr>\n",
       "<tr>\n",
       "  <th>Time:</th>                <td>02:11:00</td>     <th>  Log-Likelihood:    </th> <td> -18.554</td> \n",
       "</tr>\n",
       "<tr>\n",
       "  <th>converged:</th>             <td>True</td>       <th>  LL-Null:           </th> <td> -68.814</td> \n",
       "</tr>\n",
       "<tr>\n",
       "  <th>Covariance Type:</th>     <td>nonrobust</td>    <th>  LLR p-value:       </th> <td>1.172e-23</td>\n",
       "</tr>\n",
       "</table>\n",
       "<table class=\"simpletable\">\n",
       "<tr>\n",
       "     <td></td>        <th>coef</th>     <th>std err</th>      <th>z</th>      <th>P>|z|</th>  <th>[0.025</th>    <th>0.975]</th>  \n",
       "</tr>\n",
       "<tr>\n",
       "  <th>const</th>   <td>   -6.2067</td> <td>    1.567</td> <td>   -3.962</td> <td> 0.000</td> <td>   -9.277</td> <td>   -3.136</td>\n",
       "</tr>\n",
       "<tr>\n",
       "  <th>conserv</th> <td>    0.1083</td> <td>    0.024</td> <td>    4.543</td> <td> 0.000</td> <td>    0.062</td> <td>    0.155</td>\n",
       "</tr>\n",
       "</table>"
      ],
      "text/plain": [
       "<class 'statsmodels.iolib.summary.Summary'>\n",
       "\"\"\"\n",
       "                        Mba263Logit Regression Results                        \n",
       "==============================================================================\n",
       "Dep. Variable:                   vote   No. Observations:                  100\n",
       "Model:                    Mba263Logit   Df Residuals:                       98\n",
       "Method:                           MLE   Df Model:                            1\n",
       "Date:                Fri, 24 Feb 2023   Pseudo R-squ.:                  0.7304\n",
       "Time:                        02:11:00   Log-Likelihood:                -18.554\n",
       "converged:                       True   LL-Null:                       -68.814\n",
       "Covariance Type:            nonrobust   LLR p-value:                 1.172e-23\n",
       "==============================================================================\n",
       "                 coef    std err          z      P>|z|      [0.025      0.975]\n",
       "------------------------------------------------------------------------------\n",
       "const         -6.2067      1.567     -3.962      0.000      -9.277      -3.136\n",
       "conserv        0.1083      0.024      4.543      0.000       0.062       0.155\n",
       "==============================================================================\n",
       "\"\"\""
      ]
     },
     "execution_count": 18,
     "metadata": {},
     "output_type": "execute_result"
    }
   ],
   "source": [
    "result_logit.summary()"
   ]
  },
  {
   "cell_type": "markdown",
   "metadata": {
    "id": "G4CZgvhbWwf3"
   },
   "source": [
    "Last part: let's see how this model makes <i> smooth </i> predictions: if we sort by conservative rating, the model predicts marginally more vote guilty propensity for each subsequent senator."
   ]
  },
  {
   "cell_type": "code",
   "execution_count": 19,
   "metadata": {
    "id": "EFH2MMvOWwf4"
   },
   "outputs": [
    {
     "data": {
      "text/plain": [
       "<matplotlib.collections.PathCollection at 0x7faa24768190>"
      ]
     },
     "execution_count": 19,
     "metadata": {},
     "output_type": "execute_result"
    },
    {
     "data": {
      "image/png": "[encoded data removed]",
      "text/plain": [
       "<Figure size 1400x1000 with 1 Axes>"
      ]
     },
     "metadata": {},
     "output_type": "display_data"
    }
   ],
   "source": [
    "data[ ['conserv','predicted'] ].sort_values('conserv').plot(kind='line',x='conserv',y='predicted',figsize=[14, 10])\n",
    "plt.scatter(data['conserv'], data['predicted'])"
   ]
  },
  {
   "cell_type": "markdown",
   "metadata": {
    "id": "6hN58YFuXPjP"
   },
   "source": [
    "## Additional example: comparisons for Tuscan Lifestyles response prediction"
   ]
  },
  {
   "cell_type": "code",
   "execution_count": 20,
   "metadata": {
    "id": "AX2qjTHlW2K4"
   },
   "outputs": [
    {
     "data": {
      "text/html": [
       "<div>\n",
       "<style scoped>\n",
       "    .dataframe tbody tr th:only-of-type {\n",
       "        vertical-align: middle;\n",
       "    }\n",
       "\n",
       "    .dataframe tbody tr th {\n",
       "        vertical-align: top;\n",
       "    }\n",
       "\n",
       "    .dataframe thead th {\n",
       "        text-align: right;\n",
       "    }\n",
       "</style>\n",
       "<table border=\"1\" class=\"dataframe\">\n",
       "  <thead>\n",
       "    <tr style=\"text-align: right;\">\n",
       "      <th></th>\n",
       "      <th>numords</th>\n",
       "      <th>totdol</th>\n",
       "      <th>last</th>\n",
       "      <th>buyer</th>\n",
       "      <th>dollars</th>\n",
       "      <th>rfm1</th>\n",
       "      <th>rfm2</th>\n",
       "      <th>buyer_dummy</th>\n",
       "    </tr>\n",
       "  </thead>\n",
       "  <tbody>\n",
       "    <tr>\n",
       "      <th>0</th>\n",
       "      <td>7</td>\n",
       "      <td>493</td>\n",
       "      <td>207</td>\n",
       "      <td>no</td>\n",
       "      <td>0</td>\n",
       "      <td>222</td>\n",
       "      <td>211</td>\n",
       "      <td>0</td>\n",
       "    </tr>\n",
       "    <tr>\n",
       "      <th>1</th>\n",
       "      <td>4</td>\n",
       "      <td>423</td>\n",
       "      <td>625</td>\n",
       "      <td>no</td>\n",
       "      <td>0</td>\n",
       "      <td>421</td>\n",
       "      <td>422</td>\n",
       "      <td>0</td>\n",
       "    </tr>\n",
       "    <tr>\n",
       "      <th>2</th>\n",
       "      <td>4</td>\n",
       "      <td>246</td>\n",
       "      <td>28</td>\n",
       "      <td>no</td>\n",
       "      <td>0</td>\n",
       "      <td>134</td>\n",
       "      <td>122</td>\n",
       "      <td>0</td>\n",
       "    </tr>\n",
       "    <tr>\n",
       "      <th>3</th>\n",
       "      <td>3</td>\n",
       "      <td>271</td>\n",
       "      <td>778</td>\n",
       "      <td>no</td>\n",
       "      <td>0</td>\n",
       "      <td>523</td>\n",
       "      <td>532</td>\n",
       "      <td>0</td>\n",
       "    </tr>\n",
       "    <tr>\n",
       "      <th>4</th>\n",
       "      <td>2</td>\n",
       "      <td>148</td>\n",
       "      <td>396</td>\n",
       "      <td>no</td>\n",
       "      <td>0</td>\n",
       "      <td>343</td>\n",
       "      <td>343</td>\n",
       "      <td>0</td>\n",
       "    </tr>\n",
       "  </tbody>\n",
       "</table>\n",
       "</div>"
      ],
      "text/plain": [
       "   numords  totdol  last buyer  dollars  rfm1  rfm2  buyer_dummy\n",
       "0        7     493   207    no        0   222   211            0\n",
       "1        4     423   625    no        0   421   422            0\n",
       "2        4     246    28    no        0   134   122            0\n",
       "3        3     271   778    no        0   523   532            0\n",
       "4        2     148   396    no        0   343   343            0"
      ]
     },
     "execution_count": 20,
     "metadata": {},
     "output_type": "execute_result"
    }
   ],
   "source": [
    "df=pandas.read_csv('data/tuscan_rfm.csv')\n",
    "df['buyer_dummy']=1*(df['buyer']=='yes')\n",
    "df.head()"
   ]
  },
  {
   "cell_type": "markdown",
   "metadata": {
    "id": "JUJZ9CIpXyYq"
   },
   "source": [
    "Let's first try a linear model: \n",
    "\n",
    "$\\text{buyer_dummy} = a + b*\\text{last}$"
   ]
  },
  {
   "cell_type": "code",
   "execution_count": 21,
   "metadata": {
    "id": "tjQcDI1YXq5X"
   },
   "outputs": [
    {
     "data": {
      "text/html": [
       "<table class=\"simpletable\">\n",
       "<caption>Mba263OLS Regression Results</caption>\n",
       "<tr>\n",
       "  <th>Dep. Variable:</th>       <td>buyer_dummy</td>   <th>  R-squared:         </th>  <td>   0.003</td> \n",
       "</tr>\n",
       "<tr>\n",
       "  <th>Model:</th>                <td>Mba263OLS</td>    <th>  Adj. R-squared:    </th>  <td>   0.003</td> \n",
       "</tr>\n",
       "<tr>\n",
       "  <th>Method:</th>             <td>Least Squares</td>  <th>  F-statistic:       </th>  <td>   279.7</td> \n",
       "</tr>\n",
       "<tr>\n",
       "  <th>Date:</th>             <td>Fri, 24 Feb 2023</td> <th>  Prob (F-statistic):</th>  <td>1.09e-62</td> \n",
       "</tr>\n",
       "<tr>\n",
       "  <th>Time:</th>                 <td>02:11:00</td>     <th>  Log-Likelihood:    </th>  <td>  43286.</td> \n",
       "</tr>\n",
       "<tr>\n",
       "  <th>No. Observations:</th>      <td> 96551</td>      <th>  AIC:               </th> <td>-8.657e+04</td>\n",
       "</tr>\n",
       "<tr>\n",
       "  <th>Df Residuals:</th>          <td> 96549</td>      <th>  BIC:               </th> <td>-8.655e+04</td>\n",
       "</tr>\n",
       "<tr>\n",
       "  <th>Df Model:</th>              <td>     1</td>      <th>                     </th>      <td> </td>    \n",
       "</tr>\n",
       "<tr>\n",
       "  <th>Covariance Type:</th>      <td>nonrobust</td>    <th>                     </th>      <td> </td>    \n",
       "</tr>\n",
       "</table>\n",
       "<table class=\"simpletable\">\n",
       "<tr>\n",
       "    <td></td>       <th>coef</th>     <th>std err</th>      <th>t</th>      <th>P>|t|</th>  <th>[0.025</th>    <th>0.975]</th>  \n",
       "</tr>\n",
       "<tr>\n",
       "  <th>const</th> <td>    0.0367</td> <td>    0.001</td> <td>   41.652</td> <td> 0.000</td> <td>    0.035</td> <td>    0.038</td>\n",
       "</tr>\n",
       "<tr>\n",
       "  <th>last</th>  <td>-2.691e-05</td> <td> 1.61e-06</td> <td>  -16.723</td> <td> 0.000</td> <td>-3.01e-05</td> <td>-2.38e-05</td>\n",
       "</tr>\n",
       "</table>\n",
       "<table class=\"simpletable\">\n",
       "<tr>\n",
       "  <th>Omnibus:</th>       <td>107750.967</td> <th>  Durbin-Watson:     </th>  <td>   2.002</td>  \n",
       "</tr>\n",
       "<tr>\n",
       "  <th>Prob(Omnibus):</th>   <td> 0.000</td>   <th>  Jarque-Bera (JB):  </th> <td>5683292.372</td>\n",
       "</tr>\n",
       "<tr>\n",
       "  <th>Skew:</th>            <td> 6.117</td>   <th>  Prob(JB):          </th>  <td>    0.00</td>  \n",
       "</tr>\n",
       "<tr>\n",
       "  <th>Kurtosis:</th>        <td>38.539</td>   <th>  Cond. No.          </th>  <td>    972.</td>  \n",
       "</tr>\n",
       "</table><br/><br/>Notes:<br/>[1] Standard Errors assume that the covariance matrix of the errors is correctly specified."
      ],
      "text/plain": [
       "<class 'statsmodels.iolib.summary.Summary'>\n",
       "\"\"\"\n",
       "                         Mba263OLS Regression Results                         \n",
       "==============================================================================\n",
       "Dep. Variable:            buyer_dummy   R-squared:                       0.003\n",
       "Model:                      Mba263OLS   Adj. R-squared:                  0.003\n",
       "Method:                 Least Squares   F-statistic:                     279.7\n",
       "Date:                Fri, 24 Feb 2023   Prob (F-statistic):           1.09e-62\n",
       "Time:                        02:11:00   Log-Likelihood:                 43286.\n",
       "No. Observations:               96551   AIC:                        -8.657e+04\n",
       "Df Residuals:                   96549   BIC:                        -8.655e+04\n",
       "Df Model:                           1                                         \n",
       "Covariance Type:            nonrobust                                         \n",
       "==============================================================================\n",
       "                 coef    std err          t      P>|t|      [0.025      0.975]\n",
       "------------------------------------------------------------------------------\n",
       "const          0.0367      0.001     41.652      0.000       0.035       0.038\n",
       "last       -2.691e-05   1.61e-06    -16.723      0.000   -3.01e-05   -2.38e-05\n",
       "==============================================================================\n",
       "Omnibus:                   107750.967   Durbin-Watson:                   2.002\n",
       "Prob(Omnibus):                  0.000   Jarque-Bera (JB):          5683292.372\n",
       "Skew:                           6.117   Prob(JB):                         0.00\n",
       "Kurtosis:                      38.539   Cond. No.                         972.\n",
       "==============================================================================\n",
       "\n",
       "Notes:\n",
       "[1] Standard Errors assume that the covariance matrix of the errors is correctly specified.\n",
       "\"\"\""
      ]
     },
     "execution_count": 21,
     "metadata": {},
     "output_type": "execute_result"
    }
   ],
   "source": [
    "mba263.regress(df['buyer_dummy'],df[['last']]).summary()"
   ]
  },
  {
   "cell_type": "markdown",
   "metadata": {
    "id": "hUBKXM5cfK8D"
   },
   "source": [
    "We can save the output using .predict()"
   ]
  },
  {
   "cell_type": "code",
   "execution_count": 22,
   "metadata": {
    "id": "PqY_4Pw7fIwa"
   },
   "outputs": [
    {
     "data": {
      "text/html": [
       "<div>\n",
       "<style scoped>\n",
       "    .dataframe tbody tr th:only-of-type {\n",
       "        vertical-align: middle;\n",
       "    }\n",
       "\n",
       "    .dataframe tbody tr th {\n",
       "        vertical-align: top;\n",
       "    }\n",
       "\n",
       "    .dataframe thead th {\n",
       "        text-align: right;\n",
       "    }\n",
       "</style>\n",
       "<table border=\"1\" class=\"dataframe\">\n",
       "  <thead>\n",
       "    <tr style=\"text-align: right;\">\n",
       "      <th></th>\n",
       "      <th>numords</th>\n",
       "      <th>totdol</th>\n",
       "      <th>last</th>\n",
       "      <th>buyer</th>\n",
       "      <th>dollars</th>\n",
       "      <th>rfm1</th>\n",
       "      <th>rfm2</th>\n",
       "      <th>buyer_dummy</th>\n",
       "      <th>linear_pred</th>\n",
       "    </tr>\n",
       "  </thead>\n",
       "  <tbody>\n",
       "    <tr>\n",
       "      <th>0</th>\n",
       "      <td>7</td>\n",
       "      <td>493</td>\n",
       "      <td>207</td>\n",
       "      <td>no</td>\n",
       "      <td>0</td>\n",
       "      <td>222</td>\n",
       "      <td>211</td>\n",
       "      <td>0</td>\n",
       "      <td>0.031168</td>\n",
       "    </tr>\n",
       "    <tr>\n",
       "      <th>1</th>\n",
       "      <td>4</td>\n",
       "      <td>423</td>\n",
       "      <td>625</td>\n",
       "      <td>no</td>\n",
       "      <td>0</td>\n",
       "      <td>421</td>\n",
       "      <td>422</td>\n",
       "      <td>0</td>\n",
       "      <td>0.019920</td>\n",
       "    </tr>\n",
       "    <tr>\n",
       "      <th>2</th>\n",
       "      <td>4</td>\n",
       "      <td>246</td>\n",
       "      <td>28</td>\n",
       "      <td>no</td>\n",
       "      <td>0</td>\n",
       "      <td>134</td>\n",
       "      <td>122</td>\n",
       "      <td>0</td>\n",
       "      <td>0.035985</td>\n",
       "    </tr>\n",
       "    <tr>\n",
       "      <th>3</th>\n",
       "      <td>3</td>\n",
       "      <td>271</td>\n",
       "      <td>778</td>\n",
       "      <td>no</td>\n",
       "      <td>0</td>\n",
       "      <td>523</td>\n",
       "      <td>532</td>\n",
       "      <td>0</td>\n",
       "      <td>0.015802</td>\n",
       "    </tr>\n",
       "    <tr>\n",
       "      <th>4</th>\n",
       "      <td>2</td>\n",
       "      <td>148</td>\n",
       "      <td>396</td>\n",
       "      <td>no</td>\n",
       "      <td>0</td>\n",
       "      <td>343</td>\n",
       "      <td>343</td>\n",
       "      <td>0</td>\n",
       "      <td>0.026082</td>\n",
       "    </tr>\n",
       "  </tbody>\n",
       "</table>\n",
       "</div>"
      ],
      "text/plain": [
       "   numords  totdol  last buyer  dollars  rfm1  rfm2  buyer_dummy  linear_pred\n",
       "0        7     493   207    no        0   222   211            0     0.031168\n",
       "1        4     423   625    no        0   421   422            0     0.019920\n",
       "2        4     246    28    no        0   134   122            0     0.035985\n",
       "3        3     271   778    no        0   523   532            0     0.015802\n",
       "4        2     148   396    no        0   343   343            0     0.026082"
      ]
     },
     "execution_count": 22,
     "metadata": {},
     "output_type": "execute_result"
    }
   ],
   "source": [
    "df['linear_pred']=mba263.regress(df['buyer_dummy'],df[['last']]).predict()\n",
    "df.head()"
   ]
  },
  {
   "cell_type": "code",
   "execution_count": 23,
   "metadata": {
    "id": "7HjroCYdfYDw"
   },
   "outputs": [
    {
     "data": {
      "text/plain": [
       "<matplotlib.collections.PathCollection at 0x7faa1ec94280>"
      ]
     },
     "execution_count": 23,
     "metadata": {},
     "output_type": "execute_result"
    },
    {
     "data": {
      "image/png": "[encoded data removed]",
      "text/plain": [
       "<Figure size 1000x700 with 1 Axes>"
      ]
     },
     "metadata": {},
     "output_type": "display_data"
    }
   ],
   "source": [
    "df[ ['last','linear_pred'] ].sort_values('last').plot(kind='line',x='last',y='linear_pred',figsize=[10,7])\n",
    "plt.scatter(df.loc[df['linear_pred']>=0,'last'], df.loc[df['linear_pred']>=0,'linear_pred'])\n",
    "plt.scatter(df.loc[df['linear_pred']<0,'last'], df.loc[df['linear_pred']<0,'linear_pred'],color='red')"
   ]
  },
  {
   "cell_type": "markdown",
   "metadata": {
    "id": "i97k6HO6gOEc"
   },
   "source": [
    "We can avoid negative predictions in two ways... mabye we can have a nonlinear term and also include $\\text{last}^2$ ?\n"
   ]
  },
  {
   "cell_type": "code",
   "execution_count": 24,
   "metadata": {
    "id": "OFk8InLYfmEa"
   },
   "outputs": [],
   "source": [
    "df['last_sq']=df['last']**2"
   ]
  },
  {
   "cell_type": "code",
   "execution_count": 25,
   "metadata": {
    "id": "Brnbrd5FgaBI"
   },
   "outputs": [
    {
     "data": {
      "text/html": [
       "<div>\n",
       "<style scoped>\n",
       "    .dataframe tbody tr th:only-of-type {\n",
       "        vertical-align: middle;\n",
       "    }\n",
       "\n",
       "    .dataframe tbody tr th {\n",
       "        vertical-align: top;\n",
       "    }\n",
       "\n",
       "    .dataframe thead th {\n",
       "        text-align: right;\n",
       "    }\n",
       "</style>\n",
       "<table border=\"1\" class=\"dataframe\">\n",
       "  <thead>\n",
       "    <tr style=\"text-align: right;\">\n",
       "      <th></th>\n",
       "      <th>numords</th>\n",
       "      <th>totdol</th>\n",
       "      <th>last</th>\n",
       "      <th>buyer</th>\n",
       "      <th>dollars</th>\n",
       "      <th>rfm1</th>\n",
       "      <th>rfm2</th>\n",
       "      <th>buyer_dummy</th>\n",
       "      <th>linear_pred</th>\n",
       "      <th>last_sq</th>\n",
       "      <th>linear_pred_sq</th>\n",
       "    </tr>\n",
       "  </thead>\n",
       "  <tbody>\n",
       "    <tr>\n",
       "      <th>0</th>\n",
       "      <td>7</td>\n",
       "      <td>493</td>\n",
       "      <td>207</td>\n",
       "      <td>no</td>\n",
       "      <td>0</td>\n",
       "      <td>222</td>\n",
       "      <td>211</td>\n",
       "      <td>0</td>\n",
       "      <td>0.031168</td>\n",
       "      <td>42849</td>\n",
       "      <td>0.031146</td>\n",
       "    </tr>\n",
       "    <tr>\n",
       "      <th>1</th>\n",
       "      <td>4</td>\n",
       "      <td>423</td>\n",
       "      <td>625</td>\n",
       "      <td>no</td>\n",
       "      <td>0</td>\n",
       "      <td>421</td>\n",
       "      <td>422</td>\n",
       "      <td>0</td>\n",
       "      <td>0.019920</td>\n",
       "      <td>390625</td>\n",
       "      <td>0.017397</td>\n",
       "    </tr>\n",
       "    <tr>\n",
       "      <th>2</th>\n",
       "      <td>4</td>\n",
       "      <td>246</td>\n",
       "      <td>28</td>\n",
       "      <td>no</td>\n",
       "      <td>0</td>\n",
       "      <td>134</td>\n",
       "      <td>122</td>\n",
       "      <td>0</td>\n",
       "      <td>0.035985</td>\n",
       "      <td>784</td>\n",
       "      <td>0.040031</td>\n",
       "    </tr>\n",
       "    <tr>\n",
       "      <th>3</th>\n",
       "      <td>3</td>\n",
       "      <td>271</td>\n",
       "      <td>778</td>\n",
       "      <td>no</td>\n",
       "      <td>0</td>\n",
       "      <td>523</td>\n",
       "      <td>532</td>\n",
       "      <td>0</td>\n",
       "      <td>0.015802</td>\n",
       "      <td>605284</td>\n",
       "      <td>0.014814</td>\n",
       "    </tr>\n",
       "    <tr>\n",
       "      <th>4</th>\n",
       "      <td>2</td>\n",
       "      <td>148</td>\n",
       "      <td>396</td>\n",
       "      <td>no</td>\n",
       "      <td>0</td>\n",
       "      <td>343</td>\n",
       "      <td>343</td>\n",
       "      <td>0</td>\n",
       "      <td>0.026082</td>\n",
       "      <td>156816</td>\n",
       "      <td>0.023716</td>\n",
       "    </tr>\n",
       "  </tbody>\n",
       "</table>\n",
       "</div>"
      ],
      "text/plain": [
       "   numords  totdol  last buyer  dollars  rfm1  rfm2  buyer_dummy  linear_pred  \\\n",
       "0        7     493   207    no        0   222   211            0     0.031168   \n",
       "1        4     423   625    no        0   421   422            0     0.019920   \n",
       "2        4     246    28    no        0   134   122            0     0.035985   \n",
       "3        3     271   778    no        0   523   532            0     0.015802   \n",
       "4        2     148   396    no        0   343   343            0     0.026082   \n",
       "\n",
       "   last_sq  linear_pred_sq  \n",
       "0    42849        0.031146  \n",
       "1   390625        0.017397  \n",
       "2      784        0.040031  \n",
       "3   605284        0.014814  \n",
       "4   156816        0.023716  "
      ]
     },
     "execution_count": 25,
     "metadata": {},
     "output_type": "execute_result"
    }
   ],
   "source": [
    "df['linear_pred_sq']=mba263.regress(df['buyer_dummy'],df[['last','last_sq']]).predict()\n",
    "df.head()"
   ]
  },
  {
   "cell_type": "code",
   "execution_count": 26,
   "metadata": {
    "id": "3me3qocJgdvu"
   },
   "outputs": [
    {
     "data": {
      "text/plain": [
       "<matplotlib.collections.PathCollection at 0x7faa09979970>"
      ]
     },
     "execution_count": 26,
     "metadata": {},
     "output_type": "execute_result"
    },
    {
     "data": {
      "image/png": "[encoded data removed]",
      "text/plain": [
       "<Figure size 1000x700 with 1 Axes>"
      ]
     },
     "metadata": {},
     "output_type": "display_data"
    }
   ],
   "source": [
    "df[ ['last','linear_pred_sq'] ].sort_values('last').plot(kind='line',x='last',y='linear_pred_sq',figsize=[10,7])\n",
    "plt.scatter(df.loc[df['linear_pred_sq']>=0,'last'], df.loc[df['linear_pred_sq']>=0,'linear_pred_sq'])\n",
    "plt.scatter(df.loc[df['linear_pred_sq']<0,'last'], df.loc[df['linear_pred_sq']<0,'linear_pred_sq'],color='red')\n"
   ]
  },
  {
   "cell_type": "markdown",
   "metadata": {
    "id": "AGa7sVe4gvuN"
   },
   "source": [
    "Caution: adding square terms may give bizarre predictions! bad model..\n",
    "\n",
    "Let's compare to our RFM/decile plot..."
   ]
  },
  {
   "cell_type": "code",
   "execution_count": 27,
   "metadata": {
    "id": "tscMqiQ_gpGY"
   },
   "outputs": [
    {
     "data": {
      "text/plain": [
       "<AxesSubplot:xlabel='freq_dec'>"
      ]
     },
     "execution_count": 27,
     "metadata": {},
     "output_type": "execute_result"
    },
    {
     "data": {
      "image/png": "[encoded data removed]",
      "text/plain": [
       "<Figure size 640x480 with 1 Axes>"
      ]
     },
     "metadata": {},
     "output_type": "display_data"
    }
   ],
   "source": [
    "df['freq_dec']=mba263.ntile(df['last'],10)\n",
    "df.groupby('freq_dec')['buyer_dummy'].mean().plot(kind='bar')"
   ]
  },
  {
   "cell_type": "code",
   "execution_count": 28,
   "metadata": {
    "id": "x9RA8yiGhNM7"
   },
   "outputs": [
    {
     "data": {
      "text/plain": [
       "<matplotlib.collections.PathCollection at 0x7faa0b867e50>"
      ]
     },
     "execution_count": 28,
     "metadata": {},
     "output_type": "execute_result"
    },
    {
     "data": {
      "image/png": "[encoded data removed]",
      "text/plain": [
       "<Figure size 640x480 with 1 Axes>"
      ]
     },
     "metadata": {},
     "output_type": "display_data"
    }
   ],
   "source": [
    "plt.scatter(df.groupby('freq_dec')['last'].mean(),df.groupby('freq_dec')['buyer_dummy'].mean())"
   ]
  },
  {
   "cell_type": "markdown",
   "metadata": {
    "id": "HHrzqRBKhn54"
   },
   "source": [
    "Can approach with logistic regression!"
   ]
  },
  {
   "cell_type": "code",
   "execution_count": 29,
   "metadata": {
    "id": "JmDmWxbEhYLg"
   },
   "outputs": [
    {
     "name": "stdout",
     "output_type": "stream",
     "text": [
      "Optimization terminated successfully.\n",
      "         Current function value: 0.113747\n",
      "         Iterations 8\n"
     ]
    }
   ],
   "source": [
    "result_logit_tuscan = mba263.logit(df['buyer_dummy'],df['last'])"
   ]
  },
  {
   "cell_type": "code",
   "execution_count": 30,
   "metadata": {
    "id": "-BtfWiRZh7K6"
   },
   "outputs": [
    {
     "data": {
      "text/html": [
       "<table class=\"simpletable\">\n",
       "<caption>Mba263Logit Regression Results</caption>\n",
       "<tr>\n",
       "  <th>Dep. Variable:</th>      <td>buyer_dummy</td>   <th>  No. Observations:  </th>  <td> 96551</td>  \n",
       "</tr>\n",
       "<tr>\n",
       "  <th>Model:</th>              <td>Mba263Logit</td>   <th>  Df Residuals:      </th>  <td> 96549</td>  \n",
       "</tr>\n",
       "<tr>\n",
       "  <th>Method:</th>                 <td>MLE</td>       <th>  Df Model:          </th>  <td>     1</td>  \n",
       "</tr>\n",
       "<tr>\n",
       "  <th>Date:</th>            <td>Fri, 24 Feb 2023</td> <th>  Pseudo R-squ.:     </th>  <td>0.01329</td> \n",
       "</tr>\n",
       "<tr>\n",
       "  <th>Time:</th>                <td>02:11:05</td>     <th>  Log-Likelihood:    </th> <td> -10982.</td> \n",
       "</tr>\n",
       "<tr>\n",
       "  <th>converged:</th>             <td>True</td>       <th>  LL-Null:           </th> <td> -11130.</td> \n",
       "</tr>\n",
       "<tr>\n",
       "  <th>Covariance Type:</th>     <td>nonrobust</td>    <th>  LLR p-value:       </th> <td>2.523e-66</td>\n",
       "</tr>\n",
       "</table>\n",
       "<table class=\"simpletable\">\n",
       "<tr>\n",
       "    <td></td>       <th>coef</th>     <th>std err</th>      <th>z</th>      <th>P>|z|</th>  <th>[0.025</th>    <th>0.975]</th>  \n",
       "</tr>\n",
       "<tr>\n",
       "  <th>const</th> <td>   -3.1882</td> <td>    0.033</td> <td>  -95.361</td> <td> 0.000</td> <td>   -3.254</td> <td>   -3.123</td>\n",
       "</tr>\n",
       "<tr>\n",
       "  <th>last</th>  <td>   -0.0012</td> <td> 7.47e-05</td> <td>  -16.539</td> <td> 0.000</td> <td>   -0.001</td> <td>   -0.001</td>\n",
       "</tr>\n",
       "</table>"
      ],
      "text/plain": [
       "<class 'statsmodels.iolib.summary.Summary'>\n",
       "\"\"\"\n",
       "                        Mba263Logit Regression Results                        \n",
       "==============================================================================\n",
       "Dep. Variable:            buyer_dummy   No. Observations:                96551\n",
       "Model:                    Mba263Logit   Df Residuals:                    96549\n",
       "Method:                           MLE   Df Model:                            1\n",
       "Date:                Fri, 24 Feb 2023   Pseudo R-squ.:                 0.01329\n",
       "Time:                        02:11:05   Log-Likelihood:                -10982.\n",
       "converged:                       True   LL-Null:                       -11130.\n",
       "Covariance Type:            nonrobust   LLR p-value:                 2.523e-66\n",
       "==============================================================================\n",
       "                 coef    std err          z      P>|z|      [0.025      0.975]\n",
       "------------------------------------------------------------------------------\n",
       "const         -3.1882      0.033    -95.361      0.000      -3.254      -3.123\n",
       "last          -0.0012   7.47e-05    -16.539      0.000      -0.001      -0.001\n",
       "==============================================================================\n",
       "\"\"\""
      ]
     },
     "execution_count": 30,
     "metadata": {},
     "output_type": "execute_result"
    }
   ],
   "source": [
    "result_logit_tuscan.summary()"
   ]
  },
  {
   "cell_type": "markdown",
   "metadata": {
    "id": "YywwDJcoiEkA"
   },
   "source": [
    "Save the predictions"
   ]
  },
  {
   "cell_type": "code",
   "execution_count": 31,
   "metadata": {
    "id": "eu_qqvwth8To"
   },
   "outputs": [],
   "source": [
    "df['logit_pred']=result_logit_tuscan.predict()"
   ]
  },
  {
   "cell_type": "code",
   "execution_count": 32,
   "metadata": {
    "id": "n-e8YDniiDgE"
   },
   "outputs": [
    {
     "data": {
      "text/plain": [
       "<matplotlib.collections.PathCollection at 0x7faa094830d0>"
      ]
     },
     "execution_count": 32,
     "metadata": {},
     "output_type": "execute_result"
    },
    {
     "data": {
      "image/png": "[encoded data removed]",
      "text/plain": [
       "<Figure size 1000x700 with 1 Axes>"
      ]
     },
     "metadata": {},
     "output_type": "display_data"
    }
   ],
   "source": [
    "df[ ['last','logit_pred'] ].sort_values('last').plot(kind='line',x='last',y='logit_pred',figsize=[10,7])\n",
    "plt.scatter(df['last'], df['logit_pred'])\n",
    "plt.scatter(df.groupby('freq_dec')['last'].mean(),df.groupby('freq_dec')['buyer_dummy'].mean(),color='red')"
   ]
  },
  {
   "cell_type": "code",
   "execution_count": null,
   "metadata": {
    "id": "3ufthW5OiPCz"
   },
   "outputs": [],
   "source": []
  }
 ],
 "metadata": {
  "colab": {
   "authorship_tag": "ABX9TyN9kCiIn20cCI9e1Rw8fTVk",
   "provenance": []
  },
  "kernelspec": {
   "display_name": "Python 3 (ipykernel)",
   "language": "python",
   "name": "python3"
  },
  "language_info": {
   "codemirror_mode": {
    "name": "ipython",
    "version": 3
   },
   "file_extension": ".py",
   "mimetype": "text/x-python",
   "name": "python",
   "nbconvert_exporter": "python",
   "pygments_lexer": "ipython3",
   "version": "3.9.6"
  }
 },
 "nbformat": 4,
 "nbformat_minor": 4
}
