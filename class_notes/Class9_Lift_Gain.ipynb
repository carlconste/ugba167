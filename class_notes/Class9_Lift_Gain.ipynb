{
 "cells": [
  {
   "cell_type": "code",
   "execution_count": 1,
   "metadata": {
    "id": "wxP_PF6VBFM0"
   },
   "outputs": [],
   "source": [
    "import mba263\n",
    "import pandas\n",
    "import matplotlib.pyplot as plt"
   ]
  },
  {
   "cell_type": "code",
   "execution_count": 2,
   "metadata": {
    "id": "_nj9WPD7BFM3"
   },
   "outputs": [],
   "source": [
    "data=pandas.read_csv('data/tuscan_rfm.csv')"
   ]
  },
  {
   "cell_type": "markdown",
   "metadata": {
    "id": "NQWRMsvXBFM3"
   },
   "source": [
    "Let's compare different rfm scores"
   ]
  },
  {
   "cell_type": "code",
   "execution_count": 3,
   "metadata": {
    "id": "9d_zBcvKBFM5"
   },
   "outputs": [
    {
     "data": {
      "text/html": [
       "<div>\n",
       "<style scoped>\n",
       "    .dataframe tbody tr th:only-of-type {\n",
       "        vertical-align: middle;\n",
       "    }\n",
       "\n",
       "    .dataframe tbody tr th {\n",
       "        vertical-align: top;\n",
       "    }\n",
       "\n",
       "    .dataframe thead th {\n",
       "        text-align: right;\n",
       "    }\n",
       "</style>\n",
       "<table border=\"1\" class=\"dataframe\">\n",
       "  <thead>\n",
       "    <tr style=\"text-align: right;\">\n",
       "      <th></th>\n",
       "      <th>rfm1</th>\n",
       "      <th>rfm2</th>\n",
       "    </tr>\n",
       "  </thead>\n",
       "  <tbody>\n",
       "    <tr>\n",
       "      <th>0</th>\n",
       "      <td>222</td>\n",
       "      <td>211</td>\n",
       "    </tr>\n",
       "    <tr>\n",
       "      <th>1</th>\n",
       "      <td>421</td>\n",
       "      <td>422</td>\n",
       "    </tr>\n",
       "    <tr>\n",
       "      <th>2</th>\n",
       "      <td>134</td>\n",
       "      <td>122</td>\n",
       "    </tr>\n",
       "    <tr>\n",
       "      <th>3</th>\n",
       "      <td>523</td>\n",
       "      <td>532</td>\n",
       "    </tr>\n",
       "    <tr>\n",
       "      <th>4</th>\n",
       "      <td>343</td>\n",
       "      <td>343</td>\n",
       "    </tr>\n",
       "    <tr>\n",
       "      <th>...</th>\n",
       "      <td>...</td>\n",
       "      <td>...</td>\n",
       "    </tr>\n",
       "    <tr>\n",
       "      <th>96546</th>\n",
       "      <td>124</td>\n",
       "      <td>112</td>\n",
       "    </tr>\n",
       "    <tr>\n",
       "      <th>96547</th>\n",
       "      <td>342</td>\n",
       "      <td>343</td>\n",
       "    </tr>\n",
       "    <tr>\n",
       "      <th>96548</th>\n",
       "      <td>551</td>\n",
       "      <td>552</td>\n",
       "    </tr>\n",
       "    <tr>\n",
       "      <th>96549</th>\n",
       "      <td>453</td>\n",
       "      <td>455</td>\n",
       "    </tr>\n",
       "    <tr>\n",
       "      <th>96550</th>\n",
       "      <td>435</td>\n",
       "      <td>445</td>\n",
       "    </tr>\n",
       "  </tbody>\n",
       "</table>\n",
       "<p>96551 rows × 2 columns</p>\n",
       "</div>"
      ],
      "text/plain": [
       "       rfm1  rfm2\n",
       "0       222   211\n",
       "1       421   422\n",
       "2       134   122\n",
       "3       523   532\n",
       "4       343   343\n",
       "...     ...   ...\n",
       "96546   124   112\n",
       "96547   342   343\n",
       "96548   551   552\n",
       "96549   453   455\n",
       "96550   435   445\n",
       "\n",
       "[96551 rows x 2 columns]"
      ]
     },
     "execution_count": 3,
     "metadata": {},
     "output_type": "execute_result"
    }
   ],
   "source": [
    "data[ ['rfm1','rfm2'] ]"
   ]
  },
  {
   "cell_type": "code",
   "execution_count": 4,
   "metadata": {
    "id": "zVI95lccBFM5"
   },
   "outputs": [
    {
     "data": {
      "text/html": [
       "<div>\n",
       "<style scoped>\n",
       "    .dataframe tbody tr th:only-of-type {\n",
       "        vertical-align: middle;\n",
       "    }\n",
       "\n",
       "    .dataframe tbody tr th {\n",
       "        vertical-align: top;\n",
       "    }\n",
       "\n",
       "    .dataframe thead th {\n",
       "        text-align: right;\n",
       "    }\n",
       "</style>\n",
       "<table border=\"1\" class=\"dataframe\">\n",
       "  <thead>\n",
       "    <tr style=\"text-align: right;\">\n",
       "      <th></th>\n",
       "      <th>numords</th>\n",
       "      <th>totdol</th>\n",
       "      <th>last</th>\n",
       "      <th>buyer</th>\n",
       "      <th>dollars</th>\n",
       "      <th>rfm2</th>\n",
       "    </tr>\n",
       "    <tr>\n",
       "      <th>rfm1</th>\n",
       "      <th></th>\n",
       "      <th></th>\n",
       "      <th></th>\n",
       "      <th></th>\n",
       "      <th></th>\n",
       "      <th></th>\n",
       "    </tr>\n",
       "  </thead>\n",
       "  <tbody>\n",
       "    <tr>\n",
       "      <th>111</th>\n",
       "      <td>719</td>\n",
       "      <td>719</td>\n",
       "      <td>719</td>\n",
       "      <td>719</td>\n",
       "      <td>719</td>\n",
       "      <td>719</td>\n",
       "    </tr>\n",
       "    <tr>\n",
       "      <th>112</th>\n",
       "      <td>719</td>\n",
       "      <td>719</td>\n",
       "      <td>719</td>\n",
       "      <td>719</td>\n",
       "      <td>719</td>\n",
       "      <td>719</td>\n",
       "    </tr>\n",
       "    <tr>\n",
       "      <th>113</th>\n",
       "      <td>718</td>\n",
       "      <td>718</td>\n",
       "      <td>718</td>\n",
       "      <td>718</td>\n",
       "      <td>718</td>\n",
       "      <td>718</td>\n",
       "    </tr>\n",
       "    <tr>\n",
       "      <th>114</th>\n",
       "      <td>717</td>\n",
       "      <td>717</td>\n",
       "      <td>717</td>\n",
       "      <td>717</td>\n",
       "      <td>717</td>\n",
       "      <td>717</td>\n",
       "    </tr>\n",
       "    <tr>\n",
       "      <th>115</th>\n",
       "      <td>723</td>\n",
       "      <td>723</td>\n",
       "      <td>723</td>\n",
       "      <td>723</td>\n",
       "      <td>723</td>\n",
       "      <td>723</td>\n",
       "    </tr>\n",
       "    <tr>\n",
       "      <th>...</th>\n",
       "      <td>...</td>\n",
       "      <td>...</td>\n",
       "      <td>...</td>\n",
       "      <td>...</td>\n",
       "      <td>...</td>\n",
       "      <td>...</td>\n",
       "    </tr>\n",
       "    <tr>\n",
       "      <th>551</th>\n",
       "      <td>1672</td>\n",
       "      <td>1672</td>\n",
       "      <td>1672</td>\n",
       "      <td>1672</td>\n",
       "      <td>1672</td>\n",
       "      <td>1672</td>\n",
       "    </tr>\n",
       "    <tr>\n",
       "      <th>552</th>\n",
       "      <td>1646</td>\n",
       "      <td>1646</td>\n",
       "      <td>1646</td>\n",
       "      <td>1646</td>\n",
       "      <td>1646</td>\n",
       "      <td>1646</td>\n",
       "    </tr>\n",
       "    <tr>\n",
       "      <th>553</th>\n",
       "      <td>1663</td>\n",
       "      <td>1663</td>\n",
       "      <td>1663</td>\n",
       "      <td>1663</td>\n",
       "      <td>1663</td>\n",
       "      <td>1663</td>\n",
       "    </tr>\n",
       "    <tr>\n",
       "      <th>554</th>\n",
       "      <td>1274</td>\n",
       "      <td>1274</td>\n",
       "      <td>1274</td>\n",
       "      <td>1274</td>\n",
       "      <td>1274</td>\n",
       "      <td>1274</td>\n",
       "    </tr>\n",
       "    <tr>\n",
       "      <th>555</th>\n",
       "      <td>2139</td>\n",
       "      <td>2139</td>\n",
       "      <td>2139</td>\n",
       "      <td>2139</td>\n",
       "      <td>2139</td>\n",
       "      <td>2139</td>\n",
       "    </tr>\n",
       "  </tbody>\n",
       "</table>\n",
       "<p>115 rows × 6 columns</p>\n",
       "</div>"
      ],
      "text/plain": [
       "      numords  totdol  last  buyer  dollars  rfm2\n",
       "rfm1                                             \n",
       "111       719     719   719    719      719   719\n",
       "112       719     719   719    719      719   719\n",
       "113       718     718   718    718      718   718\n",
       "114       717     717   717    717      717   717\n",
       "115       723     723   723    723      723   723\n",
       "...       ...     ...   ...    ...      ...   ...\n",
       "551      1672    1672  1672   1672     1672  1672\n",
       "552      1646    1646  1646   1646     1646  1646\n",
       "553      1663    1663  1663   1663     1663  1663\n",
       "554      1274    1274  1274   1274     1274  1274\n",
       "555      2139    2139  2139   2139     2139  2139\n",
       "\n",
       "[115 rows x 6 columns]"
      ]
     },
     "execution_count": 4,
     "metadata": {},
     "output_type": "execute_result"
    }
   ],
   "source": [
    "data.groupby('rfm1').count()"
   ]
  },
  {
   "cell_type": "markdown",
   "metadata": {
    "id": "Bwqnlp9tBFM6"
   },
   "source": [
    "Let's look at the frequency across bins: x axis is RFM cell size"
   ]
  },
  {
   "cell_type": "code",
   "execution_count": 5,
   "metadata": {
    "id": "k9_VTEgQBFM6"
   },
   "outputs": [
    {
     "data": {
      "text/plain": [
       "array([[<AxesSubplot:title={'center':'numords'}>]], dtype=object)"
      ]
     },
     "execution_count": 5,
     "metadata": {},
     "output_type": "execute_result"
    },
    {
     "data": {
      "image/png": "[encoded data removed]",
      "text/plain": [
       "<Figure size 640x480 with 1 Axes>"
      ]
     },
     "metadata": {},
     "output_type": "display_data"
    }
   ],
   "source": [
    "data[ ['numords','rfm1'] ].groupby('rfm1').count().hist(bins=30)"
   ]
  },
  {
   "cell_type": "code",
   "execution_count": 6,
   "metadata": {
    "id": "qCtFPzy4BFM6"
   },
   "outputs": [
    {
     "data": {
      "text/plain": [
       "array([[<AxesSubplot:title={'center':'numords'}>]], dtype=object)"
      ]
     },
     "execution_count": 6,
     "metadata": {},
     "output_type": "execute_result"
    },
    {
     "data": {
      "image/png": "[encoded data removed]",
      "text/plain": [
       "<Figure size 640x480 with 1 Axes>"
      ]
     },
     "metadata": {},
     "output_type": "display_data"
    }
   ],
   "source": [
    "data[ ['numords','rfm2'] ].groupby('rfm2').count().hist(bins=30)"
   ]
  },
  {
   "cell_type": "markdown",
   "metadata": {
    "id": "5jtkjf7wBFM7"
   },
   "source": [
    "<ul>\n",
    "<li>Only independent approach allows comparisons across groups\n",
    "e.g. 113 customer spent more than 224 customer. Cannot make such statement in sequential approach. Why: can only compare within RxF bin across M\n",
    "<li>Sequential approach has advantage of looking at more homogeneous groups b/c M value computed within R and F groups \n",
    "<li>Sequential approach implicitly weights R > F > M\n",
    "<li>From targeting perspective, often little difference in performance (in terms of return on marketing)\n",
    "<li>Sequential approach has advantage when forecasting profit and ROI\n",
    "</ul>"
   ]
  },
  {
   "cell_type": "markdown",
   "metadata": {
    "id": "wL_Hnm1oBFM8"
   },
   "source": [
    "<h1>Asssesing models' perfomance</h1>"
   ]
  },
  {
   "cell_type": "code",
   "execution_count": 7,
   "metadata": {
    "id": "21L8OMQjBFM8"
   },
   "outputs": [],
   "source": [
    "data['buyer_dummy']=(data['buyer']=='yes')*1\n",
    "data['rec_dec']=mba263.ntile(data['last'],10)"
   ]
  },
  {
   "cell_type": "code",
   "execution_count": 8,
   "metadata": {
    "id": "cPzXUfcTBFM8",
    "scrolled": true
   },
   "outputs": [
    {
     "data": {
      "text/html": [
       "<div>\n",
       "<style scoped>\n",
       "    .dataframe tbody tr th:only-of-type {\n",
       "        vertical-align: middle;\n",
       "    }\n",
       "\n",
       "    .dataframe tbody tr th {\n",
       "        vertical-align: top;\n",
       "    }\n",
       "\n",
       "    .dataframe thead tr th {\n",
       "        text-align: left;\n",
       "    }\n",
       "\n",
       "    .dataframe thead tr:last-of-type th {\n",
       "        text-align: right;\n",
       "    }\n",
       "</style>\n",
       "<table border=\"1\" class=\"dataframe\">\n",
       "  <thead>\n",
       "    <tr>\n",
       "      <th></th>\n",
       "      <th colspan=\"8\" halign=\"left\">buyer_dummy</th>\n",
       "    </tr>\n",
       "    <tr>\n",
       "      <th></th>\n",
       "      <th>count</th>\n",
       "      <th>mean</th>\n",
       "      <th>std</th>\n",
       "      <th>min</th>\n",
       "      <th>25%</th>\n",
       "      <th>50%</th>\n",
       "      <th>75%</th>\n",
       "      <th>max</th>\n",
       "    </tr>\n",
       "    <tr>\n",
       "      <th>rec_dec</th>\n",
       "      <th></th>\n",
       "      <th></th>\n",
       "      <th></th>\n",
       "      <th></th>\n",
       "      <th></th>\n",
       "      <th></th>\n",
       "      <th></th>\n",
       "      <th></th>\n",
       "    </tr>\n",
       "  </thead>\n",
       "  <tbody>\n",
       "    <tr>\n",
       "      <th>0</th>\n",
       "      <td>9734.0</td>\n",
       "      <td>0.045305</td>\n",
       "      <td>0.207983</td>\n",
       "      <td>0.0</td>\n",
       "      <td>0.0</td>\n",
       "      <td>0.0</td>\n",
       "      <td>0.0</td>\n",
       "      <td>1.0</td>\n",
       "    </tr>\n",
       "    <tr>\n",
       "      <th>1</th>\n",
       "      <td>9714.0</td>\n",
       "      <td>0.034589</td>\n",
       "      <td>0.182746</td>\n",
       "      <td>0.0</td>\n",
       "      <td>0.0</td>\n",
       "      <td>0.0</td>\n",
       "      <td>0.0</td>\n",
       "      <td>1.0</td>\n",
       "    </tr>\n",
       "    <tr>\n",
       "      <th>2</th>\n",
       "      <td>9569.0</td>\n",
       "      <td>0.030829</td>\n",
       "      <td>0.172862</td>\n",
       "      <td>0.0</td>\n",
       "      <td>0.0</td>\n",
       "      <td>0.0</td>\n",
       "      <td>0.0</td>\n",
       "      <td>1.0</td>\n",
       "    </tr>\n",
       "    <tr>\n",
       "      <th>3</th>\n",
       "      <td>9653.0</td>\n",
       "      <td>0.027971</td>\n",
       "      <td>0.164897</td>\n",
       "      <td>0.0</td>\n",
       "      <td>0.0</td>\n",
       "      <td>0.0</td>\n",
       "      <td>0.0</td>\n",
       "      <td>1.0</td>\n",
       "    </tr>\n",
       "    <tr>\n",
       "      <th>4</th>\n",
       "      <td>9886.0</td>\n",
       "      <td>0.020534</td>\n",
       "      <td>0.141826</td>\n",
       "      <td>0.0</td>\n",
       "      <td>0.0</td>\n",
       "      <td>0.0</td>\n",
       "      <td>0.0</td>\n",
       "      <td>1.0</td>\n",
       "    </tr>\n",
       "    <tr>\n",
       "      <th>5</th>\n",
       "      <td>9495.0</td>\n",
       "      <td>0.020221</td>\n",
       "      <td>0.140763</td>\n",
       "      <td>0.0</td>\n",
       "      <td>0.0</td>\n",
       "      <td>0.0</td>\n",
       "      <td>0.0</td>\n",
       "      <td>1.0</td>\n",
       "    </tr>\n",
       "    <tr>\n",
       "      <th>6</th>\n",
       "      <td>9572.0</td>\n",
       "      <td>0.017969</td>\n",
       "      <td>0.132846</td>\n",
       "      <td>0.0</td>\n",
       "      <td>0.0</td>\n",
       "      <td>0.0</td>\n",
       "      <td>0.0</td>\n",
       "      <td>1.0</td>\n",
       "    </tr>\n",
       "    <tr>\n",
       "      <th>7</th>\n",
       "      <td>9741.0</td>\n",
       "      <td>0.016733</td>\n",
       "      <td>0.128277</td>\n",
       "      <td>0.0</td>\n",
       "      <td>0.0</td>\n",
       "      <td>0.0</td>\n",
       "      <td>0.0</td>\n",
       "      <td>1.0</td>\n",
       "    </tr>\n",
       "    <tr>\n",
       "      <th>8</th>\n",
       "      <td>9602.0</td>\n",
       "      <td>0.017809</td>\n",
       "      <td>0.132263</td>\n",
       "      <td>0.0</td>\n",
       "      <td>0.0</td>\n",
       "      <td>0.0</td>\n",
       "      <td>0.0</td>\n",
       "      <td>1.0</td>\n",
       "    </tr>\n",
       "    <tr>\n",
       "      <th>9</th>\n",
       "      <td>9585.0</td>\n",
       "      <td>0.013354</td>\n",
       "      <td>0.114792</td>\n",
       "      <td>0.0</td>\n",
       "      <td>0.0</td>\n",
       "      <td>0.0</td>\n",
       "      <td>0.0</td>\n",
       "      <td>1.0</td>\n",
       "    </tr>\n",
       "  </tbody>\n",
       "</table>\n",
       "</div>"
      ],
      "text/plain": [
       "        buyer_dummy                                             \n",
       "              count      mean       std  min  25%  50%  75%  max\n",
       "rec_dec                                                         \n",
       "0            9734.0  0.045305  0.207983  0.0  0.0  0.0  0.0  1.0\n",
       "1            9714.0  0.034589  0.182746  0.0  0.0  0.0  0.0  1.0\n",
       "2            9569.0  0.030829  0.172862  0.0  0.0  0.0  0.0  1.0\n",
       "3            9653.0  0.027971  0.164897  0.0  0.0  0.0  0.0  1.0\n",
       "4            9886.0  0.020534  0.141826  0.0  0.0  0.0  0.0  1.0\n",
       "5            9495.0  0.020221  0.140763  0.0  0.0  0.0  0.0  1.0\n",
       "6            9572.0  0.017969  0.132846  0.0  0.0  0.0  0.0  1.0\n",
       "7            9741.0  0.016733  0.128277  0.0  0.0  0.0  0.0  1.0\n",
       "8            9602.0  0.017809  0.132263  0.0  0.0  0.0  0.0  1.0\n",
       "9            9585.0  0.013354  0.114792  0.0  0.0  0.0  0.0  1.0"
      ]
     },
     "execution_count": 8,
     "metadata": {},
     "output_type": "execute_result"
    }
   ],
   "source": [
    "data[ ['buyer_dummy','rec_dec'] ].groupby('rec_dec').describe()"
   ]
  },
  {
   "cell_type": "markdown",
   "metadata": {
    "id": "iPnj0hV2BFM8"
   },
   "source": [
    "We're adding a new column that is the average purchase rate by rfm1 cell"
   ]
  },
  {
   "cell_type": "code",
   "execution_count": 9,
   "metadata": {
    "id": "8d-wJ12nBFM8"
   },
   "outputs": [
    {
     "data": {
      "text/html": [
       "<div>\n",
       "<style scoped>\n",
       "    .dataframe tbody tr th:only-of-type {\n",
       "        vertical-align: middle;\n",
       "    }\n",
       "\n",
       "    .dataframe tbody tr th {\n",
       "        vertical-align: top;\n",
       "    }\n",
       "\n",
       "    .dataframe thead th {\n",
       "        text-align: right;\n",
       "    }\n",
       "</style>\n",
       "<table border=\"1\" class=\"dataframe\">\n",
       "  <thead>\n",
       "    <tr style=\"text-align: right;\">\n",
       "      <th></th>\n",
       "      <th>numords</th>\n",
       "      <th>totdol</th>\n",
       "      <th>last</th>\n",
       "      <th>buyer</th>\n",
       "      <th>dollars</th>\n",
       "      <th>rfm1</th>\n",
       "      <th>rfm2</th>\n",
       "      <th>buyer_dummy</th>\n",
       "      <th>rec_dec</th>\n",
       "      <th>response1</th>\n",
       "    </tr>\n",
       "  </thead>\n",
       "  <tbody>\n",
       "    <tr>\n",
       "      <th>0</th>\n",
       "      <td>7</td>\n",
       "      <td>493</td>\n",
       "      <td>207</td>\n",
       "      <td>no</td>\n",
       "      <td>0</td>\n",
       "      <td>222</td>\n",
       "      <td>211</td>\n",
       "      <td>0</td>\n",
       "      <td>2</td>\n",
       "      <td>0.029308</td>\n",
       "    </tr>\n",
       "    <tr>\n",
       "      <th>1</th>\n",
       "      <td>4</td>\n",
       "      <td>423</td>\n",
       "      <td>625</td>\n",
       "      <td>no</td>\n",
       "      <td>0</td>\n",
       "      <td>421</td>\n",
       "      <td>422</td>\n",
       "      <td>0</td>\n",
       "      <td>6</td>\n",
       "      <td>0.028832</td>\n",
       "    </tr>\n",
       "    <tr>\n",
       "      <th>2</th>\n",
       "      <td>4</td>\n",
       "      <td>246</td>\n",
       "      <td>28</td>\n",
       "      <td>no</td>\n",
       "      <td>0</td>\n",
       "      <td>134</td>\n",
       "      <td>122</td>\n",
       "      <td>0</td>\n",
       "      <td>0</td>\n",
       "      <td>0.043630</td>\n",
       "    </tr>\n",
       "    <tr>\n",
       "      <th>3</th>\n",
       "      <td>3</td>\n",
       "      <td>271</td>\n",
       "      <td>778</td>\n",
       "      <td>no</td>\n",
       "      <td>0</td>\n",
       "      <td>523</td>\n",
       "      <td>532</td>\n",
       "      <td>0</td>\n",
       "      <td>8</td>\n",
       "      <td>0.018349</td>\n",
       "    </tr>\n",
       "    <tr>\n",
       "      <th>4</th>\n",
       "      <td>2</td>\n",
       "      <td>148</td>\n",
       "      <td>396</td>\n",
       "      <td>no</td>\n",
       "      <td>0</td>\n",
       "      <td>343</td>\n",
       "      <td>343</td>\n",
       "      <td>0</td>\n",
       "      <td>4</td>\n",
       "      <td>0.018158</td>\n",
       "    </tr>\n",
       "    <tr>\n",
       "      <th>...</th>\n",
       "      <td>...</td>\n",
       "      <td>...</td>\n",
       "      <td>...</td>\n",
       "      <td>...</td>\n",
       "      <td>...</td>\n",
       "      <td>...</td>\n",
       "      <td>...</td>\n",
       "      <td>...</td>\n",
       "      <td>...</td>\n",
       "      <td>...</td>\n",
       "    </tr>\n",
       "    <tr>\n",
       "      <th>96546</th>\n",
       "      <td>8</td>\n",
       "      <td>440</td>\n",
       "      <td>30</td>\n",
       "      <td>no</td>\n",
       "      <td>0</td>\n",
       "      <td>124</td>\n",
       "      <td>112</td>\n",
       "      <td>0</td>\n",
       "      <td>0</td>\n",
       "      <td>0.040373</td>\n",
       "    </tr>\n",
       "    <tr>\n",
       "      <th>96547</th>\n",
       "      <td>2</td>\n",
       "      <td>228</td>\n",
       "      <td>375</td>\n",
       "      <td>yes</td>\n",
       "      <td>40</td>\n",
       "      <td>342</td>\n",
       "      <td>343</td>\n",
       "      <td>1</td>\n",
       "      <td>4</td>\n",
       "      <td>0.018253</td>\n",
       "    </tr>\n",
       "    <tr>\n",
       "      <th>96548</th>\n",
       "      <td>1</td>\n",
       "      <td>280</td>\n",
       "      <td>932</td>\n",
       "      <td>yes</td>\n",
       "      <td>200</td>\n",
       "      <td>551</td>\n",
       "      <td>552</td>\n",
       "      <td>1</td>\n",
       "      <td>9</td>\n",
       "      <td>0.007177</td>\n",
       "    </tr>\n",
       "    <tr>\n",
       "      <th>96549</th>\n",
       "      <td>1</td>\n",
       "      <td>74</td>\n",
       "      <td>639</td>\n",
       "      <td>no</td>\n",
       "      <td>0</td>\n",
       "      <td>453</td>\n",
       "      <td>455</td>\n",
       "      <td>0</td>\n",
       "      <td>7</td>\n",
       "      <td>0.011770</td>\n",
       "    </tr>\n",
       "    <tr>\n",
       "      <th>96550</th>\n",
       "      <td>2</td>\n",
       "      <td>73</td>\n",
       "      <td>583</td>\n",
       "      <td>no</td>\n",
       "      <td>0</td>\n",
       "      <td>435</td>\n",
       "      <td>445</td>\n",
       "      <td>0</td>\n",
       "      <td>6</td>\n",
       "      <td>0.025424</td>\n",
       "    </tr>\n",
       "  </tbody>\n",
       "</table>\n",
       "<p>96551 rows × 10 columns</p>\n",
       "</div>"
      ],
      "text/plain": [
       "       numords  totdol  last buyer  dollars  rfm1  rfm2  buyer_dummy  rec_dec  \\\n",
       "0            7     493   207    no        0   222   211            0        2   \n",
       "1            4     423   625    no        0   421   422            0        6   \n",
       "2            4     246    28    no        0   134   122            0        0   \n",
       "3            3     271   778    no        0   523   532            0        8   \n",
       "4            2     148   396    no        0   343   343            0        4   \n",
       "...        ...     ...   ...   ...      ...   ...   ...          ...      ...   \n",
       "96546        8     440    30    no        0   124   112            0        0   \n",
       "96547        2     228   375   yes       40   342   343            1        4   \n",
       "96548        1     280   932   yes      200   551   552            1        9   \n",
       "96549        1      74   639    no        0   453   455            0        7   \n",
       "96550        2      73   583    no        0   435   445            0        6   \n",
       "\n",
       "       response1  \n",
       "0       0.029308  \n",
       "1       0.028832  \n",
       "2       0.043630  \n",
       "3       0.018349  \n",
       "4       0.018158  \n",
       "...          ...  \n",
       "96546   0.040373  \n",
       "96547   0.018253  \n",
       "96548   0.007177  \n",
       "96549   0.011770  \n",
       "96550   0.025424  \n",
       "\n",
       "[96551 rows x 10 columns]"
      ]
     },
     "execution_count": 9,
     "metadata": {},
     "output_type": "execute_result"
    }
   ],
   "source": [
    "data['response1']=mba263.get_means(data['buyer_dummy'],data['rfm1'])\n",
    "data"
   ]
  },
  {
   "cell_type": "code",
   "execution_count": 10,
   "metadata": {
    "id": "NfnnTTinBFM9"
   },
   "outputs": [],
   "source": [
    "data['rfm_dec']=mba263.ntile(data['response1'],10)"
   ]
  },
  {
   "cell_type": "code",
   "execution_count": 11,
   "metadata": {
    "id": "rK8RAMbSBFM9"
   },
   "outputs": [
    {
     "data": {
      "text/html": [
       "<div>\n",
       "<style scoped>\n",
       "    .dataframe tbody tr th:only-of-type {\n",
       "        vertical-align: middle;\n",
       "    }\n",
       "\n",
       "    .dataframe tbody tr th {\n",
       "        vertical-align: top;\n",
       "    }\n",
       "\n",
       "    .dataframe thead tr th {\n",
       "        text-align: left;\n",
       "    }\n",
       "\n",
       "    .dataframe thead tr:last-of-type th {\n",
       "        text-align: right;\n",
       "    }\n",
       "</style>\n",
       "<table border=\"1\" class=\"dataframe\">\n",
       "  <thead>\n",
       "    <tr>\n",
       "      <th></th>\n",
       "      <th colspan=\"8\" halign=\"left\">buyer_dummy</th>\n",
       "    </tr>\n",
       "    <tr>\n",
       "      <th></th>\n",
       "      <th>count</th>\n",
       "      <th>mean</th>\n",
       "      <th>std</th>\n",
       "      <th>min</th>\n",
       "      <th>25%</th>\n",
       "      <th>50%</th>\n",
       "      <th>75%</th>\n",
       "      <th>max</th>\n",
       "    </tr>\n",
       "    <tr>\n",
       "      <th>rfm_dec</th>\n",
       "      <th></th>\n",
       "      <th></th>\n",
       "      <th></th>\n",
       "      <th></th>\n",
       "      <th></th>\n",
       "      <th></th>\n",
       "      <th></th>\n",
       "      <th></th>\n",
       "    </tr>\n",
       "  </thead>\n",
       "  <tbody>\n",
       "    <tr>\n",
       "      <th>0</th>\n",
       "      <td>9781.0</td>\n",
       "      <td>0.009406</td>\n",
       "      <td>0.096532</td>\n",
       "      <td>0.0</td>\n",
       "      <td>0.0</td>\n",
       "      <td>0.0</td>\n",
       "      <td>0.0</td>\n",
       "      <td>1.0</td>\n",
       "    </tr>\n",
       "    <tr>\n",
       "      <th>1</th>\n",
       "      <td>9859.0</td>\n",
       "      <td>0.012780</td>\n",
       "      <td>0.112331</td>\n",
       "      <td>0.0</td>\n",
       "      <td>0.0</td>\n",
       "      <td>0.0</td>\n",
       "      <td>0.0</td>\n",
       "      <td>1.0</td>\n",
       "    </tr>\n",
       "    <tr>\n",
       "      <th>2</th>\n",
       "      <td>9637.0</td>\n",
       "      <td>0.014424</td>\n",
       "      <td>0.119235</td>\n",
       "      <td>0.0</td>\n",
       "      <td>0.0</td>\n",
       "      <td>0.0</td>\n",
       "      <td>0.0</td>\n",
       "      <td>1.0</td>\n",
       "    </tr>\n",
       "    <tr>\n",
       "      <th>3</th>\n",
       "      <td>9899.0</td>\n",
       "      <td>0.016466</td>\n",
       "      <td>0.127267</td>\n",
       "      <td>0.0</td>\n",
       "      <td>0.0</td>\n",
       "      <td>0.0</td>\n",
       "      <td>0.0</td>\n",
       "      <td>1.0</td>\n",
       "    </tr>\n",
       "    <tr>\n",
       "      <th>4</th>\n",
       "      <td>9471.0</td>\n",
       "      <td>0.019005</td>\n",
       "      <td>0.136551</td>\n",
       "      <td>0.0</td>\n",
       "      <td>0.0</td>\n",
       "      <td>0.0</td>\n",
       "      <td>0.0</td>\n",
       "      <td>1.0</td>\n",
       "    </tr>\n",
       "    <tr>\n",
       "      <th>5</th>\n",
       "      <td>9407.0</td>\n",
       "      <td>0.021792</td>\n",
       "      <td>0.146012</td>\n",
       "      <td>0.0</td>\n",
       "      <td>0.0</td>\n",
       "      <td>0.0</td>\n",
       "      <td>0.0</td>\n",
       "      <td>1.0</td>\n",
       "    </tr>\n",
       "    <tr>\n",
       "      <th>6</th>\n",
       "      <td>9980.0</td>\n",
       "      <td>0.025852</td>\n",
       "      <td>0.158701</td>\n",
       "      <td>0.0</td>\n",
       "      <td>0.0</td>\n",
       "      <td>0.0</td>\n",
       "      <td>0.0</td>\n",
       "      <td>1.0</td>\n",
       "    </tr>\n",
       "    <tr>\n",
       "      <th>7</th>\n",
       "      <td>9333.0</td>\n",
       "      <td>0.029144</td>\n",
       "      <td>0.168219</td>\n",
       "      <td>0.0</td>\n",
       "      <td>0.0</td>\n",
       "      <td>0.0</td>\n",
       "      <td>0.0</td>\n",
       "      <td>1.0</td>\n",
       "    </tr>\n",
       "    <tr>\n",
       "      <th>8</th>\n",
       "      <td>10056.0</td>\n",
       "      <td>0.039181</td>\n",
       "      <td>0.194034</td>\n",
       "      <td>0.0</td>\n",
       "      <td>0.0</td>\n",
       "      <td>0.0</td>\n",
       "      <td>0.0</td>\n",
       "      <td>1.0</td>\n",
       "    </tr>\n",
       "    <tr>\n",
       "      <th>9</th>\n",
       "      <td>9128.0</td>\n",
       "      <td>0.059378</td>\n",
       "      <td>0.236343</td>\n",
       "      <td>0.0</td>\n",
       "      <td>0.0</td>\n",
       "      <td>0.0</td>\n",
       "      <td>0.0</td>\n",
       "      <td>1.0</td>\n",
       "    </tr>\n",
       "  </tbody>\n",
       "</table>\n",
       "</div>"
      ],
      "text/plain": [
       "        buyer_dummy                                             \n",
       "              count      mean       std  min  25%  50%  75%  max\n",
       "rfm_dec                                                         \n",
       "0            9781.0  0.009406  0.096532  0.0  0.0  0.0  0.0  1.0\n",
       "1            9859.0  0.012780  0.112331  0.0  0.0  0.0  0.0  1.0\n",
       "2            9637.0  0.014424  0.119235  0.0  0.0  0.0  0.0  1.0\n",
       "3            9899.0  0.016466  0.127267  0.0  0.0  0.0  0.0  1.0\n",
       "4            9471.0  0.019005  0.136551  0.0  0.0  0.0  0.0  1.0\n",
       "5            9407.0  0.021792  0.146012  0.0  0.0  0.0  0.0  1.0\n",
       "6            9980.0  0.025852  0.158701  0.0  0.0  0.0  0.0  1.0\n",
       "7            9333.0  0.029144  0.168219  0.0  0.0  0.0  0.0  1.0\n",
       "8           10056.0  0.039181  0.194034  0.0  0.0  0.0  0.0  1.0\n",
       "9            9128.0  0.059378  0.236343  0.0  0.0  0.0  0.0  1.0"
      ]
     },
     "execution_count": 11,
     "metadata": {},
     "output_type": "execute_result"
    }
   ],
   "source": [
    "data[ ['buyer_dummy','rfm_dec'] ].groupby('rfm_dec').describe()"
   ]
  },
  {
   "cell_type": "markdown",
   "metadata": {
    "id": "DTs2AoL2BFM9"
   },
   "source": [
    "You can use this table to compute lift and gain in excel. Alternatively, mba263 module has lift and gain calculation built in.\n",
    "\n",
    "Lift takes outcome variable (here, buyer_dummy) as first argument and predicted response (response1) as second argument. Third argument tells us number of bins (default is 10)"
   ]
  },
  {
   "cell_type": "code",
   "execution_count": 12,
   "metadata": {
    "id": "bi2ZkRPlBFM9"
   },
   "outputs": [
    {
     "data": {
      "text/plain": [
       "array([241.79586931, 198.68354727, 172.49969078, 155.07161343,\n",
       "       142.04628944, 131.37385456, 121.90946843, 113.99368524,\n",
       "       106.95471874, 100.        ])"
      ]
     },
     "execution_count": 12,
     "metadata": {},
     "output_type": "execute_result"
    }
   ],
   "source": [
    "mba263.lift(data['buyer_dummy'],data['response1'])"
   ]
  },
  {
   "cell_type": "markdown",
   "metadata": {
    "id": "ohMFY-icBFM9"
   },
   "source": [
    "Lift returns 10 'lift' numbers, in descending order by cell. How do we interpret?\n",
    "\n",
    "The first number is for top 10% of customers by response probability: it tells us the % response improvement if we target just the top 10% (versus random/everyone), the second number is for targeting the top 20%, etc"
   ]
  },
  {
   "cell_type": "markdown",
   "metadata": {
    "id": "QJN4btf6BFM-"
   },
   "source": [
    "We can also use a built-in function for gain - Percentage of total buyers we expect from targeting X% of customers - where the first number is 0%, second number is targeting 10%, etc\n",
    "\n",
    "Result is between 0 and 1 - this is a CDF!"
   ]
  },
  {
   "cell_type": "code",
   "execution_count": 13,
   "metadata": {
    "id": "TZk7ODYCBFM-"
   },
   "outputs": [
    {
     "data": {
      "text/plain": [
       "array([0.        , 0.22859553, 0.39477014, 0.50948967, 0.61830451,\n",
       "       0.70476592, 0.78068326, 0.84943062, 0.90805567, 0.96119781,\n",
       "       1.        ])"
      ]
     },
     "execution_count": 13,
     "metadata": {},
     "output_type": "execute_result"
    }
   ],
   "source": [
    "mba263.gain(data['buyer_dummy'],data['response1'])"
   ]
  },
  {
   "cell_type": "code",
   "execution_count": 14,
   "metadata": {
    "id": "0Uq_Ux1KBFM-"
   },
   "outputs": [
    {
     "data": {
      "text/plain": [
       "[<matplotlib.lines.Line2D at 0x7facf805db20>]"
      ]
     },
     "execution_count": 14,
     "metadata": {},
     "output_type": "execute_result"
    },
    {
     "data": {
      "image/png": "[encoded data removed]",
      "text/plain": [
       "<Figure size 640x480 with 1 Axes>"
      ]
     },
     "metadata": {},
     "output_type": "display_data"
    }
   ],
   "source": [
    "plt.plot(mba263.lift(data['buyer_dummy'],data['response1']))"
   ]
  },
  {
   "cell_type": "code",
   "execution_count": 15,
   "metadata": {
    "id": "2UiQmWx4BFM-"
   },
   "outputs": [
    {
     "data": {
      "text/plain": [
       "[<matplotlib.lines.Line2D at 0x7facfed36f40>]"
      ]
     },
     "execution_count": 15,
     "metadata": {},
     "output_type": "execute_result"
    },
    {
     "data": {
      "image/png": "[encoded data removed]",
      "text/plain": [
       "<Figure size 640x480 with 1 Axes>"
      ]
     },
     "metadata": {},
     "output_type": "display_data"
    }
   ],
   "source": [
    "plt.plot(mba263.gain(data['buyer_dummy'],data['response1']))"
   ]
  },
  {
   "cell_type": "code",
   "execution_count": null,
   "metadata": {
    "id": "fz2sEoovBFM-"
   },
   "outputs": [],
   "source": []
  },
  {
   "cell_type": "code",
   "execution_count": null,
   "metadata": {
    "id": "g5XDZfZNBFM-"
   },
   "outputs": [],
   "source": []
  },
  {
   "cell_type": "code",
   "execution_count": null,
   "metadata": {
    "id": "HfH6u9VaBFM_"
   },
   "outputs": [],
   "source": []
  }
 ],
 "metadata": {
  "colab": {
   "provenance": []
  },
  "kernelspec": {
   "display_name": "Python 3 (ipykernel)",
   "language": "python",
   "name": "python3"
  },
  "language_info": {
   "codemirror_mode": {
    "name": "ipython",
    "version": 3
   },
   "file_extension": ".py",
   "mimetype": "text/x-python",
   "name": "python",
   "nbconvert_exporter": "python",
   "pygments_lexer": "ipython3",
   "version": "3.9.6"
  }
 },
 "nbformat": 4,
 "nbformat_minor": 4
}
