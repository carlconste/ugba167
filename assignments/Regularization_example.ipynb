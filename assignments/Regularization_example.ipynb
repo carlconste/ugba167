{
 "cells": [
  {
   "cell_type": "code",
   "execution_count": null,
   "metadata": {
    "colab": {
     "base_uri": "https://localhost:8080/"
    },
    "executionInfo": {
     "elapsed": 16448,
     "status": "ok",
     "timestamp": 1677106197733,
     "user": {
      "displayName": "Olivia Natan",
      "userId": "05221168611265745496"
     },
     "user_tz": 480
    },
    "id": "IbDA66xPUSEa",
    "outputId": "6cb1aefc-61e7-430f-de90-e12dfdd2b492"
   },
   "outputs": [],
   "source": [
    "from google.colab import drive\n",
    "drive.mount('/content/drive/',force_remount=False)\n",
    "import os\n",
    "os.chdir(\"/content/drive/MyDrive/Teaching/2022-2023/Python/shared\")"
   ]
  },
  {
   "cell_type": "code",
   "execution_count": 4,
   "metadata": {
    "executionInfo": {
     "elapsed": 4244,
     "status": "ok",
     "timestamp": 1677106216344,
     "user": {
      "displayName": "Olivia Natan",
      "userId": "05221168611265745496"
     },
     "user_tz": 480
    },
    "id": "wflsembFUP33"
   },
   "outputs": [],
   "source": [
    "import pandas\n",
    "import mba263\n",
    "import os"
   ]
  },
  {
   "cell_type": "markdown",
   "metadata": {
    "id": "UWQTxk4LUP36"
   },
   "source": [
    "Regularization produces a lot of annoying warnings. First, we will clean our output by supressing warnings. With the following command."
   ]
  },
  {
   "cell_type": "code",
   "execution_count": null,
   "metadata": {
    "executionInfo": {
     "elapsed": 170,
     "status": "ok",
     "timestamp": 1677106227189,
     "user": {
      "displayName": "Olivia Natan",
      "userId": "05221168611265745496"
     },
     "user_tz": 480
    },
    "id": "h8Qd9v3kUP37"
   },
   "outputs": [],
   "source": [
    "import warnings\n",
    "warnings.filterwarnings(\"ignore\")"
   ]
  },
  {
   "cell_type": "code",
   "execution_count": 14,
   "metadata": {
    "executionInfo": {
     "elapsed": 197,
     "status": "ok",
     "timestamp": 1677106227907,
     "user": {
      "displayName": "Olivia Natan",
      "userId": "05221168611265745496"
     },
     "user_tz": 480
    },
    "id": "nFzI-0ipUP38"
   },
   "outputs": [],
   "source": [
    "data=pandas.read_csv(os.path.dirname(os.getcwd()) + \"/data/intuit.csv\")"
   ]
  },
  {
   "cell_type": "code",
   "execution_count": 15,
   "metadata": {
    "colab": {
     "base_uri": "https://localhost:8080/",
     "height": 363
    },
    "executionInfo": {
     "elapsed": 6,
     "status": "ok",
     "timestamp": 1677106228399,
     "user": {
      "displayName": "Olivia Natan",
      "userId": "05221168611265745496"
     },
     "user_tz": 480
    },
    "id": "LRB4XsFuUP38",
    "outputId": "7ff83e15-ac6b-4adf-9b3d-8fc7d98a1f1a"
   },
   "outputs": [
    {
     "data": {
      "text/html": [
       "<div>\n",
       "<style scoped>\n",
       "    .dataframe tbody tr th:only-of-type {\n",
       "        vertical-align: middle;\n",
       "    }\n",
       "\n",
       "    .dataframe tbody tr th {\n",
       "        vertical-align: top;\n",
       "    }\n",
       "\n",
       "    .dataframe thead th {\n",
       "        text-align: right;\n",
       "    }\n",
       "</style>\n",
       "<table border=\"1\" class=\"dataframe\">\n",
       "  <thead>\n",
       "    <tr style=\"text-align: right;\">\n",
       "      <th></th>\n",
       "      <th>id</th>\n",
       "      <th>sex</th>\n",
       "      <th>bizflag</th>\n",
       "      <th>zip</th>\n",
       "      <th>zip_bins</th>\n",
       "      <th>numords</th>\n",
       "      <th>dollars</th>\n",
       "      <th>last</th>\n",
       "      <th>sincepurch</th>\n",
       "      <th>version1</th>\n",
       "      <th>owntaxprod</th>\n",
       "      <th>upgraded</th>\n",
       "      <th>res1</th>\n",
       "    </tr>\n",
       "  </thead>\n",
       "  <tbody>\n",
       "    <tr>\n",
       "      <th>0</th>\n",
       "      <td>1</td>\n",
       "      <td>U</td>\n",
       "      <td>1</td>\n",
       "      <td>99999</td>\n",
       "      <td>20</td>\n",
       "      <td>1</td>\n",
       "      <td>129.5</td>\n",
       "      <td>11</td>\n",
       "      <td>1</td>\n",
       "      <td>0</td>\n",
       "      <td>0</td>\n",
       "      <td>0</td>\n",
       "      <td>0</td>\n",
       "    </tr>\n",
       "    <tr>\n",
       "      <th>1</th>\n",
       "      <td>2</td>\n",
       "      <td>U</td>\n",
       "      <td>1</td>\n",
       "      <td>99999</td>\n",
       "      <td>20</td>\n",
       "      <td>2</td>\n",
       "      <td>65.0</td>\n",
       "      <td>4</td>\n",
       "      <td>14</td>\n",
       "      <td>0</td>\n",
       "      <td>0</td>\n",
       "      <td>0</td>\n",
       "      <td>0</td>\n",
       "    </tr>\n",
       "    <tr>\n",
       "      <th>2</th>\n",
       "      <td>3</td>\n",
       "      <td>U</td>\n",
       "      <td>1</td>\n",
       "      <td>99999</td>\n",
       "      <td>20</td>\n",
       "      <td>1</td>\n",
       "      <td>24.5</td>\n",
       "      <td>13</td>\n",
       "      <td>36</td>\n",
       "      <td>1</td>\n",
       "      <td>0</td>\n",
       "      <td>0</td>\n",
       "      <td>0</td>\n",
       "    </tr>\n",
       "    <tr>\n",
       "      <th>3</th>\n",
       "      <td>4</td>\n",
       "      <td>U</td>\n",
       "      <td>1</td>\n",
       "      <td>99999</td>\n",
       "      <td>20</td>\n",
       "      <td>1</td>\n",
       "      <td>80.5</td>\n",
       "      <td>5</td>\n",
       "      <td>19</td>\n",
       "      <td>1</td>\n",
       "      <td>0</td>\n",
       "      <td>0</td>\n",
       "      <td>0</td>\n",
       "    </tr>\n",
       "    <tr>\n",
       "      <th>4</th>\n",
       "      <td>5</td>\n",
       "      <td>U</td>\n",
       "      <td>1</td>\n",
       "      <td>99999</td>\n",
       "      <td>20</td>\n",
       "      <td>1</td>\n",
       "      <td>111.0</td>\n",
       "      <td>14</td>\n",
       "      <td>7</td>\n",
       "      <td>0</td>\n",
       "      <td>0</td>\n",
       "      <td>0</td>\n",
       "      <td>0</td>\n",
       "    </tr>\n",
       "    <tr>\n",
       "      <th>5</th>\n",
       "      <td>6</td>\n",
       "      <td>U</td>\n",
       "      <td>1</td>\n",
       "      <td>99999</td>\n",
       "      <td>20</td>\n",
       "      <td>1</td>\n",
       "      <td>61.5</td>\n",
       "      <td>14</td>\n",
       "      <td>20</td>\n",
       "      <td>0</td>\n",
       "      <td>0</td>\n",
       "      <td>1</td>\n",
       "      <td>0</td>\n",
       "    </tr>\n",
       "    <tr>\n",
       "      <th>6</th>\n",
       "      <td>7</td>\n",
       "      <td>U</td>\n",
       "      <td>1</td>\n",
       "      <td>99999</td>\n",
       "      <td>20</td>\n",
       "      <td>1</td>\n",
       "      <td>56.0</td>\n",
       "      <td>5</td>\n",
       "      <td>27</td>\n",
       "      <td>0</td>\n",
       "      <td>0</td>\n",
       "      <td>1</td>\n",
       "      <td>0</td>\n",
       "    </tr>\n",
       "    <tr>\n",
       "      <th>7</th>\n",
       "      <td>8</td>\n",
       "      <td>U</td>\n",
       "      <td>1</td>\n",
       "      <td>99999</td>\n",
       "      <td>20</td>\n",
       "      <td>1</td>\n",
       "      <td>39.5</td>\n",
       "      <td>4</td>\n",
       "      <td>2</td>\n",
       "      <td>0</td>\n",
       "      <td>0</td>\n",
       "      <td>0</td>\n",
       "      <td>0</td>\n",
       "    </tr>\n",
       "    <tr>\n",
       "      <th>8</th>\n",
       "      <td>9</td>\n",
       "      <td>U</td>\n",
       "      <td>1</td>\n",
       "      <td>99999</td>\n",
       "      <td>20</td>\n",
       "      <td>1</td>\n",
       "      <td>22.0</td>\n",
       "      <td>17</td>\n",
       "      <td>1</td>\n",
       "      <td>0</td>\n",
       "      <td>0</td>\n",
       "      <td>0</td>\n",
       "      <td>1</td>\n",
       "    </tr>\n",
       "    <tr>\n",
       "      <th>9</th>\n",
       "      <td>10</td>\n",
       "      <td>U</td>\n",
       "      <td>1</td>\n",
       "      <td>99999</td>\n",
       "      <td>20</td>\n",
       "      <td>2</td>\n",
       "      <td>113.0</td>\n",
       "      <td>7</td>\n",
       "      <td>15</td>\n",
       "      <td>0</td>\n",
       "      <td>0</td>\n",
       "      <td>0</td>\n",
       "      <td>0</td>\n",
       "    </tr>\n",
       "  </tbody>\n",
       "</table>\n",
       "</div>"
      ],
      "text/plain": [
       "   id sex  bizflag    zip  zip_bins  numords  dollars  last  sincepurch  \\\n",
       "0   1   U        1  99999        20        1    129.5    11           1   \n",
       "1   2   U        1  99999        20        2     65.0     4          14   \n",
       "2   3   U        1  99999        20        1     24.5    13          36   \n",
       "3   4   U        1  99999        20        1     80.5     5          19   \n",
       "4   5   U        1  99999        20        1    111.0    14           7   \n",
       "5   6   U        1  99999        20        1     61.5    14          20   \n",
       "6   7   U        1  99999        20        1     56.0     5          27   \n",
       "7   8   U        1  99999        20        1     39.5     4           2   \n",
       "8   9   U        1  99999        20        1     22.0    17           1   \n",
       "9  10   U        1  99999        20        2    113.0     7          15   \n",
       "\n",
       "   version1  owntaxprod  upgraded  res1  \n",
       "0         0           0         0     0  \n",
       "1         0           0         0     0  \n",
       "2         1           0         0     0  \n",
       "3         1           0         0     0  \n",
       "4         0           0         0     0  \n",
       "5         0           0         1     0  \n",
       "6         0           0         1     0  \n",
       "7         0           0         0     0  \n",
       "8         0           0         0     1  \n",
       "9         0           0         0     0  "
      ]
     },
     "execution_count": 15,
     "metadata": {},
     "output_type": "execute_result"
    }
   ],
   "source": [
    "data.head(10)"
   ]
  },
  {
   "cell_type": "code",
   "execution_count": 16,
   "metadata": {
    "executionInfo": {
     "elapsed": 135,
     "status": "ok",
     "timestamp": 1677106230065,
     "user": {
      "displayName": "Olivia Natan",
      "userId": "05221168611265745496"
     },
     "user_tz": 480
    },
    "id": "GTI3KSInUP39"
   },
   "outputs": [],
   "source": [
    "zip_bins=pandas.get_dummies(data['zip_bins'],drop_first=True,prefix=\"zip_bins\")"
   ]
  },
  {
   "cell_type": "code",
   "execution_count": 17,
   "metadata": {
    "executionInfo": {
     "elapsed": 2,
     "status": "ok",
     "timestamp": 1677106230604,
     "user": {
      "displayName": "Olivia Natan",
      "userId": "05221168611265745496"
     },
     "user_tz": 480
    },
    "id": "045htSqZUP39"
   },
   "outputs": [],
   "source": [
    "data_with_dummies=pandas.concat([data,zip_bins],axis=1)"
   ]
  },
  {
   "cell_type": "code",
   "execution_count": 18,
   "metadata": {
    "colab": {
     "base_uri": "https://localhost:8080/"
    },
    "executionInfo": {
     "elapsed": 3,
     "status": "ok",
     "timestamp": 1677106230974,
     "user": {
      "displayName": "Olivia Natan",
      "userId": "05221168611265745496"
     },
     "user_tz": 480
    },
    "id": "j9qbjcVwUP39",
    "outputId": "c6dee1dd-3471-4dbc-8293-ce2188915133"
   },
   "outputs": [
    {
     "data": {
      "text/plain": [
       "Index(['id', 'sex', 'bizflag', 'zip', 'zip_bins', 'numords', 'dollars', 'last',\n",
       "       'sincepurch', 'version1', 'owntaxprod', 'upgraded', 'res1',\n",
       "       'zip_bins_2', 'zip_bins_3', 'zip_bins_4', 'zip_bins_5', 'zip_bins_6',\n",
       "       'zip_bins_7', 'zip_bins_8', 'zip_bins_9', 'zip_bins_10', 'zip_bins_11',\n",
       "       'zip_bins_12', 'zip_bins_13', 'zip_bins_14', 'zip_bins_15',\n",
       "       'zip_bins_16', 'zip_bins_17', 'zip_bins_18', 'zip_bins_19',\n",
       "       'zip_bins_20'],\n",
       "      dtype='object')"
      ]
     },
     "execution_count": 18,
     "metadata": {},
     "output_type": "execute_result"
    }
   ],
   "source": [
    "data_with_dummies.columns"
   ]
  },
  {
   "cell_type": "markdown",
   "metadata": {
    "id": "lftwW9N-UP3-"
   },
   "source": [
    "We don't want to type the long list of variables over and over again, so I will define this handy list."
   ]
  },
  {
   "cell_type": "code",
   "execution_count": 19,
   "metadata": {
    "executionInfo": {
     "elapsed": 160,
     "status": "ok",
     "timestamp": 1677106232252,
     "user": {
      "displayName": "Olivia Natan",
      "userId": "05221168611265745496"
     },
     "user_tz": 480
    },
    "id": "_qcLYbRLUP3-"
   },
   "outputs": [],
   "source": [
    "varlist=['dollars','zip_bins_2','zip_bins_3','zip_bins_4','zip_bins_5','zip_bins_6',\n",
    "         'zip_bins_7','zip_bins_8','zip_bins_9','zip_bins_10','zip_bins_11',\n",
    "       'zip_bins_12', 'zip_bins_13', 'zip_bins_14', 'zip_bins_15',\n",
    "       'zip_bins_16', 'zip_bins_17', 'zip_bins_18', 'zip_bins_19',\n",
    "       'zip_bins_20']"
   ]
  },
  {
   "cell_type": "code",
   "execution_count": 20,
   "metadata": {
    "executionInfo": {
     "elapsed": 158,
     "status": "ok",
     "timestamp": 1677106233090,
     "user": {
      "displayName": "Olivia Natan",
      "userId": "05221168611265745496"
     },
     "user_tz": 480
    },
    "id": "zDZ0ZznuUP3-"
   },
   "outputs": [],
   "source": [
    "varlist2=['dollars','zip_bins_2','zip_bins_3','zip_bins_4','zip_bins_5','zip_bins_6',\n",
    "         'zip_bins_7','zip_bins_8','zip_bins_9','zip_bins_10','zip_bins_11',\n",
    "        'zip_bins_13', 'zip_bins_14', 'zip_bins_15',\n",
    "       'zip_bins_16', 'zip_bins_17', 'zip_bins_18', 'zip_bins_19',\n",
    "       'zip_bins_20']"
   ]
  },
  {
   "cell_type": "code",
   "execution_count": 21,
   "metadata": {
    "executionInfo": {
     "elapsed": 2,
     "status": "ok",
     "timestamp": 1677106253884,
     "user": {
      "displayName": "Olivia Natan",
      "userId": "05221168611265745496"
     },
     "user_tz": 480
    },
    "id": "I3-c3FxSUP3_"
   },
   "outputs": [],
   "source": [
    "from sklearn.metrics import log_loss"
   ]
  },
  {
   "cell_type": "code",
   "execution_count": 22,
   "metadata": {
    "colab": {
     "base_uri": "https://localhost:8080/",
     "height": 166
    },
    "executionInfo": {
     "elapsed": 397,
     "status": "error",
     "timestamp": 1677106255070,
     "user": {
      "displayName": "Olivia Natan",
      "userId": "05221168611265745496"
     },
     "user_tz": 480
    },
    "id": "p9_dxl6LUP3_",
    "outputId": "940c5ea6-db98-4a1d-c341-fdead9e42290"
   },
   "outputs": [
    {
     "ename": "NameError",
     "evalue": "name 'res' is not defined",
     "output_type": "error",
     "traceback": [
      "\u001b[0;31m---------------------------------------------------------------------------\u001b[0m",
      "\u001b[0;31mNameError\u001b[0m                                 Traceback (most recent call last)",
      "Cell \u001b[0;32mIn [22], line 1\u001b[0m\n\u001b[0;32m----> 1\u001b[0m log_loss(data_with_dummies[\u001b[38;5;124m'\u001b[39m\u001b[38;5;124mres1\u001b[39m\u001b[38;5;124m'\u001b[39m],\u001b[43mres\u001b[49m\u001b[38;5;241m.\u001b[39mpredict())\n",
      "\u001b[0;31mNameError\u001b[0m: name 'res' is not defined"
     ]
    }
   ],
   "source": [
    "log_loss(data_with_dummies['res1'],res.predict())"
   ]
  },
  {
   "cell_type": "code",
   "execution_count": null,
   "metadata": {
    "colab": {
     "base_uri": "https://localhost:8080/",
     "height": 689
    },
    "executionInfo": {
     "elapsed": 831,
     "status": "ok",
     "timestamp": 1677106256153,
     "user": {
      "displayName": "Olivia Natan",
      "userId": "05221168611265745496"
     },
     "user_tz": 480
    },
    "id": "967mcjADUP3_",
    "outputId": "10d183f0-0568-418a-eaf9-6e2f78c9a491"
   },
   "outputs": [],
   "source": [
    "mba263.logit(data_with_dummies['res1'],data_with_dummies[varlist2]).summary()"
   ]
  },
  {
   "cell_type": "markdown",
   "metadata": {
    "id": "FAzIr0BNUP3_"
   },
   "source": [
    "Regularized version of the logistic regression takes another parameter, <code>alpha</code>.\n",
    "This parameter dictacts how strict the model when throwing out variables. High <code>alpha</code> means throwing out\n",
    "variables more."
   ]
  },
  {
   "cell_type": "code",
   "execution_count": null,
   "metadata": {
    "colab": {
     "base_uri": "https://localhost:8080/"
    },
    "executionInfo": {
     "elapsed": 1339,
     "status": "ok",
     "timestamp": 1677106259340,
     "user": {
      "displayName": "Olivia Natan",
      "userId": "05221168611265745496"
     },
     "user_tz": 480
    },
    "id": "4dWvnF-SUP3_",
    "outputId": "2108f4e6-0f5d-4cfd-b00c-dbec438a2e1d"
   },
   "outputs": [],
   "source": [
    "res=mba263.logit_reg(data_with_dummies['res1'],data_with_dummies[varlist],alpha=9)"
   ]
  },
  {
   "cell_type": "code",
   "execution_count": null,
   "metadata": {
    "colab": {
     "base_uri": "https://localhost:8080/",
     "height": 662
    },
    "executionInfo": {
     "elapsed": 541,
     "status": "ok",
     "timestamp": 1677106260076,
     "user": {
      "displayName": "Olivia Natan",
      "userId": "05221168611265745496"
     },
     "user_tz": 480
    },
    "id": "MHu7Q4lbUP3_",
    "outputId": "97df8311-7f4f-438a-e171-b59b00d746bc"
   },
   "outputs": [],
   "source": [
    "res.summary2()"
   ]
  },
  {
   "cell_type": "markdown",
   "metadata": {
    "id": "aDrChHtwUP4A"
   },
   "source": [
    "The model threw out <code>zip_bins_12</code> variable. Let's see what happens when we are less strict and set a lower <code>alpha</code>."
   ]
  },
  {
   "cell_type": "code",
   "execution_count": null,
   "metadata": {
    "colab": {
     "base_uri": "https://localhost:8080/",
     "height": 749
    },
    "executionInfo": {
     "elapsed": 841,
     "status": "ok",
     "timestamp": 1677106263351,
     "user": {
      "displayName": "Olivia Natan",
      "userId": "05221168611265745496"
     },
     "user_tz": 480
    },
    "id": "zq-UvCtAUP4A",
    "outputId": "df0d8118-f2bb-4551-a9a2-a672773339ae"
   },
   "outputs": [],
   "source": [
    "res=mba263.logit_reg(data_with_dummies['res1'],data_with_dummies[varlist],alpha=5)\n",
    "res.summary2()"
   ]
  },
  {
   "cell_type": "code",
   "execution_count": null,
   "metadata": {
    "executionInfo": {
     "elapsed": 4,
     "status": "ok",
     "timestamp": 1677106263823,
     "user": {
      "displayName": "Olivia Natan",
      "userId": "05221168611265745496"
     },
     "user_tz": 480
    },
    "id": "QYD9ZCf8UP4A"
   },
   "outputs": [],
   "source": [
    "data['p1']=res.predict(data_with_dummies[varlist])"
   ]
  },
  {
   "cell_type": "markdown",
   "metadata": {
    "id": "cw6hMWM_UP4A"
   },
   "source": [
    "In this case the algorithms kept <code>zip_bins_12</code>. Note: <code>alpha=0</code> is a regular logit (no throwing away variables)."
   ]
  },
  {
   "cell_type": "code",
   "execution_count": null,
   "metadata": {
    "colab": {
     "base_uri": "https://localhost:8080/",
     "height": 749
    },
    "executionInfo": {
     "elapsed": 528,
     "status": "ok",
     "timestamp": 1677106266108,
     "user": {
      "displayName": "Olivia Natan",
      "userId": "05221168611265745496"
     },
     "user_tz": 480
    },
    "id": "k3PW62tIUP4A",
    "outputId": "280eb254-f2ab-4900-a057-63efa1501984"
   },
   "outputs": [],
   "source": [
    "res=mba263.logit_reg(data_with_dummies['res1'],data_with_dummies[varlist],alpha=15)\n",
    "res.summary2()"
   ]
  },
  {
   "cell_type": "code",
   "execution_count": null,
   "metadata": {
    "executionInfo": {
     "elapsed": 1,
     "status": "ok",
     "timestamp": 1677106266269,
     "user": {
      "displayName": "Olivia Natan",
      "userId": "05221168611265745496"
     },
     "user_tz": 480
    },
    "id": "zO3HzvcMUP4A"
   },
   "outputs": [],
   "source": [
    "data['p2']=res.predict(data_with_dummies[varlist])"
   ]
  },
  {
   "cell_type": "code",
   "execution_count": null,
   "metadata": {
    "colab": {
     "base_uri": "https://localhost:8080/",
     "height": 363
    },
    "executionInfo": {
     "elapsed": 155,
     "status": "ok",
     "timestamp": 1677106266800,
     "user": {
      "displayName": "Olivia Natan",
      "userId": "05221168611265745496"
     },
     "user_tz": 480
    },
    "id": "KW_v740IUP4A",
    "outputId": "fad92254-b6e4-4134-cc2b-a2eb091ab580"
   },
   "outputs": [],
   "source": [
    "data[['p1','p2']].head(10)"
   ]
  },
  {
   "cell_type": "code",
   "execution_count": null,
   "metadata": {
    "id": "7Rt9BLPXUsE1"
   },
   "outputs": [],
   "source": []
  }
 ],
 "metadata": {
  "colab": {
   "authorship_tag": "ABX9TyMVSqq0ErODnW9kE6VlKifZ",
   "provenance": []
  },
  "kernelspec": {
   "display_name": "Python 3 (ipykernel)",
   "language": "python",
   "name": "python3"
  },
  "language_info": {
   "codemirror_mode": {
    "name": "ipython",
    "version": 3
   },
   "file_extension": ".py",
   "mimetype": "text/x-python",
   "name": "python",
   "nbconvert_exporter": "python",
   "pygments_lexer": "ipython3",
   "version": "3.9.6"
  }
 },
 "nbformat": 4,
 "nbformat_minor": 4
}
