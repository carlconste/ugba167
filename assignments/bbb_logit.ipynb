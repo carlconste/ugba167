{
 "cells": [
  {
   "cell_type": "code",
   "execution_count": 1,
   "id": "59e4b7a1-39ea-43de-bafb-10e2dea7101a",
   "metadata": {},
   "outputs": [],
   "source": [
    "import pandas as pd\n",
    "import mba263\n",
    "import matplotlib.pyplot as plt\n",
    "import os"
   ]
  },
  {
   "cell_type": "code",
   "execution_count": 21,
   "id": "7cb457ca-e1f7-4865-9faa-58aa2962dcea",
   "metadata": {},
   "outputs": [
    {
     "data": {
      "text/html": [
       "<div>\n",
       "<style scoped>\n",
       "    .dataframe tbody tr th:only-of-type {\n",
       "        vertical-align: middle;\n",
       "    }\n",
       "\n",
       "    .dataframe tbody tr th {\n",
       "        vertical-align: top;\n",
       "    }\n",
       "\n",
       "    .dataframe thead th {\n",
       "        text-align: right;\n",
       "    }\n",
       "</style>\n",
       "<table border=\"1\" class=\"dataframe\">\n",
       "  <thead>\n",
       "    <tr style=\"text-align: right;\">\n",
       "      <th></th>\n",
       "      <th>acctnum</th>\n",
       "      <th>gender</th>\n",
       "      <th>state</th>\n",
       "      <th>zip</th>\n",
       "      <th>zip3</th>\n",
       "      <th>first</th>\n",
       "      <th>last</th>\n",
       "      <th>book_</th>\n",
       "      <th>nonbook_</th>\n",
       "      <th>total_</th>\n",
       "      <th>purch</th>\n",
       "      <th>child</th>\n",
       "      <th>youth</th>\n",
       "      <th>cook</th>\n",
       "      <th>do_it</th>\n",
       "      <th>refernce</th>\n",
       "      <th>art</th>\n",
       "      <th>geog</th>\n",
       "      <th>buyer</th>\n",
       "    </tr>\n",
       "  </thead>\n",
       "  <tbody>\n",
       "    <tr>\n",
       "      <th>0</th>\n",
       "      <td>10001</td>\n",
       "      <td>M</td>\n",
       "      <td>NY</td>\n",
       "      <td>10605</td>\n",
       "      <td>106</td>\n",
       "      <td>49</td>\n",
       "      <td>29</td>\n",
       "      <td>109</td>\n",
       "      <td>248</td>\n",
       "      <td>357</td>\n",
       "      <td>10</td>\n",
       "      <td>3</td>\n",
       "      <td>2</td>\n",
       "      <td>2</td>\n",
       "      <td>0</td>\n",
       "      <td>1</td>\n",
       "      <td>0</td>\n",
       "      <td>2</td>\n",
       "      <td>no</td>\n",
       "    </tr>\n",
       "    <tr>\n",
       "      <th>1</th>\n",
       "      <td>10002</td>\n",
       "      <td>M</td>\n",
       "      <td>NY</td>\n",
       "      <td>10960</td>\n",
       "      <td>109</td>\n",
       "      <td>39</td>\n",
       "      <td>27</td>\n",
       "      <td>35</td>\n",
       "      <td>103</td>\n",
       "      <td>138</td>\n",
       "      <td>3</td>\n",
       "      <td>0</td>\n",
       "      <td>1</td>\n",
       "      <td>0</td>\n",
       "      <td>1</td>\n",
       "      <td>0</td>\n",
       "      <td>0</td>\n",
       "      <td>1</td>\n",
       "      <td>no</td>\n",
       "    </tr>\n",
       "    <tr>\n",
       "      <th>2</th>\n",
       "      <td>10003</td>\n",
       "      <td>F</td>\n",
       "      <td>PA</td>\n",
       "      <td>19146</td>\n",
       "      <td>191</td>\n",
       "      <td>19</td>\n",
       "      <td>15</td>\n",
       "      <td>25</td>\n",
       "      <td>147</td>\n",
       "      <td>172</td>\n",
       "      <td>2</td>\n",
       "      <td>0</td>\n",
       "      <td>0</td>\n",
       "      <td>2</td>\n",
       "      <td>0</td>\n",
       "      <td>0</td>\n",
       "      <td>0</td>\n",
       "      <td>0</td>\n",
       "      <td>no</td>\n",
       "    </tr>\n",
       "    <tr>\n",
       "      <th>3</th>\n",
       "      <td>10004</td>\n",
       "      <td>F</td>\n",
       "      <td>NJ</td>\n",
       "      <td>7016</td>\n",
       "      <td>70</td>\n",
       "      <td>7</td>\n",
       "      <td>7</td>\n",
       "      <td>15</td>\n",
       "      <td>257</td>\n",
       "      <td>272</td>\n",
       "      <td>1</td>\n",
       "      <td>0</td>\n",
       "      <td>0</td>\n",
       "      <td>0</td>\n",
       "      <td>0</td>\n",
       "      <td>1</td>\n",
       "      <td>0</td>\n",
       "      <td>0</td>\n",
       "      <td>no</td>\n",
       "    </tr>\n",
       "    <tr>\n",
       "      <th>4</th>\n",
       "      <td>10005</td>\n",
       "      <td>F</td>\n",
       "      <td>NY</td>\n",
       "      <td>10804</td>\n",
       "      <td>108</td>\n",
       "      <td>15</td>\n",
       "      <td>15</td>\n",
       "      <td>15</td>\n",
       "      <td>134</td>\n",
       "      <td>149</td>\n",
       "      <td>1</td>\n",
       "      <td>0</td>\n",
       "      <td>0</td>\n",
       "      <td>1</td>\n",
       "      <td>0</td>\n",
       "      <td>0</td>\n",
       "      <td>0</td>\n",
       "      <td>0</td>\n",
       "      <td>no</td>\n",
       "    </tr>\n",
       "    <tr>\n",
       "      <th>...</th>\n",
       "      <td>...</td>\n",
       "      <td>...</td>\n",
       "      <td>...</td>\n",
       "      <td>...</td>\n",
       "      <td>...</td>\n",
       "      <td>...</td>\n",
       "      <td>...</td>\n",
       "      <td>...</td>\n",
       "      <td>...</td>\n",
       "      <td>...</td>\n",
       "      <td>...</td>\n",
       "      <td>...</td>\n",
       "      <td>...</td>\n",
       "      <td>...</td>\n",
       "      <td>...</td>\n",
       "      <td>...</td>\n",
       "      <td>...</td>\n",
       "      <td>...</td>\n",
       "      <td>...</td>\n",
       "    </tr>\n",
       "    <tr>\n",
       "      <th>49995</th>\n",
       "      <td>59996</td>\n",
       "      <td>F</td>\n",
       "      <td>NY</td>\n",
       "      <td>11967</td>\n",
       "      <td>119</td>\n",
       "      <td>9</td>\n",
       "      <td>9</td>\n",
       "      <td>15</td>\n",
       "      <td>12</td>\n",
       "      <td>27</td>\n",
       "      <td>1</td>\n",
       "      <td>1</td>\n",
       "      <td>0</td>\n",
       "      <td>0</td>\n",
       "      <td>0</td>\n",
       "      <td>0</td>\n",
       "      <td>0</td>\n",
       "      <td>0</td>\n",
       "      <td>no</td>\n",
       "    </tr>\n",
       "    <tr>\n",
       "      <th>49996</th>\n",
       "      <td>59997</td>\n",
       "      <td>F</td>\n",
       "      <td>NJ</td>\n",
       "      <td>8882</td>\n",
       "      <td>88</td>\n",
       "      <td>25</td>\n",
       "      <td>5</td>\n",
       "      <td>79</td>\n",
       "      <td>294</td>\n",
       "      <td>373</td>\n",
       "      <td>7</td>\n",
       "      <td>3</td>\n",
       "      <td>0</td>\n",
       "      <td>1</td>\n",
       "      <td>1</td>\n",
       "      <td>0</td>\n",
       "      <td>1</td>\n",
       "      <td>1</td>\n",
       "      <td>no</td>\n",
       "    </tr>\n",
       "    <tr>\n",
       "      <th>49997</th>\n",
       "      <td>59998</td>\n",
       "      <td>M</td>\n",
       "      <td>NJ</td>\n",
       "      <td>7410</td>\n",
       "      <td>74</td>\n",
       "      <td>3</td>\n",
       "      <td>3</td>\n",
       "      <td>15</td>\n",
       "      <td>178</td>\n",
       "      <td>193</td>\n",
       "      <td>1</td>\n",
       "      <td>0</td>\n",
       "      <td>0</td>\n",
       "      <td>0</td>\n",
       "      <td>0</td>\n",
       "      <td>1</td>\n",
       "      <td>0</td>\n",
       "      <td>0</td>\n",
       "      <td>no</td>\n",
       "    </tr>\n",
       "    <tr>\n",
       "      <th>49998</th>\n",
       "      <td>59999</td>\n",
       "      <td>M</td>\n",
       "      <td>NJ</td>\n",
       "      <td>7090</td>\n",
       "      <td>70</td>\n",
       "      <td>49</td>\n",
       "      <td>29</td>\n",
       "      <td>98</td>\n",
       "      <td>246</td>\n",
       "      <td>344</td>\n",
       "      <td>8</td>\n",
       "      <td>2</td>\n",
       "      <td>0</td>\n",
       "      <td>1</td>\n",
       "      <td>0</td>\n",
       "      <td>2</td>\n",
       "      <td>1</td>\n",
       "      <td>2</td>\n",
       "      <td>no</td>\n",
       "    </tr>\n",
       "    <tr>\n",
       "      <th>49999</th>\n",
       "      <td>60000</td>\n",
       "      <td>M</td>\n",
       "      <td>NY</td>\n",
       "      <td>11355</td>\n",
       "      <td>113</td>\n",
       "      <td>29</td>\n",
       "      <td>1</td>\n",
       "      <td>60</td>\n",
       "      <td>125</td>\n",
       "      <td>185</td>\n",
       "      <td>5</td>\n",
       "      <td>1</td>\n",
       "      <td>0</td>\n",
       "      <td>1</td>\n",
       "      <td>0</td>\n",
       "      <td>0</td>\n",
       "      <td>1</td>\n",
       "      <td>2</td>\n",
       "      <td>no</td>\n",
       "    </tr>\n",
       "  </tbody>\n",
       "</table>\n",
       "<p>50000 rows × 19 columns</p>\n",
       "</div>"
      ],
      "text/plain": [
       "       acctnum gender state    zip  zip3  first  last  book_  nonbook_  \\\n",
       "0        10001      M    NY  10605   106     49    29    109       248   \n",
       "1        10002      M    NY  10960   109     39    27     35       103   \n",
       "2        10003      F    PA  19146   191     19    15     25       147   \n",
       "3        10004      F    NJ   7016    70      7     7     15       257   \n",
       "4        10005      F    NY  10804   108     15    15     15       134   \n",
       "...        ...    ...   ...    ...   ...    ...   ...    ...       ...   \n",
       "49995    59996      F    NY  11967   119      9     9     15        12   \n",
       "49996    59997      F    NJ   8882    88     25     5     79       294   \n",
       "49997    59998      M    NJ   7410    74      3     3     15       178   \n",
       "49998    59999      M    NJ   7090    70     49    29     98       246   \n",
       "49999    60000      M    NY  11355   113     29     1     60       125   \n",
       "\n",
       "       total_  purch  child  youth  cook  do_it  refernce  art  geog buyer  \n",
       "0         357     10      3      2     2      0         1    0     2    no  \n",
       "1         138      3      0      1     0      1         0    0     1    no  \n",
       "2         172      2      0      0     2      0         0    0     0    no  \n",
       "3         272      1      0      0     0      0         1    0     0    no  \n",
       "4         149      1      0      0     1      0         0    0     0    no  \n",
       "...       ...    ...    ...    ...   ...    ...       ...  ...   ...   ...  \n",
       "49995      27      1      1      0     0      0         0    0     0    no  \n",
       "49996     373      7      3      0     1      1         0    1     1    no  \n",
       "49997     193      1      0      0     0      0         1    0     0    no  \n",
       "49998     344      8      2      0     1      0         2    1     2    no  \n",
       "49999     185      5      1      0     1      0         0    1     2    no  \n",
       "\n",
       "[50000 rows x 19 columns]"
      ]
     },
     "execution_count": 21,
     "metadata": {},
     "output_type": "execute_result"
    }
   ],
   "source": [
    "df = pd.read_csv(os.path.dirname(os.getcwd()) + \"/data/BBB.csv\")\n",
    "df"
   ]
  },
  {
   "cell_type": "markdown",
   "id": "002354c2-4a18-45eb-b4ea-f16a5a9ab6bb",
   "metadata": {},
   "source": [
    "\\newpage"
   ]
  },
  {
   "cell_type": "markdown",
   "id": "90ed0a30-ba0f-457c-b6ff-bfe8643cf13d",
   "metadata": {},
   "source": [
    "# Part 1: Logistic Regression"
   ]
  },
  {
   "cell_type": "markdown",
   "id": "7da145e1-529b-4f60-9701-d117e66ed5d4",
   "metadata": {},
   "source": [
    "## 1. Estimate a logistic regression model using \"buyer\" as the dependent variable."
   ]
  },
  {
   "cell_type": "code",
   "execution_count": null,
   "id": "c037ebba-8fe7-4bf0-b790-3caf598d0962",
   "metadata": {},
   "outputs": [],
   "source": [
    "# create dummy variables for buyer and gender variables\n",
    "df['buyer_int'] = pd.get_dummies(df['buyer'])['yes']\n",
    "df['female'] = pd.get_dummies(df['gender'])['F']\n",
    "df"
   ]
  },
  {
   "cell_type": "code",
   "execution_count": null,
   "id": "45935eaa-096e-4955-bfa5-a4f4d18a7d5d",
   "metadata": {},
   "outputs": [],
   "source": [
    "# use logit to predict logistic regression probabilities\n",
    "result = mba263.logit(df['buyer_int'], df[['last', 'total_', 'female', 'child', 'youth', 'cook', 'do_it', 'refernce', 'art', 'geog']])\n",
    "result.predict()"
   ]
  },
  {
   "cell_type": "code",
   "execution_count": null,
   "id": "afedce7a-e4bd-4ff4-b08f-e9821138c12d",
   "metadata": {},
   "outputs": [],
   "source": [
    "df['buy_prob'] = result.predict()\n",
    "df"
   ]
  },
  {
   "cell_type": "markdown",
   "id": "17c34358-76a2-423a-be15-9e30a8fe3035",
   "metadata": {},
   "source": [
    "\\newpage"
   ]
  },
  {
   "cell_type": "markdown",
   "id": "66cc2781-a3a4-42dd-b20c-29df08da5fe7",
   "metadata": {},
   "source": [
    "## 2. Summarize and interpret the results (so that a marketing manager can understand them). Which variables are significant? Which seem to be 'important'? Interpret the odds-ratios for each of the predictors. "
   ]
  },
  {
   "cell_type": "code",
   "execution_count": null,
   "id": "efe870e3-bc03-4037-847d-5ede4e2e11ff",
   "metadata": {},
   "outputs": [],
   "source": [
    "result.summary()"
   ]
  },
  {
   "cell_type": "code",
   "execution_count": null,
   "id": "652fb890-2867-4caf-a919-d8a0eecbf633",
   "metadata": {},
   "outputs": [],
   "source": [
    "mba263.odds_ratios(result)"
   ]
  },
  {
   "cell_type": "markdown",
   "id": "2e974706-bc7e-42d5-981f-854704cc92df",
   "metadata": {},
   "source": [
    "Analyzing the summary of the Logistic Regression results, we can see that all coefficients are significant because all of their p-values are less than 0.05 However, their impacts on the probability of being a buyer all vary, some being very helpful while others not being very helpful. To analysze which ones are more impactful, we look at the coefficient's odds ratio.\n",
    "\n",
    "\n",
    "The way odds-ratio works is for every unit of increase in a certain coefficient's category, we multiply the probability of being a buyer by that coefficient's odds ratio. Looking at the odds ratio of our Logistic Regression, we can see that a handful of coefficients have an odds ratio of less than 1. Specifically, ```last```, ```female```, ```child```, ```youth```, ```cook```, and ```do_it``` all have odds ratios less than 1. What this means is that for every unit of increase in any of those categories separately, $P(buyer)$ actually ends up decreasing. For example, for an increase of 1 ```youth``` book purchase by a customer, the probability of them buying from this catalog is multiplied by 0.893, which decreases the probability of them purchasing from our catalog according to the Logistic Regression Model. Since each of these categories have a odds ratio of less than 1, they will end up decreasing our $P(buyer)$ if the number in those categories increases. Therefore, while they are significant in our model, they are not important.\n",
    "\n",
    "```total_``` has an odds ratio of about 1, so a unit of increase in a customer's total spending increases the probability of them buying from thsi catalog by a factor of 1, which is not really that helpful. ```total_``` is a significant coefficient, but not really important since it doesn't really increase $P(buyer)$\n",
    "\n",
    "The important coefficients here are ```refernce```, ```art```, and ```geog```. They all have an odds ratio of greater than 1. This means that for every unit of increase in each of these categories, the probability of a customer purchasing from this catalog increases by a factor of 1.26, 3.17, and 1.77, respectively. Since these ratios are greater than one, the probability will increase for every additional unit purchased in eqach respective category. Therefore, these are the important variables that we should focus on."
   ]
  },
  {
   "cell_type": "markdown",
   "id": "b5d08bc5-b8ba-495c-8a01-7062c3ccd941",
   "metadata": {},
   "source": [
    "\\newpage"
   ]
  },
  {
   "cell_type": "markdown",
   "id": "0f137102-f701-4fff-9e6f-1fa00bc98b72",
   "metadata": {
    "tags": []
   },
   "source": [
    "# Part 2: Decile Analysis of Logistic Regression Results"
   ]
  },
  {
   "cell_type": "markdown",
   "id": "bb0b046a-9098-4efe-a102-5d1de3778cb6",
   "metadata": {},
   "source": [
    "## 1. Assign each customer to a decile based on his or her predicted probability of purchase."
   ]
  },
  {
   "cell_type": "code",
   "execution_count": null,
   "id": "71505424-44dd-42b1-82c5-b0cf776c83f5",
   "metadata": {},
   "outputs": [],
   "source": [
    "# doing 9 - calculation to make it so the lower the decile number, the higher the probability of purchasing\n",
    "df['prob_decile'] = 9 - mba263.ntile(df['buy_prob'], 10)\n",
    "df"
   ]
  },
  {
   "cell_type": "markdown",
   "id": "055d887f-9721-429e-8d20-4e6faa8a7067",
   "metadata": {},
   "source": [
    "\\newpage"
   ]
  },
  {
   "cell_type": "markdown",
   "id": "73d5ecd5-d23f-4224-b9fa-1c276b4dcb1c",
   "metadata": {},
   "source": [
    "## 2. Create a bar chart plotting response rate by decile (as just defined above)."
   ]
  },
  {
   "cell_type": "code",
   "execution_count": null,
   "id": "03ae4d1e-5db7-4b7b-a47c-b3e14c3e2f2d",
   "metadata": {},
   "outputs": [],
   "source": [
    "df[['prob_decile', 'buyer_int']].groupby('prob_decile').mean()"
   ]
  },
  {
   "cell_type": "code",
   "execution_count": null,
   "id": "aa909e10-b12d-4067-b5d4-0d0040a3410b",
   "metadata": {},
   "outputs": [],
   "source": [
    "df[['prob_decile', 'buyer_int']].groupby('prob_decile').mean().plot(kind = 'bar')\n",
    "plt.ylabel('response_rate');"
   ]
  },
  {
   "cell_type": "markdown",
   "id": "054f157c-ca36-4a92-a2d6-bc25a5735a37",
   "metadata": {},
   "source": [
    "\\newpage"
   ]
  },
  {
   "cell_type": "markdown",
   "id": "74b40638-3d26-4e24-8da6-7a23c1853bc5",
   "metadata": {},
   "source": [
    "## 3. Generate a report showing number of customers, the number of buyers of \"The Art History of Florence' and the response rate to the offer by decile for the random sample (i.e. the 50,000 customers) in the dataset. "
   ]
  },
  {
   "cell_type": "code",
   "execution_count": null,
   "id": "cc6350b3-71f5-4237-914e-20548193c5ff",
   "metadata": {},
   "outputs": [],
   "source": [
    "temp_df = df[['prob_decile', 'buyer', 'buyer_int']]\n",
    "temp_df['buyer_int_2'] = df['buyer_int']\n",
    "report_df = temp_df[['prob_decile', 'buyer', 'buyer_int', 'buyer_int_2']].groupby('prob_decile').agg({'buyer' : 'count', 'buyer_int' : 'sum', 'buyer_int_2' : 'mean'})\n",
    "report_df.rename(columns = {\"buyer\" : \"num_customers\", \"buyer_int\": \"num_buyers\", \"buyer_int_2\":\"response_rate\"}, inplace = True)\n",
    "report_df"
   ]
  },
  {
   "cell_type": "markdown",
   "id": "09b63126-0aaa-4519-a72e-4ea582e1f79a",
   "metadata": {},
   "source": [
    "\\newpage"
   ]
  },
  {
   "cell_type": "markdown",
   "id": "88a0a3ec-0027-4938-9438-38f4e051f263",
   "metadata": {},
   "source": [
    "## 4. For the 50,000 customers in the dataset, generate a report showing the mean values of the following variables by probability of purchase decile:\n",
    "- Total $ spent \n",
    "- Months since last purchase\n",
    "- Number of books purchased for each of the seven categories (i.e., children, youth, cookbooks, do-it-yourself, reference, art and geography). "
   ]
  },
  {
   "cell_type": "code",
   "execution_count": null,
   "id": "e09feb80-0bdb-4d7e-8462-b65401f4bc73",
   "metadata": {},
   "outputs": [],
   "source": [
    "mean_values = df[['total_', 'last', 'child', 'youth', 'cook', 'do_it', 'refernce', 'art', 'geog', 'prob_decile']].groupby('prob_decile').mean()\n",
    "mean_values"
   ]
  },
  {
   "cell_type": "markdown",
   "id": "d0cc19be-e5e7-43da-9667-687c89bd6099",
   "metadata": {},
   "source": [
    "\\newpage"
   ]
  },
  {
   "cell_type": "markdown",
   "id": "377835b9-58a2-4f78-bb97-83257a61be21",
   "metadata": {},
   "source": [
    "## 5. Summarize and interpret the decile analysis results. Are the patterns in the decile analysis consistent with your conclusions from the logistic regression?"
   ]
  },
  {
   "cell_type": "markdown",
   "id": "a75bd068-a7ff-4f32-8cc0-dd0561415edc",
   "metadata": {},
   "source": [
    "Yes, the patterns in the decile analysis is consisten with my conclusions from the logistic regression, specifically when analyzing odds ratio. When analyzing odds ratio, I found out that the important variables to look at were ```refernce```, ```art```, and ```geog```, since they all had an odds ratio of greater than 1. Looking at the mean values based on probability of purchase deciles, we can see as the decile number increases, the mean values for these three categories decrease. On the other hand, the mean value for all the other categories stay relatively in the same range for each decile, which makes them not really a good predictor of the probability of a customer being a buyer. This was also given in our odds ratio analysis, since these variables (```last```, ```child```, ```youth```, ```cook```, and ```do_it```) were not important according to our analysis.\n",
    "\n",
    "In our logistic regression analysis, we saw that art had the highest odds ratio of 3.17, meaning it was the most impactful variable in predicting the probability of a customer being a buyer. This meant that as a customer purchased more art books in the past, the probability of them being a buyer increased by a factor of 3.17. Looking at the mean analysis per decile, we can see the top decile has the highest mean of art books purchased, being 1.5. As the deciles increase, the mean of art books purchased decreases. Those in decile 0 had the highest mean of art books purchased, which our odds ratio predicts that they have a higher probability of responding to our catalog. Looking at the decile response rate grah, we can see that decile 0 had the highest response rate to our catalog, which shows that our decile analysis is consistent with our logistic regression analysis."
   ]
  },
  {
   "cell_type": "markdown",
   "id": "f60ae97b-9dbe-4188-a39c-67f40d10eb89",
   "metadata": {},
   "source": [
    "\\newpage"
   ]
  },
  {
   "cell_type": "markdown",
   "id": "d49581ed-8dfb-4d5c-8f83-27f880f49c42",
   "metadata": {},
   "source": [
    "# Part 3: Lifts and Gains"
   ]
  },
  {
   "cell_type": "markdown",
   "id": "6cee9ae1-2ff3-4bc2-ab58-ba116a490cd3",
   "metadata": {},
   "source": [
    "## 1. Use the information from the report in II.3 above to create a table showing the lift and cumulative lift for each decile. You may want to use Excel for these calculations."
   ]
  },
  {
   "cell_type": "code",
   "execution_count": null,
   "id": "9c657767-be34-4488-b5fe-15368a44835a",
   "metadata": {},
   "outputs": [],
   "source": [
    "lift_report = report_df[['num_customers', 'num_buyers']]\n",
    "num_responded = 4522\n",
    "num_sample = 50000\n",
    "overall_response_rate = num_responded / num_sample\n",
    "\n",
    "customers_per_decile = lift_report['num_customers'].tolist()\n",
    "buyers_per_decile = lift_report['num_buyers'].tolist()\n",
    "\n",
    "lift_report['cum. cust'] = [sum(customers_per_decile[0:i]) for i in range(1, len(customers_per_decile) + 1)]\n",
    "lift_report['cum. % cust'] = (lift_report['cum. cust'] / num_sample)\n",
    "\n",
    "lift_report['cum. buy'] = [sum(buyers_per_decile[0:i]) for i in range(1, len(buyers_per_decile) + 1)]\n",
    "lift_report['cum. % buy'] = (lift_report['cum. buy'] / num_responded)\n",
    "\n",
    "lift_report = lift_report[['num_customers', 'cum. cust', 'cum. % cust', 'num_buyers', 'cum. buy', 'cum. % buy']]"
   ]
  },
  {
   "cell_type": "code",
   "execution_count": null,
   "id": "10723b7e-1a19-4d2b-abdc-a5c94aa61755",
   "metadata": {},
   "outputs": [],
   "source": [
    "# lift calculations\n",
    "lift_report['response rate'] = (lift_report['num_buyers'] / lift_report['num_customers'])\n",
    "lift_report['lift'] = (lift_report['response rate'] / overall_response_rate) * 100\n",
    "\n",
    "lift_report['cum. response rate'] = (lift_report['cum. buy'] / lift_report['cum. cust'])\n",
    "lift_report['cum. lift'] = (lift_report['cum. response rate'] / overall_response_rate) * 100\n",
    "\n",
    "lift_report"
   ]
  },
  {
   "cell_type": "code",
   "execution_count": null,
   "id": "565bd091-8dbd-42cd-ba46-24f470790675",
   "metadata": {},
   "outputs": [],
   "source": [
    "mba263.lift(df['buyer_int'], df['buy_prob'])"
   ]
  },
  {
   "cell_type": "markdown",
   "id": "2afe5005-d007-4efd-8b4a-102cc0892018",
   "metadata": {},
   "source": [
    "\\newpage"
   ]
  },
  {
   "cell_type": "markdown",
   "id": "fe401c81-0927-4b91-b9e1-e3e71f2e78a7",
   "metadata": {},
   "source": [
    "## 2. Create a chart showing the cumulative lift by decile."
   ]
  },
  {
   "cell_type": "code",
   "execution_count": null,
   "id": "2b99a730-92e1-4815-8094-eacbb4fe4f95",
   "metadata": {},
   "outputs": [],
   "source": [
    "plt.plot(lift_report['cum. lift'])\n",
    "plt.xlabel('deciles')\n",
    "plt.ylabel('cumulative lift')\n",
    "plt.title('cumulative lift by decile')\n",
    "plt.xticks([i for i in range(10)]);"
   ]
  },
  {
   "cell_type": "markdown",
   "id": "4ac5f508-6490-4f83-8e15-d2cd1acaacb0",
   "metadata": {},
   "source": [
    "\\newpage"
   ]
  },
  {
   "cell_type": "markdown",
   "id": "27d564c9-b97e-4915-b47b-2f53f41e764e",
   "metadata": {},
   "source": [
    "## 3. Use the information from the report in II.3 above to create a table showing the gains and cumulative gains for each decile. You may want to use Excel for these calculations."
   ]
  },
  {
   "cell_type": "code",
   "execution_count": null,
   "id": "dbf0e0d5-c969-4b50-ac5a-2549ae3eef81",
   "metadata": {},
   "outputs": [],
   "source": [
    "gains_report = lift_report[['num_customers', 'cum. cust', 'cum. % cust', 'num_buyers', 'cum. buy']]\n",
    "gains_report['gains'] = gains_report['num_buyers'] / num_responded\n",
    "gains_report['cum. gains'] = [sum(gains_report['gains'].tolist()[0:i]) for i in range(1, len(gains_report['gains'].tolist()) + 1)]\n",
    "\n",
    "gains_report"
   ]
  },
  {
   "cell_type": "code",
   "execution_count": null,
   "id": "26c042aa-b96b-4383-b8f8-d534d47c47ce",
   "metadata": {},
   "outputs": [],
   "source": [
    "mba263.gain(df['buyer_int'], df['buy_prob'])"
   ]
  },
  {
   "cell_type": "markdown",
   "id": "23b24ac9-7a1f-47bb-b869-5db80b57f405",
   "metadata": {},
   "source": [
    "\\newpage"
   ]
  },
  {
   "cell_type": "markdown",
   "id": "24acd80f-4505-4830-a162-9865a134cca1",
   "metadata": {},
   "source": [
    "## 4. Create a chart showing the cumulative gains by decile along with a reference line corresponding to 'no model'."
   ]
  },
  {
   "cell_type": "code",
   "execution_count": null,
   "id": "6fc2072d-12c7-43d4-bdb6-4b1f5ba93216",
   "metadata": {},
   "outputs": [],
   "source": [
    "plt.plot([0] + gains_report['cum. gains'].tolist(), label = 'gains model')\n",
    "plt.plot([0, 10], [0, 1], label = 'no model')\n",
    "plt.legend(loc = \"upper left\")\n",
    "plt.xlabel('% customer targeted')\n",
    "plt.ylabel('probability')\n",
    "plt.title('cumulative gains')\n",
    "plt.xticks([i for i in range(11)]);"
   ]
  },
  {
   "cell_type": "markdown",
   "id": "413d6159-20f0-49be-a530-f4f6a1f75f51",
   "metadata": {},
   "source": [
    "\\newpage"
   ]
  },
  {
   "cell_type": "markdown",
   "id": "73827b06-ef1e-4d04-adc1-f864111f4d6d",
   "metadata": {},
   "source": [
    "# Part 4: Profitability Analysis"
   ]
  },
  {
   "cell_type": "markdown",
   "id": "cda10951-1dd5-417b-9e55-8f732cd40a6e",
   "metadata": {},
   "source": [
    "### Use the following cost information to assess the profitability of using logistic regression to determine which of the remaining 500,000 customers should receive a specific offer: \n",
    "- Cost to mail offer to customer: \\$0.50\n",
    "- Selling price (shipping included): \\$18.00\n",
    "- Wholesale price paid by BookBinders: \\$9.00\n",
    "- Shipping costs: \\$3.00"
   ]
  },
  {
   "cell_type": "markdown",
   "id": "daf6003b-c92f-4b84-85de-be88d2652ae0",
   "metadata": {},
   "source": [
    "## 1. What is the breakeven response rate?"
   ]
  },
  {
   "cell_type": "code",
   "execution_count": null,
   "id": "02034659-7908-46ed-b3ec-de1064ac9688",
   "metadata": {},
   "outputs": [],
   "source": [
    "revenue_per_sale = 18\n",
    "profit_per_sale = revenue_per_sale - 9 - 3\n",
    "cost_of_mailing = 0.5\n",
    "break_even_rate = cost_of_mailing / profit_per_sale\n",
    "print(\"The breakeven response rate is \" + str(break_even_rate * 100) + \"%\" )"
   ]
  },
  {
   "cell_type": "markdown",
   "id": "d3b8c345-46bb-47df-9f5f-4568fd4e2546",
   "metadata": {},
   "source": [
    "\\newpage"
   ]
  },
  {
   "cell_type": "markdown",
   "id": "81ae6156-58c8-4b6d-8938-513548847b68",
   "metadata": {},
   "source": [
    "## 2. For the customers in the dataset, create a new variable (call it \"target\") with a value of 1 if the customer's predicted probability is greater than or equal to the breakeven response rate and 0 otherwise. "
   ]
  },
  {
   "cell_type": "code",
   "execution_count": null,
   "id": "48d2b627-add2-466f-a7f9-86b9c304013b",
   "metadata": {},
   "outputs": [],
   "source": [
    "df['target'] = (df['buy_prob'] >= break_even_rate) * 1\n",
    "df"
   ]
  },
  {
   "cell_type": "markdown",
   "id": "67f1868e-2fd6-4d2e-93b5-f4aab4cfff28",
   "metadata": {},
   "source": [
    "\\newpage"
   ]
  },
  {
   "cell_type": "markdown",
   "id": "2da1b622-1410-4402-829a-bc9a5e0ae29f",
   "metadata": {},
   "source": [
    "## 3. Considering that there are 500,000 remaining customers, generate a report summarizing the number of customers, the expected number of buyers of 'The Art History of Florence' and the expected response rate to the offer by the \"target\" variable. "
   ]
  },
  {
   "cell_type": "code",
   "execution_count": null,
   "id": "2cdf877b-0dca-47c8-83bc-367e7de25991",
   "metadata": {},
   "outputs": [],
   "source": [
    "# the proportion of the 500,000 remaining customers that will respond to our catalog\n",
    "prop_mail_to = sum(df['target']) / len(df)\n",
    "prop_mail_to"
   ]
  },
  {
   "cell_type": "code",
   "execution_count": null,
   "id": "eb02d5ee-7fd8-4e54-8df6-8545f4a0ceb8",
   "metadata": {},
   "outputs": [],
   "source": [
    "# number of customers expected to mail to\n",
    "num_remaining_mail_to = 500000 * prop_mail_to\n",
    "num_remaining_mail_to"
   ]
  },
  {
   "cell_type": "code",
   "execution_count": null,
   "id": "7776b979-1969-4fe0-a115-20cbb593586f",
   "metadata": {},
   "outputs": [],
   "source": [
    "# the expected response rate based on targeted mailing\n",
    "\n",
    "targeted_response_rate = mba263.tabulate(df[df['target'] == 1]['buyer'])['Frequency'][1]\n",
    "targeted_response_rate"
   ]
  },
  {
   "cell_type": "code",
   "execution_count": null,
   "id": "589c4e1e-e62e-43b1-a84a-30330bf116a4",
   "metadata": {},
   "outputs": [],
   "source": [
    "# the expected number of buyers based on how many we mail to\n",
    "num_respond_to = targeted_response_rate * num_remaining_mail_to\n",
    "num_respond_to"
   ]
  },
  {
   "cell_type": "markdown",
   "id": "c8d22499-cc25-4fbf-9606-103759947d0d",
   "metadata": {},
   "source": [
    "\\newpage"
   ]
  },
  {
   "cell_type": "markdown",
   "id": "0fd1a4ca-24de-4190-9f15-515cbb3646ea",
   "metadata": {},
   "source": [
    "## 4. For the 500,000 remaining customers, what would the expected gross profit (in dollars, and also as a percentage of gross sales) and the expected return on marketing expenditures have been if BookBinders had mailed the offer to buy \"The Art History of Florence\" only to customers with a predicted probability of buying that was greater than or equal to the breakeven rate? "
   ]
  },
  {
   "cell_type": "code",
   "execution_count": null,
   "id": "5e9780a8-9c33-45bd-b0e7-50a06f0b1cf0",
   "metadata": {},
   "outputs": [],
   "source": [
    "gross_profit = profit_per_sale * num_respond_to - cost_of_mailing * num_remaining_mail_to\n",
    "gross_sales_targeted = revenue_per_sale * num_respond_to\n",
    "\n",
    "print(\"The expected gross profit is $\" + str(gross_profit))\n",
    "print(\"The expected gross profit as a percentage of gross sales is \" + str((gross_profit / gross_sales_targeted) * 100) + \"%\") \n",
    "print(\"The expected return on marketing expenditures is \" + str(gross_profit / (cost_of_mailing * num_remaining_mail_to) * 100) + \"%\")"
   ]
  },
  {
   "cell_type": "code",
   "execution_count": null,
   "id": "084c25ad-676c-4443-85f4-aae17737dc0d",
   "metadata": {},
   "outputs": [],
   "source": []
  }
 ],
 "metadata": {
  "kernelspec": {
   "display_name": "Python 3 (ipykernel)",
   "language": "python",
   "name": "python3"
  },
  "language_info": {
   "codemirror_mode": {
    "name": "ipython",
    "version": 3
   },
   "file_extension": ".py",
   "mimetype": "text/x-python",
   "name": "python",
   "nbconvert_exporter": "python",
   "pygments_lexer": "ipython3",
   "version": "3.9.6"
  }
 },
 "nbformat": 4,
 "nbformat_minor": 5
}
