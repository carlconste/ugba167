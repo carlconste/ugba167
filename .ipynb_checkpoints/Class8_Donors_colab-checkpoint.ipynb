{
 "cells": [
  {
   "cell_type": "code",
   "execution_count": 1,
   "metadata": {
    "executionInfo": {
     "elapsed": 3699,
     "status": "ok",
     "timestamp": 1675965851208,
     "user": {
      "displayName": "Olivia Natan",
      "userId": "05221168611265745496"
     },
     "user_tz": 480
    },
    "id": "NOCc4AKGnYIv"
   },
   "outputs": [],
   "source": [
    "import mba263\n",
    "import pandas"
   ]
  },
  {
   "cell_type": "code",
   "execution_count": 2,
   "metadata": {
    "colab": {
     "base_uri": "https://localhost:8080/",
     "height": 299
    },
    "executionInfo": {
     "elapsed": 11,
     "status": "ok",
     "timestamp": 1675965851208,
     "user": {
      "displayName": "Olivia Natan",
      "userId": "05221168611265745496"
     },
     "user_tz": 480
    },
    "id": "qPQTua6yBYsr",
    "outputId": "91e9ab22-6664-4161-8f17-3357d31f9311"
   },
   "outputs": [
    {
     "data": {
      "text/html": [
       "<div>\n",
       "<style scoped>\n",
       "    .dataframe tbody tr th:only-of-type {\n",
       "        vertical-align: middle;\n",
       "    }\n",
       "\n",
       "    .dataframe tbody tr th {\n",
       "        vertical-align: top;\n",
       "    }\n",
       "\n",
       "    .dataframe thead th {\n",
       "        text-align: right;\n",
       "    }\n",
       "</style>\n",
       "<table border=\"1\" class=\"dataframe\">\n",
       "  <thead>\n",
       "    <tr style=\"text-align: right;\">\n",
       "      <th></th>\n",
       "      <th>Month</th>\n",
       "      <th>Date</th>\n",
       "      <th>ID</th>\n",
       "      <th>Beauty</th>\n",
       "      <th>Assertive</th>\n",
       "      <th>Social</th>\n",
       "      <th>Efficacy</th>\n",
       "      <th>Performance</th>\n",
       "      <th>Confidence</th>\n",
       "      <th>VCM</th>\n",
       "      <th>...</th>\n",
       "      <th>PriorTreat</th>\n",
       "      <th>PriorID</th>\n",
       "      <th>PriorBeauty</th>\n",
       "      <th>Sol_Male</th>\n",
       "      <th>Sol_White</th>\n",
       "      <th>Prior_Male</th>\n",
       "      <th>Prior_White</th>\n",
       "      <th>Small_gift</th>\n",
       "      <th>Large_gift</th>\n",
       "      <th>Profit</th>\n",
       "    </tr>\n",
       "  </thead>\n",
       "  <tbody>\n",
       "    <tr>\n",
       "      <th>0</th>\n",
       "      <td>4</td>\n",
       "      <td>29</td>\n",
       "      <td>2</td>\n",
       "      <td>-0.004</td>\n",
       "      <td>3</td>\n",
       "      <td>2</td>\n",
       "      <td>3</td>\n",
       "      <td>4</td>\n",
       "      <td>1</td>\n",
       "      <td>0</td>\n",
       "      <td>...</td>\n",
       "      <td>2.0</td>\n",
       "      <td>16</td>\n",
       "      <td>0.22</td>\n",
       "      <td>1</td>\n",
       "      <td>1</td>\n",
       "      <td>0</td>\n",
       "      <td>1</td>\n",
       "      <td>1</td>\n",
       "      <td>0</td>\n",
       "      <td>-0.1</td>\n",
       "    </tr>\n",
       "    <tr>\n",
       "      <th>1</th>\n",
       "      <td>4</td>\n",
       "      <td>29</td>\n",
       "      <td>2</td>\n",
       "      <td>-0.004</td>\n",
       "      <td>3</td>\n",
       "      <td>2</td>\n",
       "      <td>3</td>\n",
       "      <td>4</td>\n",
       "      <td>1</td>\n",
       "      <td>0</td>\n",
       "      <td>...</td>\n",
       "      <td>4.0</td>\n",
       "      <td>29</td>\n",
       "      <td>0.28</td>\n",
       "      <td>1</td>\n",
       "      <td>1</td>\n",
       "      <td>1</td>\n",
       "      <td>1</td>\n",
       "      <td>1</td>\n",
       "      <td>0</td>\n",
       "      <td>-0.1</td>\n",
       "    </tr>\n",
       "    <tr>\n",
       "      <th>2</th>\n",
       "      <td>4</td>\n",
       "      <td>29</td>\n",
       "      <td>2</td>\n",
       "      <td>-0.004</td>\n",
       "      <td>3</td>\n",
       "      <td>2</td>\n",
       "      <td>3</td>\n",
       "      <td>4</td>\n",
       "      <td>1</td>\n",
       "      <td>0</td>\n",
       "      <td>...</td>\n",
       "      <td>4.0</td>\n",
       "      <td>29</td>\n",
       "      <td>0.28</td>\n",
       "      <td>1</td>\n",
       "      <td>1</td>\n",
       "      <td>1</td>\n",
       "      <td>1</td>\n",
       "      <td>1</td>\n",
       "      <td>0</td>\n",
       "      <td>2.9</td>\n",
       "    </tr>\n",
       "    <tr>\n",
       "      <th>3</th>\n",
       "      <td>4</td>\n",
       "      <td>29</td>\n",
       "      <td>2</td>\n",
       "      <td>-0.004</td>\n",
       "      <td>3</td>\n",
       "      <td>2</td>\n",
       "      <td>3</td>\n",
       "      <td>4</td>\n",
       "      <td>1</td>\n",
       "      <td>0</td>\n",
       "      <td>...</td>\n",
       "      <td>4.0</td>\n",
       "      <td>30</td>\n",
       "      <td>0.53</td>\n",
       "      <td>1</td>\n",
       "      <td>1</td>\n",
       "      <td>0</td>\n",
       "      <td>1</td>\n",
       "      <td>1</td>\n",
       "      <td>0</td>\n",
       "      <td>-0.1</td>\n",
       "    </tr>\n",
       "    <tr>\n",
       "      <th>4</th>\n",
       "      <td>4</td>\n",
       "      <td>29</td>\n",
       "      <td>2</td>\n",
       "      <td>-0.004</td>\n",
       "      <td>3</td>\n",
       "      <td>2</td>\n",
       "      <td>3</td>\n",
       "      <td>4</td>\n",
       "      <td>1</td>\n",
       "      <td>0</td>\n",
       "      <td>...</td>\n",
       "      <td>4.0</td>\n",
       "      <td>27</td>\n",
       "      <td>0.64</td>\n",
       "      <td>1</td>\n",
       "      <td>1</td>\n",
       "      <td>1</td>\n",
       "      <td>0</td>\n",
       "      <td>1</td>\n",
       "      <td>0</td>\n",
       "      <td>19.9</td>\n",
       "    </tr>\n",
       "  </tbody>\n",
       "</table>\n",
       "<p>5 rows × 32 columns</p>\n",
       "</div>"
      ],
      "text/plain": [
       "   Month  Date  ID  Beauty  Assertive  Social  Efficacy  Performance  \\\n",
       "0      4    29   2  -0.004          3       2         3            4   \n",
       "1      4    29   2  -0.004          3       2         3            4   \n",
       "2      4    29   2  -0.004          3       2         3            4   \n",
       "3      4    29   2  -0.004          3       2         3            4   \n",
       "4      4    29   2  -0.004          3       2         3            4   \n",
       "\n",
       "   Confidence  VCM  ...  PriorTreat  PriorID  PriorBeauty  Sol_Male  \\\n",
       "0           1    0  ...         2.0       16         0.22         1   \n",
       "1           1    0  ...         4.0       29         0.28         1   \n",
       "2           1    0  ...         4.0       29         0.28         1   \n",
       "3           1    0  ...         4.0       30         0.53         1   \n",
       "4           1    0  ...         4.0       27         0.64         1   \n",
       "\n",
       "   Sol_White Prior_Male Prior_White  Small_gift  Large_gift  Profit  \n",
       "0          1          0           1           1           0    -0.1  \n",
       "1          1          1           1           1           0    -0.1  \n",
       "2          1          1           1           1           0     2.9  \n",
       "3          1          0           1           1           0    -0.1  \n",
       "4          1          1           0           1           0    19.9  \n",
       "\n",
       "[5 rows x 32 columns]"
      ]
     },
     "execution_count": 2,
     "metadata": {},
     "output_type": "execute_result"
    }
   ],
   "source": [
    "df=pandas.read_csv('data/donor.csv')\n",
    "df.head()"
   ]
  },
  {
   "cell_type": "code",
   "execution_count": 3,
   "metadata": {
    "colab": {
     "base_uri": "https://localhost:8080/"
    },
    "executionInfo": {
     "elapsed": 161,
     "status": "ok",
     "timestamp": 1675965855456,
     "user": {
      "displayName": "Olivia Natan",
      "userId": "05221168611265745496"
     },
     "user_tz": 480
    },
    "id": "OqggL6UaBkhu",
    "outputId": "1f2f80b5-6bef-46e1-d55c-20a17664c2b3"
   },
   "outputs": [
    {
     "data": {
      "text/plain": [
       "Index(['Month', 'Date', 'ID', 'Beauty', 'Assertive', 'Social', 'Efficacy',\n",
       "       'Performance', 'Confidence', 'VCM', 'USG', 'CSG', 'ULG', 'CLG',\n",
       "       'Donation', 'Male', 'White', 'Age', 'Refuse_Gift', 'Visited_Prior',\n",
       "       'Warm_List', 'Donation_Prior', 'PriorTreat', 'PriorID', 'PriorBeauty',\n",
       "       'Sol_Male', 'Sol_White', 'Prior_Male', 'Prior_White', 'Small_gift',\n",
       "       'Large_gift', 'Profit'],\n",
       "      dtype='object')"
      ]
     },
     "execution_count": 3,
     "metadata": {},
     "output_type": "execute_result"
    }
   ],
   "source": [
    "df.columns"
   ]
  },
  {
   "cell_type": "markdown",
   "metadata": {
    "id": "4e9afe42"
   },
   "source": [
    "# What is in the data?\n",
    "\n",
    "- Month – Gives the month in which the household was approached\n",
    "- Date – Gives the day of the month in which the household was approached\n",
    "- ID – Unique number identifying which of the 36 solicitors approached the household\n",
    "- Beauty – The normalized beauty rating for the solicitor who approached the household\n",
    "- Assertive, Social, Efficacy, Performance, Confidence – Measures of the respective personality traits for the given solicitor based off response to the personality survey.\n",
    "- VCM – Indicator that equals 1 if the household was approached in the VCM treatment\n",
    "- USG – Indicator that equals 1 for a household approached in the unconditional small gift treatment\n",
    "- CSG – Indicator that equals 1 for a household approached in the conditional small gift treatment\n",
    "- ULG – Indicator that equals 1 for a household approached in the unconditional large gift treatment\n",
    "- CLG – Indicator that equals 1 for a household approached in the conditional large gift treatment\n",
    "- Donation – The donation amount (in dollars) received from the given household\n",
    "- Male – Indicator that equals 1 if the person who answered the door was a male\n",
    "- White – Indicator that equals 1 if the person who answered the door was Caucasian\n",
    "- Age – Estimated age of the person who answered the door\n",
    "- Refuse_Gift – Indicator that equals 1 for a household that refused an available gift\n",
    "- Visited_Prior – Indicator that equals 1 if that household (address) was visited in the prior fund-raising drive\n",
    "- Warm_List – Indicator that equals 1 if the household (address) contributed to the Hazard Center in the prior fund-- raising drive\n",
    "- Donation_Prior – The donation amount (in dollars) of prior contributions for that household (address) to the Hazard - Center\n",
    "- PriorTreat – Indicator designating the way in which the household was approached in the prior fund-raising campaign; 1 - = VCM, 2 = Seed Money, 3 = Single Prize Lottery, 4 = Multi-Prize Lottery\n",
    "- PriorID – Unique number identifying which solicitor approached the household in the prior fund-raising campaign\n",
    "- PriorBeauty – Normalized beauty rating for the solicitor who approached the household in the prior fund-raising - campaign\n",
    "- Prior_Male – Indicator that equals 1 if the solicitor who approached the household in the prior fund-raising campaign was  male\n",
    "- Prior_White – Indicator that equals 1 if the solicitor who approached the household in the prior fund-raising campaign was Caucasian\n",
    "- Small_gift - combines USG and CSG\n",
    "- Large_gift - combines ULG and CLG\n"
   ]
  },
  {
   "cell_type": "code",
   "execution_count": 4,
   "metadata": {
    "colab": {
     "base_uri": "https://localhost:8080/"
    },
    "executionInfo": {
     "elapsed": 309,
     "status": "ok",
     "timestamp": 1675895172169,
     "user": {
      "displayName": "Olivia Natan",
      "userId": "05221168611265745496"
     },
     "user_tz": 480
    },
    "id": "BPQTptmIBnkA",
    "outputId": "4d9b6c82-aa19-48e5-9012-5ce804325ef8"
   },
   "outputs": [
    {
     "data": {
      "text/plain": [
       "count    1039.000000\n",
       "mean        2.505813\n",
       "std         6.603975\n",
       "min         0.000000\n",
       "25%         0.000000\n",
       "50%         0.000000\n",
       "75%         1.000000\n",
       "max       100.000000\n",
       "Name: Donation, dtype: float64"
      ]
     },
     "execution_count": 4,
     "metadata": {},
     "output_type": "execute_result"
    }
   ],
   "source": [
    "df['Donation'].describe()"
   ]
  },
  {
   "cell_type": "code",
   "execution_count": 5,
   "metadata": {},
   "outputs": [
    {
     "data": {
      "text/plain": [
       "VCM  Small_gift  Large_gift  PriorTreat\n",
       "0    0           1           1.0           50\n",
       "                             4.0           36\n",
       "                             3.0           33\n",
       "                             2.0           14\n",
       "     1           0           4.0           49\n",
       "                             3.0           30\n",
       "                             2.0           22\n",
       "                             1.0            9\n",
       "1    0           0           1.0           50\n",
       "                             3.0           42\n",
       "                             4.0            9\n",
       "dtype: int64"
      ]
     },
     "execution_count": 5,
     "metadata": {},
     "output_type": "execute_result"
    }
   ],
   "source": [
    "df[['PriorTreat', 'VCM', 'Small_gift', 'Large_gift']].groupby(['VCM', 'Small_gift', 'Large_gift']).value_counts()"
   ]
  },
  {
   "cell_type": "code",
   "execution_count": 6,
   "metadata": {
    "colab": {
     "base_uri": "https://localhost:8080/"
    },
    "executionInfo": {
     "elapsed": 307,
     "status": "ok",
     "timestamp": 1675895172169,
     "user": {
      "displayName": "Olivia Natan",
      "userId": "05221168611265745496"
     },
     "user_tz": 480
    },
    "id": "gVCoDznKBrs4",
    "outputId": "574082e0-97c9-4ac8-824f-5549950966c0"
   },
   "outputs": [
    {
     "data": {
      "text/plain": [
       "0.32820019249278154"
      ]
     },
     "execution_count": 6,
     "metadata": {},
     "output_type": "execute_result"
    }
   ],
   "source": [
    "(df['Profit']<0).mean()"
   ]
  },
  {
   "cell_type": "markdown",
   "metadata": {
    "id": "7d693071"
   },
   "source": [
    "## Look at distribution of donations"
   ]
  },
  {
   "cell_type": "code",
   "execution_count": 7,
   "metadata": {
    "colab": {
     "base_uri": "https://localhost:8080/",
     "height": 456
    },
    "executionInfo": {
     "elapsed": 5,
     "status": "ok",
     "timestamp": 1675895172169,
     "user": {
      "displayName": "Olivia Natan",
      "userId": "05221168611265745496"
     },
     "user_tz": 480
    },
    "id": "zHZx7LXWBtJW",
    "outputId": "4889de24-3b03-4c85-acc6-c5061fad7444"
   },
   "outputs": [
    {
     "data": {
      "image/png": "[encoded data removed]",
      "text/plain": [
       "<Figure size 640x480 with 1 Axes>"
      ]
     },
     "metadata": {},
     "output_type": "display_data"
    }
   ],
   "source": [
    "mba263.hist(df['Donation'],bins=50);"
   ]
  },
  {
   "cell_type": "code",
   "execution_count": 8,
   "metadata": {
    "colab": {
     "base_uri": "https://localhost:8080/",
     "height": 439
    },
    "executionInfo": {
     "elapsed": 318,
     "status": "ok",
     "timestamp": 1675895172484,
     "user": {
      "displayName": "Olivia Natan",
      "userId": "05221168611265745496"
     },
     "user_tz": 480
    },
    "id": "LHwTtmT5Bxjb",
    "outputId": "f8a340d0-3f9b-48c9-cb5a-69af0aab202b"
   },
   "outputs": [
    {
     "data": {
      "image/png": "[encoded data removed]",
      "text/plain": [
       "<Figure size 640x480 with 1 Axes>"
      ]
     },
     "metadata": {},
     "output_type": "display_data"
    }
   ],
   "source": [
    "mba263.hist(df['Profit'],bins=50);"
   ]
  },
  {
   "cell_type": "markdown",
   "metadata": {
    "id": "9d6f9486"
   },
   "source": [
    "### Two equivalent ways to look at this distribution by prior donation status:\n"
   ]
  },
  {
   "cell_type": "code",
   "execution_count": 9,
   "metadata": {
    "colab": {
     "base_uri": "https://localhost:8080/",
     "height": 143
    },
    "executionInfo": {
     "elapsed": 5,
     "status": "ok",
     "timestamp": 1675895172485,
     "user": {
      "displayName": "Olivia Natan",
      "userId": "05221168611265745496"
     },
     "user_tz": 480
    },
    "id": "kxlH5EixB0L0",
    "outputId": "a0512dc8-0222-4602-f9d2-07385ff84866"
   },
   "outputs": [
    {
     "data": {
      "text/html": [
       "<div>\n",
       "<style scoped>\n",
       "    .dataframe tbody tr th:only-of-type {\n",
       "        vertical-align: middle;\n",
       "    }\n",
       "\n",
       "    .dataframe tbody tr th {\n",
       "        vertical-align: top;\n",
       "    }\n",
       "\n",
       "    .dataframe thead th {\n",
       "        text-align: right;\n",
       "    }\n",
       "</style>\n",
       "<table border=\"1\" class=\"dataframe\">\n",
       "  <thead>\n",
       "    <tr style=\"text-align: right;\">\n",
       "      <th></th>\n",
       "      <th>count</th>\n",
       "      <th>mean</th>\n",
       "      <th>std</th>\n",
       "      <th>min</th>\n",
       "      <th>25%</th>\n",
       "      <th>50%</th>\n",
       "      <th>75%</th>\n",
       "      <th>max</th>\n",
       "    </tr>\n",
       "    <tr>\n",
       "      <th>Warm_List</th>\n",
       "      <th></th>\n",
       "      <th></th>\n",
       "      <th></th>\n",
       "      <th></th>\n",
       "      <th></th>\n",
       "      <th></th>\n",
       "      <th></th>\n",
       "      <th></th>\n",
       "    </tr>\n",
       "  </thead>\n",
       "  <tbody>\n",
       "    <tr>\n",
       "      <th>0</th>\n",
       "      <td>888.0</td>\n",
       "      <td>2.355338</td>\n",
       "      <td>6.517470</td>\n",
       "      <td>0.0</td>\n",
       "      <td>0.0</td>\n",
       "      <td>0.0</td>\n",
       "      <td>0.0</td>\n",
       "      <td>100.0</td>\n",
       "    </tr>\n",
       "    <tr>\n",
       "      <th>1</th>\n",
       "      <td>151.0</td>\n",
       "      <td>3.390728</td>\n",
       "      <td>7.049325</td>\n",
       "      <td>0.0</td>\n",
       "      <td>0.0</td>\n",
       "      <td>0.0</td>\n",
       "      <td>5.0</td>\n",
       "      <td>40.0</td>\n",
       "    </tr>\n",
       "  </tbody>\n",
       "</table>\n",
       "</div>"
      ],
      "text/plain": [
       "           count      mean       std  min  25%  50%  75%    max\n",
       "Warm_List                                                      \n",
       "0          888.0  2.355338  6.517470  0.0  0.0  0.0  0.0  100.0\n",
       "1          151.0  3.390728  7.049325  0.0  0.0  0.0  5.0   40.0"
      ]
     },
     "execution_count": 9,
     "metadata": {},
     "output_type": "execute_result"
    }
   ],
   "source": [
    "df.groupby('Warm_List')['Donation'].describe()"
   ]
  },
  {
   "cell_type": "code",
   "execution_count": 10,
   "metadata": {
    "colab": {
     "base_uri": "https://localhost:8080/",
     "height": 175
    },
    "executionInfo": {
     "elapsed": 5,
     "status": "ok",
     "timestamp": 1675895172485,
     "user": {
      "displayName": "Olivia Natan",
      "userId": "05221168611265745496"
     },
     "user_tz": 480
    },
    "id": "M_cqaMEvB7LO",
    "outputId": "773a7585-9a07-4ccd-ddc6-8fab8ab8faf9"
   },
   "outputs": [
    {
     "data": {
      "text/html": [
       "<div>\n",
       "<style scoped>\n",
       "    .dataframe tbody tr th:only-of-type {\n",
       "        vertical-align: middle;\n",
       "    }\n",
       "\n",
       "    .dataframe tbody tr th {\n",
       "        vertical-align: top;\n",
       "    }\n",
       "\n",
       "    .dataframe thead tr th {\n",
       "        text-align: left;\n",
       "    }\n",
       "\n",
       "    .dataframe thead tr:last-of-type th {\n",
       "        text-align: right;\n",
       "    }\n",
       "</style>\n",
       "<table border=\"1\" class=\"dataframe\">\n",
       "  <thead>\n",
       "    <tr>\n",
       "      <th></th>\n",
       "      <th colspan=\"8\" halign=\"left\">Donation</th>\n",
       "    </tr>\n",
       "    <tr>\n",
       "      <th></th>\n",
       "      <th>count</th>\n",
       "      <th>mean</th>\n",
       "      <th>std</th>\n",
       "      <th>min</th>\n",
       "      <th>25%</th>\n",
       "      <th>50%</th>\n",
       "      <th>75%</th>\n",
       "      <th>max</th>\n",
       "    </tr>\n",
       "    <tr>\n",
       "      <th>Warm_List</th>\n",
       "      <th></th>\n",
       "      <th></th>\n",
       "      <th></th>\n",
       "      <th></th>\n",
       "      <th></th>\n",
       "      <th></th>\n",
       "      <th></th>\n",
       "      <th></th>\n",
       "    </tr>\n",
       "  </thead>\n",
       "  <tbody>\n",
       "    <tr>\n",
       "      <th>0</th>\n",
       "      <td>888.0</td>\n",
       "      <td>2.355338</td>\n",
       "      <td>6.517470</td>\n",
       "      <td>0.0</td>\n",
       "      <td>0.0</td>\n",
       "      <td>0.0</td>\n",
       "      <td>0.0</td>\n",
       "      <td>100.0</td>\n",
       "    </tr>\n",
       "    <tr>\n",
       "      <th>1</th>\n",
       "      <td>151.0</td>\n",
       "      <td>3.390728</td>\n",
       "      <td>7.049325</td>\n",
       "      <td>0.0</td>\n",
       "      <td>0.0</td>\n",
       "      <td>0.0</td>\n",
       "      <td>5.0</td>\n",
       "      <td>40.0</td>\n",
       "    </tr>\n",
       "  </tbody>\n",
       "</table>\n",
       "</div>"
      ],
      "text/plain": [
       "          Donation                                               \n",
       "             count      mean       std  min  25%  50%  75%    max\n",
       "Warm_List                                                        \n",
       "0            888.0  2.355338  6.517470  0.0  0.0  0.0  0.0  100.0\n",
       "1            151.0  3.390728  7.049325  0.0  0.0  0.0  5.0   40.0"
      ]
     },
     "execution_count": 10,
     "metadata": {},
     "output_type": "execute_result"
    }
   ],
   "source": [
    "df[['Warm_List','Donation']].groupby('Warm_List').describe()"
   ]
  },
  {
   "cell_type": "code",
   "execution_count": 11,
   "metadata": {
    "colab": {
     "base_uri": "https://localhost:8080/",
     "height": 143
    },
    "executionInfo": {
     "elapsed": 797,
     "status": "ok",
     "timestamp": 1675895173278,
     "user": {
      "displayName": "Olivia Natan",
      "userId": "05221168611265745496"
     },
     "user_tz": 480
    },
    "id": "oD1E-l8JB9Yl",
    "outputId": "9bd971da-e068-46a4-f3f6-cbfbeb6b15ec"
   },
   "outputs": [
    {
     "data": {
      "text/html": [
       "<div>\n",
       "<style scoped>\n",
       "    .dataframe tbody tr th:only-of-type {\n",
       "        vertical-align: middle;\n",
       "    }\n",
       "\n",
       "    .dataframe tbody tr th {\n",
       "        vertical-align: top;\n",
       "    }\n",
       "\n",
       "    .dataframe thead th {\n",
       "        text-align: right;\n",
       "    }\n",
       "</style>\n",
       "<table border=\"1\" class=\"dataframe\">\n",
       "  <thead>\n",
       "    <tr style=\"text-align: right;\">\n",
       "      <th></th>\n",
       "      <th>count</th>\n",
       "      <th>mean</th>\n",
       "      <th>std</th>\n",
       "      <th>min</th>\n",
       "      <th>25%</th>\n",
       "      <th>50%</th>\n",
       "      <th>75%</th>\n",
       "      <th>max</th>\n",
       "    </tr>\n",
       "    <tr>\n",
       "      <th>Warm_List</th>\n",
       "      <th></th>\n",
       "      <th></th>\n",
       "      <th></th>\n",
       "      <th></th>\n",
       "      <th></th>\n",
       "      <th></th>\n",
       "      <th></th>\n",
       "      <th></th>\n",
       "    </tr>\n",
       "  </thead>\n",
       "  <tbody>\n",
       "    <tr>\n",
       "      <th>0</th>\n",
       "      <td>888.0</td>\n",
       "      <td>1.178986</td>\n",
       "      <td>6.279330</td>\n",
       "      <td>-5.0</td>\n",
       "      <td>-0.1</td>\n",
       "      <td>0.0</td>\n",
       "      <td>0.0</td>\n",
       "      <td>95.0</td>\n",
       "    </tr>\n",
       "    <tr>\n",
       "      <th>1</th>\n",
       "      <td>151.0</td>\n",
       "      <td>2.066225</td>\n",
       "      <td>6.962297</td>\n",
       "      <td>-5.0</td>\n",
       "      <td>-0.1</td>\n",
       "      <td>0.0</td>\n",
       "      <td>1.9</td>\n",
       "      <td>40.0</td>\n",
       "    </tr>\n",
       "  </tbody>\n",
       "</table>\n",
       "</div>"
      ],
      "text/plain": [
       "           count      mean       std  min  25%  50%  75%   max\n",
       "Warm_List                                                     \n",
       "0          888.0  1.178986  6.279330 -5.0 -0.1  0.0  0.0  95.0\n",
       "1          151.0  2.066225  6.962297 -5.0 -0.1  0.0  1.9  40.0"
      ]
     },
     "execution_count": 11,
     "metadata": {},
     "output_type": "execute_result"
    }
   ],
   "source": [
    "df.groupby('Warm_List')['Profit'].describe()"
   ]
  },
  {
   "cell_type": "markdown",
   "metadata": {},
   "source": [
    "higher profitability for those that donated in the past"
   ]
  },
  {
   "cell_type": "markdown",
   "metadata": {
    "id": "738d3384"
   },
   "source": [
    "## Construct outcomes (e.g. dummy variable for donation)\n"
   ]
  },
  {
   "cell_type": "code",
   "execution_count": 12,
   "metadata": {
    "id": "96ee1890"
   },
   "outputs": [],
   "source": [
    "df['give']=1*(df['Donation']>0)"
   ]
  },
  {
   "cell_type": "code",
   "execution_count": 13,
   "metadata": {
    "colab": {
     "base_uri": "https://localhost:8080/"
    },
    "executionInfo": {
     "elapsed": 42,
     "status": "ok",
     "timestamp": 1675895173279,
     "user": {
      "displayName": "Olivia Natan",
      "userId": "05221168611265745496"
     },
     "user_tz": 480
    },
    "id": "0debda34",
    "outputId": "eef97baf-8436-4adc-f98a-222713315f37"
   },
   "outputs": [
    {
     "data": {
      "text/plain": [
       "0    762\n",
       "1    277\n",
       "Name: give, dtype: int64"
      ]
     },
     "execution_count": 13,
     "metadata": {},
     "output_type": "execute_result"
    }
   ],
   "source": [
    "df['give'].value_counts(dropna=False)"
   ]
  },
  {
   "cell_type": "markdown",
   "metadata": {
    "id": "ea8cc230"
   },
   "source": [
    "What is the frequency of giving by prior donation status?"
   ]
  },
  {
   "cell_type": "code",
   "execution_count": 14,
   "metadata": {
    "colab": {
     "base_uri": "https://localhost:8080/",
     "height": 143
    },
    "executionInfo": {
     "elapsed": 36,
     "status": "ok",
     "timestamp": 1675895173279,
     "user": {
      "displayName": "Olivia Natan",
      "userId": "05221168611265745496"
     },
     "user_tz": 480
    },
    "id": "f93006e3",
    "outputId": "bcd1e433-81df-4dae-9ea6-1a500c75df16"
   },
   "outputs": [
    {
     "data": {
      "text/html": [
       "<div>\n",
       "<style scoped>\n",
       "    .dataframe tbody tr th:only-of-type {\n",
       "        vertical-align: middle;\n",
       "    }\n",
       "\n",
       "    .dataframe tbody tr th {\n",
       "        vertical-align: top;\n",
       "    }\n",
       "\n",
       "    .dataframe thead th {\n",
       "        text-align: right;\n",
       "    }\n",
       "</style>\n",
       "<table border=\"1\" class=\"dataframe\">\n",
       "  <thead>\n",
       "    <tr style=\"text-align: right;\">\n",
       "      <th>Warm_List</th>\n",
       "      <th>0</th>\n",
       "      <th>1</th>\n",
       "    </tr>\n",
       "    <tr>\n",
       "      <th>give</th>\n",
       "      <th></th>\n",
       "      <th></th>\n",
       "    </tr>\n",
       "  </thead>\n",
       "  <tbody>\n",
       "    <tr>\n",
       "      <th>0</th>\n",
       "      <td>0.753378</td>\n",
       "      <td>0.615894</td>\n",
       "    </tr>\n",
       "    <tr>\n",
       "      <th>1</th>\n",
       "      <td>0.246622</td>\n",
       "      <td>0.384106</td>\n",
       "    </tr>\n",
       "  </tbody>\n",
       "</table>\n",
       "</div>"
      ],
      "text/plain": [
       "Warm_List         0         1\n",
       "give                         \n",
       "0          0.753378  0.615894\n",
       "1          0.246622  0.384106"
      ]
     },
     "execution_count": 14,
     "metadata": {},
     "output_type": "execute_result"
    }
   ],
   "source": [
    "pandas.crosstab(df['give'],df['Warm_List'], normalize = 'columns')"
   ]
  },
  {
   "cell_type": "markdown",
   "metadata": {
    "id": "9c262e5a"
   },
   "source": [
    "Regression summary:"
   ]
  },
  {
   "cell_type": "code",
   "execution_count": 15,
   "metadata": {
    "colab": {
     "base_uri": "https://localhost:8080/",
     "height": 452
    },
    "executionInfo": {
     "elapsed": 35,
     "status": "ok",
     "timestamp": 1675895173279,
     "user": {
      "displayName": "Olivia Natan",
      "userId": "05221168611265745496"
     },
     "user_tz": 480
    },
    "id": "aed414ff",
    "outputId": "337fcfa6-f947-42de-e8cc-9aeca7975a81"
   },
   "outputs": [
    {
     "data": {
      "text/html": [
       "<table class=\"simpletable\">\n",
       "<caption>Mba263OLS Regression Results</caption>\n",
       "<tr>\n",
       "  <th>Dep. Variable:</th>        <td>Donation</td>     <th>  R-squared:         </th> <td>   0.003</td>\n",
       "</tr>\n",
       "<tr>\n",
       "  <th>Model:</th>                <td>Mba263OLS</td>    <th>  Adj. R-squared:    </th> <td>   0.002</td>\n",
       "</tr>\n",
       "<tr>\n",
       "  <th>Method:</th>             <td>Least Squares</td>  <th>  F-statistic:       </th> <td>   3.179</td>\n",
       "</tr>\n",
       "<tr>\n",
       "  <th>Date:</th>             <td>Thu, 09 Feb 2023</td> <th>  Prob (F-statistic):</th>  <td>0.0749</td> \n",
       "</tr>\n",
       "<tr>\n",
       "  <th>Time:</th>                 <td>10:43:52</td>     <th>  Log-Likelihood:    </th> <td> -3433.5</td>\n",
       "</tr>\n",
       "<tr>\n",
       "  <th>No. Observations:</th>      <td>  1039</td>      <th>  AIC:               </th> <td>   6871.</td>\n",
       "</tr>\n",
       "<tr>\n",
       "  <th>Df Residuals:</th>          <td>  1037</td>      <th>  BIC:               </th> <td>   6881.</td>\n",
       "</tr>\n",
       "<tr>\n",
       "  <th>Df Model:</th>              <td>     1</td>      <th>                     </th>     <td> </td>   \n",
       "</tr>\n",
       "<tr>\n",
       "  <th>Covariance Type:</th>      <td>nonrobust</td>    <th>                     </th>     <td> </td>   \n",
       "</tr>\n",
       "</table>\n",
       "<table class=\"simpletable\">\n",
       "<tr>\n",
       "      <td></td>         <th>coef</th>     <th>std err</th>      <th>t</th>      <th>P>|t|</th>  <th>[0.025</th>    <th>0.975]</th>  \n",
       "</tr>\n",
       "<tr>\n",
       "  <th>const</th>     <td>    2.3553</td> <td>    0.221</td> <td>   10.639</td> <td> 0.000</td> <td>    1.921</td> <td>    2.790</td>\n",
       "</tr>\n",
       "<tr>\n",
       "  <th>Warm_List</th> <td>    1.0354</td> <td>    0.581</td> <td>    1.783</td> <td> 0.075</td> <td>   -0.104</td> <td>    2.175</td>\n",
       "</tr>\n",
       "</table>\n",
       "<table class=\"simpletable\">\n",
       "<tr>\n",
       "  <th>Omnibus:</th>       <td>1143.804</td> <th>  Durbin-Watson:     </th>  <td>   1.612</td> \n",
       "</tr>\n",
       "<tr>\n",
       "  <th>Prob(Omnibus):</th>  <td> 0.000</td>  <th>  Jarque-Bera (JB):  </th> <td>116799.913</td>\n",
       "</tr>\n",
       "<tr>\n",
       "  <th>Skew:</th>           <td> 5.214</td>  <th>  Prob(JB):          </th>  <td>    0.00</td> \n",
       "</tr>\n",
       "<tr>\n",
       "  <th>Kurtosis:</th>       <td>53.884</td>  <th>  Cond. No.          </th>  <td>    2.91</td> \n",
       "</tr>\n",
       "</table><br/><br/>Notes:<br/>[1] Standard Errors assume that the covariance matrix of the errors is correctly specified."
      ],
      "text/plain": [
       "<class 'statsmodels.iolib.summary.Summary'>\n",
       "\"\"\"\n",
       "                         Mba263OLS Regression Results                         \n",
       "==============================================================================\n",
       "Dep. Variable:               Donation   R-squared:                       0.003\n",
       "Model:                      Mba263OLS   Adj. R-squared:                  0.002\n",
       "Method:                 Least Squares   F-statistic:                     3.179\n",
       "Date:                Thu, 09 Feb 2023   Prob (F-statistic):             0.0749\n",
       "Time:                        10:43:52   Log-Likelihood:                -3433.5\n",
       "No. Observations:                1039   AIC:                             6871.\n",
       "Df Residuals:                    1037   BIC:                             6881.\n",
       "Df Model:                           1                                         \n",
       "Covariance Type:            nonrobust                                         \n",
       "==============================================================================\n",
       "                 coef    std err          t      P>|t|      [0.025      0.975]\n",
       "------------------------------------------------------------------------------\n",
       "const          2.3553      0.221     10.639      0.000       1.921       2.790\n",
       "Warm_List      1.0354      0.581      1.783      0.075      -0.104       2.175\n",
       "==============================================================================\n",
       "Omnibus:                     1143.804   Durbin-Watson:                   1.612\n",
       "Prob(Omnibus):                  0.000   Jarque-Bera (JB):           116799.913\n",
       "Skew:                           5.214   Prob(JB):                         0.00\n",
       "Kurtosis:                      53.884   Cond. No.                         2.91\n",
       "==============================================================================\n",
       "\n",
       "Notes:\n",
       "[1] Standard Errors assume that the covariance matrix of the errors is correctly specified.\n",
       "\"\"\""
      ]
     },
     "execution_count": 15,
     "metadata": {},
     "output_type": "execute_result"
    }
   ],
   "source": [
    "result0 = mba263.regress(df['Donation'],df[ ['Warm_List'] ])\n",
    "result0.summary()"
   ]
  },
  {
   "cell_type": "markdown",
   "metadata": {},
   "source": [
    "prior donation status is not explained in donation, f stat is power of regression (not significant)\n",
    "donated in the past, less likely to donate in the future | driving past decisions = driving present decisions\n",
    "if return on targeting is high, target those customers | if all we want to do is to tell customers apart, no need to do causal thingys"
   ]
  },
  {
   "cell_type": "markdown",
   "metadata": {
    "id": "144ec19e"
   },
   "source": [
    "Does donation vary with age?"
   ]
  },
  {
   "cell_type": "code",
   "execution_count": 16,
   "metadata": {
    "colab": {
     "base_uri": "https://localhost:8080/",
     "height": 296
    },
    "executionInfo": {
     "elapsed": 36,
     "status": "ok",
     "timestamp": 1675895173280,
     "user": {
      "displayName": "Olivia Natan",
      "userId": "05221168611265745496"
     },
     "user_tz": 480
    },
    "id": "e6a971f9",
    "outputId": "76434f90-36e1-42a1-e47e-064f0892fe98"
   },
   "outputs": [
    {
     "data": {
      "image/png": "[encoded data removed]",
      "text/plain": [
       "<Figure size 640x480 with 1 Axes>"
      ]
     },
     "metadata": {},
     "output_type": "display_data"
    }
   ],
   "source": [
    "df.plot(x='Age',y='Donation',kind='scatter');"
   ]
  },
  {
   "cell_type": "code",
   "execution_count": 17,
   "metadata": {
    "colab": {
     "base_uri": "https://localhost:8080/",
     "height": 296
    },
    "executionInfo": {
     "elapsed": 33,
     "status": "ok",
     "timestamp": 1675895173280,
     "user": {
      "displayName": "Olivia Natan",
      "userId": "05221168611265745496"
     },
     "user_tz": 480
    },
    "id": "e6RhOG66HdRf",
    "outputId": "dc42b17a-14f0-41e3-c27b-5a0010efa7f2"
   },
   "outputs": [
    {
     "data": {
      "image/png": "[encoded data removed]",
      "text/plain": [
       "<Figure size 640x480 with 1 Axes>"
      ]
     },
     "metadata": {},
     "output_type": "display_data"
    }
   ],
   "source": [
    "df[['Age','Donation']].groupby('Age').mean().plot();"
   ]
  },
  {
   "cell_type": "markdown",
   "metadata": {},
   "source": [
    "grouping by an exact number is misleading, too noisy"
   ]
  },
  {
   "cell_type": "code",
   "execution_count": 18,
   "metadata": {
    "colab": {
     "base_uri": "https://localhost:8080/",
     "height": 112
    },
    "executionInfo": {
     "elapsed": 30,
     "status": "ok",
     "timestamp": 1675895173280,
     "user": {
      "displayName": "Olivia Natan",
      "userId": "05221168611265745496"
     },
     "user_tz": 480
    },
    "id": "ubxghGW1HILQ",
    "outputId": "0128d65a-70c7-47dd-d77c-a7cddef44815"
   },
   "outputs": [
    {
     "data": {
      "text/html": [
       "<div>\n",
       "<style scoped>\n",
       "    .dataframe tbody tr th:only-of-type {\n",
       "        vertical-align: middle;\n",
       "    }\n",
       "\n",
       "    .dataframe tbody tr th {\n",
       "        vertical-align: top;\n",
       "    }\n",
       "\n",
       "    .dataframe thead th {\n",
       "        text-align: right;\n",
       "    }\n",
       "</style>\n",
       "<table border=\"1\" class=\"dataframe\">\n",
       "  <thead>\n",
       "    <tr style=\"text-align: right;\">\n",
       "      <th></th>\n",
       "      <th>Age</th>\n",
       "      <th>Donation</th>\n",
       "    </tr>\n",
       "  </thead>\n",
       "  <tbody>\n",
       "    <tr>\n",
       "      <th>Age</th>\n",
       "      <td>1.000000</td>\n",
       "      <td>-0.047024</td>\n",
       "    </tr>\n",
       "    <tr>\n",
       "      <th>Donation</th>\n",
       "      <td>-0.047024</td>\n",
       "      <td>1.000000</td>\n",
       "    </tr>\n",
       "  </tbody>\n",
       "</table>\n",
       "</div>"
      ],
      "text/plain": [
       "               Age  Donation\n",
       "Age       1.000000 -0.047024\n",
       "Donation -0.047024  1.000000"
      ]
     },
     "execution_count": 18,
     "metadata": {},
     "output_type": "execute_result"
    }
   ],
   "source": [
    "df[['Age','Donation']].corr()"
   ]
  },
  {
   "cell_type": "code",
   "execution_count": 19,
   "metadata": {
    "colab": {
     "base_uri": "https://localhost:8080/",
     "height": 175
    },
    "executionInfo": {
     "elapsed": 30,
     "status": "ok",
     "timestamp": 1675895173280,
     "user": {
      "displayName": "Olivia Natan",
      "userId": "05221168611265745496"
     },
     "user_tz": 480
    },
    "id": "097a9ed2",
    "outputId": "c725ce12-c143-4c32-91aa-4c705e8e2eab"
   },
   "outputs": [
    {
     "data": {
      "text/html": [
       "<div>\n",
       "<style scoped>\n",
       "    .dataframe tbody tr th:only-of-type {\n",
       "        vertical-align: middle;\n",
       "    }\n",
       "\n",
       "    .dataframe tbody tr th {\n",
       "        vertical-align: top;\n",
       "    }\n",
       "\n",
       "    .dataframe thead th {\n",
       "        text-align: right;\n",
       "    }\n",
       "</style>\n",
       "<table border=\"1\" class=\"dataframe\">\n",
       "  <thead>\n",
       "    <tr style=\"text-align: right;\">\n",
       "      <th></th>\n",
       "      <th>Donation</th>\n",
       "    </tr>\n",
       "    <tr>\n",
       "      <th>Month</th>\n",
       "      <th></th>\n",
       "    </tr>\n",
       "  </thead>\n",
       "  <tbody>\n",
       "    <tr>\n",
       "      <th>4</th>\n",
       "      <td>2.931572</td>\n",
       "    </tr>\n",
       "    <tr>\n",
       "      <th>5</th>\n",
       "      <td>1.481319</td>\n",
       "    </tr>\n",
       "    <tr>\n",
       "      <th>6</th>\n",
       "      <td>2.565963</td>\n",
       "    </tr>\n",
       "  </tbody>\n",
       "</table>\n",
       "</div>"
      ],
      "text/plain": [
       "       Donation\n",
       "Month          \n",
       "4      2.931572\n",
       "5      1.481319\n",
       "6      2.565963"
      ]
     },
     "execution_count": 19,
     "metadata": {},
     "output_type": "execute_result"
    }
   ],
   "source": [
    "df[['Month','Donation']].groupby('Month').mean()"
   ]
  },
  {
   "cell_type": "markdown",
   "metadata": {},
   "source": [
    "unsure who was targeted in the months -> if sales person, go to most profitable first"
   ]
  },
  {
   "cell_type": "markdown",
   "metadata": {
    "id": "dfbb36af"
   },
   "source": [
    "We can add controls:"
   ]
  },
  {
   "cell_type": "code",
   "execution_count": 20,
   "metadata": {
    "id": "5nCRBxxjCUyy"
   },
   "outputs": [],
   "source": [
    "df['Month4']=1*(df['Month']==4)\n",
    "df['Month5']=1*(df['Month']==5)"
   ]
  },
  {
   "cell_type": "code",
   "execution_count": 21,
   "metadata": {
    "colab": {
     "base_uri": "https://localhost:8080/",
     "height": 516
    },
    "executionInfo": {
     "elapsed": 28,
     "status": "ok",
     "timestamp": 1675895173280,
     "user": {
      "displayName": "Olivia Natan",
      "userId": "05221168611265745496"
     },
     "user_tz": 480
    },
    "id": "63e52b88",
    "outputId": "8e923070-53f2-49a2-8be9-48f77ffeb255"
   },
   "outputs": [
    {
     "data": {
      "text/html": [
       "<table class=\"simpletable\">\n",
       "<caption>Mba263OLS Regression Results</caption>\n",
       "<tr>\n",
       "  <th>Dep. Variable:</th>        <td>Donation</td>     <th>  R-squared:         </th> <td>   0.011</td>\n",
       "</tr>\n",
       "<tr>\n",
       "  <th>Model:</th>                <td>Mba263OLS</td>    <th>  Adj. R-squared:    </th> <td>   0.007</td>\n",
       "</tr>\n",
       "<tr>\n",
       "  <th>Method:</th>             <td>Least Squares</td>  <th>  F-statistic:       </th> <td>   2.912</td>\n",
       "</tr>\n",
       "<tr>\n",
       "  <th>Date:</th>             <td>Thu, 09 Feb 2023</td> <th>  Prob (F-statistic):</th>  <td>0.0206</td> \n",
       "</tr>\n",
       "<tr>\n",
       "  <th>Time:</th>                 <td>10:43:53</td>     <th>  Log-Likelihood:    </th> <td> -3417.7</td>\n",
       "</tr>\n",
       "<tr>\n",
       "  <th>No. Observations:</th>      <td>  1035</td>      <th>  AIC:               </th> <td>   6845.</td>\n",
       "</tr>\n",
       "<tr>\n",
       "  <th>Df Residuals:</th>          <td>  1030</td>      <th>  BIC:               </th> <td>   6870.</td>\n",
       "</tr>\n",
       "<tr>\n",
       "  <th>Df Model:</th>              <td>     4</td>      <th>                     </th>     <td> </td>   \n",
       "</tr>\n",
       "<tr>\n",
       "  <th>Covariance Type:</th>      <td>nonrobust</td>    <th>                     </th>     <td> </td>   \n",
       "</tr>\n",
       "</table>\n",
       "<table class=\"simpletable\">\n",
       "<tr>\n",
       "      <td></td>         <th>coef</th>     <th>std err</th>      <th>t</th>      <th>P>|t|</th>  <th>[0.025</th>    <th>0.975]</th>  \n",
       "</tr>\n",
       "<tr>\n",
       "  <th>const</th>     <td>    3.2929</td> <td>    0.675</td> <td>    4.881</td> <td> 0.000</td> <td>    1.969</td> <td>    4.617</td>\n",
       "</tr>\n",
       "<tr>\n",
       "  <th>Warm_List</th> <td>    1.0970</td> <td>    0.584</td> <td>    1.877</td> <td> 0.061</td> <td>   -0.050</td> <td>    2.244</td>\n",
       "</tr>\n",
       "<tr>\n",
       "  <th>Age</th>       <td>   -0.0213</td> <td>    0.014</td> <td>   -1.510</td> <td> 0.131</td> <td>   -0.049</td> <td>    0.006</td>\n",
       "</tr>\n",
       "<tr>\n",
       "  <th>Month4</th>    <td>    0.4549</td> <td>    0.457</td> <td>    0.996</td> <td> 0.320</td> <td>   -0.442</td> <td>    1.351</td>\n",
       "</tr>\n",
       "<tr>\n",
       "  <th>Month5</th>    <td>   -0.9770</td> <td>    0.574</td> <td>   -1.701</td> <td> 0.089</td> <td>   -2.104</td> <td>    0.150</td>\n",
       "</tr>\n",
       "</table>\n",
       "<table class=\"simpletable\">\n",
       "<tr>\n",
       "  <th>Omnibus:</th>       <td>1133.266</td> <th>  Durbin-Watson:     </th>  <td>   1.621</td> \n",
       "</tr>\n",
       "<tr>\n",
       "  <th>Prob(Omnibus):</th>  <td> 0.000</td>  <th>  Jarque-Bera (JB):  </th> <td>114147.804</td>\n",
       "</tr>\n",
       "<tr>\n",
       "  <th>Skew:</th>           <td> 5.168</td>  <th>  Prob(JB):          </th>  <td>    0.00</td> \n",
       "</tr>\n",
       "<tr>\n",
       "  <th>Kurtosis:</th>       <td>53.399</td>  <th>  Cond. No.          </th>  <td>    164.</td> \n",
       "</tr>\n",
       "</table><br/><br/>Notes:<br/>[1] Standard Errors assume that the covariance matrix of the errors is correctly specified."
      ],
      "text/plain": [
       "<class 'statsmodels.iolib.summary.Summary'>\n",
       "\"\"\"\n",
       "                         Mba263OLS Regression Results                         \n",
       "==============================================================================\n",
       "Dep. Variable:               Donation   R-squared:                       0.011\n",
       "Model:                      Mba263OLS   Adj. R-squared:                  0.007\n",
       "Method:                 Least Squares   F-statistic:                     2.912\n",
       "Date:                Thu, 09 Feb 2023   Prob (F-statistic):             0.0206\n",
       "Time:                        10:43:53   Log-Likelihood:                -3417.7\n",
       "No. Observations:                1035   AIC:                             6845.\n",
       "Df Residuals:                    1030   BIC:                             6870.\n",
       "Df Model:                           4                                         \n",
       "Covariance Type:            nonrobust                                         \n",
       "==============================================================================\n",
       "                 coef    std err          t      P>|t|      [0.025      0.975]\n",
       "------------------------------------------------------------------------------\n",
       "const          3.2929      0.675      4.881      0.000       1.969       4.617\n",
       "Warm_List      1.0970      0.584      1.877      0.061      -0.050       2.244\n",
       "Age           -0.0213      0.014     -1.510      0.131      -0.049       0.006\n",
       "Month4         0.4549      0.457      0.996      0.320      -0.442       1.351\n",
       "Month5        -0.9770      0.574     -1.701      0.089      -2.104       0.150\n",
       "==============================================================================\n",
       "Omnibus:                     1133.266   Durbin-Watson:                   1.621\n",
       "Prob(Omnibus):                  0.000   Jarque-Bera (JB):           114147.804\n",
       "Skew:                           5.168   Prob(JB):                         0.00\n",
       "Kurtosis:                      53.399   Cond. No.                         164.\n",
       "==============================================================================\n",
       "\n",
       "Notes:\n",
       "[1] Standard Errors assume that the covariance matrix of the errors is correctly specified.\n",
       "\"\"\""
      ]
     },
     "execution_count": 21,
     "metadata": {},
     "output_type": "execute_result"
    }
   ],
   "source": [
    "result1 = mba263.regress(df['Donation'],df[ ['Warm_List','Age','Month4','Month5'] ])\n",
    "result1.summary()"
   ]
  },
  {
   "cell_type": "markdown",
   "metadata": {},
   "source": [
    "not failing f test (P(f-stat) < 0.05), but not really helpful because"
   ]
  },
  {
   "cell_type": "code",
   "execution_count": 22,
   "metadata": {
    "colab": {
     "base_uri": "https://localhost:8080/",
     "height": 143
    },
    "executionInfo": {
     "elapsed": 29,
     "status": "ok",
     "timestamp": 1675895173281,
     "user": {
      "displayName": "Olivia Natan",
      "userId": "05221168611265745496"
     },
     "user_tz": 480
    },
    "id": "e1e74268",
    "outputId": "5a4cd67a-822e-4663-f150-e2c2655db15f"
   },
   "outputs": [
    {
     "data": {
      "text/html": [
       "<div>\n",
       "<style scoped>\n",
       "    .dataframe tbody tr th:only-of-type {\n",
       "        vertical-align: middle;\n",
       "    }\n",
       "\n",
       "    .dataframe tbody tr th {\n",
       "        vertical-align: top;\n",
       "    }\n",
       "\n",
       "    .dataframe thead th {\n",
       "        text-align: right;\n",
       "    }\n",
       "</style>\n",
       "<table border=\"1\" class=\"dataframe\">\n",
       "  <thead>\n",
       "    <tr style=\"text-align: right;\">\n",
       "      <th></th>\n",
       "      <th>count</th>\n",
       "      <th>mean</th>\n",
       "      <th>std</th>\n",
       "      <th>min</th>\n",
       "      <th>25%</th>\n",
       "      <th>50%</th>\n",
       "      <th>75%</th>\n",
       "      <th>max</th>\n",
       "    </tr>\n",
       "    <tr>\n",
       "      <th>Warm_List</th>\n",
       "      <th></th>\n",
       "      <th></th>\n",
       "      <th></th>\n",
       "      <th></th>\n",
       "      <th></th>\n",
       "      <th></th>\n",
       "      <th></th>\n",
       "      <th></th>\n",
       "    </tr>\n",
       "  </thead>\n",
       "  <tbody>\n",
       "    <tr>\n",
       "      <th>0</th>\n",
       "      <td>885.0</td>\n",
       "      <td>43.019209</td>\n",
       "      <td>14.535674</td>\n",
       "      <td>3.0</td>\n",
       "      <td>30.00</td>\n",
       "      <td>40.0</td>\n",
       "      <td>50.0</td>\n",
       "      <td>80.0</td>\n",
       "    </tr>\n",
       "    <tr>\n",
       "      <th>1</th>\n",
       "      <td>150.0</td>\n",
       "      <td>45.640000</td>\n",
       "      <td>14.692499</td>\n",
       "      <td>5.0</td>\n",
       "      <td>36.25</td>\n",
       "      <td>40.0</td>\n",
       "      <td>60.0</td>\n",
       "      <td>80.0</td>\n",
       "    </tr>\n",
       "  </tbody>\n",
       "</table>\n",
       "</div>"
      ],
      "text/plain": [
       "           count       mean        std  min    25%   50%   75%   max\n",
       "Warm_List                                                           \n",
       "0          885.0  43.019209  14.535674  3.0  30.00  40.0  50.0  80.0\n",
       "1          150.0  45.640000  14.692499  5.0  36.25  40.0  60.0  80.0"
      ]
     },
     "execution_count": 22,
     "metadata": {},
     "output_type": "execute_result"
    }
   ],
   "source": [
    "df.groupby('Warm_List')['Age'].describe()"
   ]
  },
  {
   "cell_type": "code",
   "execution_count": 23,
   "metadata": {
    "colab": {
     "base_uri": "https://localhost:8080/",
     "height": 143
    },
    "executionInfo": {
     "elapsed": 28,
     "status": "ok",
     "timestamp": 1675895173281,
     "user": {
      "displayName": "Olivia Natan",
      "userId": "05221168611265745496"
     },
     "user_tz": 480
    },
    "id": "09231d67",
    "outputId": "50624cca-e378-4acd-c571-59f2f9aa264b"
   },
   "outputs": [
    {
     "data": {
      "text/html": [
       "<div>\n",
       "<style scoped>\n",
       "    .dataframe tbody tr th:only-of-type {\n",
       "        vertical-align: middle;\n",
       "    }\n",
       "\n",
       "    .dataframe tbody tr th {\n",
       "        vertical-align: top;\n",
       "    }\n",
       "\n",
       "    .dataframe thead th {\n",
       "        text-align: right;\n",
       "    }\n",
       "</style>\n",
       "<table border=\"1\" class=\"dataframe\">\n",
       "  <thead>\n",
       "    <tr style=\"text-align: right;\">\n",
       "      <th>Month</th>\n",
       "      <th>4</th>\n",
       "      <th>5</th>\n",
       "      <th>6</th>\n",
       "    </tr>\n",
       "    <tr>\n",
       "      <th>Warm_List</th>\n",
       "      <th></th>\n",
       "      <th></th>\n",
       "      <th></th>\n",
       "    </tr>\n",
       "  </thead>\n",
       "  <tbody>\n",
       "    <tr>\n",
       "      <th>0</th>\n",
       "      <td>322</td>\n",
       "      <td>160</td>\n",
       "      <td>406</td>\n",
       "    </tr>\n",
       "    <tr>\n",
       "      <th>1</th>\n",
       "      <td>47</td>\n",
       "      <td>22</td>\n",
       "      <td>82</td>\n",
       "    </tr>\n",
       "  </tbody>\n",
       "</table>\n",
       "</div>"
      ],
      "text/plain": [
       "Month        4    5    6\n",
       "Warm_List               \n",
       "0          322  160  406\n",
       "1           47   22   82"
      ]
     },
     "execution_count": 23,
     "metadata": {},
     "output_type": "execute_result"
    }
   ],
   "source": [
    "pandas.crosstab(df['Warm_List'],df['Month'])"
   ]
  },
  {
   "cell_type": "code",
   "execution_count": 24,
   "metadata": {
    "colab": {
     "base_uri": "https://localhost:8080/",
     "height": 143
    },
    "executionInfo": {
     "elapsed": 25,
     "status": "ok",
     "timestamp": 1675895173281,
     "user": {
      "displayName": "Olivia Natan",
      "userId": "05221168611265745496"
     },
     "user_tz": 480
    },
    "id": "16fe1a30",
    "outputId": "9037f4ed-d934-43d4-f3ff-b237e34c2a46"
   },
   "outputs": [
    {
     "data": {
      "text/html": [
       "<div>\n",
       "<style scoped>\n",
       "    .dataframe tbody tr th:only-of-type {\n",
       "        vertical-align: middle;\n",
       "    }\n",
       "\n",
       "    .dataframe tbody tr th {\n",
       "        vertical-align: top;\n",
       "    }\n",
       "\n",
       "    .dataframe thead th {\n",
       "        text-align: right;\n",
       "    }\n",
       "</style>\n",
       "<table border=\"1\" class=\"dataframe\">\n",
       "  <thead>\n",
       "    <tr style=\"text-align: right;\">\n",
       "      <th>Month</th>\n",
       "      <th>4</th>\n",
       "      <th>5</th>\n",
       "      <th>6</th>\n",
       "    </tr>\n",
       "    <tr>\n",
       "      <th>Warm_List</th>\n",
       "      <th></th>\n",
       "      <th></th>\n",
       "      <th></th>\n",
       "    </tr>\n",
       "  </thead>\n",
       "  <tbody>\n",
       "    <tr>\n",
       "      <th>0</th>\n",
       "      <td>0.872629</td>\n",
       "      <td>0.879121</td>\n",
       "      <td>0.831967</td>\n",
       "    </tr>\n",
       "    <tr>\n",
       "      <th>1</th>\n",
       "      <td>0.127371</td>\n",
       "      <td>0.120879</td>\n",
       "      <td>0.168033</td>\n",
       "    </tr>\n",
       "  </tbody>\n",
       "</table>\n",
       "</div>"
      ],
      "text/plain": [
       "Month             4         5         6\n",
       "Warm_List                              \n",
       "0          0.872629  0.879121  0.831967\n",
       "1          0.127371  0.120879  0.168033"
      ]
     },
     "execution_count": 24,
     "metadata": {},
     "output_type": "execute_result"
    }
   ],
   "source": [
    "pandas.crosstab(df['Warm_List'],df['Month'],normalize='columns')"
   ]
  },
  {
   "cell_type": "markdown",
   "metadata": {
    "id": "21bb2582"
   },
   "source": [
    "We might also want to control for the type of offer the household received"
   ]
  },
  {
   "cell_type": "code",
   "execution_count": 25,
   "metadata": {
    "colab": {
     "base_uri": "https://localhost:8080/",
     "height": 558
    },
    "executionInfo": {
     "elapsed": 24,
     "status": "ok",
     "timestamp": 1675895173281,
     "user": {
      "displayName": "Olivia Natan",
      "userId": "05221168611265745496"
     },
     "user_tz": 480
    },
    "id": "c80f5f9b",
    "outputId": "8c62df5c-d26d-4170-c02c-1a8f71bc276f"
   },
   "outputs": [
    {
     "data": {
      "text/html": [
       "<table class=\"simpletable\">\n",
       "<caption>Mba263OLS Regression Results</caption>\n",
       "<tr>\n",
       "  <th>Dep. Variable:</th>        <td>Donation</td>     <th>  R-squared:         </th> <td>   0.030</td>\n",
       "</tr>\n",
       "<tr>\n",
       "  <th>Model:</th>                <td>Mba263OLS</td>    <th>  Adj. R-squared:    </th> <td>   0.024</td>\n",
       "</tr>\n",
       "<tr>\n",
       "  <th>Method:</th>             <td>Least Squares</td>  <th>  F-statistic:       </th> <td>   5.307</td>\n",
       "</tr>\n",
       "<tr>\n",
       "  <th>Date:</th>             <td>Thu, 09 Feb 2023</td> <th>  Prob (F-statistic):</th> <td>2.11e-05</td>\n",
       "</tr>\n",
       "<tr>\n",
       "  <th>Time:</th>                 <td>10:43:53</td>     <th>  Log-Likelihood:    </th> <td> -3407.8</td>\n",
       "</tr>\n",
       "<tr>\n",
       "  <th>No. Observations:</th>      <td>  1035</td>      <th>  AIC:               </th> <td>   6830.</td>\n",
       "</tr>\n",
       "<tr>\n",
       "  <th>Df Residuals:</th>          <td>  1028</td>      <th>  BIC:               </th> <td>   6864.</td>\n",
       "</tr>\n",
       "<tr>\n",
       "  <th>Df Model:</th>              <td>     6</td>      <th>                     </th>     <td> </td>   \n",
       "</tr>\n",
       "<tr>\n",
       "  <th>Covariance Type:</th>      <td>nonrobust</td>    <th>                     </th>     <td> </td>   \n",
       "</tr>\n",
       "</table>\n",
       "<table class=\"simpletable\">\n",
       "<tr>\n",
       "       <td></td>         <th>coef</th>     <th>std err</th>      <th>t</th>      <th>P>|t|</th>  <th>[0.025</th>    <th>0.975]</th>  \n",
       "</tr>\n",
       "<tr>\n",
       "  <th>const</th>      <td>    2.1883</td> <td>    0.781</td> <td>    2.801</td> <td> 0.005</td> <td>    0.655</td> <td>    3.721</td>\n",
       "</tr>\n",
       "<tr>\n",
       "  <th>Warm_List</th>  <td>    1.1746</td> <td>    0.580</td> <td>    2.026</td> <td> 0.043</td> <td>    0.037</td> <td>    2.312</td>\n",
       "</tr>\n",
       "<tr>\n",
       "  <th>Age</th>        <td>   -0.0172</td> <td>    0.014</td> <td>   -1.226</td> <td> 0.221</td> <td>   -0.045</td> <td>    0.010</td>\n",
       "</tr>\n",
       "<tr>\n",
       "  <th>Month4</th>     <td>    1.0239</td> <td>    0.471</td> <td>    2.174</td> <td> 0.030</td> <td>    0.100</td> <td>    1.948</td>\n",
       "</tr>\n",
       "<tr>\n",
       "  <th>Month5</th>     <td>   -0.5407</td> <td>    0.581</td> <td>   -0.931</td> <td> 0.352</td> <td>   -1.681</td> <td>    0.599</td>\n",
       "</tr>\n",
       "<tr>\n",
       "  <th>Small_gift</th> <td>   -0.1220</td> <td>    0.514</td> <td>   -0.237</td> <td> 0.813</td> <td>   -1.131</td> <td>    0.887</td>\n",
       "</tr>\n",
       "<tr>\n",
       "  <th>Large_gift</th> <td>    1.9073</td> <td>    0.535</td> <td>    3.563</td> <td> 0.000</td> <td>    0.857</td> <td>    2.958</td>\n",
       "</tr>\n",
       "</table>\n",
       "<table class=\"simpletable\">\n",
       "<tr>\n",
       "  <th>Omnibus:</th>       <td>1120.047</td> <th>  Durbin-Watson:     </th>  <td>   1.636</td> \n",
       "</tr>\n",
       "<tr>\n",
       "  <th>Prob(Omnibus):</th>  <td> 0.000</td>  <th>  Jarque-Bera (JB):  </th> <td>109378.981</td>\n",
       "</tr>\n",
       "<tr>\n",
       "  <th>Skew:</th>           <td> 5.073</td>  <th>  Prob(JB):          </th>  <td>    0.00</td> \n",
       "</tr>\n",
       "<tr>\n",
       "  <th>Kurtosis:</th>       <td>52.329</td>  <th>  Cond. No.          </th>  <td>    210.</td> \n",
       "</tr>\n",
       "</table><br/><br/>Notes:<br/>[1] Standard Errors assume that the covariance matrix of the errors is correctly specified."
      ],
      "text/plain": [
       "<class 'statsmodels.iolib.summary.Summary'>\n",
       "\"\"\"\n",
       "                         Mba263OLS Regression Results                         \n",
       "==============================================================================\n",
       "Dep. Variable:               Donation   R-squared:                       0.030\n",
       "Model:                      Mba263OLS   Adj. R-squared:                  0.024\n",
       "Method:                 Least Squares   F-statistic:                     5.307\n",
       "Date:                Thu, 09 Feb 2023   Prob (F-statistic):           2.11e-05\n",
       "Time:                        10:43:53   Log-Likelihood:                -3407.8\n",
       "No. Observations:                1035   AIC:                             6830.\n",
       "Df Residuals:                    1028   BIC:                             6864.\n",
       "Df Model:                           6                                         \n",
       "Covariance Type:            nonrobust                                         \n",
       "==============================================================================\n",
       "                 coef    std err          t      P>|t|      [0.025      0.975]\n",
       "------------------------------------------------------------------------------\n",
       "const          2.1883      0.781      2.801      0.005       0.655       3.721\n",
       "Warm_List      1.1746      0.580      2.026      0.043       0.037       2.312\n",
       "Age           -0.0172      0.014     -1.226      0.221      -0.045       0.010\n",
       "Month4         1.0239      0.471      2.174      0.030       0.100       1.948\n",
       "Month5        -0.5407      0.581     -0.931      0.352      -1.681       0.599\n",
       "Small_gift    -0.1220      0.514     -0.237      0.813      -1.131       0.887\n",
       "Large_gift     1.9073      0.535      3.563      0.000       0.857       2.958\n",
       "==============================================================================\n",
       "Omnibus:                     1120.047   Durbin-Watson:                   1.636\n",
       "Prob(Omnibus):                  0.000   Jarque-Bera (JB):           109378.981\n",
       "Skew:                           5.073   Prob(JB):                         0.00\n",
       "Kurtosis:                      52.329   Cond. No.                         210.\n",
       "==============================================================================\n",
       "\n",
       "Notes:\n",
       "[1] Standard Errors assume that the covariance matrix of the errors is correctly specified.\n",
       "\"\"\""
      ]
     },
     "execution_count": 25,
     "metadata": {},
     "output_type": "execute_result"
    }
   ],
   "source": [
    "result2 = mba263.regress(df['Donation'],df[ ['Warm_List','Age','Month4','Month5', 'Small_gift', 'Large_gift'] ])\n",
    "result2.summary()"
   ]
  },
  {
   "cell_type": "markdown",
   "metadata": {},
   "source": [
    "**targeting previous donors = much large return , large gift more impactful**"
   ]
  },
  {
   "cell_type": "markdown",
   "metadata": {
    "id": "61b9075f"
   },
   "source": [
    "Alternately look by SIZE of last donation"
   ]
  },
  {
   "cell_type": "code",
   "execution_count": 26,
   "metadata": {
    "colab": {
     "base_uri": "https://localhost:8080/",
     "height": 558
    },
    "executionInfo": {
     "elapsed": 252,
     "status": "ok",
     "timestamp": 1675895173510,
     "user": {
      "displayName": "Olivia Natan",
      "userId": "05221168611265745496"
     },
     "user_tz": 480
    },
    "id": "ba728302",
    "outputId": "6ecf1eaf-e506-4798-a400-e5f817f404f1"
   },
   "outputs": [
    {
     "data": {
      "text/html": [
       "<table class=\"simpletable\">\n",
       "<caption>Mba263OLS Regression Results</caption>\n",
       "<tr>\n",
       "  <th>Dep. Variable:</th>        <td>Donation</td>     <th>  R-squared:         </th> <td>   0.039</td>\n",
       "</tr>\n",
       "<tr>\n",
       "  <th>Model:</th>                <td>Mba263OLS</td>    <th>  Adj. R-squared:    </th> <td>   0.033</td>\n",
       "</tr>\n",
       "<tr>\n",
       "  <th>Method:</th>             <td>Least Squares</td>  <th>  F-statistic:       </th> <td>   6.971</td>\n",
       "</tr>\n",
       "<tr>\n",
       "  <th>Date:</th>             <td>Thu, 09 Feb 2023</td> <th>  Prob (F-statistic):</th> <td>2.80e-07</td>\n",
       "</tr>\n",
       "<tr>\n",
       "  <th>Time:</th>                 <td>10:43:53</td>     <th>  Log-Likelihood:    </th> <td> -3402.9</td>\n",
       "</tr>\n",
       "<tr>\n",
       "  <th>No. Observations:</th>      <td>  1035</td>      <th>  AIC:               </th> <td>   6820.</td>\n",
       "</tr>\n",
       "<tr>\n",
       "  <th>Df Residuals:</th>          <td>  1028</td>      <th>  BIC:               </th> <td>   6854.</td>\n",
       "</tr>\n",
       "<tr>\n",
       "  <th>Df Model:</th>              <td>     6</td>      <th>                     </th>     <td> </td>   \n",
       "</tr>\n",
       "<tr>\n",
       "  <th>Covariance Type:</th>      <td>nonrobust</td>    <th>                     </th>     <td> </td>   \n",
       "</tr>\n",
       "</table>\n",
       "<table class=\"simpletable\">\n",
       "<tr>\n",
       "         <td></td>           <th>coef</th>     <th>std err</th>      <th>t</th>      <th>P>|t|</th>  <th>[0.025</th>    <th>0.975]</th>  \n",
       "</tr>\n",
       "<tr>\n",
       "  <th>const</th>          <td>    2.2227</td> <td>    0.776</td> <td>    2.866</td> <td> 0.004</td> <td>    0.701</td> <td>    3.744</td>\n",
       "</tr>\n",
       "<tr>\n",
       "  <th>Donation_Prior</th> <td>    0.3663</td> <td>    0.099</td> <td>    3.718</td> <td> 0.000</td> <td>    0.173</td> <td>    0.560</td>\n",
       "</tr>\n",
       "<tr>\n",
       "  <th>Age</th>            <td>   -0.0191</td> <td>    0.014</td> <td>   -1.367</td> <td> 0.172</td> <td>   -0.047</td> <td>    0.008</td>\n",
       "</tr>\n",
       "<tr>\n",
       "  <th>Month4</th>         <td>    1.0181</td> <td>    0.468</td> <td>    2.175</td> <td> 0.030</td> <td>    0.099</td> <td>    1.937</td>\n",
       "</tr>\n",
       "<tr>\n",
       "  <th>Month5</th>         <td>   -0.5328</td> <td>    0.578</td> <td>   -0.922</td> <td> 0.357</td> <td>   -1.666</td> <td>    0.601</td>\n",
       "</tr>\n",
       "<tr>\n",
       "  <th>Small_gift</th>     <td>   -0.0591</td> <td>    0.512</td> <td>   -0.115</td> <td> 0.908</td> <td>   -1.064</td> <td>    0.945</td>\n",
       "</tr>\n",
       "<tr>\n",
       "  <th>Large_gift</th>     <td>    1.8763</td> <td>    0.533</td> <td>    3.522</td> <td> 0.000</td> <td>    0.831</td> <td>    2.922</td>\n",
       "</tr>\n",
       "</table>\n",
       "<table class=\"simpletable\">\n",
       "<tr>\n",
       "  <th>Omnibus:</th>       <td>1125.672</td> <th>  Durbin-Watson:     </th>  <td>   1.625</td> \n",
       "</tr>\n",
       "<tr>\n",
       "  <th>Prob(Omnibus):</th>  <td> 0.000</td>  <th>  Jarque-Bera (JB):  </th> <td>114041.057</td>\n",
       "</tr>\n",
       "<tr>\n",
       "  <th>Skew:</th>           <td> 5.102</td>  <th>  Prob(JB):          </th>  <td>    0.00</td> \n",
       "</tr>\n",
       "<tr>\n",
       "  <th>Kurtosis:</th>       <td>53.401</td>  <th>  Cond. No.          </th>  <td>    210.</td> \n",
       "</tr>\n",
       "</table><br/><br/>Notes:<br/>[1] Standard Errors assume that the covariance matrix of the errors is correctly specified."
      ],
      "text/plain": [
       "<class 'statsmodels.iolib.summary.Summary'>\n",
       "\"\"\"\n",
       "                         Mba263OLS Regression Results                         \n",
       "==============================================================================\n",
       "Dep. Variable:               Donation   R-squared:                       0.039\n",
       "Model:                      Mba263OLS   Adj. R-squared:                  0.033\n",
       "Method:                 Least Squares   F-statistic:                     6.971\n",
       "Date:                Thu, 09 Feb 2023   Prob (F-statistic):           2.80e-07\n",
       "Time:                        10:43:53   Log-Likelihood:                -3402.9\n",
       "No. Observations:                1035   AIC:                             6820.\n",
       "Df Residuals:                    1028   BIC:                             6854.\n",
       "Df Model:                           6                                         \n",
       "Covariance Type:            nonrobust                                         \n",
       "==================================================================================\n",
       "                     coef    std err          t      P>|t|      [0.025      0.975]\n",
       "----------------------------------------------------------------------------------\n",
       "const              2.2227      0.776      2.866      0.004       0.701       3.744\n",
       "Donation_Prior     0.3663      0.099      3.718      0.000       0.173       0.560\n",
       "Age               -0.0191      0.014     -1.367      0.172      -0.047       0.008\n",
       "Month4             1.0181      0.468      2.175      0.030       0.099       1.937\n",
       "Month5            -0.5328      0.578     -0.922      0.357      -1.666       0.601\n",
       "Small_gift        -0.0591      0.512     -0.115      0.908      -1.064       0.945\n",
       "Large_gift         1.8763      0.533      3.522      0.000       0.831       2.922\n",
       "==============================================================================\n",
       "Omnibus:                     1125.672   Durbin-Watson:                   1.625\n",
       "Prob(Omnibus):                  0.000   Jarque-Bera (JB):           114041.057\n",
       "Skew:                           5.102   Prob(JB):                         0.00\n",
       "Kurtosis:                      53.401   Cond. No.                         210.\n",
       "==============================================================================\n",
       "\n",
       "Notes:\n",
       "[1] Standard Errors assume that the covariance matrix of the errors is correctly specified.\n",
       "\"\"\""
      ]
     },
     "execution_count": 26,
     "metadata": {},
     "output_type": "execute_result"
    }
   ],
   "source": [
    "result3 = mba263.regress(df['Donation'],df[ ['Donation_Prior','Age','Month4','Month5', 'Small_gift', 'Large_gift'] ])\n",
    "result3.summary()"
   ]
  },
  {
   "cell_type": "code",
   "execution_count": 27,
   "metadata": {},
   "outputs": [],
   "source": [
    "df['Warm_large_gift'] = df['Warm_List'] * df['Large_gift']\n",
    "df['Warm_small_gift'] = df['Warm_List'] * df['Small_gift']"
   ]
  },
  {
   "cell_type": "code",
   "execution_count": 28,
   "metadata": {},
   "outputs": [
    {
     "data": {
      "text/html": [
       "<table class=\"simpletable\">\n",
       "<caption>Mba263OLS Regression Results</caption>\n",
       "<tr>\n",
       "  <th>Dep. Variable:</th>        <td>Donation</td>     <th>  R-squared:         </th> <td>   0.035</td>\n",
       "</tr>\n",
       "<tr>\n",
       "  <th>Model:</th>                <td>Mba263OLS</td>    <th>  Adj. R-squared:    </th> <td>   0.027</td>\n",
       "</tr>\n",
       "<tr>\n",
       "  <th>Method:</th>             <td>Least Squares</td>  <th>  F-statistic:       </th> <td>   4.604</td>\n",
       "</tr>\n",
       "<tr>\n",
       "  <th>Date:</th>             <td>Thu, 09 Feb 2023</td> <th>  Prob (F-statistic):</th> <td>1.55e-05</td>\n",
       "</tr>\n",
       "<tr>\n",
       "  <th>Time:</th>                 <td>10:43:53</td>     <th>  Log-Likelihood:    </th> <td> -3405.3</td>\n",
       "</tr>\n",
       "<tr>\n",
       "  <th>No. Observations:</th>      <td>  1035</td>      <th>  AIC:               </th> <td>   6829.</td>\n",
       "</tr>\n",
       "<tr>\n",
       "  <th>Df Residuals:</th>          <td>  1026</td>      <th>  BIC:               </th> <td>   6873.</td>\n",
       "</tr>\n",
       "<tr>\n",
       "  <th>Df Model:</th>              <td>     8</td>      <th>                     </th>     <td> </td>   \n",
       "</tr>\n",
       "<tr>\n",
       "  <th>Covariance Type:</th>      <td>nonrobust</td>    <th>                     </th>     <td> </td>   \n",
       "</tr>\n",
       "</table>\n",
       "<table class=\"simpletable\">\n",
       "<tr>\n",
       "         <td></td>            <th>coef</th>     <th>std err</th>      <th>t</th>      <th>P>|t|</th>  <th>[0.025</th>    <th>0.975]</th>  \n",
       "</tr>\n",
       "<tr>\n",
       "  <th>const</th>           <td>    1.8880</td> <td>    0.792</td> <td>    2.384</td> <td> 0.017</td> <td>    0.334</td> <td>    3.442</td>\n",
       "</tr>\n",
       "<tr>\n",
       "  <th>Warm_List</th>       <td>    3.2046</td> <td>    1.114</td> <td>    2.878</td> <td> 0.004</td> <td>    1.020</td> <td>    5.390</td>\n",
       "</tr>\n",
       "<tr>\n",
       "  <th>Age</th>             <td>   -0.0159</td> <td>    0.014</td> <td>   -1.134</td> <td> 0.257</td> <td>   -0.044</td> <td>    0.012</td>\n",
       "</tr>\n",
       "<tr>\n",
       "  <th>Month4</th>          <td>    0.9454</td> <td>    0.473</td> <td>    2.000</td> <td> 0.046</td> <td>    0.018</td> <td>    1.873</td>\n",
       "</tr>\n",
       "<tr>\n",
       "  <th>Month5</th>          <td>   -0.5620</td> <td>    0.582</td> <td>   -0.966</td> <td> 0.334</td> <td>   -1.704</td> <td>    0.580</td>\n",
       "</tr>\n",
       "<tr>\n",
       "  <th>Small_gift</th>      <td>    0.3355</td> <td>    0.555</td> <td>    0.604</td> <td> 0.546</td> <td>   -0.754</td> <td>    1.425</td>\n",
       "</tr>\n",
       "<tr>\n",
       "  <th>Large_gift</th>      <td>    2.2201</td> <td>    0.574</td> <td>    3.870</td> <td> 0.000</td> <td>    1.094</td> <td>    3.346</td>\n",
       "</tr>\n",
       "<tr>\n",
       "  <th>Warm_large_gift</th> <td>   -2.3653</td> <td>    1.487</td> <td>   -1.590</td> <td> 0.112</td> <td>   -5.284</td> <td>    0.553</td>\n",
       "</tr>\n",
       "<tr>\n",
       "  <th>Warm_small_gift</th> <td>   -3.1582</td> <td>    1.454</td> <td>   -2.173</td> <td> 0.030</td> <td>   -6.011</td> <td>   -0.306</td>\n",
       "</tr>\n",
       "</table>\n",
       "<table class=\"simpletable\">\n",
       "<tr>\n",
       "  <th>Omnibus:</th>       <td>1118.788</td> <th>  Durbin-Watson:     </th>  <td>   1.630</td> \n",
       "</tr>\n",
       "<tr>\n",
       "  <th>Prob(Omnibus):</th>  <td> 0.000</td>  <th>  Jarque-Bera (JB):  </th> <td>110334.786</td>\n",
       "</tr>\n",
       "<tr>\n",
       "  <th>Skew:</th>           <td> 5.058</td>  <th>  Prob(JB):          </th>  <td>    0.00</td> \n",
       "</tr>\n",
       "<tr>\n",
       "  <th>Kurtosis:</th>       <td>52.560</td>  <th>  Cond. No.          </th>  <td>    478.</td> \n",
       "</tr>\n",
       "</table><br/><br/>Notes:<br/>[1] Standard Errors assume that the covariance matrix of the errors is correctly specified."
      ],
      "text/plain": [
       "<class 'statsmodels.iolib.summary.Summary'>\n",
       "\"\"\"\n",
       "                         Mba263OLS Regression Results                         \n",
       "==============================================================================\n",
       "Dep. Variable:               Donation   R-squared:                       0.035\n",
       "Model:                      Mba263OLS   Adj. R-squared:                  0.027\n",
       "Method:                 Least Squares   F-statistic:                     4.604\n",
       "Date:                Thu, 09 Feb 2023   Prob (F-statistic):           1.55e-05\n",
       "Time:                        10:43:53   Log-Likelihood:                -3405.3\n",
       "No. Observations:                1035   AIC:                             6829.\n",
       "Df Residuals:                    1026   BIC:                             6873.\n",
       "Df Model:                           8                                         \n",
       "Covariance Type:            nonrobust                                         \n",
       "===================================================================================\n",
       "                      coef    std err          t      P>|t|      [0.025      0.975]\n",
       "-----------------------------------------------------------------------------------\n",
       "const               1.8880      0.792      2.384      0.017       0.334       3.442\n",
       "Warm_List           3.2046      1.114      2.878      0.004       1.020       5.390\n",
       "Age                -0.0159      0.014     -1.134      0.257      -0.044       0.012\n",
       "Month4              0.9454      0.473      2.000      0.046       0.018       1.873\n",
       "Month5             -0.5620      0.582     -0.966      0.334      -1.704       0.580\n",
       "Small_gift          0.3355      0.555      0.604      0.546      -0.754       1.425\n",
       "Large_gift          2.2201      0.574      3.870      0.000       1.094       3.346\n",
       "Warm_large_gift    -2.3653      1.487     -1.590      0.112      -5.284       0.553\n",
       "Warm_small_gift    -3.1582      1.454     -2.173      0.030      -6.011      -0.306\n",
       "==============================================================================\n",
       "Omnibus:                     1118.788   Durbin-Watson:                   1.630\n",
       "Prob(Omnibus):                  0.000   Jarque-Bera (JB):           110334.786\n",
       "Skew:                           5.058   Prob(JB):                         0.00\n",
       "Kurtosis:                      52.560   Cond. No.                         478.\n",
       "==============================================================================\n",
       "\n",
       "Notes:\n",
       "[1] Standard Errors assume that the covariance matrix of the errors is correctly specified.\n",
       "\"\"\""
      ]
     },
     "execution_count": 28,
     "metadata": {},
     "output_type": "execute_result"
    }
   ],
   "source": [
    "mba263.regress(df['Donation'],df[ ['Warm_List','Age','Month4','Month5', 'Small_gift', 'Large_gift', 'Warm_large_gift', 'Warm_small_gift'] ]).summary()"
   ]
  },
  {
   "cell_type": "markdown",
   "metadata": {},
   "source": [
    "**offering repeat customers -> less likely to donate, psychological component\n",
    "for new donors, really want to offer this gift for new donors since inreases donation**"
   ]
  },
  {
   "cell_type": "markdown",
   "metadata": {
    "id": "vDI245JPFVp1"
   },
   "source": [
    "We don't just know whether someone donated in the past. We also know how they were approached in past campaigns - past marketing interventions."
   ]
  },
  {
   "cell_type": "code",
   "execution_count": 29,
   "metadata": {
    "colab": {
     "base_uri": "https://localhost:8080/"
    },
    "executionInfo": {
     "elapsed": 14,
     "status": "ok",
     "timestamp": 1675895173510,
     "user": {
      "displayName": "Olivia Natan",
      "userId": "05221168611265745496"
     },
     "user_tz": 480
    },
    "id": "Fxd1iZtSFPSS",
    "outputId": "166e145c-14fe-45aa-dea6-1f55b7828e55"
   },
   "outputs": [
    {
     "data": {
      "text/plain": [
       "1.0    109\n",
       "3.0    105\n",
       "4.0     94\n",
       "2.0     36\n",
       "Name: PriorTreat, dtype: int64"
      ]
     },
     "execution_count": 29,
     "metadata": {},
     "output_type": "execute_result"
    }
   ],
   "source": [
    "df['PriorTreat'].value_counts()"
   ]
  },
  {
   "cell_type": "code",
   "execution_count": 30,
   "metadata": {
    "colab": {
     "base_uri": "https://localhost:8080/",
     "height": 206
    },
    "executionInfo": {
     "elapsed": 10,
     "status": "ok",
     "timestamp": 1675895173510,
     "user": {
      "displayName": "Olivia Natan",
      "userId": "05221168611265745496"
     },
     "user_tz": 480
    },
    "id": "kkx2LbzBFe-b",
    "outputId": "0b7d0f00-866c-47df-fc3a-c12f4826806c"
   },
   "outputs": [
    {
     "data": {
      "text/html": [
       "<div>\n",
       "<style scoped>\n",
       "    .dataframe tbody tr th:only-of-type {\n",
       "        vertical-align: middle;\n",
       "    }\n",
       "\n",
       "    .dataframe tbody tr th {\n",
       "        vertical-align: top;\n",
       "    }\n",
       "\n",
       "    .dataframe thead th {\n",
       "        text-align: right;\n",
       "    }\n",
       "</style>\n",
       "<table border=\"1\" class=\"dataframe\">\n",
       "  <thead>\n",
       "    <tr style=\"text-align: right;\">\n",
       "      <th></th>\n",
       "      <th>Warm_List</th>\n",
       "    </tr>\n",
       "    <tr>\n",
       "      <th>PriorTreat</th>\n",
       "      <th></th>\n",
       "    </tr>\n",
       "  </thead>\n",
       "  <tbody>\n",
       "    <tr>\n",
       "      <th>1.0</th>\n",
       "      <td>0.293578</td>\n",
       "    </tr>\n",
       "    <tr>\n",
       "      <th>2.0</th>\n",
       "      <td>0.333333</td>\n",
       "    </tr>\n",
       "    <tr>\n",
       "      <th>3.0</th>\n",
       "      <td>0.561905</td>\n",
       "    </tr>\n",
       "    <tr>\n",
       "      <th>4.0</th>\n",
       "      <td>0.510638</td>\n",
       "    </tr>\n",
       "  </tbody>\n",
       "</table>\n",
       "</div>"
      ],
      "text/plain": [
       "            Warm_List\n",
       "PriorTreat           \n",
       "1.0          0.293578\n",
       "2.0          0.333333\n",
       "3.0          0.561905\n",
       "4.0          0.510638"
      ]
     },
     "execution_count": 30,
     "metadata": {},
     "output_type": "execute_result"
    }
   ],
   "source": [
    "df[['PriorTreat','Warm_List']].groupby('PriorTreat').mean()"
   ]
  },
  {
   "cell_type": "code",
   "execution_count": 31,
   "metadata": {
    "id": "sxJICwQFF48b"
   },
   "outputs": [],
   "source": [
    "df['Prior_VCM']=1*(df['PriorTreat']==1)\n",
    "df['Warm_Prior_VCM']=df['Prior_VCM']*df['Warm_List']"
   ]
  },
  {
   "cell_type": "code",
   "execution_count": 40,
   "metadata": {
    "colab": {
     "base_uri": "https://localhost:8080/",
     "height": 558
    },
    "executionInfo": {
     "elapsed": 239,
     "status": "ok",
     "timestamp": 1675895264488,
     "user": {
      "displayName": "Olivia Natan",
      "userId": "05221168611265745496"
     },
     "user_tz": 480
    },
    "id": "dESy7VBKGD6O",
    "outputId": "d274d760-50c8-46bf-95b7-abd33758db97"
   },
   "outputs": [
    {
     "data": {
      "text/html": [
       "<table class=\"simpletable\">\n",
       "<caption>Mba263OLS Regression Results</caption>\n",
       "<tr>\n",
       "  <th>Dep. Variable:</th>        <td>Donation</td>     <th>  R-squared:         </th> <td>   0.012</td>\n",
       "</tr>\n",
       "<tr>\n",
       "  <th>Model:</th>                <td>Mba263OLS</td>    <th>  Adj. R-squared:    </th> <td>   0.006</td>\n",
       "</tr>\n",
       "<tr>\n",
       "  <th>Method:</th>             <td>Least Squares</td>  <th>  F-statistic:       </th> <td>   2.084</td>\n",
       "</tr>\n",
       "<tr>\n",
       "  <th>Date:</th>             <td>Thu, 09 Feb 2023</td> <th>  Prob (F-statistic):</th>  <td>0.0526</td> \n",
       "</tr>\n",
       "<tr>\n",
       "  <th>Time:</th>                 <td>10:47:31</td>     <th>  Log-Likelihood:    </th> <td> -3417.3</td>\n",
       "</tr>\n",
       "<tr>\n",
       "  <th>No. Observations:</th>      <td>  1035</td>      <th>  AIC:               </th> <td>   6849.</td>\n",
       "</tr>\n",
       "<tr>\n",
       "  <th>Df Residuals:</th>          <td>  1028</td>      <th>  BIC:               </th> <td>   6883.</td>\n",
       "</tr>\n",
       "<tr>\n",
       "  <th>Df Model:</th>              <td>     6</td>      <th>                     </th>     <td> </td>   \n",
       "</tr>\n",
       "<tr>\n",
       "  <th>Covariance Type:</th>      <td>nonrobust</td>    <th>                     </th>     <td> </td>   \n",
       "</tr>\n",
       "</table>\n",
       "<table class=\"simpletable\">\n",
       "<tr>\n",
       "         <td></td>           <th>coef</th>     <th>std err</th>      <th>t</th>      <th>P>|t|</th>  <th>[0.025</th>    <th>0.975]</th>  \n",
       "</tr>\n",
       "<tr>\n",
       "  <th>const</th>          <td>    3.3857</td> <td>    0.682</td> <td>    4.962</td> <td> 0.000</td> <td>    2.047</td> <td>    4.725</td>\n",
       "</tr>\n",
       "<tr>\n",
       "  <th>Warm_List</th>      <td>    1.0649</td> <td>    0.653</td> <td>    1.632</td> <td> 0.103</td> <td>   -0.216</td> <td>    2.346</td>\n",
       "</tr>\n",
       "<tr>\n",
       "  <th>Age</th>            <td>   -0.0218</td> <td>    0.014</td> <td>   -1.543</td> <td> 0.123</td> <td>   -0.050</td> <td>    0.006</td>\n",
       "</tr>\n",
       "<tr>\n",
       "  <th>Month4</th>         <td>    0.4297</td> <td>    0.458</td> <td>    0.938</td> <td> 0.348</td> <td>   -0.469</td> <td>    1.328</td>\n",
       "</tr>\n",
       "<tr>\n",
       "  <th>Month5</th>         <td>   -0.9703</td> <td>    0.575</td> <td>   -1.688</td> <td> 0.092</td> <td>   -2.098</td> <td>    0.158</td>\n",
       "</tr>\n",
       "<tr>\n",
       "  <th>Prior_VCM</th>      <td>   -0.7293</td> <td>    0.789</td> <td>   -0.924</td> <td> 0.355</td> <td>   -2.277</td> <td>    0.819</td>\n",
       "</tr>\n",
       "<tr>\n",
       "  <th>Warm_Prior_VCM</th> <td>    0.5830</td> <td>    1.533</td> <td>    0.380</td> <td> 0.704</td> <td>   -2.425</td> <td>    3.591</td>\n",
       "</tr>\n",
       "</table>\n",
       "<table class=\"simpletable\">\n",
       "<tr>\n",
       "  <th>Omnibus:</th>       <td>1132.689</td> <th>  Durbin-Watson:     </th>  <td>   1.618</td> \n",
       "</tr>\n",
       "<tr>\n",
       "  <th>Prob(Omnibus):</th>  <td> 0.000</td>  <th>  Jarque-Bera (JB):  </th> <td>114008.152</td>\n",
       "</tr>\n",
       "<tr>\n",
       "  <th>Skew:</th>           <td> 5.163</td>  <th>  Prob(JB):          </th>  <td>    0.00</td> \n",
       "</tr>\n",
       "<tr>\n",
       "  <th>Kurtosis:</th>       <td>53.369</td>  <th>  Cond. No.          </th>  <td>    363.</td> \n",
       "</tr>\n",
       "</table><br/><br/>Notes:<br/>[1] Standard Errors assume that the covariance matrix of the errors is correctly specified."
      ],
      "text/plain": [
       "<class 'statsmodels.iolib.summary.Summary'>\n",
       "\"\"\"\n",
       "                         Mba263OLS Regression Results                         \n",
       "==============================================================================\n",
       "Dep. Variable:               Donation   R-squared:                       0.012\n",
       "Model:                      Mba263OLS   Adj. R-squared:                  0.006\n",
       "Method:                 Least Squares   F-statistic:                     2.084\n",
       "Date:                Thu, 09 Feb 2023   Prob (F-statistic):             0.0526\n",
       "Time:                        10:47:31   Log-Likelihood:                -3417.3\n",
       "No. Observations:                1035   AIC:                             6849.\n",
       "Df Residuals:                    1028   BIC:                             6883.\n",
       "Df Model:                           6                                         \n",
       "Covariance Type:            nonrobust                                         \n",
       "==================================================================================\n",
       "                     coef    std err          t      P>|t|      [0.025      0.975]\n",
       "----------------------------------------------------------------------------------\n",
       "const              3.3857      0.682      4.962      0.000       2.047       4.725\n",
       "Warm_List          1.0649      0.653      1.632      0.103      -0.216       2.346\n",
       "Age               -0.0218      0.014     -1.543      0.123      -0.050       0.006\n",
       "Month4             0.4297      0.458      0.938      0.348      -0.469       1.328\n",
       "Month5            -0.9703      0.575     -1.688      0.092      -2.098       0.158\n",
       "Prior_VCM         -0.7293      0.789     -0.924      0.355      -2.277       0.819\n",
       "Warm_Prior_VCM     0.5830      1.533      0.380      0.704      -2.425       3.591\n",
       "==============================================================================\n",
       "Omnibus:                     1132.689   Durbin-Watson:                   1.618\n",
       "Prob(Omnibus):                  0.000   Jarque-Bera (JB):           114008.152\n",
       "Skew:                           5.163   Prob(JB):                         0.00\n",
       "Kurtosis:                      53.369   Cond. No.                         363.\n",
       "==============================================================================\n",
       "\n",
       "Notes:\n",
       "[1] Standard Errors assume that the covariance matrix of the errors is correctly specified.\n",
       "\"\"\""
      ]
     },
     "execution_count": 40,
     "metadata": {},
     "output_type": "execute_result"
    }
   ],
   "source": [
    "result4 = mba263.regress(df['Donation'],df[['Warm_List','Age','Month4','Month5','Prior_VCM','Warm_Prior_VCM'] ])\n",
    "result4.summary()"
   ]
  },
  {
   "cell_type": "markdown",
   "metadata": {},
   "source": [
    "people who donated w/ no incentive in the pass are less likely to donate today if offered notiong"
   ]
  },
  {
   "cell_type": "markdown",
   "metadata": {
    "id": "OsbYsjWWJFLS"
   },
   "source": [
    "### Key Takeaways\n",
    "1. Customers vary in profitability\n",
    "2. Can't say being in a group has a causal effect"
   ]
  }
 ],
 "metadata": {
  "colab": {
   "authorship_tag": "ABX9TyPZYPnZgJZI8ZyN1qsTM9zP",
   "provenance": []
  },
  "kernelspec": {
   "display_name": "Python 3 (ipykernel)",
   "language": "python",
   "name": "python3"
  },
  "language_info": {
   "codemirror_mode": {
    "name": "ipython",
    "version": 3
   },
   "file_extension": ".py",
   "mimetype": "text/x-python",
   "name": "python",
   "nbconvert_exporter": "python",
   "pygments_lexer": "ipython3",
   "version": "3.9.6"
  }
 },
 "nbformat": 4,
 "nbformat_minor": 4
}
