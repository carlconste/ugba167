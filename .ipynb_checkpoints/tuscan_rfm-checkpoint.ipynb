{
 "cells": [
  {
   "cell_type": "code",
   "execution_count": 1,
   "id": "f702c05c-439c-455d-a443-8870c482abe9",
   "metadata": {},
   "outputs": [],
   "source": [
    "import pandas as pd\n",
    "import mba263\n",
    "import seaborn as sns"
   ]
  },
  {
   "cell_type": "code",
   "execution_count": 2,
   "id": "139b8da5-6622-4941-b0d9-be4648ecac1e",
   "metadata": {},
   "outputs": [
    {
     "data": {
      "text/html": [
       "<div>\n",
       "<style scoped>\n",
       "    .dataframe tbody tr th:only-of-type {\n",
       "        vertical-align: middle;\n",
       "    }\n",
       "\n",
       "    .dataframe tbody tr th {\n",
       "        vertical-align: top;\n",
       "    }\n",
       "\n",
       "    .dataframe thead th {\n",
       "        text-align: right;\n",
       "    }\n",
       "</style>\n",
       "<table border=\"1\" class=\"dataframe\">\n",
       "  <thead>\n",
       "    <tr style=\"text-align: right;\">\n",
       "      <th></th>\n",
       "      <th>numords</th>\n",
       "      <th>totdol</th>\n",
       "      <th>last</th>\n",
       "      <th>buyer</th>\n",
       "      <th>dollars</th>\n",
       "      <th>rfm1</th>\n",
       "      <th>rfm2</th>\n",
       "    </tr>\n",
       "  </thead>\n",
       "  <tbody>\n",
       "    <tr>\n",
       "      <th>0</th>\n",
       "      <td>7</td>\n",
       "      <td>493</td>\n",
       "      <td>207</td>\n",
       "      <td>no</td>\n",
       "      <td>0</td>\n",
       "      <td>222</td>\n",
       "      <td>211</td>\n",
       "    </tr>\n",
       "    <tr>\n",
       "      <th>1</th>\n",
       "      <td>4</td>\n",
       "      <td>423</td>\n",
       "      <td>625</td>\n",
       "      <td>no</td>\n",
       "      <td>0</td>\n",
       "      <td>421</td>\n",
       "      <td>422</td>\n",
       "    </tr>\n",
       "    <tr>\n",
       "      <th>2</th>\n",
       "      <td>4</td>\n",
       "      <td>246</td>\n",
       "      <td>28</td>\n",
       "      <td>no</td>\n",
       "      <td>0</td>\n",
       "      <td>134</td>\n",
       "      <td>122</td>\n",
       "    </tr>\n",
       "    <tr>\n",
       "      <th>3</th>\n",
       "      <td>3</td>\n",
       "      <td>271</td>\n",
       "      <td>778</td>\n",
       "      <td>no</td>\n",
       "      <td>0</td>\n",
       "      <td>523</td>\n",
       "      <td>532</td>\n",
       "    </tr>\n",
       "    <tr>\n",
       "      <th>4</th>\n",
       "      <td>2</td>\n",
       "      <td>148</td>\n",
       "      <td>396</td>\n",
       "      <td>no</td>\n",
       "      <td>0</td>\n",
       "      <td>343</td>\n",
       "      <td>343</td>\n",
       "    </tr>\n",
       "    <tr>\n",
       "      <th>...</th>\n",
       "      <td>...</td>\n",
       "      <td>...</td>\n",
       "      <td>...</td>\n",
       "      <td>...</td>\n",
       "      <td>...</td>\n",
       "      <td>...</td>\n",
       "      <td>...</td>\n",
       "    </tr>\n",
       "    <tr>\n",
       "      <th>96546</th>\n",
       "      <td>8</td>\n",
       "      <td>440</td>\n",
       "      <td>30</td>\n",
       "      <td>no</td>\n",
       "      <td>0</td>\n",
       "      <td>124</td>\n",
       "      <td>112</td>\n",
       "    </tr>\n",
       "    <tr>\n",
       "      <th>96547</th>\n",
       "      <td>2</td>\n",
       "      <td>228</td>\n",
       "      <td>375</td>\n",
       "      <td>yes</td>\n",
       "      <td>40</td>\n",
       "      <td>342</td>\n",
       "      <td>343</td>\n",
       "    </tr>\n",
       "    <tr>\n",
       "      <th>96548</th>\n",
       "      <td>1</td>\n",
       "      <td>280</td>\n",
       "      <td>932</td>\n",
       "      <td>yes</td>\n",
       "      <td>200</td>\n",
       "      <td>551</td>\n",
       "      <td>552</td>\n",
       "    </tr>\n",
       "    <tr>\n",
       "      <th>96549</th>\n",
       "      <td>1</td>\n",
       "      <td>74</td>\n",
       "      <td>639</td>\n",
       "      <td>no</td>\n",
       "      <td>0</td>\n",
       "      <td>453</td>\n",
       "      <td>455</td>\n",
       "    </tr>\n",
       "    <tr>\n",
       "      <th>96550</th>\n",
       "      <td>2</td>\n",
       "      <td>73</td>\n",
       "      <td>583</td>\n",
       "      <td>no</td>\n",
       "      <td>0</td>\n",
       "      <td>435</td>\n",
       "      <td>445</td>\n",
       "    </tr>\n",
       "  </tbody>\n",
       "</table>\n",
       "<p>96551 rows × 7 columns</p>\n",
       "</div>"
      ],
      "text/plain": [
       "       numords  totdol  last buyer  dollars  rfm1  rfm2\n",
       "0            7     493   207    no        0   222   211\n",
       "1            4     423   625    no        0   421   422\n",
       "2            4     246    28    no        0   134   122\n",
       "3            3     271   778    no        0   523   532\n",
       "4            2     148   396    no        0   343   343\n",
       "...        ...     ...   ...   ...      ...   ...   ...\n",
       "96546        8     440    30    no        0   124   112\n",
       "96547        2     228   375   yes       40   342   343\n",
       "96548        1     280   932   yes      200   551   552\n",
       "96549        1      74   639    no        0   453   455\n",
       "96550        2      73   583    no        0   435   445\n",
       "\n",
       "[96551 rows x 7 columns]"
      ]
     },
     "execution_count": 2,
     "metadata": {},
     "output_type": "execute_result"
    }
   ],
   "source": [
    "df = pd.read_csv(\"data/tuscan_rfm.csv\")\n",
    "df"
   ]
  },
  {
   "cell_type": "markdown",
   "id": "5f146b4b",
   "metadata": {},
   "source": [
    "\\newpage"
   ]
  },
  {
   "cell_type": "markdown",
   "id": "83f9c5c6-fe7b-45cf-96c9-b8388b2ccf19",
   "metadata": {},
   "source": [
    "## Question 1: What % of Customers responded (i.e. bought from) this catalog?"
   ]
  },
  {
   "cell_type": "code",
   "execution_count": null,
   "id": "298ef4e1-fa26-4b18-a9b0-813a6a04dbe4",
   "metadata": {},
   "outputs": [
    {
     "data": {
      "text/html": [
       "<div>\n",
       "<style scoped>\n",
       "    .dataframe tbody tr th:only-of-type {\n",
       "        vertical-align: middle;\n",
       "    }\n",
       "\n",
       "    .dataframe tbody tr th {\n",
       "        vertical-align: top;\n",
       "    }\n",
       "\n",
       "    .dataframe thead th {\n",
       "        text-align: right;\n",
       "    }\n",
       "</style>\n",
       "<table border=\"1\" class=\"dataframe\">\n",
       "  <thead>\n",
       "    <tr style=\"text-align: right;\">\n",
       "      <th></th>\n",
       "      <th>numords</th>\n",
       "      <th>totdol</th>\n",
       "      <th>last</th>\n",
       "      <th>buyer</th>\n",
       "      <th>dollars</th>\n",
       "      <th>rfm1</th>\n",
       "      <th>rfm2</th>\n",
       "      <th>buyer_int</th>\n",
       "    </tr>\n",
       "  </thead>\n",
       "  <tbody>\n",
       "    <tr>\n",
       "      <th>0</th>\n",
       "      <td>7</td>\n",
       "      <td>493</td>\n",
       "      <td>207</td>\n",
       "      <td>no</td>\n",
       "      <td>0</td>\n",
       "      <td>222</td>\n",
       "      <td>211</td>\n",
       "      <td>0</td>\n",
       "    </tr>\n",
       "    <tr>\n",
       "      <th>1</th>\n",
       "      <td>4</td>\n",
       "      <td>423</td>\n",
       "      <td>625</td>\n",
       "      <td>no</td>\n",
       "      <td>0</td>\n",
       "      <td>421</td>\n",
       "      <td>422</td>\n",
       "      <td>0</td>\n",
       "    </tr>\n",
       "    <tr>\n",
       "      <th>2</th>\n",
       "      <td>4</td>\n",
       "      <td>246</td>\n",
       "      <td>28</td>\n",
       "      <td>no</td>\n",
       "      <td>0</td>\n",
       "      <td>134</td>\n",
       "      <td>122</td>\n",
       "      <td>0</td>\n",
       "    </tr>\n",
       "    <tr>\n",
       "      <th>3</th>\n",
       "      <td>3</td>\n",
       "      <td>271</td>\n",
       "      <td>778</td>\n",
       "      <td>no</td>\n",
       "      <td>0</td>\n",
       "      <td>523</td>\n",
       "      <td>532</td>\n",
       "      <td>0</td>\n",
       "    </tr>\n",
       "    <tr>\n",
       "      <th>4</th>\n",
       "      <td>2</td>\n",
       "      <td>148</td>\n",
       "      <td>396</td>\n",
       "      <td>no</td>\n",
       "      <td>0</td>\n",
       "      <td>343</td>\n",
       "      <td>343</td>\n",
       "      <td>0</td>\n",
       "    </tr>\n",
       "  </tbody>\n",
       "</table>\n",
       "</div>"
      ],
      "text/plain": [
       "   numords  totdol  last buyer  dollars  rfm1  rfm2  buyer_int\n",
       "0        7     493   207    no        0   222   211          0\n",
       "1        4     423   625    no        0   421   422          0\n",
       "2        4     246    28    no        0   134   122          0\n",
       "3        3     271   778    no        0   523   532          0\n",
       "4        2     148   396    no        0   343   343          0"
      ]
     },
     "execution_count": 3,
     "metadata": {},
     "output_type": "execute_result"
    }
   ],
   "source": [
    "# constructs a dummy variable for the indicator if a customer was a buyer, 1 being yes and 0 being no\n",
    "df['buyer_int'] = pd.get_dummies(df['buyer'])['yes']\n",
    "df.head()"
   ]
  },
  {
   "cell_type": "code",
   "execution_count": null,
   "id": "878848ba-9a84-47e5-8f31-6f9890516527",
   "metadata": {},
   "outputs": [
    {
     "data": {
      "text/plain": [
       "2.45569698915599"
      ]
     },
     "execution_count": 4,
     "metadata": {},
     "output_type": "execute_result"
    }
   ],
   "source": [
    "# takes the sum of the dummy column, meaning the count of those who purchased from the catalog\n",
    "# and then dividing by the total number in our sample, then multiplying by 100\n",
    "(df['buyer_int'].sum() / len(df)) * 100"
   ]
  },
  {
   "cell_type": "markdown",
   "id": "fbfe8022-c471-4566-af42-f0b21cf2156e",
   "metadata": {},
   "source": [
    "From our random sample of the overall mailing population, approximately $2.45\\%$ of customers resonded to this catalog. Since this sample was taken at random, we can then say that our sample mirrors that of the population (i.e. all of those being mailed catalogs) and that $2.45\\%$ of the entire customer population responded to this catalog."
   ]
  },
  {
   "cell_type": "markdown",
   "id": "970b6836",
   "metadata": {},
   "source": [
    "\\newpage"
   ]
  },
  {
   "cell_type": "markdown",
   "id": "fa8ee952-c147-4aae-9ac6-54cf0f9edc1b",
   "metadata": {},
   "source": [
    "## Question 2: Of those who bought, what was the average dollars ordered from this catalog?"
   ]
  },
  {
   "cell_type": "code",
   "execution_count": 5,
   "id": "14d89c9a-e881-449f-a512-492600eba9a2",
   "metadata": {},
   "outputs": [
    {
     "data": {
      "text/html": [
       "<div>\n",
       "<style scoped>\n",
       "    .dataframe tbody tr th:only-of-type {\n",
       "        vertical-align: middle;\n",
       "    }\n",
       "\n",
       "    .dataframe tbody tr th {\n",
       "        vertical-align: top;\n",
       "    }\n",
       "\n",
       "    .dataframe thead th {\n",
       "        text-align: right;\n",
       "    }\n",
       "</style>\n",
       "<table border=\"1\" class=\"dataframe\">\n",
       "  <thead>\n",
       "    <tr style=\"text-align: right;\">\n",
       "      <th></th>\n",
       "      <th>dollars</th>\n",
       "    </tr>\n",
       "    <tr>\n",
       "      <th>buyer</th>\n",
       "      <th></th>\n",
       "    </tr>\n",
       "  </thead>\n",
       "  <tbody>\n",
       "    <tr>\n",
       "      <th>no</th>\n",
       "      <td>0.000000</td>\n",
       "    </tr>\n",
       "    <tr>\n",
       "      <th>yes</th>\n",
       "      <td>104.242935</td>\n",
       "    </tr>\n",
       "  </tbody>\n",
       "</table>\n",
       "</div>"
      ],
      "text/plain": [
       "          dollars\n",
       "buyer            \n",
       "no       0.000000\n",
       "yes    104.242935"
      ]
     },
     "execution_count": 5,
     "metadata": {},
     "output_type": "execute_result"
    }
   ],
   "source": [
    "# here, we only take the buyer and dollar columns from the df, and we group by buyer\n",
    "# from there, we take the mean of the dollars for each group to get the mean for those who bought from the catalog\n",
    "\n",
    "df[['buyer', 'dollars']].groupby('buyer').mean()"
   ]
  },
  {
   "cell_type": "markdown",
   "id": "a47b9cc8-c9af-443a-b681-c85c122e94d2",
   "metadata": {},
   "source": [
    "The average dollars ordered from this catalog from those who purchased from it was around $\\$104.24$"
   ]
  },
  {
   "cell_type": "markdown",
   "id": "9d161d25",
   "metadata": {},
   "source": [
    "\\newpage"
   ]
  },
  {
   "cell_type": "markdown",
   "id": "57cee165-d3ac-456e-8c08-b3db2473c152",
   "metadata": {},
   "source": [
    "## Question 3: Create decile variables for recency, frequency and monetary."
   ]
  },
  {
   "cell_type": "code",
   "execution_count": 6,
   "id": "cd736da6-ab97-4a4b-954a-9bc71e39d2fc",
   "metadata": {},
   "outputs": [],
   "source": [
    "# for the recency decile, we use the last column since that indicates the last time a purchase was made\n",
    "df['recency_decile'] = mba263.ntile(df['last'], 10)\n",
    "\n",
    "# for frequency decile, we use numords, indicates total number purchases overall, do 9 - array to reverse ranking so lower decile = higher freq\n",
    "df['frequency_decile'] = 9 - mba263.ntile(df['numords'], 10)\n",
    "\n",
    "# for monetary decile, we use totdol, indicates total money spent overall, do 9-array to reverse ranking so lower decile = higher monetary\n",
    "df['monetary_decile'] = 9 - mba263.ntile(df['totdol'], 10)"
   ]
  },
  {
   "cell_type": "markdown",
   "id": "0c144e3e",
   "metadata": {},
   "source": [
    "\\newpage"
   ]
  },
  {
   "cell_type": "markdown",
   "id": "17195b6c-4b51-4620-bd74-959cade1c962",
   "metadata": {},
   "source": [
    "## Question 4: Create a bar chart showing the response rate (i.e., the proportion of customers who bought something) to this catalog by recency decile."
   ]
  },
  {
   "cell_type": "code",
   "execution_count": 7,
   "id": "eea835c5-ca50-49ce-a555-c63dc4a89b78",
   "metadata": {},
   "outputs": [
    {
     "data": {
      "image/png": "[encoded data removed]",
      "text/plain": [
       "<Figure size 640x480 with 1 Axes>"
      ]
     },
     "metadata": {},
     "output_type": "display_data"
    }
   ],
   "source": [
    "# select the recency decile and buyer int columns, group by recency decile, and take the mean\n",
    "# we can take the mean bc buyer is 0 and 1, only counts people who bought something\n",
    "df[['recency_decile', 'buyer_int']].groupby('recency_decile').mean().plot(kind='bar');"
   ]
  },
  {
   "cell_type": "markdown",
   "id": "ddb72d8d",
   "metadata": {},
   "source": [
    "\\newpage"
   ]
  },
  {
   "cell_type": "markdown",
   "id": "13f3d2c2-a50a-4dd9-83d8-e083f82573bf",
   "metadata": {
    "tags": []
   },
   "source": [
    "## Question 5: Create a bar chart showing the bar chart of response rate to this catalog by frequency decile. (Hint. use groupby with frequency deciles and plot command)"
   ]
  },
  {
   "cell_type": "code",
   "execution_count": 8,
   "id": "57a412c0-35e4-4c76-8d78-42746fea5e27",
   "metadata": {},
   "outputs": [
    {
     "data": {
      "image/png": "[encoded data removed]",
      "text/plain": [
       "<Figure size 640x480 with 1 Axes>"
      ]
     },
     "metadata": {},
     "output_type": "display_data"
    }
   ],
   "source": [
    "# select the frequency decile and buyer int columns, group by frequency decile, and take the mean\n",
    "# we can take the mean bc buyer is 0 and 1, only counts people who bought something\n",
    "# since we flipped decile meaings earlier for frequency, lower declie = higher freq\n",
    "df[['frequency_decile', 'buyer_int']].groupby('frequency_decile').mean().plot(kind='bar');"
   ]
  },
  {
   "cell_type": "markdown",
   "id": "e4ee3795",
   "metadata": {},
   "source": [
    "\\newpage"
   ]
  },
  {
   "cell_type": "markdown",
   "id": "7f94729f-f73a-4492-b171-9c39fb722876",
   "metadata": {
    "tags": []
   },
   "source": [
    "## Question 6: Create a bar chart showing the bar chart of response rate to this catalog by monetary decile."
   ]
  },
  {
   "cell_type": "code",
   "execution_count": 9,
   "id": "6daf9f65-0309-4cb1-813b-f2abb1fcb4ea",
   "metadata": {},
   "outputs": [
    {
     "data": {
      "image/png": "[encoded data removed]",
      "text/plain": [
       "<Figure size 640x480 with 1 Axes>"
      ]
     },
     "metadata": {},
     "output_type": "display_data"
    }
   ],
   "source": [
    "# select the monetary decile and buyer int columns, group by monetary decile, and take the mean\n",
    "# we can take the mean bc buyer is 0 and 1, only counts people who bought something\n",
    "# since we flipped decile meaings earlier for monetary, lower declie = higher spending\n",
    "df[['monetary_decile', 'buyer_int']].groupby('monetary_decile').mean().plot(kind='bar');"
   ]
  },
  {
   "cell_type": "markdown",
   "id": "283637b0",
   "metadata": {},
   "source": [
    "\\newpage"
   ]
  },
  {
   "cell_type": "markdown",
   "id": "a26657fa-1493-4cfc-97d1-b205b5685789",
   "metadata": {},
   "source": [
    "## Question 7: Using only those customers who placed an order from this catalog, create three bar charts showing the average dollars ordered from this catalog by recency, frequency and monetary deciles, respectively. (Hint: first create a data frame with those rows that ordered, and use groupby(...).mean().plot(...) on the restricted data)"
   ]
  },
  {
   "cell_type": "code",
   "execution_count": 10,
   "id": "e0388663-2d4f-4ed0-910b-dd2296aedb4a",
   "metadata": {},
   "outputs": [
    {
     "data": {
      "image/png": "[encoded data removed]",
      "text/plain": [
       "<Figure size 640x480 with 1 Axes>"
      ]
     },
     "metadata": {},
     "output_type": "display_data"
    },
    {
     "data": {
      "image/png": "[encoded data removed]",
      "text/plain": [
       "<Figure size 640x480 with 1 Axes>"
      ]
     },
     "metadata": {},
     "output_type": "display_data"
    },
    {
     "data": {
      "image/png": "[encoded data removed]",
      "text/plain": [
       "<Figure size 640x480 with 1 Axes>"
      ]
     },
     "metadata": {},
     "output_type": "display_data"
    }
   ],
   "source": [
    "# filter out those that did not order from this catalog\n",
    "only_ordered = df.query('buyer_int == 1')\n",
    "deciles = ['recency_decile', 'frequency_decile', 'monetary_decile']\n",
    "# do similar processes from 4, 5, 6 but instead, we take the dollar spending instead of the dummy variable\n",
    "for decile in deciles:\n",
    "    only_ordered[['dollars', decile]].groupby(decile).mean().plot(kind='bar')"
   ]
  },
  {
   "cell_type": "markdown",
   "id": "a63513e8",
   "metadata": {},
   "source": [
    "\\newpage"
   ]
  },
  {
   "cell_type": "markdown",
   "id": "4f939744-208e-44e8-9e8c-58eb37f77de5",
   "metadata": {},
   "source": [
    "## Question 8: What do the above bar charts reveal about the likelihood of response and the size of the order across the different recency, frequency, and monetary deciles?\n"
   ]
  },
  {
   "cell_type": "markdown",
   "id": "903245b6-2b92-4a92-8544-09efe4b60ed6",
   "metadata": {},
   "source": [
    "From questions 4-6, we can see that our bar graph suggests that the lower a customer's decile value (i.e. the higher their recency, frequency, and monetary rates), the more likely they are to respond to the catalog. This means that the more frequent, recent, or more spending a customer has done with our business, the more likely they are to respond to our catalog.\n",
    "\n",
    "In regards to the size of the orders, the recency graph from 7 does not necessarily have a good trend for the deciles, meaning that the recency decile does not necessarily affect the size of the of the order. For the frequency graph from 7, there is a very slight overall decrease in order size as you move up the deciles, which may suggest that as the frequency of a customer decreases, their order size decreases as well, but the trend is not that prominent to make this justification. For the monetary decile graph on 7, there is a more clear trend in comparison to the recency and frequency graphs. That is, as a customer's overall spending at the company decreases (i.e. the decile of a customer increases), the order size is more likely to go down. We can see this because the height of the bar in decile 0 is the highest in the graph, and the graph decreases as we go further up the deciles."
   ]
  },
  {
   "cell_type": "markdown",
   "id": "01dbdd64",
   "metadata": {},
   "source": [
    "\\newpage"
   ]
  },
  {
   "cell_type": "markdown",
   "id": "8a336f09-a193-4c23-988e-5de0d3bda099",
   "metadata": {
    "tags": []
   },
   "source": [
    "## Question 9: Consider mailing the catalog to the remaining 1,834,469 (=1,931,020-96,551) customers. Calculate:\n",
    "    (a) the expected gross profit in dollars,\n",
    "    (b) the expected gross profit as a % of expected gross sales, and\n",
    "    (c) the expected return on marketing expenditures (gross profit/cost to mail catalogs) To calculate (a),(b), and (c) assume:\n",
    "        Cost to produce and mail catalog = $1\n",
    "        COGS and variable costs on orders = 50% (of sales revenues)\n"
   ]
  },
  {
   "cell_type": "markdown",
   "id": "0ee0d7a4-2c74-4703-a81c-b53f220c0bc9",
   "metadata": {},
   "source": [
    "#### **ASSUMPTIONS MADE**:\n",
    "- Since we are not given the $E[\\text{Buy}]$ for the entire population, I will be using the proportion of $\\frac{E[\\text{Buy}]}{96,551}$ as my proportion to calculate $E[\\text{Buy}]$ for the remaining 1.8 million. This is because of the idea that since our sample was taken at random and it is a relatively large sample, then it will likely mirror that of the population.\n",
    "    - We calculate this by taking the numer of those who purchased from the catalog from our sample and dividing that by 96,551 to get the proportion of our sample who bought. We then use this proportion and multiply it by 1,834,469 to get the $E[\\text{Buy}]$ for our remaining customers.\n",
    "    - Using this assumption, I get $E[\\text{Buy}] = 45049$.\n",
    "- Since we are not given the profit per item, and we are given a bit of background regarding the store, which primarily sells Tuscany themed homeware, we will assume that the average revenue on an item across all items is calculated by taking those who purchased from the last catalog and average up their spending.\n",
    "    - We filter ```df``` by ```buyer_int == 1``` and from there we take the mean of ```dollars```, which gets us $\\$104.24$ for the revenue per customer.\n",
    "    - Since profict is revenue - COGS and COGS in this case is $50\\%$, our profit should be $\\$104.24 * 0.5 = \\$52.12$"
   ]
  },
  {
   "cell_type": "code",
   "execution_count": 11,
   "id": "81a5b584-f50c-470c-bcb7-7e56fd5a6967",
   "metadata": {},
   "outputs": [
    {
     "name": "stdout",
     "output_type": "stream",
     "text": [
      "The expected gross profit, in dollars, based on the assumptions stated above is $513484.8799999999.\n"
     ]
    }
   ],
   "source": [
    "# Part a\n",
    "# recall, E[Profit] = Profit per item * E[Buy] - Cost to mail catalog\n",
    "# profit is selling price - production and shipping costs (COGS) => profit = revenue * 0.5 since COGS = 50%\n",
    "# mailing to only 1,834,469 customers, cost to produce/mail = 1,834,469 * 1\n",
    "\n",
    "profit_per_sale = 104.24 / 2\n",
    "prop_for_e_buy = 2371 / (96551)\n",
    "e_buy = 1834469 * prop_for_e_buy\n",
    "mailing_cost = 1834469 * 1\n",
    "\n",
    "e_profit = profit_per_sale * e_buy - mailing_cost\n",
    "print(f'The expected gross profit, in dollars, based on the assumptions stated above is ${e_profit}.')"
   ]
  },
  {
   "cell_type": "code",
   "execution_count": 12,
   "id": "8a03e3b1-1424-417d-bc9a-54e676f905cf",
   "metadata": {},
   "outputs": [
    {
     "data": {
      "text/plain": [
       "'The expected gross profit as a percentage of expected gross sales is 10.93473096669173%'"
      ]
     },
     "execution_count": 12,
     "metadata": {},
     "output_type": "execute_result"
    }
   ],
   "source": [
    "# Part b\n",
    "# gross sales = revenue * E[Buy]\n",
    "# calculate gross_proft / gross_sales\n",
    "\n",
    "gross_sales = (profit_per_sale * 2) * e_buy\n",
    "f'The expected gross profit as a percentage of expected gross sales is {(e_profit / gross_sales) * 100}%'"
   ]
  },
  {
   "cell_type": "code",
   "execution_count": 13,
   "id": "ae36f76b-2723-44ec-b85a-2988dc0f4176",
   "metadata": {},
   "outputs": [
    {
     "data": {
      "text/plain": [
       "'The expected marketing return is 27.990927074810195%'"
      ]
     },
     "execution_count": 13,
     "metadata": {},
     "output_type": "execute_result"
    }
   ],
   "source": [
    "# Part C\n",
    "# return on marketing = profit / cost to mail\n",
    "\n",
    "marketing_return = (e_profit / mailing_cost) * 100\n",
    "f'The expected marketing return is {(e_profit / mailing_cost) * 100}%'"
   ]
  },
  {
   "cell_type": "markdown",
   "id": "2b04f307",
   "metadata": {},
   "source": [
    "\\newpage"
   ]
  },
  {
   "cell_type": "markdown",
   "id": "fdb3186d-6012-424d-81c7-cadff71fde2e",
   "metadata": {},
   "source": [
    "## Question 10: What is the breakeven response rate?"
   ]
  },
  {
   "cell_type": "code",
   "execution_count": 14,
   "id": "7eca7874-49e5-4cad-84d0-62c248dea621",
   "metadata": {},
   "outputs": [
    {
     "data": {
      "text/plain": [
       "'The break even rate is 1.9186492709132772%'"
      ]
     },
     "execution_count": 14,
     "metadata": {},
     "output_type": "execute_result"
    }
   ],
   "source": [
    "# use assumptions from previous parts\n",
    "break_even_rate = (1 / profit_per_sale)\n",
    "f'The break even rate is {break_even_rate * 100}%'"
   ]
  },
  {
   "cell_type": "markdown",
   "id": "2f7ebcd2",
   "metadata": {},
   "source": [
    "\\newpage"
   ]
  },
  {
   "cell_type": "markdown",
   "id": "104bbd02-7910-4b9f-824f-9b5d7bb88249",
   "metadata": {},
   "source": [
    "## Question 11: Consider mailing only to those of the remaining 1,834,469 customers in RFM cells (using the sequential n-tiles approach) with a response rate that is equal to or greater than the breakeven response rate. Specifically, compute the following items. You can do this by following the steps described in RFM jupyter notebook and using a calculator:\n",
    "- Determine which RFM segments (using the sequential n-tiles approach) have response rates exceeding the breakeven rate.\n",
    "- Determine the number of customers belonging to these profitable segments.\n",
    "- Determine the number of buyers belonging to these profitable segments.\n",
    "- Finally, what would the:\n",
    "    - the expected gross profit in dollars,\n",
    "    - the expected gross profit as a % of expected gross sales, and\n",
    "    - the expected return on marketing expenditures (gross profit/cost to mail catalogs)\n",
    "- have been as a result of mailing the catalog only to those customers in the RFM cells with response rates exceeding the breakeven? That is, rather than mailing to all 1,834,469 customers – what would the profitability of the mailing have been if mailed to the subset of customers in ‘profitable’ segments?"
   ]
  },
  {
   "cell_type": "markdown",
   "id": "0a0fab4e-615f-469f-ba99-170569ce624a",
   "metadata": {},
   "source": [
    "#### **ASSUMPTIONS MADE**:\n",
    "- To calculate the number of people who we send out the catalogs to, we use the proportion of the number of people in our targeted mailing list divided by the number of people in our overall sample of 96,551\n",
    "    - That is, we do 52289 / 96551 to get the proportion which we will multiply 1.8 million by to get the number of those we send out the catalogs to.\n",
    "- The number of those who respond in the remaning 1.8 million is calculated via using the response rate calculated from the targeted mailing list\n",
    "    - Based on all my previous assumptions, my frequency of response is ~3.36%, which is higher than the non-targeted's response rate of ~2.45%"
   ]
  },
  {
   "cell_type": "code",
   "execution_count": 15,
   "id": "ad8ed703-05a9-4df8-942d-acf59caba5da",
   "metadata": {},
   "outputs": [],
   "source": [
    "# use rfm1, filter by response rate\n",
    "df['response_rate'] = mba263.get_means(df['buyer_int'], df['rfm1'])\n",
    "df['mail_to'] = df['response_rate'] > break_even_rate * 1\n",
    "df_mailing = df[df['mail_to'] == True]"
   ]
  },
  {
   "cell_type": "code",
   "execution_count": 16,
   "id": "3713c9fd-c3e5-4a4b-841c-f4aabc412db2",
   "metadata": {
    "scrolled": true,
    "tags": []
   },
   "outputs": [
    {
     "data": {
      "text/plain": [
       "{111,\n",
       " 112,\n",
       " 113,\n",
       " 114,\n",
       " 115,\n",
       " 121,\n",
       " 122,\n",
       " 123,\n",
       " 124,\n",
       " 125,\n",
       " 131,\n",
       " 132,\n",
       " 133,\n",
       " 134,\n",
       " 135,\n",
       " 141,\n",
       " 142,\n",
       " 143,\n",
       " 144,\n",
       " 145,\n",
       " 151,\n",
       " 152,\n",
       " 153,\n",
       " 154,\n",
       " 155,\n",
       " 211,\n",
       " 212,\n",
       " 213,\n",
       " 214,\n",
       " 215,\n",
       " 221,\n",
       " 222,\n",
       " 223,\n",
       " 224,\n",
       " 225,\n",
       " 231,\n",
       " 234,\n",
       " 235,\n",
       " 241,\n",
       " 245,\n",
       " 252,\n",
       " 253,\n",
       " 311,\n",
       " 312,\n",
       " 313,\n",
       " 314,\n",
       " 321,\n",
       " 322,\n",
       " 323,\n",
       " 324,\n",
       " 325,\n",
       " 331,\n",
       " 332,\n",
       " 333,\n",
       " 341,\n",
       " 344,\n",
       " 345,\n",
       " 411,\n",
       " 412,\n",
       " 413,\n",
       " 414,\n",
       " 415,\n",
       " 421,\n",
       " 422,\n",
       " 424,\n",
       " 425,\n",
       " 433,\n",
       " 435,\n",
       " 511,\n",
       " 512,\n",
       " 513,\n",
       " 514,\n",
       " 515,\n",
       " 524,\n",
       " 533}"
      ]
     },
     "execution_count": 16,
     "metadata": {},
     "output_type": "execute_result"
    }
   ],
   "source": [
    "# filtered by those who's response rate exceeded the break even rate, and got each unique RMF segments each customer belonged to\n",
    "rfm_exceed_break_even = set(df[df['mail_to'] == True]['rfm1'])\n",
    "rfm_exceed_break_even"
   ]
  },
  {
   "cell_type": "code",
   "execution_count": 17,
   "id": "ee23f026-67f4-4447-85f9-1dfc82f7bd8a",
   "metadata": {},
   "outputs": [
    {
     "data": {
      "text/plain": [
       "rfm1\n",
       "111     719\n",
       "112     719\n",
       "113     718\n",
       "114     717\n",
       "115     723\n",
       "       ... \n",
       "513     604\n",
       "514     600\n",
       "515     605\n",
       "524     736\n",
       "533     753\n",
       "Length: 75, dtype: int64"
      ]
     },
     "execution_count": 17,
     "metadata": {},
     "output_type": "execute_result"
    }
   ],
   "source": [
    "# number of customers that belong in each profitable rfm segment\n",
    "num_customers_in_profitable_rfm = df_mailing[['rfm1']].value_counts().sort_index()\n",
    "num_customers_in_profitable_rfm"
   ]
  },
  {
   "cell_type": "code",
   "execution_count": 18,
   "id": "d9260a83-bf2c-4a43-aca9-897718ef1052",
   "metadata": {},
   "outputs": [
    {
     "data": {
      "text/html": [
       "<div>\n",
       "<style scoped>\n",
       "    .dataframe tbody tr th:only-of-type {\n",
       "        vertical-align: middle;\n",
       "    }\n",
       "\n",
       "    .dataframe tbody tr th {\n",
       "        vertical-align: top;\n",
       "    }\n",
       "\n",
       "    .dataframe thead th {\n",
       "        text-align: right;\n",
       "    }\n",
       "</style>\n",
       "<table border=\"1\" class=\"dataframe\">\n",
       "  <thead>\n",
       "    <tr style=\"text-align: right;\">\n",
       "      <th></th>\n",
       "      <th>buyer</th>\n",
       "    </tr>\n",
       "    <tr>\n",
       "      <th>rfm1</th>\n",
       "      <th></th>\n",
       "    </tr>\n",
       "  </thead>\n",
       "  <tbody>\n",
       "    <tr>\n",
       "      <th>111</th>\n",
       "      <td>63</td>\n",
       "    </tr>\n",
       "    <tr>\n",
       "      <th>112</th>\n",
       "      <td>56</td>\n",
       "    </tr>\n",
       "    <tr>\n",
       "      <th>113</th>\n",
       "      <td>47</td>\n",
       "    </tr>\n",
       "    <tr>\n",
       "      <th>114</th>\n",
       "      <td>47</td>\n",
       "    </tr>\n",
       "    <tr>\n",
       "      <th>115</th>\n",
       "      <td>44</td>\n",
       "    </tr>\n",
       "    <tr>\n",
       "      <th>...</th>\n",
       "      <td>...</td>\n",
       "    </tr>\n",
       "    <tr>\n",
       "      <th>513</th>\n",
       "      <td>13</td>\n",
       "    </tr>\n",
       "    <tr>\n",
       "      <th>514</th>\n",
       "      <td>18</td>\n",
       "    </tr>\n",
       "    <tr>\n",
       "      <th>515</th>\n",
       "      <td>12</td>\n",
       "    </tr>\n",
       "    <tr>\n",
       "      <th>524</th>\n",
       "      <td>20</td>\n",
       "    </tr>\n",
       "    <tr>\n",
       "      <th>533</th>\n",
       "      <td>17</td>\n",
       "    </tr>\n",
       "  </tbody>\n",
       "</table>\n",
       "<p>75 rows × 1 columns</p>\n",
       "</div>"
      ],
      "text/plain": [
       "      buyer\n",
       "rfm1       \n",
       "111      63\n",
       "112      56\n",
       "113      47\n",
       "114      47\n",
       "115      44\n",
       "...     ...\n",
       "513      13\n",
       "514      18\n",
       "515      12\n",
       "524      20\n",
       "533      17\n",
       "\n",
       "[75 rows x 1 columns]"
      ]
     },
     "execution_count": 18,
     "metadata": {},
     "output_type": "execute_result"
    }
   ],
   "source": [
    "# the number of buyers that belong in each profitable rfm segment\n",
    "num_buyers_in_profitable_rfm = df_mailing.query(\"buyer == 'yes'\")[['buyer', 'rfm1']].groupby('rfm1').count()\n",
    "num_buyers_in_profitable_rfm"
   ]
  },
  {
   "cell_type": "code",
   "execution_count": 19,
   "id": "dcf2fcff-4384-4765-a132-ceb836a54bfb",
   "metadata": {},
   "outputs": [
    {
     "data": {
      "text/plain": [
       "52289"
      ]
     },
     "execution_count": 19,
     "metadata": {},
     "output_type": "execute_result"
    }
   ],
   "source": [
    "# size of mailing sample, based on 96,551 sample\n",
    "len(df_mailing)"
   ]
  },
  {
   "cell_type": "code",
   "execution_count": 20,
   "id": "7ff7df19-6064-4ed1-a127-e9801b7c9cf0",
   "metadata": {},
   "outputs": [
    {
     "data": {
      "text/plain": [
       "0.5415687046224276"
      ]
     },
     "execution_count": 20,
     "metadata": {},
     "output_type": "execute_result"
    }
   ],
   "source": [
    "# the proportion of the 1.8 million remaining customers we will be sending out the catalogs to\n",
    "prop_full_targeted = len(df_mailing) / len(df)\n",
    "prop_full_targeted"
   ]
  },
  {
   "cell_type": "code",
   "execution_count": 21,
   "id": "7587adc0-4df8-4e05-aaa3-935db742e6db",
   "metadata": {},
   "outputs": [
    {
     "data": {
      "text/plain": [
       "0.03360171355351986"
      ]
     },
     "execution_count": 21,
     "metadata": {},
     "output_type": "execute_result"
    }
   ],
   "source": [
    "# calculate the response rate based on targeted mailing\n",
    "response_rate_targeted = mba263.tabulate(df_mailing['buyer'])['Frequency'][1]\n",
    "response_rate_targeted"
   ]
  },
  {
   "cell_type": "code",
   "execution_count": 22,
   "id": "fbf3d67f-4334-4935-9d37-2b895c4f3e09",
   "metadata": {},
   "outputs": [
    {
     "name": "stdout",
     "output_type": "stream",
     "text": [
      "We will mail to only 993491.0000000001 customers out of the ~1.8 million, which 33383.0 will respond to.\n"
     ]
    }
   ],
   "source": [
    "# number of people we mail to, and num of people who respond\n",
    "num_mail_to = prop_full_targeted * 1834469\n",
    "num_respond_to = num_mail_to * response_rate_targeted\n",
    "print(f'We will mail to only {num_mail_to} customers out of the ~1.8 million, which {num_respond_to} will respond to.')"
   ]
  },
  {
   "cell_type": "code",
   "execution_count": 23,
   "id": "f70c4111-f34d-47dd-b62e-d1c9789e6b39",
   "metadata": {},
   "outputs": [
    {
     "name": "stdout",
     "output_type": "stream",
     "text": [
      "The expected gross profit, in dollars, based on the targeted mailing list is $746430.9599999998.\n"
     ]
    }
   ],
   "source": [
    "# expected gross profit\n",
    "e_profit_targeted = profit_per_sale * num_respond_to - 1 * num_mail_to\n",
    "print(f'The expected gross profit, in dollars, based on the targeted mailing list is ${e_profit_targeted}.')"
   ]
  },
  {
   "cell_type": "code",
   "execution_count": 24,
   "id": "00b9dbae-5ae6-47d0-b953-6825051ea141",
   "metadata": {},
   "outputs": [
    {
     "data": {
      "text/plain": [
       "3479843.92"
      ]
     },
     "execution_count": 24,
     "metadata": {},
     "output_type": "execute_result"
    }
   ],
   "source": [
    "# expected gross sales targeted\n",
    "gross_sales_targeted = (profit_per_sale * 2) * num_respond_to\n",
    "gross_sales_targeted"
   ]
  },
  {
   "cell_type": "code",
   "execution_count": 25,
   "id": "17e8ce3a-f610-48cc-82f1-2e7cb81be290",
   "metadata": {},
   "outputs": [
    {
     "data": {
      "text/plain": [
       "21.45012756779045"
      ]
     },
     "execution_count": 25,
     "metadata": {},
     "output_type": "execute_result"
    }
   ],
   "source": [
    "# targeted gross profit / targeted gross sales , as a percentage of targeted gross sales\n",
    "gross_profit_percent_targeted = (e_profit_targeted / gross_sales_targeted) * 100\n",
    "gross_profit_percent_targeted"
   ]
  },
  {
   "cell_type": "code",
   "execution_count": 29,
   "id": "0f0baed2-8cab-49d6-b891-6ef908540ae1",
   "metadata": {},
   "outputs": [
    {
     "name": "stdout",
     "output_type": "stream",
     "text": [
      "Our return on marketing via targeted marketing is 75.1321310409455%.\n"
     ]
    }
   ],
   "source": [
    "# exptected return on marketing targeted\n",
    "marketing_return_targeted = (e_profit_targeted / (1 * num_mail_to)) * 100\n",
    "print(f\"Our return on marketing via targeted marketing is {marketing_return_targeted}%.\")"
   ]
  },
  {
   "cell_type": "markdown",
   "id": "b94e84df",
   "metadata": {},
   "source": [
    "\\newpage"
   ]
  },
  {
   "cell_type": "markdown",
   "id": "32f4fb19-5a80-479f-b1f8-0d1d06d524f2",
   "metadata": {},
   "source": [
    "## Question 12: Examine the first 20 or so observations in the database. What do you notice about the RFM1 and RFM2 values? That is – do the two approaches generally yield the same RFM index for any given customer? What do you see as the pros and cons of the two approaches (from a statistical as well as logical perspective) and why?"
   ]
  },
  {
   "cell_type": "code",
   "execution_count": 27,
   "id": "e8a0dcc1-526e-4756-9c53-a35558d54333",
   "metadata": {},
   "outputs": [
    {
     "data": {
      "text/html": [
       "<div>\n",
       "<style scoped>\n",
       "    .dataframe tbody tr th:only-of-type {\n",
       "        vertical-align: middle;\n",
       "    }\n",
       "\n",
       "    .dataframe tbody tr th {\n",
       "        vertical-align: top;\n",
       "    }\n",
       "\n",
       "    .dataframe thead th {\n",
       "        text-align: right;\n",
       "    }\n",
       "</style>\n",
       "<table border=\"1\" class=\"dataframe\">\n",
       "  <thead>\n",
       "    <tr style=\"text-align: right;\">\n",
       "      <th></th>\n",
       "      <th>numords</th>\n",
       "      <th>totdol</th>\n",
       "      <th>last</th>\n",
       "      <th>buyer</th>\n",
       "      <th>dollars</th>\n",
       "      <th>rfm1</th>\n",
       "      <th>rfm2</th>\n",
       "      <th>buyer_int</th>\n",
       "      <th>recency_decile</th>\n",
       "      <th>frequency_decile</th>\n",
       "      <th>monetary_decile</th>\n",
       "      <th>response_rate</th>\n",
       "      <th>mail_to</th>\n",
       "    </tr>\n",
       "  </thead>\n",
       "  <tbody>\n",
       "    <tr>\n",
       "      <th>0</th>\n",
       "      <td>7</td>\n",
       "      <td>493</td>\n",
       "      <td>207</td>\n",
       "      <td>no</td>\n",
       "      <td>0</td>\n",
       "      <td>222</td>\n",
       "      <td>211</td>\n",
       "      <td>0</td>\n",
       "      <td>2</td>\n",
       "      <td>1</td>\n",
       "      <td>1</td>\n",
       "      <td>0.029308</td>\n",
       "      <td>True</td>\n",
       "    </tr>\n",
       "    <tr>\n",
       "      <th>1</th>\n",
       "      <td>4</td>\n",
       "      <td>423</td>\n",
       "      <td>625</td>\n",
       "      <td>no</td>\n",
       "      <td>0</td>\n",
       "      <td>421</td>\n",
       "      <td>422</td>\n",
       "      <td>0</td>\n",
       "      <td>6</td>\n",
       "      <td>3</td>\n",
       "      <td>2</td>\n",
       "      <td>0.028832</td>\n",
       "      <td>True</td>\n",
       "    </tr>\n",
       "    <tr>\n",
       "      <th>2</th>\n",
       "      <td>4</td>\n",
       "      <td>246</td>\n",
       "      <td>28</td>\n",
       "      <td>no</td>\n",
       "      <td>0</td>\n",
       "      <td>134</td>\n",
       "      <td>122</td>\n",
       "      <td>0</td>\n",
       "      <td>0</td>\n",
       "      <td>3</td>\n",
       "      <td>3</td>\n",
       "      <td>0.043630</td>\n",
       "      <td>True</td>\n",
       "    </tr>\n",
       "    <tr>\n",
       "      <th>3</th>\n",
       "      <td>3</td>\n",
       "      <td>271</td>\n",
       "      <td>778</td>\n",
       "      <td>no</td>\n",
       "      <td>0</td>\n",
       "      <td>523</td>\n",
       "      <td>532</td>\n",
       "      <td>0</td>\n",
       "      <td>8</td>\n",
       "      <td>4</td>\n",
       "      <td>3</td>\n",
       "      <td>0.018349</td>\n",
       "      <td>False</td>\n",
       "    </tr>\n",
       "    <tr>\n",
       "      <th>4</th>\n",
       "      <td>2</td>\n",
       "      <td>148</td>\n",
       "      <td>396</td>\n",
       "      <td>no</td>\n",
       "      <td>0</td>\n",
       "      <td>343</td>\n",
       "      <td>343</td>\n",
       "      <td>0</td>\n",
       "      <td>4</td>\n",
       "      <td>6</td>\n",
       "      <td>5</td>\n",
       "      <td>0.018158</td>\n",
       "      <td>False</td>\n",
       "    </tr>\n",
       "    <tr>\n",
       "      <th>5</th>\n",
       "      <td>10</td>\n",
       "      <td>937</td>\n",
       "      <td>6</td>\n",
       "      <td>no</td>\n",
       "      <td>0</td>\n",
       "      <td>121</td>\n",
       "      <td>111</td>\n",
       "      <td>0</td>\n",
       "      <td>0</td>\n",
       "      <td>0</td>\n",
       "      <td>0</td>\n",
       "      <td>0.031250</td>\n",
       "      <td>True</td>\n",
       "    </tr>\n",
       "    <tr>\n",
       "      <th>6</th>\n",
       "      <td>7</td>\n",
       "      <td>562</td>\n",
       "      <td>38</td>\n",
       "      <td>no</td>\n",
       "      <td>0</td>\n",
       "      <td>123</td>\n",
       "      <td>111</td>\n",
       "      <td>0</td>\n",
       "      <td>0</td>\n",
       "      <td>1</td>\n",
       "      <td>1</td>\n",
       "      <td>0.046802</td>\n",
       "      <td>True</td>\n",
       "    </tr>\n",
       "    <tr>\n",
       "      <th>7</th>\n",
       "      <td>1</td>\n",
       "      <td>156</td>\n",
       "      <td>759</td>\n",
       "      <td>no</td>\n",
       "      <td>0</td>\n",
       "      <td>552</td>\n",
       "      <td>553</td>\n",
       "      <td>0</td>\n",
       "      <td>8</td>\n",
       "      <td>9</td>\n",
       "      <td>5</td>\n",
       "      <td>0.013973</td>\n",
       "      <td>False</td>\n",
       "    </tr>\n",
       "    <tr>\n",
       "      <th>8</th>\n",
       "      <td>1</td>\n",
       "      <td>59</td>\n",
       "      <td>604</td>\n",
       "      <td>no</td>\n",
       "      <td>0</td>\n",
       "      <td>454</td>\n",
       "      <td>455</td>\n",
       "      <td>0</td>\n",
       "      <td>6</td>\n",
       "      <td>9</td>\n",
       "      <td>8</td>\n",
       "      <td>0.010039</td>\n",
       "      <td>False</td>\n",
       "    </tr>\n",
       "    <tr>\n",
       "      <th>9</th>\n",
       "      <td>1</td>\n",
       "      <td>34</td>\n",
       "      <td>7</td>\n",
       "      <td>no</td>\n",
       "      <td>0</td>\n",
       "      <td>155</td>\n",
       "      <td>155</td>\n",
       "      <td>0</td>\n",
       "      <td>0</td>\n",
       "      <td>9</td>\n",
       "      <td>9</td>\n",
       "      <td>0.021968</td>\n",
       "      <td>True</td>\n",
       "    </tr>\n",
       "    <tr>\n",
       "      <th>10</th>\n",
       "      <td>6</td>\n",
       "      <td>627</td>\n",
       "      <td>71</td>\n",
       "      <td>no</td>\n",
       "      <td>0</td>\n",
       "      <td>122</td>\n",
       "      <td>111</td>\n",
       "      <td>0</td>\n",
       "      <td>1</td>\n",
       "      <td>1</td>\n",
       "      <td>1</td>\n",
       "      <td>0.048137</td>\n",
       "      <td>True</td>\n",
       "    </tr>\n",
       "    <tr>\n",
       "      <th>11</th>\n",
       "      <td>5</td>\n",
       "      <td>379</td>\n",
       "      <td>568</td>\n",
       "      <td>no</td>\n",
       "      <td>0</td>\n",
       "      <td>414</td>\n",
       "      <td>422</td>\n",
       "      <td>0</td>\n",
       "      <td>6</td>\n",
       "      <td>2</td>\n",
       "      <td>2</td>\n",
       "      <td>0.022400</td>\n",
       "      <td>True</td>\n",
       "    </tr>\n",
       "    <tr>\n",
       "      <th>12</th>\n",
       "      <td>2</td>\n",
       "      <td>75</td>\n",
       "      <td>505</td>\n",
       "      <td>no</td>\n",
       "      <td>0</td>\n",
       "      <td>345</td>\n",
       "      <td>344</td>\n",
       "      <td>0</td>\n",
       "      <td>5</td>\n",
       "      <td>6</td>\n",
       "      <td>7</td>\n",
       "      <td>0.020910</td>\n",
       "      <td>True</td>\n",
       "    </tr>\n",
       "    <tr>\n",
       "      <th>13</th>\n",
       "      <td>1</td>\n",
       "      <td>44</td>\n",
       "      <td>101</td>\n",
       "      <td>no</td>\n",
       "      <td>0</td>\n",
       "      <td>154</td>\n",
       "      <td>155</td>\n",
       "      <td>0</td>\n",
       "      <td>1</td>\n",
       "      <td>9</td>\n",
       "      <td>8</td>\n",
       "      <td>0.033613</td>\n",
       "      <td>True</td>\n",
       "    </tr>\n",
       "    <tr>\n",
       "      <th>14</th>\n",
       "      <td>14</td>\n",
       "      <td>386</td>\n",
       "      <td>620</td>\n",
       "      <td>no</td>\n",
       "      <td>0</td>\n",
       "      <td>414</td>\n",
       "      <td>412</td>\n",
       "      <td>0</td>\n",
       "      <td>6</td>\n",
       "      <td>0</td>\n",
       "      <td>2</td>\n",
       "      <td>0.022400</td>\n",
       "      <td>True</td>\n",
       "    </tr>\n",
       "    <tr>\n",
       "      <th>15</th>\n",
       "      <td>10</td>\n",
       "      <td>404</td>\n",
       "      <td>312</td>\n",
       "      <td>no</td>\n",
       "      <td>0</td>\n",
       "      <td>215</td>\n",
       "      <td>212</td>\n",
       "      <td>0</td>\n",
       "      <td>3</td>\n",
       "      <td>0</td>\n",
       "      <td>2</td>\n",
       "      <td>0.046828</td>\n",
       "      <td>True</td>\n",
       "    </tr>\n",
       "    <tr>\n",
       "      <th>16</th>\n",
       "      <td>2</td>\n",
       "      <td>114</td>\n",
       "      <td>1094</td>\n",
       "      <td>no</td>\n",
       "      <td>0</td>\n",
       "      <td>534</td>\n",
       "      <td>544</td>\n",
       "      <td>0</td>\n",
       "      <td>9</td>\n",
       "      <td>6</td>\n",
       "      <td>6</td>\n",
       "      <td>0.017202</td>\n",
       "      <td>False</td>\n",
       "    </tr>\n",
       "    <tr>\n",
       "      <th>17</th>\n",
       "      <td>11</td>\n",
       "      <td>756</td>\n",
       "      <td>22</td>\n",
       "      <td>no</td>\n",
       "      <td>0</td>\n",
       "      <td>114</td>\n",
       "      <td>111</td>\n",
       "      <td>0</td>\n",
       "      <td>0</td>\n",
       "      <td>0</td>\n",
       "      <td>0</td>\n",
       "      <td>0.065551</td>\n",
       "      <td>True</td>\n",
       "    </tr>\n",
       "    <tr>\n",
       "      <th>18</th>\n",
       "      <td>1</td>\n",
       "      <td>104</td>\n",
       "      <td>366</td>\n",
       "      <td>no</td>\n",
       "      <td>0</td>\n",
       "      <td>352</td>\n",
       "      <td>354</td>\n",
       "      <td>0</td>\n",
       "      <td>4</td>\n",
       "      <td>9</td>\n",
       "      <td>7</td>\n",
       "      <td>0.009740</td>\n",
       "      <td>False</td>\n",
       "    </tr>\n",
       "    <tr>\n",
       "      <th>19</th>\n",
       "      <td>22</td>\n",
       "      <td>1282</td>\n",
       "      <td>15</td>\n",
       "      <td>no</td>\n",
       "      <td>0</td>\n",
       "      <td>113</td>\n",
       "      <td>111</td>\n",
       "      <td>0</td>\n",
       "      <td>0</td>\n",
       "      <td>0</td>\n",
       "      <td>0</td>\n",
       "      <td>0.065460</td>\n",
       "      <td>True</td>\n",
       "    </tr>\n",
       "  </tbody>\n",
       "</table>\n",
       "</div>"
      ],
      "text/plain": [
       "    numords  totdol  last buyer  dollars  rfm1  rfm2  buyer_int  \\\n",
       "0         7     493   207    no        0   222   211          0   \n",
       "1         4     423   625    no        0   421   422          0   \n",
       "2         4     246    28    no        0   134   122          0   \n",
       "3         3     271   778    no        0   523   532          0   \n",
       "4         2     148   396    no        0   343   343          0   \n",
       "5        10     937     6    no        0   121   111          0   \n",
       "6         7     562    38    no        0   123   111          0   \n",
       "7         1     156   759    no        0   552   553          0   \n",
       "8         1      59   604    no        0   454   455          0   \n",
       "9         1      34     7    no        0   155   155          0   \n",
       "10        6     627    71    no        0   122   111          0   \n",
       "11        5     379   568    no        0   414   422          0   \n",
       "12        2      75   505    no        0   345   344          0   \n",
       "13        1      44   101    no        0   154   155          0   \n",
       "14       14     386   620    no        0   414   412          0   \n",
       "15       10     404   312    no        0   215   212          0   \n",
       "16        2     114  1094    no        0   534   544          0   \n",
       "17       11     756    22    no        0   114   111          0   \n",
       "18        1     104   366    no        0   352   354          0   \n",
       "19       22    1282    15    no        0   113   111          0   \n",
       "\n",
       "    recency_decile  frequency_decile  monetary_decile  response_rate  mail_to  \n",
       "0                2                 1                1       0.029308     True  \n",
       "1                6                 3                2       0.028832     True  \n",
       "2                0                 3                3       0.043630     True  \n",
       "3                8                 4                3       0.018349    False  \n",
       "4                4                 6                5       0.018158    False  \n",
       "5                0                 0                0       0.031250     True  \n",
       "6                0                 1                1       0.046802     True  \n",
       "7                8                 9                5       0.013973    False  \n",
       "8                6                 9                8       0.010039    False  \n",
       "9                0                 9                9       0.021968     True  \n",
       "10               1                 1                1       0.048137     True  \n",
       "11               6                 2                2       0.022400     True  \n",
       "12               5                 6                7       0.020910     True  \n",
       "13               1                 9                8       0.033613     True  \n",
       "14               6                 0                2       0.022400     True  \n",
       "15               3                 0                2       0.046828     True  \n",
       "16               9                 6                6       0.017202    False  \n",
       "17               0                 0                0       0.065551     True  \n",
       "18               4                 9                7       0.009740    False  \n",
       "19               0                 0                0       0.065460     True  "
      ]
     },
     "execution_count": 27,
     "metadata": {},
     "output_type": "execute_result"
    }
   ],
   "source": [
    "df[0:20]"
   ]
  },
  {
   "cell_type": "markdown",
   "id": "3d30e92a-37e6-4576-9dbb-0fad63d65f40",
   "metadata": {},
   "source": [
    "After examining the first 20 observations in the csv file, I noticed that the first value of both RFM1 and RFM2 values are the same (the hundreds place). For the second value of the RFM values (tenth's place) , there are some discrepancies between RFM1 and RFM2, but most of them are the same as the other one. Looking at the last digit of the RFM value, we can see there is now a lot of discrepancies between RFM1 and RFM2. With this, even though it's the same customer, the two approaches do not generally yield the same RFM index.\n",
    "\n",
    "For the RFM1 approach, I think it's really useful when comparing individuals within the same group and fairly related groups (i.e. there is a minimal difference in the ones and tens place of their RFM values) since the RFM values are decided between those in one cluster. It'll also be easier in understanding customers better because you segment them in a more related way, which may help with costs for marketing targeting. The downfall of this, though is that it becomes hard to compare individuals in one group from another because of the way RFM values are assigned are influenced by the data points in their respective groups.\n",
    "\n",
    "For the RFM2 approach, I think it's really beneficial when you want to make analyses on the overall population because the value of one digit in the RFM value isn't necessarily dependent on the value of previous ones; instead, it just looks at the customer as a whole and continually compares them with each other instead of continually paritioning down the groups to get smaller and smaller. The problem with this approach is if we get a lot of data/customers that have very similar characteristics. It becomes really hard to be able to divide and accurately assign the customers with good RFM indexes, which may lead to uneven clustering within the n-tiles."
   ]
  }
 ],
 "metadata": {
  "kernelspec": {
   "display_name": "Python 3 (ipykernel)",
   "language": "python",
   "name": "python3"
  },
  "language_info": {
   "codemirror_mode": {
    "name": "ipython",
    "version": 3
   },
   "file_extension": ".py",
   "mimetype": "text/x-python",
   "name": "python",
   "nbconvert_exporter": "python",
   "pygments_lexer": "ipython3",
   "version": "3.9.6"
  }
 },
 "nbformat": 4,
 "nbformat_minor": 5
}
